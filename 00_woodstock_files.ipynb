{
 "cells": [
  {
   "cell_type": "markdown",
   "id": "2952d534-038b-4367-9b3f-7603076adc1e",
   "metadata": {
    "jp-MarkdownHeadingCollapsed": true
   },
   "source": [
    "# Overview\n",
    "\n",
    "This notebook imports raw ws3 input data, reformats and monkey-patches the data, and exports Woodstock formatted input data files (which we will use in other DSS notebooks for this case as the input data files). "
   ]
  },
  {
   "cell_type": "markdown",
   "id": "59e8c11e-dbc1-48f1-996c-4109720d5efe",
   "metadata": {},
   "source": [
    "# Set up environment"
   ]
  },
  {
   "cell_type": "code",
   "execution_count": 1,
   "id": "2f49e412-0429-4b54-aa90-b3b1ce485693",
   "metadata": {
    "tags": []
   },
   "outputs": [],
   "source": [
    "%load_ext autoreload\n",
    "%autoreload 2"
   ]
  },
  {
   "cell_type": "code",
   "execution_count": 2,
   "id": "23141f45-1925-43df-8bd4-0dfe8c3fc8c6",
   "metadata": {
    "tags": []
   },
   "outputs": [],
   "source": [
    "import matplotlib.pyplot as plt\n",
    "import pandas as pd\n",
    "import geopandas as gpd\n",
    "import ws3.forest, ws3.core\n",
    "import csv\n",
    "import numpy as np\n",
    "import time"
   ]
  },
  {
   "cell_type": "markdown",
   "id": "3dd44bc0-6b66-4dd1-9137-8ab51ec3b6b0",
   "metadata": {},
   "source": [
    "Define some key model parameters (will get used but defined here up top for convenience)."
   ]
  },
  {
   "cell_type": "code",
   "execution_count": 3,
   "id": "1e46e712-2b73-41ee-bdb7-767683a16d92",
   "metadata": {
    "tags": []
   },
   "outputs": [],
   "source": [
    "period_length = 10\n",
    "max_age =  1000"
   ]
  },
  {
   "cell_type": "code",
   "execution_count": 4,
   "id": "22db0e20-6b4b-4fed-8538-ee752a7f20e6",
   "metadata": {},
   "outputs": [],
   "source": [
    "# Input paths\n",
    "vdyp_curves_smooth_tsa04_path = './data/vdyp_curves_smooth-tsa04.feather'\n",
    "\n",
    "# Output paths\n",
    "stands_csv_path = './data/stands.csv'\n",
    "\n",
    "stands_mdf_csv_path = './data/stands_mdf.csv'\n",
    "\n",
    "yld_vdyp_csv_path = './data/yld_vdyp.csv'\n",
    "\n",
    "yldmerged_csv_path = './data/yldmerged.csv'\n",
    "\n",
    "woodstock_model_files_lan_path = './data/woodstock_model_files/tsa04.lan'\n",
    "woodstock_model_files_are_path = './data/woodstock_model_files/tsa04.are'\n",
    "woodstock_model_files_yld_path = './data/woodstock_model_files/_tsa04.yld'\n",
    "woodstock_model_files_act_path = './data/woodstock_model_files/tsa04.act'\n",
    "woodstock_model_files_trn_path = './data/woodstock_model_files/tsa04.trn'"
   ]
  },
  {
   "cell_type": "markdown",
   "id": "ab22316a-e1b1-4aff-8cb7-acdb520e985d",
   "metadata": {},
   "source": [
    "# Import and reformat inventory and yield input data"
   ]
  },
  {
   "cell_type": "markdown",
   "id": "5167c8e8-ac87-4e9d-9a18-06d967d7949a",
   "metadata": {},
   "source": [
    "Read forest inventory data into memory (vector polygon GIS data layer with attribute table, in ESRI Shapefile format). This dataset represents a small subset of timber supply area (TSA) 17 in British Columbia. We monkey-patch the inventory data here to make it line up nicely with what we need downstream as input for the ws3 model (i.e., changes we make here to the in-memory dataset are not saved to the original dataset on disk). Most of what we are doing here is setting up the _theme_ columns in the attribute table, which should help newer ws3 users make the connection between input data and the landscape themes in ws3 model further down."
   ]
  },
  {
   "cell_type": "code",
   "execution_count": 5,
   "id": "15f617e9-1d23-4e80-9bf1-b77f2dcab25e",
   "metadata": {
    "tags": []
   },
   "outputs": [
    {
     "name": "stdout",
     "output_type": "stream",
     "text": [
      "It took 11.9 minutes to run this script.\n"
     ]
    }
   ],
   "source": [
    "Start = time.time()\n",
    "stands = gpd.read_file('data/tsa04contclass/tsa04.shp')\n",
    "print('It took', round((time.time() - Start) / 60, 1), \"minutes to run this script.\")"
   ]
  },
  {
   "cell_type": "markdown",
   "id": "20712755-95da-481a-aef1-ffc28044d636",
   "metadata": {},
   "source": [
    "Import CANFI tree species lookup table (associates tree species names with integer numerical values, which we use as theme data values in the ws3 model), and insert species code values into the yield curve dataframe."
   ]
  },
  {
   "cell_type": "code",
   "execution_count": 6,
   "id": "1214a715-f916-466a-a930-0539815deeae",
   "metadata": {},
   "outputs": [],
   "source": [
    "canfi_map = {'AC':1211, \n",
    "             'AT':1201, \n",
    "             'BL':304, \n",
    "             'EP':1303, \n",
    "             'FDI':500, \n",
    "             'HW':402,\n",
    "             'HM':403,\n",
    "             'PL':204, \n",
    "             'PLI':204, \n",
    "             'SB':101, \n",
    "             'SE':104, \n",
    "             'SW':105, \n",
    "             'SX':100,\n",
    "             'S':100,\n",
    "            'AT+SX':1201,\n",
    "            'SX+AT':100}"
   ]
  },
  {
   "cell_type": "code",
   "execution_count": 7,
   "id": "87b0e9bf-35a2-41ae-b157-cb7ae96d0251",
   "metadata": {},
   "outputs": [],
   "source": [
    "Aspen = ['AC', 'ACT', 'AT', 'EP', 'VB', 'MB', 'AT+SX']\n",
    "Bal = ['B', 'BA', 'BG', 'BL']\n",
    "Cedar = ['CW', 'YC']\n",
    "Alder = ['D', 'DR']\n",
    "DougFir = ['F', 'FD', 'FDC', 'FDI']\n",
    "Hem = ['H', 'HM', 'HW']\n",
    "Pine = ['PA', 'PL', 'PLC', 'PW', 'PLI', 'PY']\n",
    "Spruce = ['S', 'SS', 'SW', 'SX', 'SE', 'SXW', 'SB', 'SX+AT']"
   ]
  },
  {
   "cell_type": "code",
   "execution_count": null,
   "id": "fc89c584-f63b-40bb-bc34-315c5bc846de",
   "metadata": {},
   "outputs": [],
   "source": [
    "au_table_data = {'au_id':[],\n",
    "                 'tsa':[],\n",
    "                 'stratum_code':[],\n",
    "                 'si_level':[],\n",
    "                 'canfi_species':[],\n",
    "                 'unmanaged_curve_id':[],\n",
    "                 'managed_curve_id':[]} \n",
    "\n",
    "curve_table_data = {'curve_id':[],\n",
    "                    'curve_type':[]}\n",
    "\n",
    "curve_points_table_data = {'curve_id':[],\n",
    "                           'x':[],\n",
    "                           'y':[]}\n",
    "\n",
    "for tsa in ria_tsas:\n",
    "    print(tsa)\n",
    "    vdyp_curves_ = vdyp_curves_smooth[tsa].set_index(['stratum_code', 'si_level'])\n",
    "    tipsy_curves_ = tipsy_curves[tsa].reset_index().set_index('AU')\n",
    "    for stratum_code, si_level in list(vdyp_curves_.index.unique()):\n",
    "        au_id_ = scsi_au[tsa][(stratum_code, si_level)]\n",
    "        tipsy_curve_id = 20000 + au_id_\n",
    "        is_managed_au = tipsy_curve_id in tipsy_curves_.index.unique()\n",
    "        au_id = 100000 * int(tsa) + au_id_\n",
    "        unmanaged_curve_id = au_id\n",
    "        managed_curve_id = au_id + 20000 if is_managed_au else unmanaged_curve_id\n",
    "        #print(au_id, stratum_code, si_level, is_managed_au, unmanaged_curve_id, managed_curve_id)\n",
    "        au_table_data['au_id'].append(au_id)\n",
    "        au_table_data['tsa'].append(tsa)\n",
    "        au_table_data['stratum_code'].append(stratum_code)\n",
    "        au_table_data['si_level'].append(si_level)\n",
    "        au_table_data['canfi_species'].append(canfi_species(stratum_code))\n",
    "        au_table_data['unmanaged_curve_id'].append(unmanaged_curve_id)\n",
    "        curve_table_data['curve_id'].append(unmanaged_curve_id)\n",
    "        curve_table_data['curve_type'].append('unmanaged')\n",
    "        vdyp_curve = vdyp_curves_.loc[(stratum_code, si_level)]\n",
    "        #print('vdyp curve')\n",
    "        for x, y in zip(vdyp_curve.age, vdyp_curve.volume):\n",
    "            #print(x, round(y, 2))\n",
    "            curve_points_table_data['curve_id'].append(unmanaged_curve_id)\n",
    "            curve_points_table_data['x'].append(int(x))\n",
    "            curve_points_table_data['y'].append(round(y, 2))\n",
    "        au_table_data['managed_curve_id'].append(managed_curve_id)\n",
    "        if is_managed_au:\n",
    "            curve_table_data['curve_id'].append(managed_curve_id)\n",
    "            curve_table_data['curve_type'].append('managed')        \n",
    "            tipsy_curve = tipsy_curves_.loc[tipsy_curve_id]\n",
    "            #print('tipsy curve')\n",
    "            for x, y in zip(tipsy_curve.Age, tipsy_curve.Yield):\n",
    "                #print(x, round(y, 2))\n",
    "                curve_points_table_data['curve_id'].append(managed_curve_id)\n",
    "                curve_points_table_data['x'].append(int(x))\n",
    "                curve_points_table_data['y'].append(round(y, 2))\n",
    "au_table = pd.DataFrame(au_table_data)\n",
    "curve_table = pd.DataFrame(curve_table_data)\n",
    "curve_points_table = pd.DataFrame(curve_points_table_data)"
   ]
  },
  {
   "cell_type": "code",
   "execution_count": 8,
   "id": "18743f48-8ca4-4725-8f4d-5f5e654b76af",
   "metadata": {},
   "outputs": [
    {
     "data": {
      "text/html": [
       "<div>\n",
       "<style scoped>\n",
       "    .dataframe tbody tr th:only-of-type {\n",
       "        vertical-align: middle;\n",
       "    }\n",
       "\n",
       "    .dataframe tbody tr th {\n",
       "        vertical-align: top;\n",
       "    }\n",
       "\n",
       "    .dataframe thead th {\n",
       "        text-align: right;\n",
       "    }\n",
       "</style>\n",
       "<table border=\"1\" class=\"dataframe\">\n",
       "  <thead>\n",
       "    <tr style=\"text-align: right;\">\n",
       "      <th></th>\n",
       "      <th>theme0</th>\n",
       "      <th>theme1</th>\n",
       "      <th>theme2</th>\n",
       "      <th>theme3</th>\n",
       "      <th>theme4</th>\n",
       "      <th>age</th>\n",
       "      <th>area</th>\n",
       "    </tr>\n",
       "  </thead>\n",
       "  <tbody>\n",
       "    <tr>\n",
       "      <th>0</th>\n",
       "      <td>tsa04</td>\n",
       "      <td>1</td>\n",
       "      <td>6</td>\n",
       "      <td>100</td>\n",
       "      <td>6</td>\n",
       "      <td>46</td>\n",
       "      <td>1.647422</td>\n",
       "    </tr>\n",
       "    <tr>\n",
       "      <th>1</th>\n",
       "      <td>tsa04</td>\n",
       "      <td>1</td>\n",
       "      <td>6</td>\n",
       "      <td>100</td>\n",
       "      <td>6</td>\n",
       "      <td>46</td>\n",
       "      <td>2.521410</td>\n",
       "    </tr>\n",
       "    <tr>\n",
       "      <th>2</th>\n",
       "      <td>tsa04</td>\n",
       "      <td>1</td>\n",
       "      <td>6</td>\n",
       "      <td>100</td>\n",
       "      <td>6</td>\n",
       "      <td>46</td>\n",
       "      <td>8.703542</td>\n",
       "    </tr>\n",
       "    <tr>\n",
       "      <th>3</th>\n",
       "      <td>tsa04</td>\n",
       "      <td>1</td>\n",
       "      <td>6</td>\n",
       "      <td>100</td>\n",
       "      <td>6</td>\n",
       "      <td>46</td>\n",
       "      <td>0.230573</td>\n",
       "    </tr>\n",
       "    <tr>\n",
       "      <th>4</th>\n",
       "      <td>tsa04</td>\n",
       "      <td>1</td>\n",
       "      <td>6</td>\n",
       "      <td>100</td>\n",
       "      <td>6</td>\n",
       "      <td>46</td>\n",
       "      <td>1.551006</td>\n",
       "    </tr>\n",
       "    <tr>\n",
       "      <th>...</th>\n",
       "      <td>...</td>\n",
       "      <td>...</td>\n",
       "      <td>...</td>\n",
       "      <td>...</td>\n",
       "      <td>...</td>\n",
       "      <td>...</td>\n",
       "      <td>...</td>\n",
       "    </tr>\n",
       "    <tr>\n",
       "      <th>63203</th>\n",
       "      <td>tsa04</td>\n",
       "      <td>0</td>\n",
       "      <td>33</td>\n",
       "      <td>1201</td>\n",
       "      <td>33</td>\n",
       "      <td>83</td>\n",
       "      <td>0.150252</td>\n",
       "    </tr>\n",
       "    <tr>\n",
       "      <th>63204</th>\n",
       "      <td>tsa04</td>\n",
       "      <td>0</td>\n",
       "      <td>33</td>\n",
       "      <td>1201</td>\n",
       "      <td>33</td>\n",
       "      <td>83</td>\n",
       "      <td>0.195038</td>\n",
       "    </tr>\n",
       "    <tr>\n",
       "      <th>63205</th>\n",
       "      <td>tsa04</td>\n",
       "      <td>0</td>\n",
       "      <td>33</td>\n",
       "      <td>1201</td>\n",
       "      <td>33</td>\n",
       "      <td>83</td>\n",
       "      <td>0.160693</td>\n",
       "    </tr>\n",
       "    <tr>\n",
       "      <th>63206</th>\n",
       "      <td>tsa04</td>\n",
       "      <td>0</td>\n",
       "      <td>33</td>\n",
       "      <td>1201</td>\n",
       "      <td>33</td>\n",
       "      <td>101</td>\n",
       "      <td>0.127911</td>\n",
       "    </tr>\n",
       "    <tr>\n",
       "      <th>63207</th>\n",
       "      <td>tsa04</td>\n",
       "      <td>0</td>\n",
       "      <td>33</td>\n",
       "      <td>1201</td>\n",
       "      <td>33</td>\n",
       "      <td>101</td>\n",
       "      <td>0.126920</td>\n",
       "    </tr>\n",
       "  </tbody>\n",
       "</table>\n",
       "<p>63208 rows × 7 columns</p>\n",
       "</div>"
      ],
      "text/plain": [
       "      theme0  theme1  theme2  theme3  theme4  age      area\n",
       "0      tsa04       1       6     100       6   46  1.647422\n",
       "1      tsa04       1       6     100       6   46  2.521410\n",
       "2      tsa04       1       6     100       6   46  8.703542\n",
       "3      tsa04       1       6     100       6   46  0.230573\n",
       "4      tsa04       1       6     100       6   46  1.551006\n",
       "...      ...     ...     ...     ...     ...  ...       ...\n",
       "63203  tsa04       0      33    1201      33   83  0.150252\n",
       "63204  tsa04       0      33    1201      33   83  0.195038\n",
       "63205  tsa04       0      33    1201      33   83  0.160693\n",
       "63206  tsa04       0      33    1201      33  101  0.127911\n",
       "63207  tsa04       0      33    1201      33  101  0.126920\n",
       "\n",
       "[63208 rows x 7 columns]"
      ]
     },
     "execution_count": 8,
     "metadata": {},
     "output_type": "execute_result"
    }
   ],
   "source": [
    "columns_to_keep = ['TSA_NUMBER', 'contclass', 'Age_2023', 'AU', 'geometry', 'SPECIES_CD']\n",
    "stands_mdf = stands[columns_to_keep].copy()\n",
    "stands_mdf.loc[:,'area'] = stands_mdf.geometry.area * 0.0001 # monkey-patch broken area attribute\n",
    "stands_mdf =  stands_mdf.rename(columns={'TSA_NUMBER': 'theme0', 'contclass':'theme1', 'AU':'theme2', 'Age_2023':'age', 'SPECIES_CD':'species'})\n",
    "stands_mdf['theme0'] = stands_mdf['theme0'].replace({'04': 'tsa04'})\n",
    "stands_mdf['theme1'] = stands_mdf['theme1'].replace({'C': 1, 'N': 0})\n",
    "stands_mdf = stands_mdf.drop(columns='geometry')\n",
    "stands_mdf.insert(4, 'theme3',  stands_mdf['species'].map(canfi_map)) #Burn CANFI species codes into stand data\n",
    "stands_mdf['theme3'] = stands_mdf['theme3'].astype(int)\n",
    "stands_mdf.drop(columns=['species'], inplace=True)\n",
    "stands_mdf.insert(5, 'theme4', stands_mdf['theme2']) # to be filled out with the scpecies code\n",
    "stands_mdf.insert(5, 'age', stands_mdf.pop('age'))\n",
    "stands_mdf"
   ]
  },
  {
   "cell_type": "markdown",
   "id": "7dde6cfb-149a-412f-a150-265f2f18c47c",
   "metadata": {},
   "source": [
    "Read yield data from a CSV file and recast AU column data type to integer."
   ]
  },
  {
   "cell_type": "code",
   "execution_count": 9,
   "id": "3eea058d-f911-47da-925b-eae5c7b48c35",
   "metadata": {},
   "outputs": [
    {
     "name": "stdout",
     "output_type": "stream",
     "text": [
      "whole area (ha) is: 191273.58586001678\n",
      "whole contributing area (ha) is: 134732.25775766742\n",
      "whole non-contributing area (ha) is: 56541.328102349355\n"
     ]
    }
   ],
   "source": [
    "print('whole area (ha) is:', stands_mdf['area'].sum())\n",
    "print('whole contributing area (ha) is:', stands_mdf[stands_mdf['theme1'] == 1]['area'].sum())\n",
    "print('whole non-contributing area (ha) is:', stands_mdf[stands_mdf['theme1'] == 0]['area'].sum())"
   ]
  },
  {
   "cell_type": "markdown",
   "id": "f07d4a58-1058-473e-ab7b-697e026e2efa",
   "metadata": {},
   "source": [
    "Burn CANFI species codes into yield data tables."
   ]
  },
  {
   "cell_type": "code",
   "execution_count": 10,
   "id": "14eb6ba9-8b89-4cba-b87f-3acc2c609eed",
   "metadata": {},
   "outputs": [],
   "source": [
    "yld_vdyp = pd.read_feather(vdyp_curves_smooth_tsa04_path)\n",
    "yld_vdyp[['zone', 'species']] = yld_vdyp['stratum_code'].str.split('_', expand=True)\n",
    "yld_vdyp['canfi_species'] = yld_vdyp['species'].map(canfi_map)\n",
    "yld_vdyp['canfi_species'] = yld_vdyp['canfi_species'].astype(int)"
   ]
  },
  {
   "cell_type": "code",
   "execution_count": 11,
   "id": "8002801c-3ef9-4096-bd65-ab32a47c3d6b",
   "metadata": {},
   "outputs": [],
   "source": [
    "def calculate_au(row):\n",
    "    if row['species'] in Aspen:\n",
    "        return 33\n",
    "    elif row['species'] in Spruce and row['zone'] in [\"CWH\", \"ESSF\", \"ICH\", \"SBS\", \"MH\"]:\n",
    "        if row['si_level'] is None or row['si_level'] == \"M\":\n",
    "            return 2\n",
    "        elif row['si_level'] == \"H\":\n",
    "            return 1\n",
    "        elif row['si_level'] == \"L\":\n",
    "            return 3\n",
    "    elif row['species'] in Spruce and row['zone'] in  [\"BWBS\", \"SWB\"]:\n",
    "        if row['si_level'] is None or row['si_level'] == \"M\":\n",
    "            return 5\n",
    "        elif row['si_level'] == \"H\":\n",
    "            return 4\n",
    "        elif row['si_level'] == \"L\":\n",
    "            return 6\n",
    "    elif row['species'] in Spruce and row['zone'] in  [\"BAFA\", \"CMA\"]:\n",
    "        return 7\n",
    "    elif row['species'] in Pine and row['zone'] in [\"CWH\", \"ESSF\", \"ICH\", \"SBS\", \"MH\"]:\n",
    "        if row['si_level'] is None or row['si_level'] == \"M\":\n",
    "            return 9\n",
    "        elif row['si_level'] == \"H\":\n",
    "            return 8\n",
    "        elif row['si_level'] == \"L\":\n",
    "            return 10\n",
    "    elif row['species'] in Pine and row['zone'] in [\"BWBS\", \"SWB\"]:\n",
    "        if row['si_level'] is None or row['si_level'] == \"M\":\n",
    "            return 12\n",
    "        elif row['si_level'] == \"H\":\n",
    "            return 11\n",
    "        elif row['si_level'] == \"L\":\n",
    "            return 13\n",
    "    elif row['species'] in Pine and row['zone'] in [\"BAFA\", \"CMA\"]:\n",
    "        if row['si_level'] is None or row['si_level'] == \"M\":\n",
    "            return 15\n",
    "        elif row['si_level'] == \"H\":\n",
    "            return 14\n",
    "        elif row['si_level'] == \"L\":\n",
    "            return 16\n",
    "    elif row['species'] in Bal  and row['zone'] in [\"CWH\", \"ESSF\", \"ICH\", \"SBS\", \"MH\"]:\n",
    "        if row['si_level'] is None or row['si_level'] == \"M\":\n",
    "            return 18\n",
    "        elif row['si_level'] == \"H\":\n",
    "            return 17\n",
    "        elif row['si_level'] == \"L\":\n",
    "            return 19\n",
    "    elif row['species'] in Bal  and row['zone'] in [\"BWBS\", \"SWB\"]:\n",
    "        if row['si_level'] is None or row['si_level'] == \"M\":\n",
    "            return 21\n",
    "        elif row['si_level'] == \"H\":\n",
    "            return 20\n",
    "        elif row['si_level'] == \"L\":\n",
    "            return 22\n",
    "    elif row['species'] in Bal  and row['zone'] in [\"BAFA\", \"CMA\"]:\n",
    "        return 23\n",
    "    elif row['species'] in Hem  and row['zone'] in [\"CWH\", \"ESSF\", \"ICH\", \"SBS\", \"MH\"]:\n",
    "        if row['si_level'] is None or row['si_level'] == \"M\":\n",
    "            return 25\n",
    "        elif row['si_level'] == \"H\":\n",
    "            return 24\n",
    "        elif row['si_level'] == \"L\":\n",
    "            return 26\n",
    "    elif row['species'] in Hem  and row['zone'] in [\"BWBS\", \"SWB\"]:\n",
    "        if si_level is None or si_level == \"M\":\n",
    "            return 28\n",
    "        elif si_level == \"H\":\n",
    "            return 27\n",
    "        elif si_level == \"L\":\n",
    "            return 29\n",
    "    elif row['species'] in Hem  and row['zone'] in [\"BAFA\", \"CMA\"]:\n",
    "        if row['si_level'] is None or row['si_level'] == \"M\":\n",
    "            return 30\n",
    "        elif row['si_level'] == \"H\":\n",
    "            return 30\n",
    "        elif row['si_level'] == \"L\":\n",
    "            return 31\n",
    "    elif row['species'] in Hem  and row['zone'] in [\"BAFA\", \"CMA\"]:\n",
    "        if row['si_level'] is None or row['si_level'] == \"M\":\n",
    "            return 30\n",
    "        elif si_level == \"H\":\n",
    "            return 30\n",
    "        elif si_level == \"L\":\n",
    "            return 31\n",
    "    # elif:\n",
    "    #     return 32"
   ]
  },
  {
   "cell_type": "code",
   "execution_count": 12,
   "id": "4ae5abc5-a109-471a-9bb3-256d8cfaaf9f",
   "metadata": {},
   "outputs": [
    {
     "data": {
      "text/html": [
       "<div>\n",
       "<style scoped>\n",
       "    .dataframe tbody tr th:only-of-type {\n",
       "        vertical-align: middle;\n",
       "    }\n",
       "\n",
       "    .dataframe tbody tr th {\n",
       "        vertical-align: top;\n",
       "    }\n",
       "\n",
       "    .dataframe thead th {\n",
       "        text-align: right;\n",
       "    }\n",
       "</style>\n",
       "<table border=\"1\" class=\"dataframe\">\n",
       "  <thead>\n",
       "    <tr style=\"text-align: right;\">\n",
       "      <th></th>\n",
       "      <th>index</th>\n",
       "      <th>age</th>\n",
       "      <th>volume</th>\n",
       "      <th>stratum_code</th>\n",
       "      <th>si_level</th>\n",
       "      <th>zone</th>\n",
       "      <th>species</th>\n",
       "      <th>canfi_species</th>\n",
       "      <th>AU</th>\n",
       "    </tr>\n",
       "  </thead>\n",
       "  <tbody>\n",
       "    <tr>\n",
       "      <th>0</th>\n",
       "      <td>17</td>\n",
       "      <td>18</td>\n",
       "      <td>6.282000e-11</td>\n",
       "      <td>ESSF_BL</td>\n",
       "      <td>L</td>\n",
       "      <td>ESSF</td>\n",
       "      <td>BL</td>\n",
       "      <td>304</td>\n",
       "      <td>19</td>\n",
       "    </tr>\n",
       "    <tr>\n",
       "      <th>1</th>\n",
       "      <td>18</td>\n",
       "      <td>19</td>\n",
       "      <td>3.625496e-08</td>\n",
       "      <td>ESSF_BL</td>\n",
       "      <td>L</td>\n",
       "      <td>ESSF</td>\n",
       "      <td>BL</td>\n",
       "      <td>304</td>\n",
       "      <td>19</td>\n",
       "    </tr>\n",
       "    <tr>\n",
       "      <th>2</th>\n",
       "      <td>19</td>\n",
       "      <td>20</td>\n",
       "      <td>7.916861e-07</td>\n",
       "      <td>ESSF_BL</td>\n",
       "      <td>L</td>\n",
       "      <td>ESSF</td>\n",
       "      <td>BL</td>\n",
       "      <td>304</td>\n",
       "      <td>19</td>\n",
       "    </tr>\n",
       "    <tr>\n",
       "      <th>3</th>\n",
       "      <td>20</td>\n",
       "      <td>21</td>\n",
       "      <td>6.105747e-06</td>\n",
       "      <td>ESSF_BL</td>\n",
       "      <td>L</td>\n",
       "      <td>ESSF</td>\n",
       "      <td>BL</td>\n",
       "      <td>304</td>\n",
       "      <td>19</td>\n",
       "    </tr>\n",
       "    <tr>\n",
       "      <th>4</th>\n",
       "      <td>21</td>\n",
       "      <td>22</td>\n",
       "      <td>2.801684e-05</td>\n",
       "      <td>ESSF_BL</td>\n",
       "      <td>L</td>\n",
       "      <td>ESSF</td>\n",
       "      <td>BL</td>\n",
       "      <td>304</td>\n",
       "      <td>19</td>\n",
       "    </tr>\n",
       "    <tr>\n",
       "      <th>...</th>\n",
       "      <td>...</td>\n",
       "      <td>...</td>\n",
       "      <td>...</td>\n",
       "      <td>...</td>\n",
       "      <td>...</td>\n",
       "      <td>...</td>\n",
       "      <td>...</td>\n",
       "      <td>...</td>\n",
       "      <td>...</td>\n",
       "    </tr>\n",
       "    <tr>\n",
       "      <th>12296</th>\n",
       "      <td>294</td>\n",
       "      <td>295</td>\n",
       "      <td>9.945361e+01</td>\n",
       "      <td>BWBS_AT</td>\n",
       "      <td>H</td>\n",
       "      <td>BWBS</td>\n",
       "      <td>AT</td>\n",
       "      <td>1201</td>\n",
       "      <td>33</td>\n",
       "    </tr>\n",
       "    <tr>\n",
       "      <th>12297</th>\n",
       "      <td>295</td>\n",
       "      <td>296</td>\n",
       "      <td>9.878314e+01</td>\n",
       "      <td>BWBS_AT</td>\n",
       "      <td>H</td>\n",
       "      <td>BWBS</td>\n",
       "      <td>AT</td>\n",
       "      <td>1201</td>\n",
       "      <td>33</td>\n",
       "    </tr>\n",
       "    <tr>\n",
       "      <th>12298</th>\n",
       "      <td>296</td>\n",
       "      <td>297</td>\n",
       "      <td>9.811513e+01</td>\n",
       "      <td>BWBS_AT</td>\n",
       "      <td>H</td>\n",
       "      <td>BWBS</td>\n",
       "      <td>AT</td>\n",
       "      <td>1201</td>\n",
       "      <td>33</td>\n",
       "    </tr>\n",
       "    <tr>\n",
       "      <th>12299</th>\n",
       "      <td>297</td>\n",
       "      <td>298</td>\n",
       "      <td>9.744960e+01</td>\n",
       "      <td>BWBS_AT</td>\n",
       "      <td>H</td>\n",
       "      <td>BWBS</td>\n",
       "      <td>AT</td>\n",
       "      <td>1201</td>\n",
       "      <td>33</td>\n",
       "    </tr>\n",
       "    <tr>\n",
       "      <th>12300</th>\n",
       "      <td>298</td>\n",
       "      <td>299</td>\n",
       "      <td>9.678658e+01</td>\n",
       "      <td>BWBS_AT</td>\n",
       "      <td>H</td>\n",
       "      <td>BWBS</td>\n",
       "      <td>AT</td>\n",
       "      <td>1201</td>\n",
       "      <td>33</td>\n",
       "    </tr>\n",
       "  </tbody>\n",
       "</table>\n",
       "<p>12301 rows × 9 columns</p>\n",
       "</div>"
      ],
      "text/plain": [
       "       index  age        volume stratum_code si_level  zone species  \\\n",
       "0         17   18  6.282000e-11      ESSF_BL        L  ESSF      BL   \n",
       "1         18   19  3.625496e-08      ESSF_BL        L  ESSF      BL   \n",
       "2         19   20  7.916861e-07      ESSF_BL        L  ESSF      BL   \n",
       "3         20   21  6.105747e-06      ESSF_BL        L  ESSF      BL   \n",
       "4         21   22  2.801684e-05      ESSF_BL        L  ESSF      BL   \n",
       "...      ...  ...           ...          ...      ...   ...     ...   \n",
       "12296    294  295  9.945361e+01      BWBS_AT        H  BWBS      AT   \n",
       "12297    295  296  9.878314e+01      BWBS_AT        H  BWBS      AT   \n",
       "12298    296  297  9.811513e+01      BWBS_AT        H  BWBS      AT   \n",
       "12299    297  298  9.744960e+01      BWBS_AT        H  BWBS      AT   \n",
       "12300    298  299  9.678658e+01      BWBS_AT        H  BWBS      AT   \n",
       "\n",
       "       canfi_species  AU  \n",
       "0                304  19  \n",
       "1                304  19  \n",
       "2                304  19  \n",
       "3                304  19  \n",
       "4                304  19  \n",
       "...              ...  ..  \n",
       "12296           1201  33  \n",
       "12297           1201  33  \n",
       "12298           1201  33  \n",
       "12299           1201  33  \n",
       "12300           1201  33  \n",
       "\n",
       "[12301 rows x 9 columns]"
      ]
     },
     "execution_count": 12,
     "metadata": {},
     "output_type": "execute_result"
    }
   ],
   "source": [
    "yld_vdyp['AU'] = yld_vdyp.apply(calculate_au, axis=1)\n",
    "yld_vdyp['AU'] = yld_vdyp['AU'].astype(int)\n",
    "yld_vdyp"
   ]
  },
  {
   "cell_type": "code",
   "execution_count": 13,
   "id": "8e19224c-3ad4-46db-b33d-87be260e1281",
   "metadata": {},
   "outputs": [
    {
     "data": {
      "text/plain": [
       "0        SWB\n",
       "28      BWBS\n",
       "388       MH\n",
       "1108     SBS\n",
       "1474    ESSF\n",
       "2572     CWH\n",
       "2812    BAFA\n",
       "2916     CMA\n",
       "Name: ZONE, dtype: object"
      ]
     },
     "execution_count": 13,
     "metadata": {},
     "output_type": "execute_result"
    }
   ],
   "source": [
    "bec_zone_stands = stands['ZONE'].drop_duplicates()\n",
    "bec_zone_stands"
   ]
  },
  {
   "cell_type": "code",
   "execution_count": 14,
   "id": "7785e259-266a-4b65-ab6e-bfc33e822b74",
   "metadata": {},
   "outputs": [
    {
     "data": {
      "text/plain": [
       "0       ESSF\n",
       "861     BWBS\n",
       "3472      MH\n",
       "7008     SBS\n",
       "Name: zone, dtype: object"
      ]
     },
     "execution_count": 14,
     "metadata": {},
     "output_type": "execute_result"
    }
   ],
   "source": [
    "bec_zone_vdyp = yld_vdyp['zone'].drop_duplicates()\n",
    "bec_zone_vdyp"
   ]
  },
  {
   "cell_type": "code",
   "execution_count": 15,
   "id": "405fc395-cbe2-4a5c-8774-3f396d7973d0",
   "metadata": {
    "scrolled": true
   },
   "outputs": [
    {
     "data": {
      "text/plain": [
       "(28,\n",
       " 0         6\n",
       " 10       22\n",
       " 12       13\n",
       " 30       29\n",
       " 56       33\n",
       " 96       19\n",
       " 146      10\n",
       " 388      26\n",
       " 412       3\n",
       " 498      25\n",
       " 802       7\n",
       " 922      31\n",
       " 1154     18\n",
       " 1700     24\n",
       " 1912     23\n",
       " 2268      1\n",
       " 2890     30\n",
       " 3828     12\n",
       " 4244      5\n",
       " 4504     16\n",
       " 5026     21\n",
       " 7412      4\n",
       " 12893     2\n",
       " 14077    17\n",
       " 27490    28\n",
       " 28596    14\n",
       " 28928    15\n",
       " 34010    32\n",
       " Name: AU, dtype: int64)"
      ]
     },
     "execution_count": 15,
     "metadata": {},
     "output_type": "execute_result"
    }
   ],
   "source": [
    "au_stands = stands['AU'].drop_duplicates()\n",
    "len(au_stands), au_stands"
   ]
  },
  {
   "cell_type": "code",
   "execution_count": 16,
   "id": "b9b35112-74d0-436d-b763-1f5a38da6254",
   "metadata": {
    "scrolled": true
   },
   "outputs": [
    {
     "data": {
      "text/plain": [
       "(22,\n",
       " 0       19\n",
       " 282     18\n",
       " 568     17\n",
       " 861     13\n",
       " 1152    12\n",
       " 1444    11\n",
       " 1738     6\n",
       " 2022     5\n",
       " 2302     4\n",
       " 2586     3\n",
       " 2874     2\n",
       " 3173     1\n",
       " 3472    26\n",
       " 3771    25\n",
       " 4070    24\n",
       " 4364    22\n",
       " 4653    21\n",
       " 4937    20\n",
       " 5221    33\n",
       " 6111    10\n",
       " 6410     9\n",
       " 6709     8\n",
       " Name: AU, dtype: int64)"
      ]
     },
     "execution_count": 16,
     "metadata": {},
     "output_type": "execute_result"
    }
   ],
   "source": [
    "au_vdyp = yld_vdyp['AU'].drop_duplicates()\n",
    "len(au_vdyp), au_vdyp"
   ]
  },
  {
   "cell_type": "markdown",
   "id": "c744ac82-6f68-4c3a-8ae6-9ab7816af43c",
   "metadata": {},
   "source": [
    "Create analysis unit (AU) dataframe from stands dataframe data."
   ]
  },
  {
   "cell_type": "code",
   "execution_count": 17,
   "id": "aa76a9f6-1e84-49c7-b8e2-ad45ae938613",
   "metadata": {
    "tags": []
   },
   "outputs": [],
   "source": [
    "AU = pd.DataFrame(stands_mdf['theme2']).drop_duplicates()\n",
    "AU.rename(columns={'theme2':'AU'}, inplace=True)"
   ]
  },
  {
   "cell_type": "markdown",
   "id": "de8f1deb-4de4-41ef-ace3-a49e5c10b5e1",
   "metadata": {},
   "source": [
    "Join `AU` and `yld_vdyp` dataframes."
   ]
  },
  {
   "cell_type": "code",
   "execution_count": 18,
   "id": "7280c970-ea89-42fd-9d81-cc9507c9edd3",
   "metadata": {
    "tags": []
   },
   "outputs": [
    {
     "data": {
      "text/html": [
       "<div>\n",
       "<style scoped>\n",
       "    .dataframe tbody tr th:only-of-type {\n",
       "        vertical-align: middle;\n",
       "    }\n",
       "\n",
       "    .dataframe tbody tr th {\n",
       "        vertical-align: top;\n",
       "    }\n",
       "\n",
       "    .dataframe thead th {\n",
       "        text-align: right;\n",
       "    }\n",
       "</style>\n",
       "<table border=\"1\" class=\"dataframe\">\n",
       "  <thead>\n",
       "    <tr style=\"text-align: right;\">\n",
       "      <th></th>\n",
       "      <th>AU</th>\n",
       "      <th>index</th>\n",
       "      <th>age</th>\n",
       "      <th>volume</th>\n",
       "      <th>stratum_code</th>\n",
       "      <th>si_level</th>\n",
       "      <th>zone</th>\n",
       "      <th>species</th>\n",
       "      <th>canfi_species</th>\n",
       "    </tr>\n",
       "  </thead>\n",
       "  <tbody>\n",
       "    <tr>\n",
       "      <th>0</th>\n",
       "      <td>6</td>\n",
       "      <td>15</td>\n",
       "      <td>16</td>\n",
       "      <td>8.016443e-13</td>\n",
       "      <td>BWBS_SX</td>\n",
       "      <td>L</td>\n",
       "      <td>BWBS</td>\n",
       "      <td>SX</td>\n",
       "      <td>100</td>\n",
       "    </tr>\n",
       "    <tr>\n",
       "      <th>1</th>\n",
       "      <td>6</td>\n",
       "      <td>16</td>\n",
       "      <td>17</td>\n",
       "      <td>2.403826e-10</td>\n",
       "      <td>BWBS_SX</td>\n",
       "      <td>L</td>\n",
       "      <td>BWBS</td>\n",
       "      <td>SX</td>\n",
       "      <td>100</td>\n",
       "    </tr>\n",
       "    <tr>\n",
       "      <th>2</th>\n",
       "      <td>6</td>\n",
       "      <td>17</td>\n",
       "      <td>18</td>\n",
       "      <td>6.563612e-09</td>\n",
       "      <td>BWBS_SX</td>\n",
       "      <td>L</td>\n",
       "      <td>BWBS</td>\n",
       "      <td>SX</td>\n",
       "      <td>100</td>\n",
       "    </tr>\n",
       "    <tr>\n",
       "      <th>3</th>\n",
       "      <td>6</td>\n",
       "      <td>18</td>\n",
       "      <td>19</td>\n",
       "      <td>6.724511e-08</td>\n",
       "      <td>BWBS_SX</td>\n",
       "      <td>L</td>\n",
       "      <td>BWBS</td>\n",
       "      <td>SX</td>\n",
       "      <td>100</td>\n",
       "    </tr>\n",
       "    <tr>\n",
       "      <th>4</th>\n",
       "      <td>6</td>\n",
       "      <td>19</td>\n",
       "      <td>20</td>\n",
       "      <td>4.027067e-07</td>\n",
       "      <td>BWBS_SX</td>\n",
       "      <td>L</td>\n",
       "      <td>BWBS</td>\n",
       "      <td>SX</td>\n",
       "      <td>100</td>\n",
       "    </tr>\n",
       "    <tr>\n",
       "      <th>...</th>\n",
       "      <td>...</td>\n",
       "      <td>...</td>\n",
       "      <td>...</td>\n",
       "      <td>...</td>\n",
       "      <td>...</td>\n",
       "      <td>...</td>\n",
       "      <td>...</td>\n",
       "      <td>...</td>\n",
       "      <td>...</td>\n",
       "    </tr>\n",
       "    <tr>\n",
       "      <th>11120</th>\n",
       "      <td>17</td>\n",
       "      <td>294</td>\n",
       "      <td>295</td>\n",
       "      <td>3.216543e+02</td>\n",
       "      <td>MH_BL</td>\n",
       "      <td>H</td>\n",
       "      <td>MH</td>\n",
       "      <td>BL</td>\n",
       "      <td>304</td>\n",
       "    </tr>\n",
       "    <tr>\n",
       "      <th>11121</th>\n",
       "      <td>17</td>\n",
       "      <td>295</td>\n",
       "      <td>296</td>\n",
       "      <td>3.206646e+02</td>\n",
       "      <td>MH_BL</td>\n",
       "      <td>H</td>\n",
       "      <td>MH</td>\n",
       "      <td>BL</td>\n",
       "      <td>304</td>\n",
       "    </tr>\n",
       "    <tr>\n",
       "      <th>11122</th>\n",
       "      <td>17</td>\n",
       "      <td>296</td>\n",
       "      <td>297</td>\n",
       "      <td>3.196688e+02</td>\n",
       "      <td>MH_BL</td>\n",
       "      <td>H</td>\n",
       "      <td>MH</td>\n",
       "      <td>BL</td>\n",
       "      <td>304</td>\n",
       "    </tr>\n",
       "    <tr>\n",
       "      <th>11123</th>\n",
       "      <td>17</td>\n",
       "      <td>297</td>\n",
       "      <td>298</td>\n",
       "      <td>3.186671e+02</td>\n",
       "      <td>MH_BL</td>\n",
       "      <td>H</td>\n",
       "      <td>MH</td>\n",
       "      <td>BL</td>\n",
       "      <td>304</td>\n",
       "    </tr>\n",
       "    <tr>\n",
       "      <th>11124</th>\n",
       "      <td>17</td>\n",
       "      <td>298</td>\n",
       "      <td>299</td>\n",
       "      <td>3.176595e+02</td>\n",
       "      <td>MH_BL</td>\n",
       "      <td>H</td>\n",
       "      <td>MH</td>\n",
       "      <td>BL</td>\n",
       "      <td>304</td>\n",
       "    </tr>\n",
       "  </tbody>\n",
       "</table>\n",
       "<p>11125 rows × 9 columns</p>\n",
       "</div>"
      ],
      "text/plain": [
       "       AU  index  age        volume stratum_code si_level  zone species  \\\n",
       "0       6     15   16  8.016443e-13      BWBS_SX        L  BWBS      SX   \n",
       "1       6     16   17  2.403826e-10      BWBS_SX        L  BWBS      SX   \n",
       "2       6     17   18  6.563612e-09      BWBS_SX        L  BWBS      SX   \n",
       "3       6     18   19  6.724511e-08      BWBS_SX        L  BWBS      SX   \n",
       "4       6     19   20  4.027067e-07      BWBS_SX        L  BWBS      SX   \n",
       "...    ..    ...  ...           ...          ...      ...   ...     ...   \n",
       "11120  17    294  295  3.216543e+02        MH_BL        H    MH      BL   \n",
       "11121  17    295  296  3.206646e+02        MH_BL        H    MH      BL   \n",
       "11122  17    296  297  3.196688e+02        MH_BL        H    MH      BL   \n",
       "11123  17    297  298  3.186671e+02        MH_BL        H    MH      BL   \n",
       "11124  17    298  299  3.176595e+02        MH_BL        H    MH      BL   \n",
       "\n",
       "       canfi_species  \n",
       "0                100  \n",
       "1                100  \n",
       "2                100  \n",
       "3                100  \n",
       "4                100  \n",
       "...              ...  \n",
       "11120            304  \n",
       "11121            304  \n",
       "11122            304  \n",
       "11123            304  \n",
       "11124            304  \n",
       "\n",
       "[11125 rows x 9 columns]"
      ]
     },
     "execution_count": 18,
     "metadata": {},
     "output_type": "execute_result"
    }
   ],
   "source": [
    "yldmerged = pd.merge(AU, yld_vdyp, on=['AU'], how='inner')\n",
    "yldmerged"
   ]
  },
  {
   "cell_type": "code",
   "execution_count": 19,
   "id": "e96c8b0c-73fc-4be7-a27c-09da38b6ea46",
   "metadata": {},
   "outputs": [
    {
     "data": {
      "text/plain": [
       "(18,\n",
       " 0         6\n",
       " 581      22\n",
       " 870      13\n",
       " 1161     33\n",
       " 3827     19\n",
       " 4693     10\n",
       " 4992     26\n",
       " 5291      3\n",
       " 5878     25\n",
       " 6177     18\n",
       " 7048     24\n",
       " 7342      1\n",
       " 7939     12\n",
       " 8231      5\n",
       " 8801     21\n",
       " 9085      4\n",
       " 9660      2\n",
       " 10249    17\n",
       " Name: AU, dtype: int64)"
      ]
     },
     "execution_count": 19,
     "metadata": {},
     "output_type": "execute_result"
    }
   ],
   "source": [
    "au_yldmerged = yldmerged['AU'].drop_duplicates()\n",
    "len(au_yldmerged), au_yldmerged"
   ]
  },
  {
   "cell_type": "markdown",
   "id": "27339769-c706-40d4-9713-8719af8e35c5",
   "metadata": {},
   "source": [
    "Add a new `curve_id` colume that has same data values as `AU` column."
   ]
  },
  {
   "cell_type": "code",
   "execution_count": 20,
   "id": "71de783f-3fe3-4815-a6fa-b4249aa3da67",
   "metadata": {
    "tags": []
   },
   "outputs": [],
   "source": [
    "yldmerged['curve_id'] = yldmerged['AU'] "
   ]
  },
  {
   "cell_type": "markdown",
   "id": "bd383027-0115-4db1-8c79-5fae21f12f10",
   "metadata": {},
   "source": [
    "Save reformatted data to CSV files. "
   ]
  },
  {
   "cell_type": "code",
   "execution_count": 21,
   "id": "37f92c80-5dbf-4654-9bd8-69b6b8d4d612",
   "metadata": {
    "tags": []
   },
   "outputs": [],
   "source": [
    "stands_mdf.to_csv(stands_mdf_csv_path, index=False)\n",
    "yld_vdyp.to_csv(yld_vdyp_csv_path, index=False)\n",
    "yldmerged.to_csv(yldmerged_csv_path, header=True, index=False)\n",
    "stands.to_csv(stands_csv_path, header=True, index=False)"
   ]
  },
  {
   "cell_type": "markdown",
   "id": "936c94ba-1e79-44f5-ac6c-e3869dfe7972",
   "metadata": {},
   "source": [
    "Rename stuff to match variable names we expect further down."
   ]
  },
  {
   "cell_type": "code",
   "execution_count": 22,
   "id": "2bfe0e7d-f196-4b29-9f5c-98ab933e0a11",
   "metadata": {
    "tags": []
   },
   "outputs": [],
   "source": [
    "stands_table = stands_mdf\n",
    "curve_points_table = yldmerged\n",
    "# curve_points_table = pd.read_csv(\"data/yldmerged_mmdf.csv\")\n",
    "curve_points_table.set_index('AU', inplace=True)"
   ]
  },
  {
   "cell_type": "markdown",
   "id": "4a1cedd2-6aa2-492d-b3a2-2f9d3f5e591e",
   "metadata": {},
   "source": [
    "# Export Woodstock-formatted input files "
   ]
  },
  {
   "cell_type": "markdown",
   "id": "9683c6c4-9313-437b-ba2f-7e9fc498b91b",
   "metadata": {},
   "source": [
    "We can use the new ws3 model instance we just built to export ws3 input files in Woodstock file format. We do this for three reasons. \n",
    "\n",
    "The first reason is that it will be simpler and more compact in the actual DSS notebook to instantiate the `ForestModel` object from these Woodstock-formatted files (and also this will provide an opportunity to demonstrate the existance and usage of the Woodstock model import functions that are built into ws3). \n",
    "\n",
    "The second reason is that the process of exporting data from a live `ws3.forest.ForestModel` instance to Woodstock-formatted input data files provides some insight into the internal structure and workings of ws3 models (which can be a challenging thing to get started with, particularly if you do not have a lot of experience building and running forest estate models). \n",
    "\n",
    "The third reason is that Woodstock file format is designed to be \"human readable\" (sort of... nobody ever said it would be super easy or super fun). Picking through the exported Woodstock-formatted files might help some people better understand the structure and details of the model we have built. If you have no experience reading Woodstock-formatted model input data files, then this is going to be trickier (unless you pause here and go take an introductory Woodstock training course of sort). Many forest professionals already have familiarity with Woodstock software and its special file format (through having been exposed to this at some point in their career). "
   ]
  },
  {
   "cell_type": "markdown",
   "id": "165c2463-6bd1-4f48-9be6-e9a4621281c7",
   "metadata": {},
   "source": [
    "Start by creating a new subdirectory to hold the new Woodstock-formatted data files."
   ]
  },
  {
   "cell_type": "code",
   "execution_count": 23,
   "id": "9c020155-9642-42ed-9519-f0aaa9985648",
   "metadata": {
    "tags": []
   },
   "outputs": [
    {
     "name": "stdout",
     "output_type": "stream",
     "text": [
      "mkdir: cannot create directory ‘data/woodstock_model_files’: File exists\n"
     ]
    }
   ],
   "source": [
    "!mkdir data/woodstock_model_files"
   ]
  },
  {
   "cell_type": "markdown",
   "id": "29cc5229-5643-44e7-a872-4031a0f535e0",
   "metadata": {},
   "source": [
    "## LANDSCAPE section\n",
    "\n",
    "The LANDSCAPE section defines stratification variables (themes) and stratification variable values (basecodes). "
   ]
  },
  {
   "cell_type": "code",
   "execution_count": 24,
   "id": "30717fff-79f5-4b46-8a3a-ffadea779386",
   "metadata": {},
   "outputs": [],
   "source": [
    "theme_cols=['theme0', # TSA \n",
    "            'theme1', # THLB\n",
    "            'theme2', # AU\n",
    "            'theme3', # leading species code\n",
    "            'theme4'  # yield curve ID\n",
    "           ]\n",
    "basecodes = [list(map(lambda x: str(x), stands_table[tc].unique())) for tc in theme_cols]\n",
    "basecodes[2] = list(set(basecodes[2] + list(stands_table['theme2'].astype(str))))\n",
    "basecodes[3] = list(set(basecodes[3] + list(stands_table['theme3'].astype(str))))\n",
    "basecodes[4] = list(set(basecodes[4] + list(stands_table['theme4'].astype(str))))"
   ]
  },
  {
   "cell_type": "code",
   "execution_count": 25,
   "id": "ab4e1957-6ebd-47ab-aa3e-bff2c2ab78f0",
   "metadata": {},
   "outputs": [],
   "source": [
    "with open(woodstock_model_files_lan_path, 'w') as file:\n",
    "    print('*THEME Timber Supply Area (TSA)', file=file)\n",
    "    print('tsa04',file=file)\n",
    "    print('*THEME Timber Harvesting Land Base (THLB)', file=file)\n",
    "    for basecode in basecodes[1]: print(basecode, file=file)\n",
    "    print('*THEME Analysis Unit (AU)', file=file)\n",
    "    for basecode in basecodes[2]: print(basecode, file=file)\n",
    "    print('*THEME Leading tree species (CANFI species code)', file=file)\n",
    "    for basecode in basecodes[3]: print(basecode, file=file)\n",
    "    print('*THEME Yield curve ID', file=file)\n",
    "    for basecode in basecodes[4]: print(basecode, file=file)"
   ]
  },
  {
   "cell_type": "markdown",
   "id": "ad7bdaf9-e12f-4d7f-9614-fea6953b7a70",
   "metadata": {},
   "source": [
    "## AREAS section\n",
    "\n",
    "The AREAS section defines the initial forest inventory, in terms of how many hectares of which age class are present in which development type (where a development type is defined as a unique sequence of landscape theme variable values)."
   ]
  },
  {
   "cell_type": "code",
   "execution_count": 26,
   "id": "5ac4c7ca-3404-4eb8-accb-a440dc2490bf",
   "metadata": {},
   "outputs": [],
   "source": [
    "gstands = stands_table.groupby(theme_cols+['age'])"
   ]
  },
  {
   "cell_type": "code",
   "execution_count": 27,
   "id": "b2c3f44f-0a84-43b7-a13d-db7dda4342da",
   "metadata": {},
   "outputs": [],
   "source": [
    "with open(woodstock_model_files_are_path, 'w') as file:\n",
    "    for name, group in gstands:\n",
    "        dtk, age, area = tuple(map(lambda x: str(x), name[:-1])), int(name[-1]), group['area'].sum()\n",
    "        print('*A', ' '.join(v for v in dtk), age, area, file=file)"
   ]
  },
  {
   "cell_type": "markdown",
   "id": "0cbc58db-0ed1-45da-8165-4152a4ad2f60",
   "metadata": {},
   "source": [
    "## YIELDS section\n",
    "\n",
    "The YIELDS section defines yield curves (in this example we only track merchantable log volume, but we can use yield curves to track all sorts of other stuff). "
   ]
  },
  {
   "cell_type": "code",
   "execution_count": 28,
   "id": "b7e26ee4-9770-4715-b93d-1ee46c3bd1bb",
   "metadata": {},
   "outputs": [],
   "source": [
    "with open(woodstock_model_files_yld_path, 'w') as file:\n",
    "    tot=[]\n",
    "    swd=[]\n",
    "    hwd=[]\n",
    "    unique_au_rows = curve_points_table[~curve_points_table.index.duplicated(keep='first')]    \n",
    "    for AU, au_row in unique_au_rows.iterrows():\n",
    "        yname = 's%04d' % int(au_row.canfi_species)    \n",
    "        curve_id = au_row.curve_id\n",
    "        mask = ('?', '?', str(AU), '?', str(curve_id))\n",
    "        points = [(r.age, r.volume) for _, r in curve_points_table.loc[AU].iterrows() if not r.age % period_length and r.age <= max_age]\n",
    "        c = ws3.core.Curve(yname, points=points, type='a', is_volume=True, xmax=max_age, period_length=period_length)\n",
    "        print('*Y', ' '.join(v for v in mask), file=file)\n",
    "        print(yname, '1', ' '.join(str(int(c[x])) for x in range(0, 300, 10)), file=file)\n",
    "        if yname not in tot:\n",
    "            tot.append(yname)\n",
    "        if int(au_row.canfi_species) > 1200:\n",
    "            if yname not in hwd: hwd.append(yname)\n",
    "        else:\n",
    "            if yname not in swd: swd.append(yname)\n",
    "    print('*YC ? ? ? ? ?', file=file)\n",
    "    print('totvol _SUM(%s)' % ', '.join(map(str, tot)), file=file)\n",
    "    print('swdvol _SUM(%s)' % ', '.join(map(str, swd)), file=file)\n",
    "    print('hwdvol _SUM(%s)' % ', '.join(map(str, hwd)), file=file)"
   ]
  },
  {
   "cell_type": "code",
   "execution_count": 29,
   "id": "80bfebee-b98a-4f84-a4c8-0613f1c7cb15",
   "metadata": {},
   "outputs": [
    {
     "data": {
      "text/plain": [
       "(0.0, 300.0)"
      ]
     },
     "execution_count": 29,
     "metadata": {},
     "output_type": "execute_result"
    },
    {
     "data": {
      "image/png": "[encoded data removed]",
      "text/plain": [
       "<Figure size 800x1200 with 3 Axes>"
      ]
     },
     "metadata": {},
     "output_type": "display_data"
    }
   ],
   "source": [
    "fig, ax = plt.subplots(3, 1, figsize=(8, 12), sharex=True)\n",
    "\n",
    "cvol = c\n",
    "ccai = c.cai()\n",
    "cmai = c.mai()\n",
    "cmaiytp = c.mai().ytp()\n",
    "x_cmai = cmaiytp.lookup(0) # optimal rotation age (i.e., culmination of MAI curve)\n",
    "labels = 'total volume', 'MAI (and CAI)', 'MAI YTP'\n",
    "\n",
    "ax[0].plot(*zip(*c.points()))\n",
    "ax[0].plot([0, x_cmai], [0., cvol[x_cmai]], linestyle='--', color='green')\n",
    "\n",
    "ax[1].plot(*zip(*c.mai().points()))\n",
    "ax[1].plot(*zip(*c.cai().points()), linestyle=':')\n",
    "\n",
    "ax[2].plot(*zip(*c.mai().ytp().points()))\n",
    "ax[2].axhline(0, color='black')\n",
    "\n",
    "for i in range(len(ax)):\n",
    "    ax[i].set_ylabel(labels[i])\n",
    "    ax[i].set_ylim(0, None)\n",
    "    ax[i].axvline(x_cmai, color='red')\n",
    "plt.xlim(0, 300)"
   ]
  },
  {
   "cell_type": "markdown",
   "id": "4cd641b3-d2cb-4239-898c-5d65521276f7",
   "metadata": {},
   "source": [
    "## ACTIONS section\n",
    "\n",
    "The ACTIONS section defines actions that can be applied in the model (e.g., harvesting, planting, thinning, fertilization, etc). "
   ]
  },
  {
   "cell_type": "code",
   "execution_count": 30,
   "id": "32c46b4d-471f-4038-92dd-48a0751d8019",
   "metadata": {},
   "outputs": [],
   "source": [
    "with open(woodstock_model_files_act_path, 'w') as file:\n",
    "    print('ACTIONS', file=file)\n",
    "    print('*ACTION harvest Y', file=file)\n",
    "    print('*OPERABLE harvest', file=file)\n",
    "    print('? 1 ? ? ? _AGE >= 140 AND _AGE <= 600', file=file)"
   ]
  },
  {
   "cell_type": "markdown",
   "id": "2de0ae8e-5882-4248-b140-52db2b7ffb76",
   "metadata": {},
   "source": [
    "## TRANSITIONS section\n",
    "\n",
    "The TRANSITIONS section defines transitions (i.e., transition to a new development type and age class induced by applying a specific action to a specific combination of development type and age class). If there were no transitions in a forest estate model, it would simply be aging (i.e., growing) the forest forward from time step 1 through to time step N."
   ]
  },
  {
   "cell_type": "code",
   "execution_count": 31,
   "id": "9e3d3258-750c-4de4-a07e-bdf6d8206138",
   "metadata": {},
   "outputs": [],
   "source": [
    "with open(woodstock_model_files_trn_path, 'w') as file:\n",
    "    acode = 'harvest'\n",
    "    print('*CASE', acode, file=file)\n",
    "    record_au = set()\n",
    "    for au_id, au_row in stands_table.iterrows():\n",
    "        if au_row.theme2 in record_au: continue\n",
    "        if not au_row.theme1: continue\n",
    "        target_curve_id = au_row.theme4  \n",
    "        smask = ' '.join(('?', '?' , str(target_curve_id), '?', '?'))\n",
    "        tmask = ' '.join(('?', '?' , '?', '?', str(target_curve_id)))\n",
    "        print('*SOURCE', smask, file=file)\n",
    "        print('*TARGET', tmask, '100', file=file)\n",
    "        record_au.add(au_row.theme2)"
   ]
  },
  {
   "cell_type": "code",
   "execution_count": 32,
   "id": "57e4cc30-c2e9-4466-8de6-a392dae9b69d",
   "metadata": {},
   "outputs": [],
   "source": [
    "stands_table = stands_mdf\n",
    "curve_points_table = pd.read_csv(\"data/yldmerged_mmdf.csv\")\n",
    "curve_points_table.set_index('AU', inplace=True)"
   ]
  },
  {
   "cell_type": "code",
   "execution_count": 33,
   "id": "e280d7dd-2728-408a-b49d-ba384a9c2326",
   "metadata": {},
   "outputs": [
    {
     "name": "stdout",
     "output_type": "stream",
     "text": [
      "[(0.0, 9.0, 0.0, 0.0), (9.0, 10.0, 0.0, 0.000267552), (10.0, 20.0, 0.000267552, 4.03e-07), (20.0, 20.0, 4.03e-07, 0.05879367), (20.0, 30.0, 0.05879367, 0.00193475), (30.0, 30.0, 0.00193475, 0.7609025), (30.0, 40.0, 0.7609025, 0.070111701), (40.0, 40.0, 0.070111701, 3.665502029), (40.0, 50.0, 3.665502029, 0.596325309), (50.0, 50.0, 0.596325309, 10.61556461), (50.0, 60.0, 10.61556461, 2.498872773), (60.0, 60.0, 2.498872773, 22.55052768), (60.0, 70.0, 22.55052768, 6.873511865), (70.0, 70.0, 6.873511865, 38.72269924), (70.0, 80.0, 38.72269924, 14.27800533), (80.0, 80.0, 14.27800533, 57.87732798), (80.0, 90.0, 57.87732798, 24.36533191), (90.0, 90.0, 24.36533191, 78.82515872), (90.0, 100.0, 78.82515872, 35.89311491), (100.0, 100.0, 35.89311491, 100.4284657), (100.0, 110.0, 100.4284657, 48.08532097), (110.0, 110.0, 48.08532097, 121.6902694), (110.0, 120.0, 121.6902694, 60.27950516), (120.0, 120.0, 60.27950516, 141.7950228), (120.0, 130.0, 141.7950228, 71.94689203), (130.0, 130.0, 71.94689203, 160.1187325), (130.0, 140.0, 160.1187325, 82.69101617), (140.0, 140.0, 82.69101617, 176.2205921), (140.0, 150.0, 176.2205921, 92.23578517), (150.0, 150.0, 92.23578517, 189.8242408), (150.0, 160.0, 189.8242408, 100.4089136), (160.0, 160.0, 100.4089136, 200.7940414), (160.0, 170.0, 200.7940414, 107.1240606), (170.0, 170.0, 107.1240606, 209.1098778), (170.0, 180.0, 209.1098778, 112.3635167), (180.0, 180.0, 112.3635167, 214.8426624), (180.0, 190.0, 214.8426624, 116.1624059), (190.0, 190.0, 116.1624059, 218.1318373), (190.0, 200.0, 218.1318373, 118.5948464), (200.0, 200.0, 118.5948464, 219.1655366), (200.0, 210.0, 219.1655366, 119.7621957), (210.0, 210.0, 119.7621957, 218.1636673), (210.0, 220.0, 218.1636673, 119.7833267), (220.0, 220.0, 119.7833267, 215.3639021), (220.0, 230.0, 215.3639021, 118.786778), (230.0, 230.0, 118.786778, 211.0104114), (230.0, 240.0, 211.0104114, 116.9045727), (240.0, 240.0, 116.9045727, 205.3450743), (240.0, 250.0, 205.3450743, 114.2674842), (250.0, 250.0, 114.2674842, 198.6008625), (250.0, 260.0, 198.6008625, 111.0015279), (260.0, 260.0, 111.0015279, 190.9970805), (260.0, 270.0, 190.9970805, 107.2254724), (270.0, 270.0, 107.2254724, 182.7361569), (270.0, 280.0, 182.7361569, 103.0491825), (280.0, 280.0, 103.0491825, 174.0017016), (280.0, 290.0, 174.0017016, 98.57262952), (290.0, 290.0, 98.57262952, 164.9575728), (290.0, 1000.0, 164.9575728, 164.9575728)]\n"
     ]
    },
    {
     "ename": "ZeroDivisionError",
     "evalue": "float division by zero",
     "output_type": "error",
     "traceback": [
      "\u001b[0;31m---------------------------------------------------------------------------\u001b[0m",
      "\u001b[0;31mZeroDivisionError\u001b[0m                         Traceback (most recent call last)",
      "Cell \u001b[0;32mIn[33], line 11\u001b[0m\n\u001b[1;32m      9\u001b[0m mask \u001b[38;5;241m=\u001b[39m (\u001b[38;5;124m'\u001b[39m\u001b[38;5;124m?\u001b[39m\u001b[38;5;124m'\u001b[39m, \u001b[38;5;124m'\u001b[39m\u001b[38;5;124m?\u001b[39m\u001b[38;5;124m'\u001b[39m, \u001b[38;5;28mstr\u001b[39m(AU), \u001b[38;5;124m'\u001b[39m\u001b[38;5;124m?\u001b[39m\u001b[38;5;124m'\u001b[39m, \u001b[38;5;28mstr\u001b[39m(curve_id))\n\u001b[1;32m     10\u001b[0m points \u001b[38;5;241m=\u001b[39m [(r\u001b[38;5;241m.\u001b[39mage, r\u001b[38;5;241m.\u001b[39mvolume) \u001b[38;5;28;01mfor\u001b[39;00m _, r \u001b[38;5;129;01min\u001b[39;00m curve_points_table\u001b[38;5;241m.\u001b[39mloc[AU]\u001b[38;5;241m.\u001b[39miterrows() \u001b[38;5;28;01mif\u001b[39;00m \u001b[38;5;129;01mnot\u001b[39;00m r\u001b[38;5;241m.\u001b[39mage \u001b[38;5;241m%\u001b[39m period_length \u001b[38;5;129;01mand\u001b[39;00m r\u001b[38;5;241m.\u001b[39mage \u001b[38;5;241m<\u001b[39m\u001b[38;5;241m=\u001b[39m max_age]\n\u001b[0;32m---> 11\u001b[0m c \u001b[38;5;241m=\u001b[39m \u001b[43mws3\u001b[49m\u001b[38;5;241;43m.\u001b[39;49m\u001b[43mcore\u001b[49m\u001b[38;5;241;43m.\u001b[39;49m\u001b[43mCurve\u001b[49m\u001b[43m(\u001b[49m\u001b[43myname\u001b[49m\u001b[43m,\u001b[49m\u001b[43m \u001b[49m\u001b[43mpoints\u001b[49m\u001b[38;5;241;43m=\u001b[39;49m\u001b[43mpoints\u001b[49m\u001b[43m,\u001b[49m\u001b[43m \u001b[49m\u001b[38;5;28;43mtype\u001b[39;49m\u001b[38;5;241;43m=\u001b[39;49m\u001b[38;5;124;43m'\u001b[39;49m\u001b[38;5;124;43ma\u001b[39;49m\u001b[38;5;124;43m'\u001b[39;49m\u001b[43m,\u001b[49m\u001b[43m \u001b[49m\u001b[43mis_volume\u001b[49m\u001b[38;5;241;43m=\u001b[39;49m\u001b[38;5;28;43;01mTrue\u001b[39;49;00m\u001b[43m,\u001b[49m\u001b[43m \u001b[49m\u001b[43mxmax\u001b[49m\u001b[38;5;241;43m=\u001b[39;49m\u001b[43mmax_age\u001b[49m\u001b[43m,\u001b[49m\u001b[43m \u001b[49m\u001b[43mperiod_length\u001b[49m\u001b[38;5;241;43m=\u001b[39;49m\u001b[43mperiod_length\u001b[49m\u001b[43m)\u001b[49m\n\u001b[1;32m     12\u001b[0m \u001b[38;5;28mprint\u001b[39m(\u001b[38;5;124m'\u001b[39m\u001b[38;5;124m*Y\u001b[39m\u001b[38;5;124m'\u001b[39m, \u001b[38;5;124m'\u001b[39m\u001b[38;5;124m \u001b[39m\u001b[38;5;124m'\u001b[39m\u001b[38;5;241m.\u001b[39mjoin(v \u001b[38;5;28;01mfor\u001b[39;00m v \u001b[38;5;129;01min\u001b[39;00m mask), file\u001b[38;5;241m=\u001b[39mfile)\n\u001b[1;32m     13\u001b[0m \u001b[38;5;28mprint\u001b[39m(yname, \u001b[38;5;124m'\u001b[39m\u001b[38;5;124m1\u001b[39m\u001b[38;5;124m'\u001b[39m, \u001b[38;5;124m'\u001b[39m\u001b[38;5;124m \u001b[39m\u001b[38;5;124m'\u001b[39m\u001b[38;5;241m.\u001b[39mjoin(\u001b[38;5;28mstr\u001b[39m(\u001b[38;5;28mint\u001b[39m(c[x])) \u001b[38;5;28;01mfor\u001b[39;00m x \u001b[38;5;129;01min\u001b[39;00m \u001b[38;5;28mrange\u001b[39m(\u001b[38;5;241m0\u001b[39m, \u001b[38;5;241m300\u001b[39m, \u001b[38;5;241m10\u001b[39m)), file\u001b[38;5;241m=\u001b[39mfile)\n",
      "File \u001b[0;32m/media/data/project/eghasemi/ws3/ws3/core.py:138\u001b[0m, in \u001b[0;36mCurve.__init__\u001b[0;34m(self, label, id, is_volume, points, type, is_special, period_length, xmin, xmax, epsilon, simplify)\u001b[0m\n\u001b[1;32m    136\u001b[0m \u001b[38;5;28mself\u001b[39m\u001b[38;5;241m.\u001b[39mepsilon \u001b[38;5;241m=\u001b[39m epsilon\n\u001b[1;32m    137\u001b[0m \u001b[38;5;28mself\u001b[39m\u001b[38;5;241m.\u001b[39mis_locked \u001b[38;5;241m=\u001b[39m \u001b[38;5;28;01mFalse\u001b[39;00m\n\u001b[0;32m--> 138\u001b[0m \u001b[38;5;28;43mself\u001b[39;49m\u001b[38;5;241;43m.\u001b[39;49m\u001b[43madd_points\u001b[49m\u001b[43m(\u001b[49m\u001b[43mpoints\u001b[49m\u001b[43m \u001b[49m\u001b[38;5;129;43;01mor\u001b[39;49;00m\u001b[43m \u001b[49m\u001b[43m[\u001b[49m\u001b[43m(\u001b[49m\u001b[38;5;241;43m0\u001b[39;49m\u001b[43m,\u001b[49m\u001b[43m \u001b[49m\u001b[38;5;241;43m0\u001b[39;49m\u001b[43m)\u001b[49m\u001b[43m]\u001b[49m\u001b[43m,\u001b[49m\u001b[43m \u001b[49m\u001b[43msimplify\u001b[49m\u001b[38;5;241;43m=\u001b[39;49m\u001b[43msimplify\u001b[49m\u001b[43m)\u001b[49m\n",
      "File \u001b[0;32m/media/data/project/eghasemi/ws3/ws3/core.py:203\u001b[0m, in \u001b[0;36mCurve.add_points\u001b[0;34m(self, points, simplify, compile_y)\u001b[0m\n\u001b[1;32m    201\u001b[0m     y\u001b[38;5;241m.\u001b[39mappend(y[\u001b[38;5;241m-\u001b[39m\u001b[38;5;241m1\u001b[39m])\n\u001b[1;32m    202\u001b[0m points \u001b[38;5;241m=\u001b[39m \u001b[38;5;28mlist\u001b[39m(\u001b[38;5;28mzip\u001b[39m(x, y))\n\u001b[0;32m--> 203\u001b[0m \u001b[38;5;28mself\u001b[39m\u001b[38;5;241m.\u001b[39minterp \u001b[38;5;241m=\u001b[39m \u001b[43mInterpolator\u001b[49m\u001b[43m(\u001b[49m\u001b[43mpoints\u001b[49m\u001b[43m)\u001b[49m\n\u001b[1;32m    204\u001b[0m \u001b[38;5;28;01mif\u001b[39;00m simplify:\n\u001b[1;32m    205\u001b[0m     \u001b[38;5;28mself\u001b[39m\u001b[38;5;241m.\u001b[39msimplify(points, compile_y)\n",
      "File \u001b[0;32m/media/data/project/eghasemi/ws3/ws3/core.py:51\u001b[0m, in \u001b[0;36mInterpolator.__init__\u001b[0;34m(self, points)\u001b[0m\n\u001b[1;32m     49\u001b[0m \u001b[38;5;66;03m#print intervals\u001b[39;00m\n\u001b[1;32m     50\u001b[0m \u001b[38;5;28;01mtry\u001b[39;00m:\n\u001b[0;32m---> 51\u001b[0m     \u001b[38;5;28mself\u001b[39m\u001b[38;5;241m.\u001b[39mm \u001b[38;5;241m=\u001b[39m [(y2 \u001b[38;5;241m-\u001b[39m y1)\u001b[38;5;241m/\u001b[39m(x2 \u001b[38;5;241m-\u001b[39m x1) \u001b[38;5;28;01mfor\u001b[39;00m x1, x2, y1, y2 \u001b[38;5;129;01min\u001b[39;00m intervals]\n\u001b[1;32m     52\u001b[0m \u001b[38;5;28;01mexcept\u001b[39;00m:\n\u001b[1;32m     53\u001b[0m     \u001b[38;5;28mprint\u001b[39m(intervals)\n",
      "File \u001b[0;32m/media/data/project/eghasemi/ws3/ws3/core.py:51\u001b[0m, in \u001b[0;36m<listcomp>\u001b[0;34m(.0)\u001b[0m\n\u001b[1;32m     49\u001b[0m \u001b[38;5;66;03m#print intervals\u001b[39;00m\n\u001b[1;32m     50\u001b[0m \u001b[38;5;28;01mtry\u001b[39;00m:\n\u001b[0;32m---> 51\u001b[0m     \u001b[38;5;28mself\u001b[39m\u001b[38;5;241m.\u001b[39mm \u001b[38;5;241m=\u001b[39m [\u001b[43m(\u001b[49m\u001b[43my2\u001b[49m\u001b[43m \u001b[49m\u001b[38;5;241;43m-\u001b[39;49m\u001b[43m \u001b[49m\u001b[43my1\u001b[49m\u001b[43m)\u001b[49m\u001b[38;5;241;43m/\u001b[39;49m\u001b[43m(\u001b[49m\u001b[43mx2\u001b[49m\u001b[43m \u001b[49m\u001b[38;5;241;43m-\u001b[39;49m\u001b[43m \u001b[49m\u001b[43mx1\u001b[49m\u001b[43m)\u001b[49m \u001b[38;5;28;01mfor\u001b[39;00m x1, x2, y1, y2 \u001b[38;5;129;01min\u001b[39;00m intervals]\n\u001b[1;32m     52\u001b[0m \u001b[38;5;28;01mexcept\u001b[39;00m:\n\u001b[1;32m     53\u001b[0m     \u001b[38;5;28mprint\u001b[39m(intervals)\n",
      "\u001b[0;31mZeroDivisionError\u001b[0m: float division by zero"
     ]
    }
   ],
   "source": [
    "with open(woodstock_model_files_yld_path, 'w') as file:\n",
    "    tot=[]\n",
    "    swd=[]\n",
    "    hwd=[]\n",
    "    unique_au_rows = curve_points_table[~curve_points_table.index.duplicated(keep='first')]    \n",
    "    for AU, au_row in unique_au_rows.iterrows():\n",
    "        yname = 's%04d' % int(au_row.canfi_species)    \n",
    "        curve_id = au_row.curve_id\n",
    "        mask = ('?', '?', str(AU), '?', str(curve_id))\n",
    "        points = [(r.age, r.volume) for _, r in curve_points_table.loc[AU].iterrows() if not r.age % period_length and r.age <= max_age]\n",
    "        c = ws3.core.Curve(yname, points=points, type='a', is_volume=True, xmax=max_age, period_length=period_length)\n",
    "        print('*Y', ' '.join(v for v in mask), file=file)\n",
    "        print(yname, '1', ' '.join(str(int(c[x])) for x in range(0, 300, 10)), file=file)\n",
    "        if yname not in tot:\n",
    "            tot.append(yname)\n",
    "        if int(au_row.canfi_species) > 1200:\n",
    "            if yname not in hwd: hwd.append(yname)\n",
    "        else:\n",
    "            if yname not in swd: swd.append(yname)\n",
    "    print('*YC ? ? ? ? ?', file=file)\n",
    "    print('totvol _SUM(%s)' % ', '.join(map(str, tot)), file=file)\n",
    "    print('swdvol _SUM(%s)' % ', '.join(map(str, swd)), file=file)\n",
    "    print('hwdvol _SUM(%s)' % ', '.join(map(str, hwd)), file=file)"
   ]
  },
  {
   "cell_type": "code",
   "execution_count": null,
   "id": "67db3548-5d30-4b8c-bf61-779a27645379",
   "metadata": {},
   "outputs": [],
   "source": [
    "fig, ax = plt.subplots(3, 1, figsize=(8, 12), sharex=True)\n",
    "\n",
    "cvol = c\n",
    "ccai = c.cai()\n",
    "cmai = c.mai()\n",
    "cmaiytp = c.mai().ytp()\n",
    "x_cmai = cmaiytp.lookup(0) # optimal rotation age (i.e., culmination of MAI curve)\n",
    "labels = 'total volume', 'MAI (and CAI)', 'MAI YTP'\n",
    "\n",
    "ax[0].plot(*zip(*c.points()))\n",
    "ax[0].plot([0, x_cmai], [0., cvol[x_cmai]], linestyle='--', color='green')\n",
    "\n",
    "ax[1].plot(*zip(*c.mai().points()))\n",
    "ax[1].plot(*zip(*c.cai().points()), linestyle=':')\n",
    "\n",
    "ax[2].plot(*zip(*c.mai().ytp().points()))\n",
    "ax[2].axhline(0, color='black')\n",
    "\n",
    "for i in range(len(ax)):\n",
    "    ax[i].set_ylabel(labels[i])\n",
    "    ax[i].set_ylim(0, None)\n",
    "    ax[i].axvline(x_cmai, color='red')\n",
    "plt.xlim(0, 300)"
   ]
  }
 ],
 "metadata": {
  "kernelspec": {
   "display_name": "Python 3 (venv:foo)",
   "language": "python",
   "name": "foo"
  },
  "language_info": {
   "codemirror_mode": {
    "name": "ipython",
    "version": 3
   },
   "file_extension": ".py",
   "mimetype": "text/x-python",
   "name": "python",
   "nbconvert_exporter": "python",
   "pygments_lexer": "ipython3",
   "version": "3.10.12"
  }
 },
 "nbformat": 4,
 "nbformat_minor": 5
}
