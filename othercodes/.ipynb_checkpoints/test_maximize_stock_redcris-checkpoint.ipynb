{
 "cells": [
  {
   "cell_type": "markdown",
   "id": "1a5d44a5-2160-4043-aff7-eecad3db2ce0",
   "metadata": {
    "tags": []
   },
   "source": [
    "# Connect Forest Management Model with Forest Carbon Budget Model (without calibration)"
   ]
  },
  {
   "cell_type": "markdown",
   "id": "40b92b4e-2d08-49eb-b7ef-53b8af3e73a8",
   "metadata": {},
   "source": [
    "Optionally, uninstall the ws3 package and replace it with a pointer to this local clone of the GitHub repository code (useful if you want ot tweak the source code for whatever reason)."
   ]
  },
  {
   "cell_type": "markdown",
   "id": "b2965270-03d6-4a66-b266-7744e7ae5e1b",
   "metadata": {
    "tags": []
   },
   "source": [
    "## Set up Modelling Environment"
   ]
  },
  {
   "cell_type": "code",
   "execution_count": 131,
   "id": "213247ec-412e-4f98-9141-7de4cc19d042",
   "metadata": {
    "tags": []
   },
   "outputs": [
    {
     "name": "stdout",
     "output_type": "stream",
     "text": [
      "The autoreload extension is already loaded. To reload it, use:\n",
      "  %reload_ext autoreload\n"
     ]
    }
   ],
   "source": [
    "%load_ext autoreload\n",
    "%autoreload 2"
   ]
  },
  {
   "cell_type": "code",
   "execution_count": 132,
   "id": "a5904809-3b01-4075-a7a9-4df0a6d50d59",
   "metadata": {
    "tags": []
   },
   "outputs": [
    {
     "data": {
      "text/plain": [
       "['/media/data/home/yyan/.virtualenvs/yan/lib/python3.10/site-packages/ws3']"
      ]
     },
     "execution_count": 132,
     "metadata": {},
     "output_type": "execute_result"
    }
   ],
   "source": [
    "# Import ws3 Module from Local Server\n",
    "import ws3\n",
    "#Show Module Path\n",
    "ws3.__path__"
   ]
  },
  {
   "cell_type": "code",
   "execution_count": 133,
   "id": "211a86ee-58e6-4d41-a6ae-09c8f94e47b3",
   "metadata": {
    "tags": []
   },
   "outputs": [],
   "source": [
    "# Install libcbm Module from GitHub and Import it\n",
    "install_libcbm = False\n",
    "if install_libcbm:\n",
    "    %pip install -U git+https://github.com/cat-cfs/libcbm_py.git@main\n",
    "    import libcbm\n",
    "    libcbm.__path__"
   ]
  },
  {
   "cell_type": "markdown",
   "id": "84d286e1-4f32-408d-831d-ff751dee88a9",
   "metadata": {
    "tags": []
   },
   "source": [
    "## Create and Run `ForestModel` instance"
   ]
  },
  {
   "cell_type": "code",
   "execution_count": null,
   "id": "f9c75445-76a1-442e-b6ad-c383ca8bbbbe",
   "metadata": {
    "tags": []
   },
   "outputs": [
    {
     "name": "stdout",
     "output_type": "stream",
     "text": [
      "Requirement already satisfied: pandas==2.0.3 in /media/data/home/yyan/.virtualenvs/yan/lib/python3.10/site-packages (2.0.3)\n"
     ]
    }
   ],
   "source": [
    "# Install Pandas Library Version 2.0.3\n",
    "%pip install pandas==2.0.3"
   ]
  },
  {
   "cell_type": "code",
   "execution_count": null,
   "id": "7b36a6af-653c-4e96-a449-694f3f46a55e",
   "metadata": {
    "tags": []
   },
   "outputs": [],
   "source": [
    "# Import Modules\n",
    "import matplotlib.pyplot as plt\n",
    "import pandas as pd\n",
    "import geopandas as gpd\n",
    "import ws3.forest, ws3.core\n",
    "import time\n",
    "import math"
   ]
  },
  {
   "cell_type": "code",
   "execution_count": null,
   "id": "e6f7a1aa-0fb4-4304-a53d-a7c4d5e4cd28",
   "metadata": {
    "tags": []
   },
   "outputs": [],
   "source": [
    "#Start Calculating the Running Time\n",
    "Start = time.time()"
   ]
  },
  {
   "cell_type": "code",
   "execution_count": null,
   "id": "842d1cfc-57ce-4a4b-b5d1-d8dba0ac3e1d",
   "metadata": {
    "tags": []
   },
   "outputs": [],
   "source": [
    "# Set Basic Parameters\n",
    "base_year = 2020\n",
    "horizon = 20\n",
    "period_length = 10\n",
    "max_age = 1000\n",
    "tvy_name = 'totvol'"
   ]
  },
  {
   "cell_type": "code",
   "execution_count": null,
   "id": "21205949-5636-4bef-8d49-247687514ec2",
   "metadata": {
    "tags": []
   },
   "outputs": [],
   "source": [
    "# Creat Forest Model Instance for Timber Supply Area 24\n",
    "fm = ws3.forest.ForestModel(model_name='tsa24',\n",
    "                            model_path='data/woodstock_model_files_tsa24',\n",
    "                            base_year=base_year,\n",
    "                            horizon=horizon,\n",
    "                            period_length=period_length,\n",
    "                            max_age=max_age)\n",
    "fm.import_landscape_section()\n",
    "fm.import_areas_section()\n",
    "fm.import_yields_section()\n",
    "fm.import_actions_section()\n",
    "fm.import_transitions_section()\n",
    "fm.initialize_areas()\n",
    "fm.add_null_action()\n",
    "fm.reset_actions()\n",
    "\n",
    "fm.grow()"
   ]
  },
  {
   "cell_type": "code",
   "execution_count": null,
   "id": "b5f68734-e67c-4bc5-9100-a99862e4567c",
   "metadata": {
    "tags": []
   },
   "outputs": [],
   "source": [
    "# Flag 'harvest' as a harvesting action in the ws3 model\n",
    "harvest_acode='harvest'\n",
    "fm.actions[harvest_acode].is_harvest = True"
   ]
  },
  {
   "cell_type": "code",
   "execution_count": null,
   "id": "ed21d988-f936-43e6-9dca-54ef9de6d95f",
   "metadata": {
    "tags": []
   },
   "outputs": [],
   "source": [
    "# Import Modules\n",
    "from util import compile_scenario, plot_scenario"
   ]
  },
  {
   "cell_type": "code",
   "execution_count": null,
   "id": "e48cb5b5-787a-43bd-b43b-f6caf2f96cf6",
   "metadata": {
    "tags": []
   },
   "outputs": [],
   "source": [
    "# Check the Forest Inventory of the Forest Model\n",
    "df = compile_scenario(fm)\n",
    "plot_scenario(df)"
   ]
  },
  {
   "cell_type": "markdown",
   "id": "9597ca3e-2d50-4fc5-86d7-d65110ac0105",
   "metadata": {
    "tags": []
   },
   "source": [
    "## Hard-link `ForestModel` to `libcbm`"
   ]
  },
  {
   "cell_type": "code",
   "execution_count": null,
   "id": "47f95ecd-74c9-4d8f-8397-39ca5987931e",
   "metadata": {
    "tags": []
   },
   "outputs": [],
   "source": [
    "# Import Modules\n",
    "import libcbm\n",
    "from util import run_cbm, cbm_report, plugin_c_curves"
   ]
  },
  {
   "cell_type": "markdown",
   "id": "3d758cb0-7bba-4bb2-b6a6-cd078d9a3602",
   "metadata": {},
   "source": [
    "Prepare CBM input files"
   ]
  },
  {
   "cell_type": "code",
   "execution_count": null,
   "id": "1a3238c3-ef1e-4aab-aac1-20c951520bc5",
   "metadata": {
    "tags": []
   },
   "outputs": [],
   "source": [
    "# Define Disturance Types\n",
    "disturbance_type_mapping = [{'user_dist_type': 'harvest', 'default_dist_type': 'Clearcut harvesting without salvage'},\n",
    "                            {'user_dist_type': 'fire', 'default_dist_type': 'Wildfire'}]\n",
    "for dtype_key in fm.dtypes:\n",
    "    fm.dt(dtype_key).last_pass_disturbance = 'fire' if dtype_key[2] == dtype_key[4] else 'harvest'"
   ]
  },
  {
   "cell_type": "code",
   "execution_count": null,
   "id": "8b285ecf-6981-437f-829a-54b951b674e7",
   "metadata": {
    "tags": []
   },
   "outputs": [],
   "source": [
    "# sit_config, sit_tables = fm.to_cbm_sit(softwood_volume_yname='swdvol', \n",
    "#                                        hardwood_volume_yname='hwdvol', \n",
    "#                                        admin_boundary='British Columbia', \n",
    "#                                        eco_boundary='Montane Cordillera',\n",
    "#                                        disturbance_type_mapping=disturbance_type_mapping)"
   ]
  },
  {
   "cell_type": "code",
   "execution_count": null,
   "id": "d4dd01db-ef76-439c-8335-3dff50b70a2d",
   "metadata": {
    "tags": []
   },
   "outputs": [],
   "source": [
    "# sit_inventory = fm._cbm_sit_inventory(softwood_volume_yname='swdvol', \n",
    "#                                       hardwood_volume_yname='hwdvol')\n",
    "\n",
    "# sit_inventory.to_csv('data/libcbm_model_files_tsa24/sit_inventory.csv', index=False)"
   ]
  },
  {
   "cell_type": "code",
   "execution_count": null,
   "id": "a97c687a-7a75-45fc-bea1-324df667f530",
   "metadata": {
    "tags": []
   },
   "outputs": [],
   "source": [
    "# Define Sit_config File\n",
    "sit_config = {\n",
    "                'mapping_config': {\n",
    "                    'nonforest': None,\n",
    "                    'species': {\n",
    "                        'species_classifier': 'species',\n",
    "                        'species_mapping': [\n",
    "                            {'user_species': 'softwood', 'default_species': 'Softwood forest type'},\n",
    "                            {'user_species': 'hardwood', 'default_species': 'Hardwood forest type'}\n",
    "                        ]\n",
    "                    },\n",
    "                    'spatial_units': {\n",
    "                        'mapping_mode': 'SingleDefaultSpatialUnit',\n",
    "                        'admin_boundary': 'British Columbia',\n",
    "                        'eco_boundary': 'Montane Cordillera'},\n",
    "                    'disturbance_types': {\n",
    "                        'disturbance_type_mapping': disturbance_type_mapping\n",
    "                    }\n",
    "                }\n",
    "            }"
   ]
  },
  {
   "cell_type": "code",
   "execution_count": null,
   "id": "e5ba431e-9e67-43c3-b5d0-1d5fc409d258",
   "metadata": {
    "tags": []
   },
   "outputs": [],
   "source": [
    "# Define Sit Files\n",
    "sit_classifiers = pd.read_csv('data/libcbm_model_files_tsa24/sit_classifiers.csv')\n",
    "sit_disturbance_types = pd.read_csv('data/libcbm_model_files_tsa24/sit_disturbance_types.csv')\n",
    "sit_age_classes = pd.read_csv('data/libcbm_model_files_tsa24/sit_age_classes.csv')\n",
    "sit_inventory = pd.read_csv('data/libcbm_model_files_tsa24/sit_inventory.csv')\n",
    "sit_yield = pd.read_csv('data/libcbm_model_files_tsa24/sit_yield.csv')\n",
    "sit_events = pd.read_csv('data/libcbm_model_files_tsa24/sit_events.csv')\n",
    "sit_transitions = pd.read_csv('data/libcbm_model_files_tsa24/sit_transitions.csv')"
   ]
  },
  {
   "cell_type": "code",
   "execution_count": null,
   "id": "1ed1439f-3e34-4a6d-8752-e02d544ae4cd",
   "metadata": {
    "tags": []
   },
   "outputs": [],
   "source": [
    "# Define Sit Tables\n",
    "sit_tables = {'sit_classifiers': sit_classifiers,\n",
    "              'sit_disturbance_types': sit_disturbance_types,\n",
    "              'sit_age_classes': sit_age_classes,\n",
    "              'sit_inventory': sit_inventory,\n",
    "              'sit_yield': sit_yield,\n",
    "              'sit_events': sit_events,\n",
    "              'sit_transitions': sit_transitions}"
   ]
  },
  {
   "cell_type": "markdown",
   "id": "aa26a5b6-9c12-4653-9fa8-d9b46e71fee2",
   "metadata": {},
   "source": [
    "Here are other two ways to generate sit tables. But they are only suitbale for small forest model since they take too much running time and memory"
   ]
  },
  {
   "cell_type": "code",
   "execution_count": null,
   "id": "c0d05155-9b33-49c8-8320-ad9acbafda13",
   "metadata": {
    "tags": []
   },
   "outputs": [],
   "source": [
    "# Define Time Steps\n",
    "n_steps = fm.horizon * fm.period_length\n",
    "\n",
    "# Run CBM and Generate CBM 0utputs\n",
    "cbm_output = run_cbm(sit_config, sit_tables, n_steps)"
   ]
  },
  {
   "cell_type": "markdown",
   "id": "c6d27b60-bd78-42af-9bc3-f81ad77fd9ad",
   "metadata": {},
   "source": [
    "Emissions from all biomass components only resulting from fire disturbance, while these from all DOM pools resulting from annual decay processes and fire disturbance."
   ]
  },
  {
   "cell_type": "code",
   "execution_count": null,
   "id": "05ab0cab-f8fb-49a0-bf38-c196e5720344",
   "metadata": {
    "tags": []
   },
   "outputs": [],
   "source": [
    "# Define Carbon Pools\n",
    "biomass_pools = ['SoftwoodMerch','SoftwoodFoliage', 'SoftwoodOther', 'SoftwoodCoarseRoots','SoftwoodFineRoots',                        \n",
    "                 'HardwoodMerch', 'HardwoodFoliage', 'HardwoodOther', 'HardwoodCoarseRoots', 'HardwoodFineRoots']\n",
    "dom_pools = ['AboveGroundVeryFastSoil', 'BelowGroundVeryFastSoil', 'AboveGroundFastSoil', 'BelowGroundFastSoil',\n",
    "             'MediumSoil', 'AboveGroundSlowSoil', 'BelowGroundSlowSoil', 'SoftwoodStemSnag', 'SoftwoodBranchSnag',\n",
    "             'HardwoodStemSnag', 'HardwoodBranchSnag']\n",
    "emissions_pools = ['CO2', 'CH4', 'CO', 'NO2']\n",
    "products_pools = ['Products']\n",
    "ecosystem_pools = biomass_pools + dom_pools\n",
    "all_pools = biomass_pools + dom_pools + emissions_pools + products_pools"
   ]
  },
  {
   "cell_type": "code",
   "execution_count": null,
   "id": "c5c842f1-a9ab-4602-81a3-668325e6f2eb",
   "metadata": {
    "tags": []
   },
   "outputs": [],
   "source": [
    "# Define Carbon Fluxes\n",
    "annual_process_fluxes = [\n",
    "    'DecayDOMCO2Emission',\n",
    "    'DeltaBiomass_AG',\n",
    "    'DeltaBiomass_BG',\n",
    "    'TurnoverMerchLitterInput',\n",
    "    'TurnoverFolLitterInput',\n",
    "    'TurnoverOthLitterInput',\n",
    "    'TurnoverCoarseLitterInput',\n",
    "    'TurnoverFineLitterInput',\n",
    "    'DecayVFastAGToAir',\n",
    "    'DecayVFastBGToAir',\n",
    "    'DecayFastAGToAir',\n",
    "    'DecayFastBGToAir',\n",
    "    'DecayMediumToAir',\n",
    "    'DecaySlowAGToAir',\n",
    "    'DecaySlowBGToAir',\n",
    "    'DecaySWStemSnagToAir',\n",
    "    'DecaySWBranchSnagToAir',\n",
    "    'DecayHWStemSnagToAir',\n",
    "    'DecayHWBranchSnagToAir'\n",
    "]\n",
    "\n",
    "npp_fluxes=[\n",
    "    'DeltaBiomass_AG', \n",
    "    'DeltaBiomass_BG'\n",
    "]\n",
    "decay_emissions_fluxes = [\n",
    "    'DecayVFastAGToAir',\n",
    "    'DecayVFastBGToAir',\n",
    "    'DecayFastAGToAir',\n",
    "    'DecayFastBGToAir',\n",
    "    'DecayMediumToAir',\n",
    "    'DecaySlowAGToAir',\n",
    "    'DecaySlowBGToAir',\n",
    "    'DecaySWStemSnagToAir',\n",
    "    'DecaySWBranchSnagToAir',\n",
    "    'DecayHWStemSnagToAir',\n",
    "    'DecayHWBranchSnagToAir'\n",
    "]\n",
    "\n",
    "disturbance_production_fluxes = [\n",
    "    'DisturbanceSoftProduction',\n",
    "    'DisturbanceHardProduction',\n",
    "    'DisturbanceDOMProduction'   \n",
    "]\n",
    "\n",
    "disturbance_emissions_fluxes = [\n",
    "    'DisturbanceMerchToAir',\n",
    "    'DisturbanceFolToAir',\n",
    "    'DisturbanceOthToAir',\n",
    "    'DisturbanceCoarseToAir',\n",
    "    'DisturbanceFineToAir',\n",
    "    'DisturbanceVFastAGToAir',\n",
    "    'DisturbanceVFastBGToAir',\n",
    "    'DisturbanceFastAGToAir',\n",
    "    'DisturbanceFastBGToAir',\n",
    "    'DisturbanceMediumToAir',\n",
    "    'DisturbanceSlowAGToAir',\n",
    "    'DisturbanceSlowBGToAir',\n",
    "    'DisturbanceSWStemSnagToAir',\n",
    "    'DisturbanceSWBranchSnagToAir',\n",
    "    'DisturbanceHWStemSnagToAir',\n",
    "    'DisturbanceHWBranchSnagToAir'   \n",
    "]\n",
    "\n",
    "all_fluxes = [\n",
    "    'DisturbanceCO2Production',\n",
    "    'DisturbanceCH4Production',\n",
    "    'DisturbanceCOProduction',\n",
    "    'DisturbanceBioCO2Emission',\n",
    "    'DisturbanceBioCH4Emission',\n",
    "    'DisturbanceBioCOEmission',\n",
    "    'DecayDOMCO2Emission',\n",
    "    'DisturbanceSoftProduction',\n",
    "    'DisturbanceHardProduction',\n",
    "    'DisturbanceDOMProduction',\n",
    "    'DeltaBiomass_AG',\n",
    "    'DeltaBiomass_BG',\n",
    "    'TurnoverMerchLitterInput',\n",
    "    'TurnoverFolLitterInput',\n",
    "    'TurnoverOthLitterInput',\n",
    "    'TurnoverCoarseLitterInput',\n",
    "    'TurnoverFineLitterInput',\n",
    "    'DecayVFastAGToAir',\n",
    "    'DecayVFastBGToAir',\n",
    "    'DecayFastAGToAir',\n",
    "    'DecayFastBGToAir',\n",
    "    'DecayMediumToAir',\n",
    "    'DecaySlowAGToAir',\n",
    "    'DecaySlowBGToAir',\n",
    "    'DecaySWStemSnagToAir',\n",
    "    'DecaySWBranchSnagToAir',\n",
    "    'DecayHWStemSnagToAir',\n",
    "    'DecayHWBranchSnagToAir',\n",
    "    'DisturbanceMerchToAir',\n",
    "    'DisturbanceFolToAir',\n",
    "    'DisturbanceOthToAir',\n",
    "    'DisturbanceCoarseToAir',\n",
    "    'DisturbanceFineToAir',\n",
    "    'DisturbanceDOMCO2Emission',\n",
    "    'DisturbanceDOMCH4Emission',\n",
    "    'DisturbanceDOMCOEmission',\n",
    "    'DisturbanceMerchLitterInput',\n",
    "    'DisturbanceFolLitterInput',\n",
    "    'DisturbanceOthLitterInput',\n",
    "    'DisturbanceCoarseLitterInput',\n",
    "    'DisturbanceFineLitterInput',\n",
    "    'DisturbanceVFastAGToAir',\n",
    "    'DisturbanceVFastBGToAir',\n",
    "    'DisturbanceFastAGToAir',\n",
    "    'DisturbanceFastBGToAir',\n",
    "    'DisturbanceMediumToAir',\n",
    "    'DisturbanceSlowAGToAir',\n",
    "    'DisturbanceSlowBGToAir',\n",
    "    'DisturbanceSWStemSnagToAir',\n",
    "    'DisturbanceSWBranchSnagToAir',\n",
    "    'DisturbanceHWStemSnagToAir',\n",
    "    'DisturbanceHWBranchSnagToAir'\n",
    "]\n",
    "\n",
    "grossgrowth_ag = [\n",
    "    \"DeltaBiomass_AG\",\n",
    "    \"TurnoverMerchLitterInput\",\n",
    "    \"TurnoverFolLitterInput\",\n",
    "    \"TurnoverOthLitterInput\",\n",
    "]\n",
    "\n",
    "grossgrowth_bg = [\n",
    "    \"DeltaBiomass_BG\",\n",
    "    \"TurnoverCoarseLitterInput\",\n",
    "    \"TurnoverFineLitterInput\",\n",
    "]\n",
    "\n",
    "product_flux = [\n",
    "     \"DisturbanceSoftProduction\",\n",
    "     \"DisturbanceHardProduction\",\n",
    "     \"DisturbanceDOMProduction\",\n",
    "]"
   ]
  },
  {
   "cell_type": "markdown",
   "id": "3405125d-441b-4657-9bf3-86bcaff5d966",
   "metadata": {},
   "source": [
    "GrossGrowth_AG = flux[[\n",
    "        \"DeltaBiomass_AG\",\n",
    "        \"TurnoverMerchLitterInput\",\n",
    "        \"TurnoverFolLitterInput\",\n",
    "        \"TurnoverOthLitterInput\",\n",
    "        ]].sum(axis=1)\n",
    "\n",
    "GrossGrowth_BG = flux[[\n",
    "        \"DeltaBiomass_BG\",\n",
    "        \"TurnoverCoarseLitterInput\",\n",
    "        \"TurnoverFineLitterInput\",\n",
    "        ]].sum(axis=1)"
   ]
  },
  {
   "cell_type": "code",
   "execution_count": null,
   "id": "10ca892e-2e13-4286-9c77-f0be60fd7313",
   "metadata": {
    "tags": []
   },
   "outputs": [],
   "source": [
    "# Define Sum Carbon Pools and Sum Carbon Fluxes\n",
    "pools = ecosystem_pools\n",
    "fluxes = decay_emissions_fluxes + disturbance_emissions_fluxes\n",
    "gross_growth = grossgrowth_ag + grossgrowth_bg\n",
    "\n",
    "sum_pools = ['ecosystem', 'biomass', 'DOM']"
   ]
  },
  {
   "cell_type": "code",
   "execution_count": null,
   "id": "d42425c9-2d20-4a2b-841e-0ae425e43c9c",
   "metadata": {
    "tags": []
   },
   "outputs": [],
   "source": [
    "# Report Annual CBM Results\n",
    "from util import cbm_report\n",
    "cbm_report(fm, cbm_output, biomass_pools, dom_pools, fluxes, gross_growth, product_flux)"
   ]
  },
  {
   "cell_type": "markdown",
   "id": "2dd6060c-6b96-4f0e-99ca-78705b8569ff",
   "metadata": {
    "tags": []
   },
   "source": [
    "## Plug-in Carbon Yield Curves"
   ]
  },
  {
   "cell_type": "code",
   "execution_count": null,
   "id": "32438b9f-cf2c-4664-bdbe-57d63581f089",
   "metadata": {
    "tags": []
   },
   "outputs": [],
   "source": [
    "# Read curves\n",
    "c_curves_p = pd.read_pickle(\"curves/c_curves_p.pkl\")\n",
    "c_curves_f = pd.read_pickle(\"curves/c_curves_f.pkl\") # Emission curves may be kind of broken"
   ]
  },
  {
   "cell_type": "code",
   "execution_count": null,
   "id": "b0cdde58-45f2-432b-8678-cc6c460c7a10",
   "metadata": {
    "tags": []
   },
   "outputs": [],
   "source": [
    "# Curvs Calibration\n",
    "# c_curves_p = c_curves_p.iloc[:,-3:].apply(lambda x: x*1.03) # Calibrate the carbon yield curvest for total ecosystem pools\n",
    "# c_curves_f = c_curves_f.iloc[:,-2:].apply(lambda x: x*1.03) # Calibrate the carbon yield curvest for net carbon flux"
   ]
  },
  {
   "cell_type": "code",
   "execution_count": null,
   "id": "8d4435fe-6cb6-4900-840f-2c92ecfeb3f1",
   "metadata": {
    "tags": []
   },
   "outputs": [],
   "source": [
    "c_curves_p"
   ]
  },
  {
   "cell_type": "code",
   "execution_count": null,
   "id": "31a17664-51e2-4d6a-a172-b6c65b1e046a",
   "metadata": {
    "tags": []
   },
   "outputs": [],
   "source": [
    "c_curves_f"
   ]
  },
  {
   "cell_type": "code",
   "execution_count": null,
   "id": "ce1777eb-eff1-430c-b8be-39c310225c5c",
   "metadata": {
    "tags": []
   },
   "outputs": [],
   "source": [
    "# Plug carbon yield curves into forest model\n",
    "plugin_c_curves(fm, c_curves_p, c_curves_f, pools=sum_pools, fluxes=['net_fluxes', 'total_emissions'])"
   ]
  },
  {
   "cell_type": "code",
   "execution_count": null,
   "id": "641489b5-796b-4583-b7eb-298a968ae837",
   "metadata": {
    "tags": []
   },
   "outputs": [],
   "source": [
    "# Check if all carbon yield curves are plugged in well.\n",
    "# fm.yields"
   ]
  },
  {
   "cell_type": "code",
   "execution_count": null,
   "id": "be66095f-c2cb-4f8a-98cf-869c77ebd1bc",
   "metadata": {
    "tags": []
   },
   "outputs": [],
   "source": [
    "# Check the Forest Inventory of the ws3 Model without harvesting\n",
    "df = compile_scenario(fm)\n",
    "plot_scenario(df)"
   ]
  },
  {
   "cell_type": "markdown",
   "id": "c03296fc-e80f-48c0-8020-56be6a4bb0c1",
   "metadata": {
    "tags": []
   },
   "source": [
    "## Build Havrested Wood Product Carbon Model"
   ]
  },
  {
   "cell_type": "code",
   "execution_count": null,
   "id": "e4b5e019-c5f0-40be-90d0-be9fce41137f",
   "metadata": {
    "tags": []
   },
   "outputs": [],
   "source": [
    "#Define constants from product carbon estimation\n",
    "\n",
    "# Define the product half-lives（>0.69)\n",
    "half_life_solid_wood = 30\n",
    "half_life_paper = 2\n",
    "\n",
    "# Define the allocation distribution\n",
    "proportion_solid_wood = 0.5\n",
    "\n",
    "# Define the displacement factor \n",
    "displacement_factor = 2.2"
   ]
  },
  {
   "cell_type": "code",
   "execution_count": null,
   "id": "746b7177-326c-45ce-b7a5-e33fb0897abb",
   "metadata": {
    "tags": []
   },
   "outputs": [],
   "source": [
    "def cmp_c_ss(fm, path, expr, yname, half_life_solid_wood=half_life_solid_wood, half_life_paper=half_life_paper, proportion_solid_wood=proportion_solid_wood, mask=None):\n",
    "    \"\"\"\n",
    "    Compile objective function coefficient for total system carbon stock indicators (given ForestModel instance, \n",
    "    leaf-to-root-node path, and expression to evaluate).\n",
    "    \"\"\"\n",
    "    result = 0.\n",
    "    \n",
    "    # Calculate decay rates based on half-lives\n",
    "    k_solid_wood = math.log(2) / half_life_solid_wood  # Decay rate for solid wood products (30-year half-life)\n",
    "    k_paper = math.log(2) / half_life_paper  # Decay rate for paper (2-year half-life)\n",
    "    \n",
    "    # Define the allocation distribution\n",
    "    proportion_paper = 1 - proportion_solid_wood\n",
    "    \n",
    "    # wood density (Kennedy, 1965)\n",
    "    wood_density = 460\n",
    "\n",
    "    # carbon content\n",
    "    carbon_content = 0.5\n",
    "    \n",
    "    # k_solid_wood = 0 # Decay rate for solid wood products (0-year half-life)\n",
    "    # k_paper = 0 # Decay rate for paper (0-year half-life)\n",
    "    \n",
    "    product_stock_dict = {}  # Dictionary to track product stock for each node across iterations\n",
    "    \n",
    "    for t, n in enumerate(path, start=1):\n",
    "\n",
    "        d = n.data()\n",
    "        node_id = id(n)  # or another unique identifier specific to your application\n",
    "        \n",
    "        # Track the ecosystem carbon stock\n",
    "        if mask and not fm.match_mask(mask, d['_dtk']): continue\n",
    "        result = fm.inventory(t, yname, age=d['_age'], dtype_keys=[d['_dtk']])\n",
    "        \n",
    "        # Retrieve the last tuple of stocks from the dictionary\n",
    "        last_stocks = next(reversed(product_stock_dict.values()), (0, 0))\n",
    "        old_product_stock_solid_wood, old_product_stock_paper = last_stocks\n",
    "        \n",
    "        if fm.is_harvest(d['acode']):\n",
    "            # Calculate new product stock\n",
    "            new_product_carbon = fm.compile_product(t, expr, d['acode'], [d['dtk']], d['age'], coeff=False) * wood_density * carbon_content / 1000 # Convert kg to ton\n",
    "            new_product_stock_solid_wood = new_product_carbon * proportion_solid_wood\n",
    "            new_product_stock_paper = new_product_carbon * proportion_paper \n",
    "\n",
    "            # Apply decay to old stocks and add new stocks\n",
    "            sum_product_stock_solid_wood = old_product_stock_solid_wood * (1 - k_solid_wood)**10 + new_product_stock_solid_wood * (1 - k_solid_wood)**10\n",
    "            sum_product_stock_paper = old_product_stock_paper * (1 - k_paper)**10 + new_product_stock_paper * (1 - k_paper)**10\n",
    "        \n",
    "        else:\n",
    "            # If not harvesting, simply apply decay to the old product stocks\n",
    "            sum_product_stock_solid_wood = old_product_stock_solid_wood * (1 - k_solid_wood)\n",
    "            sum_product_stock_paper = old_product_stock_paper * (1 - k_paper)\n",
    "            \n",
    "        # Update product_stock_dict with the new sum product stocks for this node\n",
    "        product_stock_dict[node_id] = (sum_product_stock_solid_wood, sum_product_stock_paper)\n",
    "\n",
    "        sum_product_stock = sum_product_stock_solid_wood + sum_product_stock_paper\n",
    "        result += sum_product_stock\n",
    "        \n",
    "    return result"
   ]
  },
  {
   "cell_type": "code",
   "execution_count": null,
   "id": "5cb4bfac-2354-4062-8bf9-e609fedbdd6a",
   "metadata": {
    "tags": []
   },
   "outputs": [],
   "source": [
    "def cmp_c_se(fm, path, expr, yname, half_life_solid_wood=half_life_solid_wood, half_life_paper=half_life_paper, proportion_solid_wood=proportion_solid_wood, displacement_factor=displacement_factor, mask=None):\n",
    "    \"\"\"\n",
    "    Compile objective function coefficient for net system carbon emission indicators (given ForestModel instance, \n",
    "    leaf-to-root-node path, and expression to evaluate).\n",
    "    \"\"\"\n",
    "    result = 0.\n",
    "    \n",
    "   # Calculate decay rates based on half-lives\n",
    "    k_solid_wood = math.log(2) / half_life_solid_wood  # Decay rate for solid wood products (30-year half-life)\n",
    "    k_paper = math.log(2) / half_life_paper  # Decay rate for paper (2-year half-life)\n",
    "    \n",
    "    # Define the allocation distribution\n",
    "    proportion_paper = 1 - proportion_solid_wood\n",
    "    \n",
    "    # wood density (Kennedy, 1965)\n",
    "    wood_density = 460 #kg/m^3\n",
    "\n",
    "    # carbon content\n",
    "    carbon_content = 0.5\n",
    "    \n",
    "    product_stock_dict = {}  # Dictionary to track product stock for each node across iterations\n",
    "\n",
    "    for t, n in enumerate(path, start=1):\n",
    "\n",
    "        d = n.data()\n",
    "        node_id = id(n)  # or another unique identifier specific to your application\n",
    "        \n",
    "        # Track the ecosystem carbon stock change\n",
    "        if mask and not fm.match_mask(mask, d['_dtk']): continue\n",
    "        result += (fm.inventory(t-1, yname, age=d['_age'], dtype_keys=[d['_dtk']])-fm.inventory(t, yname, age=d['_age'], dtype_keys=[d['_dtk']]))*44/12\n",
    "        \n",
    "        # Retrieve the last tuple of stocks from the dictionary\n",
    "        last_stocks = next(reversed(product_stock_dict.values()), (0, 0))\n",
    "        old_product_stock_solid_wood, old_product_stock_paper = last_stocks\n",
    "        \n",
    "        if fm.is_harvest(d['acode']):\n",
    "            # Calculate new product stock\n",
    "            new_product_stock = fm.compile_product(t, expr, d['acode'], [d['dtk']], d['age'], coeff=False) * wood_density * carbon_content / 1000 # Convert kg to ton\n",
    "            new_product_stock_solid_wood = new_product_stock * proportion_solid_wood\n",
    "            new_product_stock_paper = new_product_stock * proportion_paper \n",
    "\n",
    "            # Apply decay to old stocks and add new stocks\n",
    "            sum_product_stock_solid_wood = old_product_stock_solid_wood * (1 - k_solid_wood)**10 + new_product_stock_solid_wood * (1 - k_solid_wood)**10\n",
    "            sum_product_stock_paper = old_product_stock_paper * (1 - k_paper)**10 + new_product_stock_paper * (1 - k_paper)**10\n",
    "            \n",
    "            sum_product_emission_solid_wood = (old_product_stock_solid_wood * k_solid_wood**10 + new_product_stock_solid_wood * k_solid_wood**10)*44/12\n",
    "            sum_product_emission_paper = (old_product_stock_paper * k_paper**10 + new_product_stock_paper * k_paper**10)*44/12\n",
    "\n",
    "            # Update product_stock_dict with the new sum product stocks for this node\n",
    "            product_stock_dict[node_id] = (sum_product_stock_solid_wood, sum_product_stock_paper)\n",
    "            \n",
    "            sum_product_emission = sum_product_emission_solid_wood + sum_product_emission_paper # Convert C to CO2\n",
    "            \n",
    "            substitution_effect = new_product_stock_solid_wood*displacement_factor*44/12*-1 # negative emission aviod by displacing high GHG-intensive materials and products with HWPs \n",
    "           \n",
    "            result -= new_product_stock*44/12 # Aviod double-accounting the HWPs carbon emissions\n",
    "            result += sum_product_emission\n",
    "            result += substitution_effect\n",
    "        \n",
    "        else:\n",
    "            # If not harvesting, simply apply decay to the old product stocks\n",
    "            sum_product_stock_solid_wood = old_product_stock_solid_wood * (1 - k_solid_wood)**10\n",
    "            sum_product_stock_paper = old_product_stock_paper * (1 - k_paper)**10\n",
    "            \n",
    "            sum_product_emission_solid_wood = old_product_stock_solid_wood * k_solid_wood*44/12\n",
    "            sum_product_emission_paper = old_product_stock_paper * k_paper*44/12\n",
    "\n",
    "            # Update product_stock_dict with the new sum product stocks for this node\n",
    "            product_stock_dict[node_id] = (sum_product_stock_solid_wood, sum_product_stock_paper)\n",
    "\n",
    "            sum_product_emission = sum_product_emission_solid_wood + sum_product_emission_paper\n",
    "            result += sum_product_emission\n",
    "\n",
    "    return result"
   ]
  },
  {
   "cell_type": "code",
   "execution_count": null,
   "id": "d72dea34-d135-475e-8300-7deb75fad595",
   "metadata": {
    "tags": []
   },
   "outputs": [],
   "source": [
    "# Build the function to track and report total system carbon stock"
   ]
  },
  {
   "cell_type": "code",
   "execution_count": null,
   "id": "ad39ddf4-8548-4e9f-b38d-233716b1596f",
   "metadata": {
    "tags": []
   },
   "outputs": [],
   "source": [
    "def track_system_stock(fm, half_life_solid_wood=half_life_solid_wood, half_life_paper=half_life_paper, proportion_solid_wood=proportion_solid_wood):\n",
    "    \n",
    "    product_stock_dict = {}\n",
    "    solid_wood_stock_list = []\n",
    "    paper_stock_list = []\n",
    "    product_stock_list = []\n",
    "    ecosystem_stock_list = []\n",
    "    system_stock_list = []\n",
    "\n",
    "    # Calculate decay rates based on half-lives\n",
    "    k_solid_wood = math.log(2) / half_life_solid_wood\n",
    "    k_paper = math.log(2) / half_life_paper\n",
    "\n",
    "    # Define the allocation distribution\n",
    "    proportion_paper = 1-proportion_solid_wood\n",
    "\n",
    "    # Constants\n",
    "    wood_density = 460 #(Kennedy, 1965)\n",
    "    carbon_content = 0.5\n",
    "\n",
    "    for period in fm.periods:\n",
    "        # Get old product stocks\n",
    "        last_stocks = next(reversed(product_stock_dict.values()), (0, 0))\n",
    "        old_product_stock_solid_wood, old_product_stock_paper = last_stocks\n",
    "\n",
    "        # Calculate new product stocks\n",
    "        new_product_stock = fm.compile_product(period, 'totvol * 0.85', acode='harvest')* wood_density * carbon_content / 1000 # Convert kg to ton\n",
    "        new_product_stock_solid_wood = new_product_stock * proportion_solid_wood\n",
    "        new_product_stock_paper = new_product_stock * proportion_paper \n",
    "\n",
    "        # Apply decay to all stocks within the same period they're produced\n",
    "        sum_product_stock_solid_wood = (old_product_stock_solid_wood + new_product_stock_solid_wood) * (1 - k_solid_wood)**10\n",
    "        sum_product_stock_paper = (old_product_stock_paper + new_product_stock_paper) * (1 - k_paper)**10\n",
    "\n",
    "        # Update product_stock_dict for this period\n",
    "        product_stock_dict[period] = (sum_product_stock_solid_wood, sum_product_stock_paper)\n",
    "\n",
    "        # Calculate total system carbon stock\n",
    "        sum_product_stock = sum_product_stock_solid_wood + sum_product_stock_paper\n",
    "        ecosystem_stock = fm.inventory(period, 'ecosystem')\n",
    "        total_system_stock = ecosystem_stock + sum_product_stock\n",
    "\n",
    "        # Update stock lists for this period\n",
    "        solid_wood_stock_list.append(sum_product_stock_solid_wood)\n",
    "        paper_stock_list.append(sum_product_stock_paper)\n",
    "        product_stock_list.append(sum_product_stock)\n",
    "        ecosystem_stock_list.append(ecosystem_stock)\n",
    "        system_stock_list.append(total_system_stock)\n",
    "\n",
    "    # Prepare data for plotting\n",
    "    data = {\n",
    "        'period': fm.periods,\n",
    "        'solid_wood': solid_wood_stock_list,\n",
    "        'paper': paper_stock_list,\n",
    "        'sum_product': product_stock_list,\n",
    "        'ecosystem': ecosystem_stock_list,\n",
    "        'system': system_stock_list\n",
    "    }\n",
    "\n",
    "    df = pd.DataFrame(data)\n",
    "\n",
    "    # Plotting\n",
    "    fig, ax = plt.subplots(1, 5, figsize=(16, 4))  # Adjusted for 5 subplots\n",
    "    ax[0].bar(df.period, df.solid_wood)\n",
    "    ax[0].set_title('Solid Wood Product C Stock')\n",
    "    ax[1].bar(df.period, df.paper)\n",
    "    ax[1].set_title('Paper Product C Stock')\n",
    "    ax[2].bar(df.period, df.sum_product)\n",
    "    ax[2].set_title('Total Product C Stock')\n",
    "    ax[3].bar(df.period, df.ecosystem)\n",
    "    ax[3].set_title('Ecosystem C Stock')\n",
    "    ax[4].bar(df.period, df.system)\n",
    "    ax[4].set_title('Total System C Stock')\n",
    "\n",
    "    for a in ax:\n",
    "        a.set_ylim(None, None)\n",
    "        a.set_xlabel('Period')\n",
    "        a.set_ylabel('Stock (tons)')\n",
    "\n",
    "    plt.tight_layout()\n",
    "    return fig, ax, df"
   ]
  },
  {
   "cell_type": "code",
   "execution_count": null,
   "id": "2d62ff0d-7423-4957-8dc0-af8731d21032",
   "metadata": {
    "tags": []
   },
   "outputs": [],
   "source": [
    "def track_system_emission(fm, half_life_solid_wood=half_life_solid_wood, half_life_paper=half_life_paper, proportion_solid_wood=proportion_solid_wood, displacement_factor=displacement_factor):\n",
    "    \n",
    "    product_stock_dict = {}\n",
    "    solid_wood_emission_list = []\n",
    "    paper_emission_list = []\n",
    "    product_emission_list = []\n",
    "    ecosystem_emission_list = []\n",
    "    system_emission_list = []\n",
    "\n",
    "    # Calculate decay rates based on half-lives\n",
    "    k_solid_wood = math.log(2) / half_life_solid_wood\n",
    "    k_paper = math.log(2) / half_life_paper\n",
    "\n",
    "    # Define the allocation distribution\n",
    "    proportion_paper = 1-proportion_solid_wood\n",
    "\n",
    "    # Constants\n",
    "    wood_density = 460 #(Kennedy, 1965)\n",
    "    carbon_content = 0.5\n",
    "    \n",
    "    for period in fm.periods:\n",
    "        # Get old product emissions\n",
    "        last_stocks = next(reversed(product_stock_dict.values()), (0, 0))\n",
    "        old_product_stock_solid_wood, old_product_stock_paper = last_stocks\n",
    "\n",
    "        # Calculate new product emissions\n",
    "        new_product_stock = fm.compile_product(period, 'totvol * 0.85', acode='harvest') * wood_density * carbon_content / 1000 # convert the unit from kg to ton\n",
    "        new_product_stock_solid_wood = new_product_stock * proportion_solid_wood\n",
    "        new_product_stock_paper = new_product_stock * proportion_paper\n",
    "\n",
    "        # Apply decay to all emissions within the same period they're produced\n",
    "        sum_product_stock_solid_wood = (old_product_stock_solid_wood + new_product_stock_solid_wood) * (1 - k_solid_wood)\n",
    "        sum_product_stock_paper = (old_product_stock_paper + new_product_stock_paper) * (1 - k_paper)\n",
    "\n",
    "        sum_product_emission_solid_wood = (old_product_stock_solid_wood + new_product_stock_solid_wood) * k_solid_wood * 44 / 12 # Convert C to CO2\n",
    "        sum_product_emission_paper = (old_product_stock_paper + new_product_stock_paper) * k_paper * 44 / 12 # Convert C to CO2\n",
    "        \n",
    "        # Update product_emission_dict for this period\n",
    "        product_stock_dict[period] = (sum_product_stock_solid_wood, sum_product_stock_paper)\n",
    "\n",
    "        # Calculate total system carbon emission\n",
    "        sum_product_emission = sum_product_emission_solid_wood + sum_product_emission_paper\n",
    "        ecosystem_emission = (fm.inventory(period-1, 'ecosystem') - fm.inventory(period, 'ecosystem') - new_product_stock) * 44 / 12 if period > 0 else 0\n",
    "        substitution_effect = new_product_stock_solid_wood*displacement_factor*44/12*-1 # negative emission aviod by displacing high GHG-intensive materials and products with HWPs \n",
    "        total_system_emission = ecosystem_emission + sum_product_emission + substitution_effect\n",
    "        \n",
    "        # Update stock lists for this period\n",
    "        solid_wood_emission_list.append(sum_product_emission_solid_wood)\n",
    "        paper_emission_list.append(sum_product_emission_paper)\n",
    "        product_emission_list.append(sum_product_emission)\n",
    "        ecosystem_emission_list.append(ecosystem_emission)\n",
    "        system_emission_list.append(total_system_emission)\n",
    "\n",
    "    # Prepare data for plotting\n",
    "    data = {\n",
    "        'period': fm.periods,\n",
    "        'solid_wood': solid_wood_emission_list,\n",
    "        'paper': paper_emission_list,\n",
    "        'sum_product': product_emission_list,\n",
    "        'ecosystem': ecosystem_emission_list,\n",
    "        'system': system_emission_list\n",
    "    }\n",
    "\n",
    "    df = pd.DataFrame(data)\n",
    "\n",
    "    # Plotting\n",
    "    fig, ax = plt.subplots(1, 5, figsize=(16, 4))  # Adjusted for 5 subplots\n",
    "    ax[0].bar(df.period, df.solid_wood)\n",
    "    ax[0].set_title('Solid Wood Product CO2 Emission')\n",
    "    ax[1].bar(df.period, df.paper)\n",
    "    ax[1].set_title('Paper Product CO2 Emission')\n",
    "    ax[2].bar(df.period, df.sum_product)\n",
    "    ax[2].set_title('Total Product CO2 Emission')\n",
    "    ax[3].bar(df.period, df.ecosystem)\n",
    "    ax[3].set_title('Ecosystem CO2 Emission')\n",
    "    ax[4].bar(df.period, df.system)\n",
    "    ax[4].set_title('Total System CO2 Emission')\n",
    "\n",
    "    for a in ax:\n",
    "        a.set_ylim(None, None)\n",
    "        a.set_xlabel('Period')\n",
    "        a.set_ylabel('Emission (tons)')\n",
    "\n",
    "    plt.tight_layout()\n",
    "    return fig, ax, df"
   ]
  },
  {
   "cell_type": "markdown",
   "id": "893f7d50-151b-4ad9-aef3-0c1dd18ff620",
   "metadata": {
    "tags": []
   },
   "source": [
    "## Implement Optimization-based Action Scheduling"
   ]
  },
  {
   "cell_type": "code",
   "execution_count": null,
   "id": "7a786589-acb3-449b-b0f3-ce37fd4adb12",
   "metadata": {
    "tags": []
   },
   "outputs": [],
   "source": [
    "#Install Module\n",
    "%pip install gurobipy"
   ]
  },
  {
   "cell_type": "code",
   "execution_count": null,
   "id": "4c85bcb3-5d39-4be0-9f30-423593cb9673",
   "metadata": {
    "tags": []
   },
   "outputs": [],
   "source": [
    "#Import Module\n",
    "import gurobipy as grb"
   ]
  },
  {
   "cell_type": "markdown",
   "id": "3549cc50-7156-4c0f-a057-b60d4030f117",
   "metadata": {},
   "source": [
    "Add a \"null\" action to the model for the optimization functions to work correctly."
   ]
  },
  {
   "cell_type": "code",
   "execution_count": null,
   "id": "0c79d1bc-e34c-4e1e-8015-8b30a3deba1d",
   "metadata": {
    "tags": []
   },
   "outputs": [],
   "source": [
    "#Add a Null Action\n",
    "fm.add_null_action()"
   ]
  },
  {
   "cell_type": "markdown",
   "id": "69c22192-2014-40b5-877a-dca5d6c27c9a",
   "metadata": {},
   "source": [
    "Define base and other scenarios below. You can change you objective functions and constraints by modifying the scenarios directly."
   ]
  },
  {
   "cell_type": "code",
   "execution_count": null,
   "id": "39d493f6-0deb-4bb0-883e-b1cbe42dbfb4",
   "metadata": {
    "tags": []
   },
   "outputs": [],
   "source": [
    "def cmp_c_z(fm, path, expr):\n",
    "    \"\"\"\n",
    "    Compile objective function coefficient (given ForestModel instance, \n",
    "    leaf-to-root-node path, and expression to evaluate).\n",
    "    \"\"\"\n",
    "    result = 0.\n",
    "    for t, n in enumerate(path, start=1):\n",
    "        d = n.data()\n",
    "        if fm.is_harvest(d['acode']):\n",
    "            result += fm.compile_product(t, expr, d['acode'], [d['dtk']], d['age'], coeff=False)\n",
    "            # print('t')\n",
    "            # print(result)\n",
    "    return result\n",
    "\n",
    "def cmp_c_cflw(fm, path, expr, mask=None): # product, all harvest actions\n",
    "    \"\"\"\n",
    "    Compile flow constraint coefficient for product indicator (given ForestModel \n",
    "    instance, leaf-to-root-node path, expression to evaluate, and optional mask).\n",
    "    \"\"\"\n",
    "    result = {}\n",
    "    for t, n in enumerate(path, start=1):\n",
    "        d = n.data()\n",
    "        if mask and not fm.match_mask(mask, d['dtk']): continue\n",
    "        if fm.is_harvest(d['acode']):\n",
    "            result[t] = fm.compile_product(t, expr, d['acode'], [d['dtk']], d['age'], coeff=False)\n",
    "    return result\n",
    "\n",
    "\n",
    "def cmp_c_caa(fm, path, expr, acodes, mask=None): # product, named actions\n",
    "    \"\"\"\n",
    "    Compile constraint coefficient for product indicator (given ForestModel \n",
    "    instance, leaf-to-root-node path, expression to evaluate, list of action codes, \n",
    "    and optional mask).\n",
    "    \"\"\"\n",
    "    result = {}\n",
    "    for t, n in enumerate(path, start=1):\n",
    "        d = n.data()\n",
    "        if mask and not fm.match_mask(mask, d['dtk']): continue\n",
    "        if d['acode'] in acodes:\n",
    "            result[t] = fm.compile_product(t, expr, d['acode'], [d['dtk']], d['age'], coeff=False)\n",
    "    return result\n",
    "\n",
    "\n",
    "def cmp_c_ci(fm, path, yname, mask=None): # product, named actions\n",
    "    \"\"\"\n",
    "    Compile constraint coefficient for inventory indicator (given ForestModel instance, \n",
    "    leaf-to-root-node path, expression to evaluate, and optional mask).\n",
    "    \"\"\"\n",
    "    result = {}\n",
    "    for t, n in enumerate(path, start=1):\n",
    "        d = n.data()\n",
    "        if mask and not fm.match_mask(mask, d['_dtk']): continue\n",
    "        result[t] = fm.inventory(t, yname=yname, age=d['_age'], dtype_keys=[d['_dtk']]) \n",
    "        #result[t] = fm.inventory(t, yname=yname, age=d['age'], dtype_keys=[d['dtk']]) \n",
    "    return result"
   ]
  },
  {
   "cell_type": "code",
   "execution_count": null,
   "id": "03090d47-5074-4711-a156-fc232f8ea9bd",
   "metadata": {
    "tags": []
   },
   "outputs": [],
   "source": [
    "def cmp_c_i(fm, path, yname, mask=None): # product, named actions\n",
    "    \"\"\"\n",
    "    Compile objective function coefficient for inventory indicators (given ForestModel instance, \n",
    "    leaf-to-root-node path, and expression to evaluate).\n",
    "    \"\"\"\n",
    "    result = 0.\n",
    "    for t, n in enumerate(path, start=1):\n",
    "        d = n.data()\n",
    "        if mask and not fm.match_mask(mask, d['_dtk']): continue\n",
    "        result = fm.inventory(t, yname=yname, age=d['_age'], dtype_keys=[d['_dtk']])\n",
    "        #result[t] = fm.inventory(t, yname=yname, age=d['age'], dtype_keys=[d['dtk']])\n",
    "    return result"
   ]
  },
  {
   "cell_type": "code",
   "execution_count": null,
   "id": "617fbd02-141f-4874-a33a-ef4c93622a7f",
   "metadata": {
    "tags": []
   },
   "outputs": [],
   "source": [
    "def cmp_c_id(fm, path, yname, mask=None): # product, named actions\n",
    "    \"\"\"\n",
    "    Compile objective function coefficient for inventory indicators (given ForestModel instance, \n",
    "    leaf-to-root-node path, and expression to evaluate).\n",
    "    \"\"\"\n",
    "    result = 0.\n",
    "    for t, n in enumerate(path, start=1):\n",
    "        d = n.data()\n",
    "        if mask and not fm.match_mask(mask, d['_dtk']): continue\n",
    "        if t==1:\n",
    "            result = 0.\n",
    "        else:\n",
    "            result += (fm.inventory(t, yname, age=d['_age'], dtype_keys=[d['_dtk']])-fm.inventory(t-1, yname, age=d['_age'], dtype_keys=[d['_dtk']]))\n",
    "        #result[t] = fm.inventory(t, yname=yname, age=d['age'], dtype_keys=[d['dtk']])\n",
    "    return result"
   ]
  },
  {
   "cell_type": "markdown",
   "id": "51768f85-09a3-450e-8d45-1465728c2f8a",
   "metadata": {
    "tags": []
   },
   "source": [
    "Define a generic base scenario function, and link it to a dispatch function keyed on scenario name string (e.g., `base`). \n",
    "\n",
    "Note how we use `functools.partial` to specialize the more general functions defined above for use in the `coeff_funcs` arg of `ForestModel.add_problem`. Otherwise we would have to define an entirely new function each time we defined a slightly different objective or constraint in one of our scenarios, which would get tedious and messy. The tedium and mess would be more evident if we had a large number of alternative scenarios defined in the same notebook (which we do not here, but use your imagination). \n",
    "\n",
    "Note also that the expected data structures for the various args to `ForestModel.add_problem` must be matched exactly or `ws3` will likely crash somewhere in one of the series of complicated private optimization model-building methods that get called from `ForestModel.add_problem`. You _should not_ have to unpack the exact logic of this model-building code to figure out why your model is crashing... it really is quite complicated and hard to follow. If you model is crashing there, you probably fed invalid (or incorrectly structured) args to `ForestModel.add_problem`. Carefully review the structure and values of your args to find the problem. I left some notes below (and some comments in the `_gen_scen_base` function code) to help clarify the expected arg structure, and will work on expanding the docstrings in the `ws3` source code so this is less obscure going forward.\n",
    "\n",
    "I also had to patch the `ws3` code in two places so that it would \"grow\" correctly with the model set up to use _years_ as the age unit. For some reason the latest `dev` branch of `ws3` on GitHub was in some sort of intermediate state between using _periods_ and _years_ as the age unit. Originally `ws3` was implemented to import and simulate legacy Woodstock model input datasets, so it used _periods_ as the age unit (like Woodstock). At some point I think I hastily patched `ws3` to use _years_ as the age unit to make it work with `spades_ws3` for specific projects that needed to get done and delivered... if I recall we set the period length to 1 year for all those projects so it \"just worked\", but now we have a bit of a mess. Oops. Ultimately, I will need to revert `ws3` back to using Woodstock-compatible _period_ age unit (but make sure that the `spatial` module can still spatially and temporally disaggregate the aspatial periodic solutions from the Model I LP optimization problems into year-length time slices (maybe with age optionally expressed in years in output from this, for compatibility with downstream linked models like `SpaDES`). This is just a side-effect of many iterations of re-purposing `ws3` to work in a long (ad hoc) sequence of real research projects that had very specific input and output data specs. It is actually remarkable that `ws3` is not _more_ of a mess than it currently is, given the history and essentially null development budget. Use"
   ]
  },
  {
   "cell_type": "markdown",
   "id": "3ee81f8c-b03c-4cdb-833e-084b999c4126",
   "metadata": {},
   "source": [
    "`ForestModel.add_problem` arg specs are described below.\n",
    "\n",
    "`name`: String. Used as key to store `Problem` instances in a dict in the `ForestModel` instanace, so make sure it is unique within a given model or you will overwrite dict values (assuming you want to stuff multiple problems, and their solutions, into your model at the same time). \n",
    "    \n",
    "`coeff_funcs`: Dict of function references, keyed on _row name_ strings. These are the functions that generate the LP optimization problem matrix coefficients (for the objective function and constraint rows). This one gets complicated, and is a likely source of bugs. Make sure the row name key strings are all unique or you will make a mess. You can name the constraint rows anything you want, but the objective function row has to be named `z`. All coefficient functions must accept exactly two args, in this order: a `ws3.forest.ForestModel` instance and a `ws3.common.Path` instance. The `z` coefficient function is special in that it must return a single float value. All other (i.e., constraint) coefficient functions just return a dict of floats, keyed on period ints (can be sparse, i.e., not necessary to include key:value pairs in output dict if value is 0.0). It is useful (but not necessary) to use `functools.partial` to specialize a smaller number of more general function definitions (with more args, that get \"locked down\" and hidden by `partial`) as we have done in the example in this notebook.\n",
    "\n",
    "`cflw_e`: Dict of `(dict, int)` tuples, keyed on _row name_ strings (must match _row name_ key values used to define coefficient functions for flow constraints in `coeff_func` dict), where the int:float dict embedded in the tuple defines epsilon values keyed on periods (must include all periods, even if epsilon value is always the same). See example below. \n",
    "\n",
    "```\n",
    "{\n",
    "  'cflw_acut':({1:0.01, 2:0.01, ..., 10:0.01}, 1),\n",
    "  'cflw_vcut':({1:0.05, 2:0.05, ..., 10:0.05}, 1)\n",
    "}\n",
    "```\n",
    "\n",
    "`cgen_data`: Dict of dict of dicts. The outer-level dict is keyed on _row name_ strings (must match row names used in `coeff_funcs`. The middle second level of dicts always has keys `'lb'` and `'ub'`, and the inner level of dicts specifies lower- and upper-bound general constraint RHS (float) values, keyed on period (int).\n",
    "\n",
    "`acodes`: List of strings. Action codes to be included in optimization problem formulation (actions must defined in the `ForestModel` instance, but can be only a subset).\n",
    "\n",
    "`sense`: Must be one of `ws3.opt.SENSE_MAXIMIZE` or `ws3.opt.SENSE_MINIMIZE`.\n",
    "\n",
    "`mask`: Tuple of strings constituting a valid mask for your `ForestModel` instance. Can be `None` if you do not want to filter `DevelopmentType` instances."
   ]
  },
  {
   "cell_type": "code",
   "execution_count": null,
   "id": "96e349be-472f-47cf-a5e5-b90b4057f6c0",
   "metadata": {
    "tags": []
   },
   "outputs": [],
   "source": [
    "##### Define Gen_scenario Function\n",
    "def gen_scenario(fm, name='base', util=0.85, harvest_acode='harvest',\n",
    "                 cflw_ha={}, cflw_hv={}, \n",
    "                 cgen_ha={}, cgen_hv={}, \n",
    "                 cgen_gs={}, tvy_name='totvol', cp_name='ecosystem', cf_name='total_emissions', obj_mode='max_hv', mask=None):\n",
    "    \n",
    "    from functools import partial\n",
    "    import numpy as np\n",
    "    coeff_funcs = {}\n",
    "    cflw_e = {}\n",
    "    cgen_data = {}\n",
    "    acodes = ['null', harvest_acode] # define list of action codes\n",
    "    vexpr = '%s * %0.2f' % (tvy_name, util) # define volume expression\n",
    "    \n",
    "    if obj_mode == 'max_hv': # maximize harvest volume\n",
    "        sense = ws3.opt.SENSE_MAXIMIZE \n",
    "        zexpr = vexpr\n",
    "    elif obj_mode == 'min_hv': # maximize harvest volume\n",
    "        sense = ws3.opt.SENSE_MINIMIZE \n",
    "        zexpr = vexpr\n",
    "    else:\n",
    "        raise ValueError('Invalid obj_mode: %s' % obj_mode)\n",
    "        \n",
    "    # coeff_funcs['z'] = partial(cmp_c_i, yname=cf_name) # define objective function coefficient function for inventory data\n",
    "    # coeff_funcs['z'] = partial(cmp_c_id, yname=cf_name) # define objective function coefficient function for inventory change data\n",
    "    # coeff_funcs['z'] = partial(cmp_c_z, expr=vexpr) # define objective function coefficient function for havrest volume\n",
    "    coeff_funcs['z'] = partial(cmp_c_ss, expr=vexpr, yname=cp_name) # define objective function coefficient function for total system carbon stock\n",
    "    # coeff_funcs['z'] = partial(cmp_c_se, expr=vexpr, yname=cp_name) # define objective function coefficient function for net system carbon emission\n",
    "    T = fm.periods\n",
    "    if cflw_ha: # define even flow constraint (on harvest area)\n",
    "        cname = 'cflw_ha'\n",
    "        coeff_funcs[cname] = partial(cmp_c_caa, expr='1.', acodes=[harvest_acode], mask=None) \n",
    "        cflw_e[cname] = cflw_ha\n",
    "    if cflw_hv: # define even flow constraint (on harvest volume)\n",
    "        cname = 'cflw_hv'\n",
    "        coeff_funcs[cname] = partial(cmp_c_caa, expr=vexpr, acodes=[harvest_acode], mask=None) \n",
    "        # cflw_e[cname] = cflw_hv         \n",
    "    if cgen_ha: # define general constraint (harvest area)\n",
    "        cname = 'cgen_ha'\n",
    "        coeff_funcs[cname] = partial(cmp_c_caa, expr='1.', acodes=[harvest_acode], mask=None) \n",
    "        cgen_data[cname] = cgen_ha\n",
    "    if cgen_hv: # define general constraint (harvest volume)\n",
    "        cname = 'cgen_hv'\n",
    "        coeff_funcs[cname] = partial(cmp_c_caa, expr=vexpr, acodes=[harvest_acode], mask=None) \n",
    "        cgen_data[cname] = cgen_hv\n",
    "    if cgen_gs: # define general constraint (growing stock)\n",
    "        cname = 'cgen_gs'\n",
    "        coeff_funcs[cname] = partial(cmp_c_ci, yname=tvy_name, mask=None)\n",
    "        cgen_data[cname] = cgen_gs\n",
    "    # if cgen_cp: # define general constraint (carbon pools)\n",
    "    #     cname = 'cgen_cp'\n",
    "    #     coeff_funcs[cname] = partial(cmp_c_ci, yname=cp_name, mask=None)\n",
    "    #     cgen_data[cname] = cgen_cp\n",
    "    # if cgen_cf: # define general constraint (carbon fluxes)\n",
    "    #     cname = 'cgen_cf'\n",
    "    #     coeff_funcs[cname] = partial(cmp_c_ci, yname=cf_name, mask=None)\n",
    "    #     cgen_data[cname] = cgen_cf\n",
    "    return fm.add_problem(name, coeff_funcs, cflw_e, cgen_data=cgen_data, acodes=acodes, sense=sense, mask=mask)"
   ]
  },
  {
   "cell_type": "code",
   "execution_count": null,
   "id": "56a0f34b-8f4c-460d-a93c-fe543bedc3b9",
   "metadata": {
    "tags": []
   },
   "outputs": [],
   "source": [
    "# Define Run_scenario Function\n",
    "def run_scenario(fm, scenario_name='base'):\n",
    "    cflw_ha = {}\n",
    "    cflw_hv = {}\n",
    "    cgen_ha = {}\n",
    "    cgen_hv = {}\n",
    "    cgen_gs = {}\n",
    "    # cgen_cp = {}\n",
    "    # cgen_cf = {}\n",
    "    \n",
    "    # define harvest area and harvest volume even-flow constraints\n",
    "    cflw_ha = ({p:0.05 for p in fm.periods}, 1)\n",
    "    cflw_hv = ({p:0.05 for p in fm.periods}, 1)\n",
    "    \n",
    "    in_gs = 750290200. #initial growing stock volume\n",
    "    AAC = 6935023. # AAC of TSA24\n",
    "\n",
    "    if scenario_name == 'single_cut': \n",
    "        # Base scenario\n",
    "        print('running scenario')\n",
    "        cgen_hv = {'lb':{x:0.0 for x in [1, 2, 3, 4, 5, 6, 7, 8, 9, 11, 12, 13, 14, 15, 16, 17, 18, 19, 20]}, 'ub':{x:0.0 for x in [1, 2, 3, 4, 5, 6, 7, 8, 9, 11, 12, 13, 14, 15, 16, 17, 18, 19, 20]}} #Achieve the Annual Allowable Cut\n",
    "        # cgen_gs = {'lb':{10:in_gs*0.9}, 'ub':{10:in_gs*2}} #Not less than 90% of initial growing stock\n",
    "        # cgen_gs = {'lb':{10:in_gs*0.9}, 'ub':{10:in_gs*2}} #Not less than 90% of initial growing stock\n",
    "        # cgen_hv = {'lb':{x:AAC*0.5 for x in fm.periods}, 'ub':{x:AAC*1000 for x in fm.periods}} #Achieve the Annual Allowable Cu\n",
    "        # cgen_hv = {'lb':{10:in_gs*10}, 'ub':{10:in_gs*10+1}}\n",
    "    elif scenario_name == 'base': \n",
    "        # Base scenario\n",
    "        print('running base scenario')\n",
    "        cgen_gs = {'lb':{x:in_gs*0.9 for x in range(0,21)}, 'ub':{x:in_gs*2 for x in range(0,21)}} #Not less than 90% of initial growing stock\n",
    "        cgen_hv = {'lb':{x:AAC*0.9 for x in range(0,21)}, 'ub':{x:AAC for x in range(0,21)}} #Maintain the Annual Allowable Cut\n",
    "    elif scenario_name == 'base_m': \n",
    "        # Base scenario\n",
    "        print('running maxmizie harvest scenario')\n",
    "        # cgen_gs = {'lb':{x:in_gs*0.9 for x in range(0,21)}, 'ub':{x:in_gs*100 for x in range(0,21)}} #Not less than 90% of initial growing stock\n",
    "        # cgen_hv = {'lb':{20:AAC-1}, 'ub':{20:AAC}} #Achieve the Annual Allowable Cut\n",
    "    elif scenario_name == 'base_c': \n",
    "        # Cabron indicators constraints\n",
    "        print('running base scenario with even-flow constraints')\n",
    "        cgen_gs = {'lb':{10:in_gs*0.9}, 'ub':{10:in_gs*2}} #Not less than 90% of initial growing stock\n",
    "        cgen_hv = {'lb':{1:AAC*0.5}, 'ub':{1:AAC*2}}  #Not less than 10% of annual allowable cut\n",
    "        # cgen_cf = {'lb':{10:in_cf}, 'ub':{10:in_cf*1.1}} #Not more than 110% of initial total ecosystem carbon stock\n",
    "    elif scenario_name == 'reduce_10%_AAC': \n",
    "        # Reduce 10% of harvest volume from base scenario\n",
    "        print('running base scenario reduced 10% of AAC')\n",
    "        cgen_gs = {'lb':{10:in_gs*0.9}, 'ub':{10:in_gs*0.9+1}}#Not less than 90% of initial growing stock\n",
    "        cgen_hv = {'lb':{1:AAC*0.9-1}, 'ub':{1:AAC*0.9}}    \n",
    "    elif scenario_name == 'reduce_20%_AAC': \n",
    "        # Reduce 20% of harvest volume from base scenario\n",
    "        print('running base scenario reduced 20% of AAC')\n",
    "        cgen_gs = {'lb':{10:in_gs*0.9}, 'ub':{10:in_gs*0.9+1}} #Not less than 90% of initial growing stock\n",
    "        cgen_hv = {'lb':{1:AAC*0.8-1}, 'ub':{1:AAC*0.8}}   \n",
    "    elif scenario_name == 'increase_10%_AAC': \n",
    "        # Increase 10% of harvest volume from base scenario\n",
    "        print('running base scenario increased 10% of AAC')\n",
    "        cgen_gs = {'lb':{10:in_gs*0.9}, 'ub':{10:in_gs*0.9+1}} #Not less than 90% of initial growing stock\n",
    "        cgen_hv = {'lb':{1:AAC*1.1-1}, 'ub':{1:AAC*1.1}}\n",
    "    elif scenario_name == 'increase_20%_AAC': \n",
    "        # Increase 20% of harvest volume from base scenario\n",
    "        print('running base scenario increased 20% of AAC')\n",
    "        cgen_gs = {'lb':{10:in_gs*0.9}, 'ub':{10:in_gs*0.9+1}} #Not less than 90% of initial growing stock\n",
    "        cgen_hv = {'lb':{1:AAC*1.2-1}, 'ub':{1:AAC*1.2}}   \n",
    "    else:\n",
    "        assert False # bad scenario name\n",
    "      \n",
    "    # p = gen_scenario(fm=fm, \n",
    "    #                  name=scenario_name, \n",
    "    #                  cflw_ha=cflw_ha, \n",
    "    #                  cflw_hv=cflw_hv,\n",
    "    #                  cgen_ha=cgen_ha,\n",
    "    #                  cgen_hv=cgen_hv,\n",
    "    #                  cgen_gs=cgen_gs)\n",
    "    \n",
    "    p = gen_scenario(fm=fm, \n",
    "                     name=scenario_name, \n",
    "                     cflw_ha=cflw_ha, \n",
    "                     cflw_hv=cflw_hv,\n",
    "                     cgen_ha=cgen_ha,\n",
    "                     cgen_hv=cgen_hv,\n",
    "                     cgen_gs=cgen_gs,)\n",
    "\n",
    "    # fm.reset()\n",
    "    m = p.solve()\n",
    "\n",
    "    if m.status != grb.GRB.OPTIMAL:\n",
    "        print('Model not optimal.')\n",
    "        # sys.exit()\n",
    "        \n",
    "    sch = fm.compile_schedule(p)\n",
    "    fm.apply_schedule(sch, \n",
    "                      force_integral_area=False, \n",
    "                      override_operability=False,\n",
    "                      fuzzy_age=False,\n",
    "                      recourse_enabled=False,\n",
    "                      verbose=False,\n",
    "                      compile_c_ycomps=True)\n",
    "    \n",
    "    from util import compile_scenario, plot_scenario\n",
    "    df = compile_scenario(fm)\n",
    "    fig, ax = plot_scenario(df)\n",
    "    # cbm_results = cbm_hardlink(fm,disturbance_type_mapping)\n",
    "    \n",
    "    return fig, df, p"
   ]
  },
  {
   "cell_type": "markdown",
   "id": "84d13ec4-150c-4e9d-a747-9700c74d9bf7",
   "metadata": {
    "tags": []
   },
   "source": [
    "## Define Report and Compare Functions"
   ]
  },
  {
   "cell_type": "code",
   "execution_count": null,
   "id": "8d5ccb41-28fc-4514-8d87-fd2867a37e23",
   "metadata": {
    "tags": []
   },
   "outputs": [],
   "source": [
    "def cbm_report(fm, cbm_output, biomass_pools, dom_pools, fluxes, gross_growth):\n",
    "    # Add carbon pools indicators \n",
    "    pi = cbm_output.classifiers.to_pandas().merge(cbm_output.pools.to_pandas(), \n",
    "                                                  left_on=[\"identifier\", \"timestep\"], \n",
    "                                                  right_on=[\"identifier\", \"timestep\"])\n",
    "\n",
    "    annual_carbon_stock = pd.DataFrame({'Year': pi['timestep'],\n",
    "                                         'Biomass': pi[biomass_pools].sum(axis=1),\n",
    "                                         'DOM': pi[dom_pools].sum(axis=1),\n",
    "                                         'Ecosystem': pi[biomass_pools + dom_pools].sum(axis=1)})\n",
    "    \n",
    "    annual_product_stock = pd.DataFrame({'Year': pi['timestep'],\n",
    "                                         'Product': pi['Products']})\n",
    "    \n",
    "    annual_stock_change = annual_carbon_stock[['Year', 'Ecosystem']].copy()\n",
    "    annual_stock_change['Stock_Change'] = annual_stock_change['Ecosystem'].diff()\n",
    "    annual_stock_change = annual_stock_change[['Year', 'Stock_Change']]\n",
    "    annual_stock_change.loc[annual_stock_change['Year'] == 0, 'Stock_Change'] = 0\n",
    "     \n",
    "    fi = cbm_output.classifiers.to_pandas().merge(cbm_output.flux.to_pandas(), \n",
    "                                                  left_on=[\"identifier\", \"timestep\"], \n",
    "                                                  right_on=[\"identifier\", \"timestep\"])\n",
    "    \n",
    "    annual_all_emission = pd.DataFrame({'Year': fi['timestep'],\n",
    "                                         'All_Emissions': fi[fluxes].sum(axis=1)})\n",
    "    \n",
    "    annual_gross_growth = pd.DataFrame({'Year': fi['timestep'],\n",
    "                                        'Gross_Growth': fi[gross_growth].sum(axis=1)})\n",
    "     \n",
    "    n_steps = fm.horizon * fm.period_length\n",
    "    annual_carbon_stock.groupby('Year').sum().plot(\n",
    "        figsize=(5, 5), xlim=(0, n_steps), ylim=(None, None), xlabel=\"Year\", ylabel=\"Stock (ton C)\",\n",
    "        title=\"Annual Carbon Stock\"\n",
    "    )\n",
    "\n",
    "    annual_all_emission.groupby('Year').sum().plot(\n",
    "        figsize=(5, 5), xlim=(0, n_steps), ylim=(None, None),\n",
    "        title=\"Annual Ecosystem Carbon Emission\", xlabel=\"Year\", ylabel=\"Stock (ton C)\"\n",
    "    )\n",
    "\n",
    "    annual_stock_change.groupby('Year').sum().plot(\n",
    "        figsize=(5, 5), xlim=(0, n_steps), ylim=(None, None),\n",
    "        title=\"Annual Ecosystem Carbon Stock Change\", xlabel=\"Year\", ylabel=\"tons of C\"\n",
    "    )\n",
    "\n",
    "    annual_gross_growth.groupby('Year').sum().plot(\n",
    "        figsize=(5, 5), xlim=(0, n_steps), ylim=(None, None),\n",
    "        title=\"Annual Forest Gross Growth\", xlabel=\"Year\", ylabel=\"tons of C\"\n",
    "    )\n",
    "\n",
    "    df_cs = annual_carbon_stock.groupby('Year').sum()\n",
    "    df_ae = annual_all_emission.groupby('Year').sum()\n",
    "    df_gg = annual_gross_growth.groupby('Year').sum()\n",
    "    df_sc = annual_stock_change.groupby('Year').sum()\n",
    "\n",
    "    # Correctly merging all dataframes\n",
    "    merged_df = pd.merge(pd.merge(pd.merge(df_cs, df_ae, left_index=True, right_index=True, how='outer'),\n",
    "                                  df_gg, left_index=True, right_index=True, how='outer'),\n",
    "                         df_sc, left_index=True, right_index=True, how='outer')\n",
    "\n",
    "    merged_df['Stock_Change'] = merged_df['Ecosystem'].diff() * (-1)\n",
    "    merged_df.at[0, 'Stock_Change'] = 0\n",
    "\n",
    "    return merged_df"
   ]
  },
  {
   "cell_type": "code",
   "execution_count": null,
   "id": "f70c6cae-0efe-46f7-8743-bac0ce9c123e",
   "metadata": {
    "tags": []
   },
   "outputs": [],
   "source": [
    "def compare_ws3_cbm(fm, cbm_output, disturbance_type_mapping, biomass_pools, dom_pools, cbm_x_shift=False):\n",
    "    eco_pools = biomass_pools + dom_pools\n",
    "    pi = cbm_output.classifiers.to_pandas().merge(cbm_output.pools.to_pandas(), \n",
    "                                                  left_on=[\"identifier\", \"timestep\"], \n",
    "                                                  right_on=[\"identifier\", \"timestep\"])\n",
    "    fi = cbm_output.classifiers.to_pandas().merge(cbm_output.flux.to_pandas(), \n",
    "                                                  left_on=[\"identifier\", \"timestep\"], \n",
    "                                                  right_on=[\"identifier\", \"timestep\"])\n",
    "\n",
    "    if cbm_x_shift:\n",
    "        df_cbm = pd.DataFrame({'period': pi[\"timestep\"] * 0.1, \n",
    "                               'biomass_stock': pi[biomass_pools].sum(axis=1),\n",
    "                               'dom_stock': pi[dom_pools].sum(axis=1),\n",
    "                               'eco_stock': pi[eco_pools].sum(axis=1)}).groupby('period').sum().iloc[0::10, :].reset_index()\n",
    "        df_cbm['period'] = (df_cbm['period'] + 1).astype(int)\n",
    "        df_cbm = df_cbm.iloc[:-1]\n",
    "    else:\n",
    "        df_cbm = pd.DataFrame({'period': pi[\"timestep\"] * 0.1, \n",
    "                               'biomass_stock': pi[biomass_pools].sum(axis=1),\n",
    "                               'dom_stock': pi[dom_pools].sum(axis=1),\n",
    "                               'eco_stock': pi[eco_pools].sum(axis=1)}).groupby('period').sum().iloc[10::10, :].reset_index()\n",
    "        df_cbm['period'] = (df_cbm['period']).astype(int)\n",
    "\n",
    "    df_cbm['eco_stock_change'] = df_cbm['eco_stock'].diff()\n",
    "    df_cbm.at[0, 'eco_stock_change'] = 0.\n",
    "\n",
    "    df_ws3 = pd.DataFrame({'period': fm.periods,\n",
    "                           'biomass_stock': [sum(fm.inventory(period, pool) for pool in ['biomass']) for period in fm.periods],\n",
    "                           'dom_stock': [sum(fm.inventory(period, pool) for pool in ['DOM']) for period in fm.periods],\n",
    "                           'eco_stock': [sum(fm.inventory(period, pool) for pool in ['ecosystem']) for period in fm.periods]})\n",
    "\n",
    "    df_ws3['eco_stock_change'] = df_ws3['eco_stock'].diff()\n",
    "    df_ws3.at[0, 'eco_stock_change'] = 0.\n",
    "\n",
    "    # Create a figure with subplots\n",
    "    fig, axs = plt.subplots(3, 1, figsize=(8, 12))\n",
    "\n",
    "    # Plotting the ecosystem stock comparison\n",
    "    axs[0].plot(df_cbm['period'], df_cbm['eco_stock'], label='cbm ecosystem stock')\n",
    "    axs[0].plot(df_ws3['period'], df_ws3['eco_stock'], label='ws3 ecosystem stock')\n",
    "    axs[0].set_xlabel('Period')\n",
    "    axs[0].set_ylabel('Stock (ton C)')\n",
    "    axs[0].legend()\n",
    "    # axs[0].set_title('Ecosystem Stock Comparison')\n",
    "\n",
    "    # # Plotting the ecosystem flux comparison\n",
    "    # axs[1].plot(df_cbm['period'], df_cbm['eco_stock_change'], label='cbm ecosystem flux')\n",
    "    # axs[1].plot(df_ws3['period'], df_ws3['eco_stock_change'], label='ws3 ecosystem flux')\n",
    "    # axs[1].set_xlabel('Period')\n",
    "    # axs[1].set_ylabel('Flux (ton C)')\n",
    "    # axs[1].legend()\n",
    "    # axs[1].set_title('Ecosystem Flux Comparison')\n",
    "\n",
    "    # Plotting the biomass stock comparison\n",
    "    axs[1].plot(df_cbm['period'], df_cbm['biomass_stock'], label='cbm biomass stock')\n",
    "    axs[1].plot(df_ws3['period'], df_ws3['biomass_stock'], label='ws3 biomass stock')\n",
    "    axs[1].set_xlabel('Period')\n",
    "    axs[1].set_ylabel('Stock (ton C)')\n",
    "    axs[1].legend()\n",
    "    # axs[1].set_title('Biomass Stock Comparison')\n",
    "\n",
    "    # Plotting the DOM stock comparison\n",
    "    axs[2].plot(df_cbm['period'], df_cbm['dom_stock'], label='cbm dom stock')\n",
    "    axs[2].plot(df_ws3['period'], df_ws3['dom_stock'], label='ws3 dom stock')\n",
    "    axs[2].set_xlabel('Period')\n",
    "    axs[2].set_ylabel('Stock (ton C)')\n",
    "    axs[2].legend()\n",
    "    # axs[2].set_title('DOM Stock Comparison')\n",
    "\n",
    "    # Adjust layout to prevent overlap\n",
    "    plt.tight_layout()\n",
    "\n",
    "    # Show the combined plot\n",
    "    plt.show()\n",
    "\n",
    "    return df_cbm, df_ws3"
   ]
  },
  {
   "cell_type": "code",
   "execution_count": null,
   "id": "55a1661d-f4f7-4031-8c92-0048b10d5db0",
   "metadata": {
    "tags": []
   },
   "outputs": [],
   "source": [
    "#Define Basic Variables\n",
    "softwood_volume_yname='swdvol' \n",
    "hardwood_volume_yname='hwdvol'\n",
    "n_yield_vals=100"
   ]
  },
  {
   "cell_type": "code",
   "execution_count": null,
   "id": "6f839f1f-d4bf-4057-beea-e40a96c07853",
   "metadata": {
    "tags": []
   },
   "outputs": [],
   "source": [
    "#Import Module\n",
    "from util import compile_events"
   ]
  },
  {
   "cell_type": "code",
   "execution_count": null,
   "id": "fb410f4e-0a8e-49d5-ac0e-1079227db845",
   "metadata": {
    "tags": []
   },
   "outputs": [],
   "source": [
    "#Generate New Sit_events file\n",
    "sit_events = compile_events(fm, softwood_volume_yname, hardwood_volume_yname, n_yield_vals)"
   ]
  },
  {
   "cell_type": "code",
   "execution_count": null,
   "id": "93345032-5c9a-4c9c-9c56-ec3564b05264",
   "metadata": {
    "tags": []
   },
   "outputs": [],
   "source": [
    "# Replace the Sit_events file in the sit tables\n",
    "sit_tables['sit_events'] = sit_events"
   ]
  },
  {
   "cell_type": "code",
   "execution_count": null,
   "id": "f66ea4ef-2b83-44cf-8b90-0c583a5a338b",
   "metadata": {
    "tags": []
   },
   "outputs": [],
   "source": [
    "sit_events"
   ]
  },
  {
   "cell_type": "code",
   "execution_count": null,
   "id": "a1a8f858-ca23-4227-bfae-7956cc36ec6c",
   "metadata": {
    "tags": []
   },
   "outputs": [],
   "source": [
    "# Run CBM and Generate CBM Ouputs\n",
    "cbm_output = run_cbm(sit_config, sit_tables, n_steps)"
   ]
  },
  {
   "cell_type": "code",
   "execution_count": null,
   "id": "1924773e-d8a6-4254-b040-2ff261aae9a8",
   "metadata": {
    "tags": []
   },
   "outputs": [],
   "source": [
    "# Report Annual CBM Outputs\n",
    "cbm_report(fm, cbm_output, biomass_pools, dom_pools, fluxes, gross_growth)"
   ]
  },
  {
   "cell_type": "code",
   "execution_count": null,
   "id": "cd40fe00-60b6-45f1-9fac-feef432bd376",
   "metadata": {
    "tags": []
   },
   "outputs": [],
   "source": [
    "# Compare the carbon outputs from ws3 (table above) and libcbm (table below)\n",
    "compare_ws3_cbm(fm, cbm_output, disturbance_type_mapping, biomass_pools, dom_pools)"
   ]
  },
  {
   "cell_type": "code",
   "execution_count": null,
   "id": "6fee92c0-3463-4848-a271-6c0477ef9e67",
   "metadata": {
    "tags": []
   },
   "outputs": [],
   "source": [
    "def calculate_differences(df_cbm, df_ws3):\n",
    "    # Ensure the 'period' column is set to be the index if it's not already\n",
    "    if df_cbm.index.name != 'period':\n",
    "        df_cbm.set_index('period', inplace=True)\n",
    "    if df_ws3.index.name != 'period':\n",
    "        df_ws3.set_index('period', inplace=True)\n",
    "\n",
    "    # Initialize a DataFrame to hold the percentage differences\n",
    "    results = pd.DataFrame(index=df_cbm.index)\n",
    "\n",
    "    # Define the stock types to calculate percentage differences for\n",
    "    stock_types = ['biomass_stock', 'dom_stock', 'eco_stock']\n",
    "\n",
    "    for stock_type in stock_types:\n",
    "        # Calculate Percentage Difference\n",
    "        # Difference formula: ((WS3 - CBM) / CBM) * 100\n",
    "        results[f'{stock_type}_diff'] = ((df_ws3[stock_type] - df_cbm[stock_type]) / df_cbm[stock_type]) * 100\n",
    "    \n",
    "    # Calculate the average percentage difference for each stock type\n",
    "    averages = {}\n",
    "    for stock_type in stock_types:\n",
    "        averages[f'average_{stock_type}_diff'] = results[f'{stock_type}_diff'].abs().mean()\n",
    "\n",
    "    # Print averages\n",
    "    for key, value in averages.items():\n",
    "        print(f\"{key}: {value}\")\n",
    "\n",
    "    return results"
   ]
  },
  {
   "cell_type": "code",
   "execution_count": null,
   "id": "a1c2a8da-9ae7-40e7-83ce-b0c299d298f7",
   "metadata": {
    "tags": []
   },
   "outputs": [],
   "source": [
    "calculate_differences(df_cbm, df_ws3)"
   ]
  },
  {
   "cell_type": "code",
   "execution_count": null,
   "id": "1dbfdbf2-f124-40ab-a8df-e09b0d661af2",
   "metadata": {
    "tags": []
   },
   "outputs": [],
   "source": [
    "track_system_stock(fm)"
   ]
  },
  {
   "cell_type": "code",
   "execution_count": null,
   "id": "30c0d383-c84a-4a0a-abc7-d12676ebffca",
   "metadata": {
    "tags": []
   },
   "outputs": [],
   "source": [
    "track_system_emission(fm)"
   ]
  },
  {
   "cell_type": "code",
   "execution_count": null,
   "id": "93e322d6-a66b-4bb5-958d-3dcb82b72100",
   "metadata": {
    "tags": []
   },
   "outputs": [],
   "source": [
    "sch = run_scenario(fm,'base')"
   ]
  },
  {
   "cell_type": "code",
   "execution_count": null,
   "id": "8d565359-f0ac-40c8-8e24-3a8415d91c94",
   "metadata": {
    "tags": []
   },
   "outputs": [],
   "source": [
    "#Define Basic Variables\n",
    "softwood_volume_yname='swdvol' \n",
    "hardwood_volume_yname='hwdvol'\n",
    "n_yield_vals=100"
   ]
  },
  {
   "cell_type": "code",
   "execution_count": null,
   "id": "ebc9bf95-d973-46df-9ae4-130b8a344d26",
   "metadata": {
    "tags": []
   },
   "outputs": [],
   "source": [
    "#Import Module\n",
    "from util import compile_events"
   ]
  },
  {
   "cell_type": "code",
   "execution_count": null,
   "id": "0a404757-d282-4406-a498-437a6f146356",
   "metadata": {
    "tags": []
   },
   "outputs": [],
   "source": [
    "#Generate New Sit_events file\n",
    "sit_events = compile_events(fm, softwood_volume_yname, hardwood_volume_yname, n_yield_vals)"
   ]
  },
  {
   "cell_type": "code",
   "execution_count": null,
   "id": "81650d01-fc58-4384-9743-be7ebd6f1810",
   "metadata": {
    "tags": []
   },
   "outputs": [],
   "source": [
    "# Replace the Sit_events file in the sit tables\n",
    "sit_tables['sit_events'] = sit_events"
   ]
  },
  {
   "cell_type": "code",
   "execution_count": null,
   "id": "d3735afa-5061-45e3-afc7-adbf156920c6",
   "metadata": {
    "tags": []
   },
   "outputs": [],
   "source": [
    "sit_events"
   ]
  },
  {
   "cell_type": "code",
   "execution_count": null,
   "id": "4f78641c-b2da-466d-b0d2-1a860481f9c5",
   "metadata": {
    "tags": []
   },
   "outputs": [],
   "source": [
    "# Run CBM and Generate CBM Ouputs\n",
    "cbm_output = run_cbm(sit_config, sit_tables, n_steps)"
   ]
  },
  {
   "cell_type": "code",
   "execution_count": null,
   "id": "fd2663f1-8d7b-4fb1-9261-ea56bce7ac5d",
   "metadata": {
    "tags": []
   },
   "outputs": [],
   "source": [
    "# Report Annual CBM Outputs\n",
    "cbm_report(fm, cbm_output, biomass_pools, dom_pools, fluxes, gross_growth)"
   ]
  },
  {
   "cell_type": "code",
   "execution_count": null,
   "id": "a11e5d46-215d-49aa-a3bc-018ba220cdda",
   "metadata": {
    "tags": []
   },
   "outputs": [],
   "source": [
    "# Compare the carbon outputs from ws3 (table above) and libcbm (table below)\n",
    "df_cbm, df_ws3 = compare_ws3_cbm(fm, cbm_output, disturbance_type_mapping, biomass_pools, dom_pools, fluxes)"
   ]
  },
  {
   "cell_type": "code",
   "execution_count": null,
   "id": "2f28f0ab-bd64-4abb-a35b-133dfdc0395f",
   "metadata": {
    "tags": []
   },
   "outputs": [],
   "source": [
    "def calculate_differences(df_cbm, df_ws3):\n",
    "    # Ensure the 'period' column is set to be the index if it's not already\n",
    "    if df_cbm.index.name != 'period':\n",
    "        df_cbm.set_index('period', inplace=True)\n",
    "    if df_ws3.index.name != 'period':\n",
    "        df_ws3.set_index('period', inplace=True)\n",
    "\n",
    "    # Initialize a DataFrame to hold the percentage differences\n",
    "    results = pd.DataFrame(index=df_cbm.index)\n",
    "\n",
    "    # Define the stock types to calculate percentage differences for\n",
    "    stock_types = ['biomass_stock', 'dom_stock', 'eco_stock']\n",
    "\n",
    "    for stock_type in stock_types:\n",
    "        # Calculate Percentage Difference\n",
    "        # Difference formula: ((WS3 - CBM) / CBM) * 100\n",
    "        results[f'{stock_type}_diff'] = ((df_ws3[stock_type] - df_cbm[stock_type]) / df_cbm[stock_type]) * 100\n",
    "    \n",
    "    # Calculate the average percentage difference for each stock type\n",
    "    averages = {}\n",
    "    for stock_type in stock_types:\n",
    "        averages[f'average_{stock_type}_diff'] = results[f'{stock_type}_diff'].abs().mean()\n",
    "\n",
    "    # Print averages\n",
    "    for key, value in averages.items():\n",
    "        print(f\"{key}: {value}\")\n",
    "\n",
    "    return results"
   ]
  },
  {
   "cell_type": "code",
   "execution_count": null,
   "id": "8c04bc32-d99a-4a97-bb80-2ac26a269654",
   "metadata": {
    "tags": []
   },
   "outputs": [],
   "source": [
    "calculate_differences(df_cbm, df_ws3)"
   ]
  },
  {
   "cell_type": "code",
   "execution_count": null,
   "id": "86dd9b28-23fd-4c17-8d90-f865bb98c09e",
   "metadata": {
    "tags": []
   },
   "outputs": [],
   "source": [
    "track_system_stock(fm)"
   ]
  },
  {
   "cell_type": "code",
   "execution_count": null,
   "id": "be950c73-0457-4a7a-954e-5ed0a2295b79",
   "metadata": {
    "tags": []
   },
   "outputs": [],
   "source": [
    "track_system_emission(fm)"
   ]
  },
  {
   "cell_type": "code",
   "execution_count": null,
   "id": "acea1697-34e4-4e34-a99b-ab2881a5974d",
   "metadata": {
    "tags": []
   },
   "outputs": [],
   "source": [
    "# With Even-flow Constraints\n",
    "run_scenario(fm,'base_h')"
   ]
  },
  {
   "cell_type": "code",
   "execution_count": null,
   "id": "e6e56272-8b6a-4c89-aa27-1142a9e7e1c7",
   "metadata": {
    "tags": []
   },
   "outputs": [],
   "source": [
    "#Define Basic Variables\n",
    "softwood_volume_yname='swdvol' \n",
    "hardwood_volume_yname='hwdvol'\n",
    "n_yield_vals=100"
   ]
  },
  {
   "cell_type": "code",
   "execution_count": null,
   "id": "ff8c9a95-2c48-456e-93b3-ba3f6b26bf86",
   "metadata": {
    "tags": []
   },
   "outputs": [],
   "source": [
    "#Import Module\n",
    "from util import compile_events"
   ]
  },
  {
   "cell_type": "code",
   "execution_count": null,
   "id": "4e0382c3-3df2-4bf9-832a-f5aff5bd5b13",
   "metadata": {
    "tags": []
   },
   "outputs": [],
   "source": [
    "#Generate New Sit_events file\n",
    "sit_events = compile_events(fm, softwood_volume_yname, hardwood_volume_yname, n_yield_vals)"
   ]
  },
  {
   "cell_type": "code",
   "execution_count": null,
   "id": "207f720c-6b35-477c-ad6e-2be9140be0b6",
   "metadata": {
    "tags": []
   },
   "outputs": [],
   "source": [
    "# Replace the Sit_events file in the sit tables\n",
    "sit_tables['sit_events'] = sit_events"
   ]
  },
  {
   "cell_type": "code",
   "execution_count": null,
   "id": "eb55d551-bbb8-4c65-a20d-1976c801f826",
   "metadata": {
    "tags": []
   },
   "outputs": [],
   "source": [
    "sit_events"
   ]
  },
  {
   "cell_type": "code",
   "execution_count": null,
   "id": "6c13983a-d837-4b14-bb00-8468be622829",
   "metadata": {
    "tags": []
   },
   "outputs": [],
   "source": [
    "# Run CBM and Generate CBM Ouputs\n",
    "cbm_output = run_cbm(sit_config, sit_tables, n_steps)"
   ]
  },
  {
   "cell_type": "code",
   "execution_count": null,
   "id": "25efd306-a381-4779-9cab-cfd76098ad0f",
   "metadata": {
    "tags": []
   },
   "outputs": [],
   "source": [
    "# Report Annual CBM Outputs\n",
    "cbm_report(fm, cbm_output, biomass_pools, dom_pools, fluxes, gross_growth)"
   ]
  },
  {
   "cell_type": "code",
   "execution_count": null,
   "id": "c6024652-52d6-4f62-8c64-b16788a1efbf",
   "metadata": {
    "tags": []
   },
   "outputs": [],
   "source": [
    "# Compare the carbon outputs from ws3 (table above) and libcbm (table below)\n",
    "df_cbm, df_ws3 = compare_ws3_cbm(fm, cbm_output, disturbance_type_mapping, biomass_pools, dom_pools, fluxes)"
   ]
  },
  {
   "cell_type": "code",
   "execution_count": null,
   "id": "058d78c1-09c1-4c3c-a8ee-e19550d06665",
   "metadata": {
    "tags": []
   },
   "outputs": [],
   "source": [
    "df_cbm"
   ]
  },
  {
   "cell_type": "code",
   "execution_count": null,
   "id": "f699718e-8de0-4447-a4c2-60dd95e1f8a1",
   "metadata": {
    "tags": []
   },
   "outputs": [],
   "source": [
    "df_ws3"
   ]
  },
  {
   "cell_type": "code",
   "execution_count": null,
   "id": "95295500-79b0-4d64-aba1-79c879ae4cd9",
   "metadata": {
    "tags": []
   },
   "outputs": [],
   "source": [
    "def calculate_differences(df_cbm, df_ws3):\n",
    "    # Ensure the 'period' column is set to be the index if it's not already\n",
    "    if df_cbm.index.name != 'period':\n",
    "        df_cbm.set_index('period', inplace=True)\n",
    "    if df_ws3.index.name != 'period':\n",
    "        df_ws3.set_index('period', inplace=True)\n",
    "\n",
    "    # Initialize a DataFrame to hold the percentage differences\n",
    "    results = pd.DataFrame(index=df_cbm.index)\n",
    "\n",
    "    # Define the stock types to calculate percentage differences for\n",
    "    stock_types = ['biomass_stock', 'dom_stock', 'eco_stock']\n",
    "\n",
    "    for stock_type in stock_types:\n",
    "        # Calculate Percentage Difference\n",
    "        # Difference formula: ((WS3 - CBM) / CBM) * 100\n",
    "        results[f'{stock_type}_diff'] = ((df_ws3[stock_type] - df_cbm[stock_type]) / df_cbm[stock_type]) * 100\n",
    "    \n",
    "    # Calculate the average percentage difference for each stock type\n",
    "    averages = {}\n",
    "    for stock_type in stock_types:\n",
    "        averages[f'average_{stock_type}_diff'] = results[f'{stock_type}_diff'].abs().mean()\n",
    "\n",
    "    # Print averages\n",
    "    for key, value in averages.items():\n",
    "        print(f\"{key}: {value}\")\n",
    "\n",
    "    return results"
   ]
  },
  {
   "cell_type": "code",
   "execution_count": null,
   "id": "62581f42-2641-40cd-b993-d076edf48e84",
   "metadata": {
    "tags": []
   },
   "outputs": [],
   "source": [
    "calculate_differences(df_cbm, df_ws3)"
   ]
  },
  {
   "cell_type": "code",
   "execution_count": null,
   "id": "a8b402a4-a7b8-4068-8f6f-e25b878d5f92",
   "metadata": {
    "tags": []
   },
   "outputs": [],
   "source": [
    "track_system_stock(fm)"
   ]
  },
  {
   "cell_type": "code",
   "execution_count": null,
   "id": "818aeef4-08ed-49e4-a999-447df8d20d23",
   "metadata": {
    "tags": []
   },
   "outputs": [],
   "source": [
    "track_system_emission(fm)"
   ]
  },
  {
   "cell_type": "markdown",
   "id": "503173de-cb50-4e23-ab52-a5499005163e",
   "metadata": {
    "tags": []
   },
   "source": [
    "## Maximize C stock"
   ]
  },
  {
   "cell_type": "code",
   "execution_count": null,
   "id": "6ff6f72f-b065-40c3-8fd9-ddb6545af219",
   "metadata": {
    "tags": []
   },
   "outputs": [],
   "source": [
    "sch = run_scenario(fm,'base')"
   ]
  },
  {
   "cell_type": "code",
   "execution_count": null,
   "id": "65e9fc56-e8e1-4680-809e-42c1f662befa",
   "metadata": {
    "tags": []
   },
   "outputs": [],
   "source": [
    "#Define Basic Variables\n",
    "softwood_volume_yname='swdvol' \n",
    "hardwood_volume_yname='hwdvol'\n",
    "n_yield_vals=100"
   ]
  },
  {
   "cell_type": "code",
   "execution_count": null,
   "id": "f00154dc-fea4-4feb-97f4-250ebde2b3c7",
   "metadata": {
    "tags": []
   },
   "outputs": [],
   "source": [
    "#Import Module\n",
    "from util import compile_events"
   ]
  },
  {
   "cell_type": "code",
   "execution_count": null,
   "id": "c9ac1c74-dd46-41db-bb10-45ac1d890531",
   "metadata": {
    "tags": []
   },
   "outputs": [],
   "source": [
    "#Generate New Sit_events file\n",
    "sit_events = compile_events(fm, softwood_volume_yname, hardwood_volume_yname, n_yield_vals)"
   ]
  },
  {
   "cell_type": "code",
   "execution_count": null,
   "id": "1cd29856-372b-4d1b-bd0d-a62088554a6e",
   "metadata": {
    "tags": []
   },
   "outputs": [],
   "source": [
    "# Replace the Sit_events file in the sit tables\n",
    "sit_tables['sit_events'] = sit_events"
   ]
  },
  {
   "cell_type": "code",
   "execution_count": null,
   "id": "f5892549-6b19-420e-84ba-fa7179adec9c",
   "metadata": {
    "tags": []
   },
   "outputs": [],
   "source": [
    "sit_events"
   ]
  },
  {
   "cell_type": "code",
   "execution_count": null,
   "id": "500a9830-a9a6-4f4a-8951-168f67ba0a6a",
   "metadata": {
    "tags": []
   },
   "outputs": [],
   "source": [
    "# Run CBM and Generate CBM Ouputs\n",
    "cbm_output = run_cbm(sit_config, sit_tables, n_steps)"
   ]
  },
  {
   "cell_type": "code",
   "execution_count": null,
   "id": "597e2ce2-7828-4d1f-a0f4-210de8e125b3",
   "metadata": {
    "tags": []
   },
   "outputs": [],
   "source": [
    "# Report Annual CBM Outputs\n",
    "cbm_report(fm, cbm_output, biomass_pools, dom_pools, fluxes, gross_growth)"
   ]
  },
  {
   "cell_type": "code",
   "execution_count": null,
   "id": "21d04d46-b7f3-40c3-8946-240f0a817ee7",
   "metadata": {
    "tags": []
   },
   "outputs": [],
   "source": [
    "# Compare the carbon outputs from ws3 (table above) and libcbm (table below)\n",
    "compare_ws3_cbm(fm, cbm_output, disturbance_type_mapping, biomass_pools, dom_pools, fluxes)"
   ]
  },
  {
   "cell_type": "code",
   "execution_count": null,
   "id": "07d41407-6504-4cd0-bed6-7f7d73e48657",
   "metadata": {
    "tags": []
   },
   "outputs": [],
   "source": [
    "track_system_stock(fm)"
   ]
  },
  {
   "cell_type": "code",
   "execution_count": null,
   "id": "9ebf1d6e-d8df-49ca-b79a-fc0aaac9db5f",
   "metadata": {
    "tags": []
   },
   "outputs": [],
   "source": [
    "track_system_emission(fm)"
   ]
  }
 ],
 "metadata": {
  "kernelspec": {
   "display_name": "Python 3 (venv:foo)",
   "language": "python",
   "name": "foo"
  },
  "language_info": {
   "codemirror_mode": {
    "name": "ipython",
    "version": 3
   },
   "file_extension": ".py",
   "mimetype": "text/x-python",
   "name": "python",
   "nbconvert_exporter": "python",
   "pygments_lexer": "ipython3",
   "version": "3.10.12"
  }
 },
 "nbformat": 4,
 "nbformat_minor": 5
}
