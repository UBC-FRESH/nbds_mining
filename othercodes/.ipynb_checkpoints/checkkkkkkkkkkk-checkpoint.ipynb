{
 "cells": [
  {
   "cell_type": "markdown",
   "id": "fd50c87d-e456-49e1-b5c2-c0392d165674",
   "metadata": {},
   "source": [
    "# Overview\n",
    "\n",
    "This notebook imports Woodstock formatted input data files and optimize the harvest scheduling considering even flow constrainsts and other constraints. "
   ]
  },
  {
   "cell_type": "code",
   "execution_count": 1,
   "id": "bb0485fa-58cc-4048-a5f5-6bade2903da9",
   "metadata": {},
   "outputs": [
    {
     "name": "stdout",
     "output_type": "stream",
     "text": [
      "Requirement already satisfied: gurobipy in /media/data/home/eghasemi/.virtualenvs/foo/lib/python3.10/site-packages (10.0.3)\n",
      "Note: you may need to restart the kernel to use updated packages.\n"
     ]
    }
   ],
   "source": [
    "%pip install gurobipy"
   ]
  },
  {
   "cell_type": "code",
   "execution_count": 2,
   "id": "972a3d1e-604e-4edc-9101-5f3f6449fb26",
   "metadata": {
    "tags": []
   },
   "outputs": [],
   "source": [
    "import matplotlib.pyplot as plt\n",
    "import pandas as pd\n",
    "import geopandas as gpd\n",
    "import ws3.forest, ws3.core\n",
    "import csv\n",
    "import numpy as np\n",
    "# from util import compile_scenario, plot_scenario, cmp_c_z, cmp_c_cflw, cmp_c_caa, cmp_c_ci, gen_scenario, run_scenario\n",
    "# from util import compile_scenario, plot_scenario\n",
    "import gurobipy as grb"
   ]
  },
  {
   "cell_type": "code",
   "execution_count": 3,
   "id": "e397f7bf-c67a-4fd8-862f-9da3a8aa1523",
   "metadata": {
    "tags": []
   },
   "outputs": [],
   "source": [
    "base_year = 2020\n",
    "horizon = 10\n",
    "period_length = 10\n",
    "max_age =  1000\n",
    "tvy_name = 'totvol'\n",
    "max_harvest = 1"
   ]
  },
  {
   "cell_type": "code",
   "execution_count": 4,
   "id": "d40f4fcc-0465-4c67-9fd1-7fca3f66d16d",
   "metadata": {},
   "outputs": [],
   "source": [
    "fm = ws3.forest.ForestModel(model_name='redchris',\n",
    "                            model_path='./data/woodstock_model_files_redchris',\n",
    "                            base_year=base_year,\n",
    "                            horizon=horizon,\n",
    "                            period_length=period_length,\n",
    "                            max_age=max_age)\n",
    "fm.import_landscape_section()\n",
    "fm.import_areas_section()\n",
    "fm.import_yields_section()\n",
    "fm.import_actions_section()\n",
    "fm.import_transitions_section()\n",
    "fm.initialize_areas()\n",
    "fm.add_null_action()\n",
    "fm.reset_actions()"
   ]
  },
  {
   "cell_type": "markdown",
   "id": "1caee887-6734-46b1-a79a-b6c330baef2b",
   "metadata": {},
   "source": [
    "At this point, we have a simple but fully functional ws3 model instance. "
   ]
  },
  {
   "cell_type": "code",
   "execution_count": 5,
   "id": "6ce07b10-aa59-4096-8b62-7012f49cf75b",
   "metadata": {
    "tags": []
   },
   "outputs": [],
   "source": [
    "fm.reset()"
   ]
  },
  {
   "cell_type": "markdown",
   "id": "3c8fdcd3-6b41-48b1-bf48-b3a877eb971a",
   "metadata": {},
   "source": [
    "Here is the age distribution for the AOI"
   ]
  },
  {
   "cell_type": "code",
   "execution_count": 6,
   "id": "073d963c-28c0-4066-8e0c-0f937842afc2",
   "metadata": {},
   "outputs": [
    {
     "data": {
      "image/png": "[encoded data removed]",
      "text/plain": [
       "<Figure size 640x480 with 1 Axes>"
      ]
     },
     "metadata": {},
     "output_type": "display_data"
    }
   ],
   "source": [
    "data = fm.age_class_distribution(0)\n",
    "x_values = list(data.keys())\n",
    "y_values = list(data.values()) \n",
    "bin_edges = np.arange(0, 480, 20)\n",
    "hist, _ = np.histogram(x_values, bins=bin_edges, weights=y_values)\n",
    "plt.bar(bin_edges[:-1], hist, width=20, color='blue', edgecolor='black', alpha=0.7)\n",
    "plt.xlabel('Age')\n",
    "plt.ylabel('Area (ha)')\n",
    "plt.title('Age Distribution')\n",
    "plt.show()"
   ]
  },
  {
   "cell_type": "markdown",
   "id": "ad33e148-60c8-4397-8deb-e5ca4ecf7293",
   "metadata": {},
   "source": [
    "## Implement optimization-based action scheduling\n",
    "\n",
    "`ws3` also includes functions to automate the process of formulating and solving linear programming (LP) optimization problems to schedule actions in your model. Using an optimization approach, you formulate your forest-level management problem in terms of an _objective function_ and _constraints_.\n",
    "\n",
    "`ws3` currently includes functions to formulate and solve Model I type optimization problems, as first documented in Johson and Scheurman (1977).\n",
    "\n",
    ">Johnson, K.N. and H.L. Scheurman (1977). “Techniques for prescribing optimal\n",
    "timber harvest and investment under different objectives—discussion and\n",
    "synthesis”. In: Forest Science Monograph 23.suppl_1.\n",
    "\n"
   ]
  },
  {
   "cell_type": "markdown",
   "id": "b11f3377-c127-44dd-b83a-d069e2ffe648",
   "metadata": {},
   "source": [
    "You will need to have `gurobipy` installed for this next step to work. At some point I will finish implementing bindings to the PuLP open-source solver library, but for now we are stuck with Gurobi as the only solver that works with ws3. \n",
    "\n",
    "You should be able to install `gurobipy` using the magic `%pip` command below, however this _only_ installs the Python module and minimal solver binaries. This _does not_ install the full Gurobi software stack, do the Gurobi licence managent tools (including the `grbgetkey` command) are _not_ installed automatically with the Python module. The `gurobipy` installation includes a limited software license that should allow you to solve _small_ problem instances, but will puke if you try to solve anything too large (which includes most `ws3` problems, unless you model is extremely small and simple). \n",
    "\n",
    "If you are eligible for an academic license, you should request and install a \"Named-User Acacdemic\" license from the Licenses tab in the [Gurobi User Portal](https://portal.gurobi.com/iam/licenses/request) (create a new Gurobi account if you do not have one yet, using your official academic institution email address). This license is per-user, per-machine, is valid for one year, should _only_ be used in an academic context (see [Gurobi Standard EULA](https://cdn.gurobi.com/wp-content/uploads/Gurobi_Standard_EULA_Nov2022.pdf) for details of license terms and restrictions).\n",
    "\n",
    "**Hint:** If you get a `grbgetkey: command not found` error, either the full Gurobi software stack is not installed at all on your system, or is installed but `grbgetkey` is not in your path. Depending on your situation, either [install the full Gurobi software stack](https://support.gurobi.com/hc/en-us/articles/4534161999889) or specify the full path to the `grbgetkey` command (Gurobi installation instructions recommend installing Gurobi into `/opt/gurobi` on linux platforms).   "
   ]
  },
  {
   "cell_type": "markdown",
   "id": "c415e085-88aa-4918-950d-80f8e3debae1",
   "metadata": {},
   "source": [
    "First we need to define a few utility functions that we will use to build the problems (e.g., objective function coefficient function, even flow constraint coefficient function, general constraint coefficient function).\n",
    "\n",
    "Note that the `spades_ws3` project contains several useful chunks of code that you can use as a starting point (on GitHub, see link below).\n",
    "\n",
    "https://github.com/gparadis/spades_ws3/blob/master/python/spadesws3.py"
   ]
  },
  {
   "cell_type": "markdown",
   "id": "c4620927-df90-4172-b6e7-829788ef5249",
   "metadata": {},
   "source": [
    "Define a generic base scenario function, and link it to a dispatch function keyed on scenario name string (e.g., `base`). \n",
    "\n",
    "Note how we use `functools.partial` to specialize the more general functions defined above for use in the `coeff_funcs` arg of `ForestModel.add_problem`. Otherwise we would have to define an entirely new function each time we defined a slightly different objective or constraint in one of our scenarios, which would get tedious and messy. The tedium and mess would be more evident if we had a large number of alternative scenarios defined in the same notebook (which we do not here, but use your imagination). \n",
    "\n",
    "Note also that the expected data structures for the various args to `ForestModel.add_problem` must be matched exactly or `ws3` will likely crash somewhere in one of the series of complicated private optimization model-building methods that get called from `ForestModel.add_problem`. You _should not_ have to unpack the exact logic of this model-building code to figure out why your model is crashing... it really is quite complicated and hard to follow. If you model is crashing there, you probably fed invalid (or incorrectly structured) args to `ForestModel.add_problem`. Carefully review the structure and values of your args to find the problem."
   ]
  },
  {
   "cell_type": "markdown",
   "id": "5b1e0fab-6684-45ef-a29d-99c46bb0ce1b",
   "metadata": {},
   "source": [
    "`ForestModel.add_problem` arg specs are described below.\n",
    "\n",
    "`name`: String. Used as key to store `Problem` instances in a dict in the `ForestModel` instanace, so make sure it is unique within a given model or you will overwrite dict values (assuming you want to stuff multiple problems, and their solutions, into your model at the same time). \n",
    "    \n",
    "`coeff_funcs`: Dict of function references, keyed on _row name_ strings. These are the functions that generate the LP optimization problem matrix coefficients (for the objective function and constraint rows). This one gets complicated, and is a likely source of bugs. Make sure the row name key strings are all unique or you will make a mess. You can name the constraint rows anything you want, but the objective function row has to be named `z`. All coefficient functions must accept exactly two args, in this order: a `ws3.forest.ForestModel` instance and a `ws3.common.Path` instance. The `z` coefficient function is special in that it must return a single float value. All other (i.e., constraint) coefficient functions just return a dict of floats, keyed on period ints (can be sparse, i.e., not necessary to include key:value pairs in output dict if value is 0.0). It is useful (but not necessary) to use `functools.partial` to specialize a smaller number of more general function definitions (with more args, that get \"locked down\" and hidden by `partial`) as we have done in the example in this notebook.\n",
    "\n",
    "`cflw_e`: Dict of `(dict, int)` tuples, keyed on _row name_ strings (must match _row name_ key values used to define coefficient functions for flow constraints in `coeff_func` dict), where the int:float dict embedded in the tuple defines epsilon values keyed on periods (must include all periods, even if epsilon value is always the same). See example below. \n",
    "\n",
    "```\n",
    "{\n",
    "  'cflw_acut':({1:0.01, 2:0.01, ..., 10:0.01}, 1),\n",
    "  'cflw_vcut':({1:0.05, 2:0.05, ..., 10:0.05}, 1)\n",
    "}\n",
    "```\n",
    "\n",
    "`cgen_data`: Dict of dict of dicts. The outer-level dict is keyed on _row name_ strings (must match row names used in `coeff_funcs`. The middle second level of dicts always has keys `'lb'` and `'ub'`, and the inner level of dicts specifies lower- and upper-bound general constraint RHS (float) values, keyed on period (int).\n",
    "\n",
    "`acodes`: List of strings. Action codes to be included in optimization problem formulation (actions must defined in the `ForestModel` instance, but can be only a subset).\n",
    "\n",
    "`sense`: Must be one of `ws3.opt.SENSE_MAXIMIZE` or `ws3.opt.SENSE_MINIMIZE`.\n",
    "\n",
    "`mask`: Tuple of strings constituting a valid mask for your `ForestModel` instance. Can be `None` if you do not want to filter `DevelopmentType` instances."
   ]
  },
  {
   "cell_type": "markdown",
   "id": "97d7b993-a203-4451-b3a9-3d86e1ec82d7",
   "metadata": {},
   "source": [
    "We need to add a \"null\" action to the model for the optimization functions to work correctly. This is basically a pass-through action that literally does nothing (i.e., just grow the forest for one time step, which `ws3` models as an explicit decision option in the dynamic programming state trees it builds when it generates the LP problem matrix)."
   ]
  },
  {
   "cell_type": "code",
   "execution_count": 7,
   "id": "aa8a0aa7-40c6-4b39-b719-c13c70f86afd",
   "metadata": {},
   "outputs": [],
   "source": [
    "fm.add_null_action()"
   ]
  },
  {
   "cell_type": "markdown",
   "id": "0cae7a58-6597-433c-b878-b182ad02a64f",
   "metadata": {},
   "source": [
    "We define some scenario options below. Specify which scenario by setting the `scenario_name` variable below."
   ]
  },
  {
   "cell_type": "markdown",
   "id": "032c1138-e225-447b-a8ee-57a2455d30a9",
   "metadata": {},
   "source": [
    "Note that the `Problem.solve` method return a reference to the lower-level `gurobi.Model` object in case we need or want to poke around it (can yield insight into how the optimization problem is formulated on the solver side of things, or help debug).\n",
    "\n",
    "Be vigilant for \"infeasible or unbounded model\" messages and such below, in case these are unexpected. Depending on how the rest of the model was set up, `ws3` may automatically attempt to resolve infeasible models using \"feasibility relaxation\" mode in Gurobi (which might not be what you want, depending on the situation)."
   ]
  },
  {
   "cell_type": "code",
   "execution_count": 8,
   "id": "3c8e6e78-d323-4f9b-a5d0-b0a4533a37db",
   "metadata": {},
   "outputs": [],
   "source": [
    "def cmp_c_z(fm, path, expr):\n",
    "    \"\"\"\n",
    "    Compile objective function coefficient (given ForestModel instance, \n",
    "    leaf-to-root-node path, and expression to evaluate).\n",
    "    \"\"\"\n",
    "    result = 0.\n",
    "    for t, n in enumerate(path, start=1):\n",
    "        d = n.data()\n",
    "        if fm.is_harvest(d['acode']):\n",
    "            result += fm.compile_product(t, expr, d['acode'], [d['dtk']], d['age'], coeff=False)\n",
    "            print(result)\n",
    "    return result\n",
    "\n",
    "def cmp_c_cflw(fm, path, expr, mask=None): # product, all harvest actions\n",
    "    \"\"\"\n",
    "    Compile flow constraint coefficient for product indicator (given ForestModel \n",
    "    instance, leaf-to-root-node path, expression to evaluate, and optional mask).\n",
    "    \"\"\"\n",
    "    result = {}\n",
    "    for t, n in enumerate(path, start=1):\n",
    "        d = n.data()\n",
    "        if mask and not fm.match_mask(mask, d['dtk']): continue\n",
    "        if fm.is_harvest(d['acode']):\n",
    "            result[t] = fm.compile_product(t, expr, d['acode'], [d['dtk']], d['age'], coeff=False)\n",
    "    return result\n",
    "\n",
    "\n",
    "def cmp_c_caa(fm, path, expr, acodes, mask=None): # product, named actions\n",
    "    \"\"\"\n",
    "    Compile constraint coefficient for product indicator (given ForestModel \n",
    "    instance, leaf-to-root-node path, expression to evaluate, list of action codes, \n",
    "    and optional mask).\n",
    "    \"\"\"\n",
    "    result = {}\n",
    "    for t, n in enumerate(path, start=1):\n",
    "        d = n.data()\n",
    "        if mask and not fm.match_mask(mask, d['dtk']): continue\n",
    "        if d['acode'] in acodes:\n",
    "            result[t] = fm.compile_product(t, expr, d['acode'], [d['dtk']], d['age'], coeff=False)\n",
    "    return result\n",
    "\n",
    "\n",
    "def cmp_c_ci(fm, path, yname, mask=None): # product, named actions\n",
    "    \"\"\"\n",
    "    Compile constraint coefficient for inventory indicator (given ForestModel instance, \n",
    "    leaf-to-root-node path, expression to evaluate, and optional mask).\n",
    "    \"\"\"\n",
    "    result = {}\n",
    "    for t, n in enumerate(path, start=1):\n",
    "        d = n.data()\n",
    "        if mask and not fm.match_mask(mask, d['_dtk']): continue\n",
    "        result[t] = fm.inventory(t, yname=yname, age=d['_age'], dtype_keys=[d['_dtk']]) \n",
    "        #result[t] = fm.inventory(t, yname=yname, age=d['age'], dtype_keys=[d['dtk']]) \n",
    "    return result"
   ]
  },
  {
   "cell_type": "code",
   "execution_count": 9,
   "id": "5e2703c5-a11f-4196-b507-bb41f2eeefb0",
   "metadata": {},
   "outputs": [],
   "source": [
    "def gen_scenario(fm, name='base', util=0.85, harvest_acode='harvest',\n",
    "                 cflw_ha={}, cflw_hv={}, \n",
    "                 cgen_ha={}, cgen_hv={}, cgen_gs={}, \n",
    "                 tvy_name='totvol', obj_mode='max_hv', mask=None):\n",
    "    from functools import partial\n",
    "    import numpy as np\n",
    "    coeff_funcs = {}\n",
    "    cflw_e = {}\n",
    "    cgen_data = {}\n",
    "    acodes = ['null', harvest_acode] # define list of action codes\n",
    "    vexpr = '%s * %0.2f' % (tvy_name, util) # define volume expression\n",
    "    if obj_mode == 'max_hv': # maximize harvest volume\n",
    "        sense = ws3.opt.SENSE_MAXIMIZE \n",
    "        zexpr = vexpr\n",
    "    elif obj_mode == 'min_ha': # minimize harvest area\n",
    "        sense = ws3.opt.SENSE_MINIMIZE \n",
    "        zexpr = '1.'\n",
    "    else:\n",
    "        raise ValueError('Invalid obj_mode: %s' % obj_mode)        \n",
    "    coeff_funcs['z'] = partial(cmp_c_z, expr=zexpr) # define objective function coefficient function  \n",
    "    T = fm.periods\n",
    "    if cflw_ha: # define even flow constraint (on harvest area)\n",
    "        cname = 'cflw_ha'\n",
    "        coeff_funcs[cname] = partial(cmp_c_caa, expr='1.', acodes=[harvest_acode], mask=None) \n",
    "        cflw_e[cname] = cflw_ha\n",
    "    if cflw_hv: # define even flow constraint (on harvest volume)\n",
    "        cname = 'cflw_hv'\n",
    "        coeff_funcs[cname] = partial(cmp_c_caa, expr=vexpr, acodes=[harvest_acode], mask=None) \n",
    "        cflw_e[cname] = cflw_hv         \n",
    "    if cgen_ha: # define general constraint (harvest area)\n",
    "        cname = 'cgen_ha'\n",
    "        coeff_funcs[cname] = partial(cmp_c_caa, expr='1.', acodes=[harvest_acode], mask=None) \n",
    "        cgen_data[cname] = cgen_ha\n",
    "    if cgen_hv: # define general constraint (harvest volume)\n",
    "        cname = 'cgen_hv'\n",
    "        coeff_funcs[cname] = partial(cmp_c_caa, expr=vexpr, acodes=[harvest_acode], mask=None) \n",
    "        cgen_data[cname] = cgen_hv\n",
    "    if cgen_gs: # define general constraint (growing stock)\n",
    "        cname = 'cgen_gs'\n",
    "        coeff_funcs[cname] = partial(cmp_c_ci, yname=tvy_name, mask=None)\n",
    "        cgen_data[cname] = cgen_gs\n",
    "    return fm.add_problem(name, coeff_funcs, cflw_e, cgen_data=cgen_data, acodes=acodes, sense=sense, mask=mask)"
   ]
  },
  {
   "cell_type": "code",
   "execution_count": 10,
   "id": "62333e9a-3dcd-4f9d-915e-26ceac4e69c1",
   "metadata": {},
   "outputs": [],
   "source": [
    "def run_scenario(fm, scenario_name='base'):\n",
    "    cflw_ha = {}\n",
    "    cflw_hv = {}\n",
    "    cgen_ha = {}\n",
    "    cgen_hv = {}\n",
    "    cgen_gs = {}\n",
    "    \n",
    "    # define harvest area and harvest volume flow constraints\n",
    "    cflw_ha = ({p:0.05 for p in fm.periods}, 1)\n",
    "    cflw_hv = ({p:0.05 for p in fm.periods}, 1)\n",
    "\n",
    "    if scenario_name == 'base': \n",
    "        # Base scenario\n",
    "        print('running bsae scenario')\n",
    "    elif scenario_name == 'base-cgen_ha': \n",
    "        # Base scenario, plus harvest area general constraints\n",
    "        print('running base scenario plus harvest area constraints')\n",
    "        cgen_ha = {'lb':{1:100.}, 'ub':{1:101.}}    \n",
    "    elif scenario_name == 'base-cgen_hv': \n",
    "        # Base scenario, plus harvest volume general constraints\n",
    "        print('running base scenario plus harvest volume constraints')\n",
    "        cgen_hv = {'lb':{1:1000.}, 'ub':{1:1001.}}    \n",
    "    elif scenario_name == 'base-cgen_gs': \n",
    "        # Base scenario, plus growing stock general constraints\n",
    "        print('running base scenario plus growing stock constraints')\n",
    "        cgen_gs = {'lb':{10:100000.}, 'ub':{10:100001.}}\n",
    "    else:\n",
    "        assert False # bad scenario name\n",
    "\n",
    "    p = gen_scenario(fm=fm, \n",
    "                     name=scenario_name, \n",
    "                     cflw_ha=cflw_ha, \n",
    "                     cflw_hv=cflw_hv,\n",
    "                     cgen_ha=cgen_ha,\n",
    "                     cgen_hv=cgen_hv,\n",
    "                     cgen_gs=cgen_gs)\n",
    "\n",
    "    fm.reset()\n",
    "    m = p.solve()\n",
    "\n",
    "    if m.status != grb.GRB.OPTIMAL:\n",
    "        print('Model not optimal.')\n",
    "        sys.exit()\n",
    "    sch = fm.compile_schedule(p)\n",
    "    fm.apply_schedule(sch, \n",
    "                      force_integral_area=False, \n",
    "                      override_operability=False,\n",
    "                      fuzzy_age=False,\n",
    "                      recourse_enabled=False,\n",
    "                      verbose=False,\n",
    "                      compile_c_ycomps=True)\n",
    "    df = compile_scenario(fm)\n",
    "    fig, ax = plot_scenario(df)\n",
    "    return fig, df, p"
   ]
  },
  {
   "cell_type": "code",
   "execution_count": 11,
   "id": "f3560cb3-05af-410e-a4da-4a3b59ef75b1",
   "metadata": {},
   "outputs": [
    {
     "name": "stdout",
     "output_type": "stream",
     "text": [
      "running bsae scenario\n",
      "Set parameter Username\n",
      "Academic license - for non-commercial use only - expires 2025-01-09\n",
      "Gurobi Optimizer version 10.0.3 build v10.0.3rc0 (linux64)\n",
      "\n",
      "CPU model: Intel Core Processor (Broadwell, IBRS), instruction set [SSE2|AVX|AVX2]\n",
      "Thread count: 16 physical cores, 16 logical processors, using up to 16 threads\n",
      "\n",
      "Optimize a model with 3707 rows, 34533 columns and 445161 nonzeros\n",
      "Model fingerprint: 0xb7c84562\n",
      "Coefficient statistics:\n",
      "  Matrix range     [1e-02, 1e+06]\n",
      "  Objective range  [0e+00, 0e+00]\n",
      "  Bounds range     [0e+00, 0e+00]\n",
      "  RHS range        [1e+00, 1e+00]\n",
      "Presolve removed 3707 rows and 34533 columns\n",
      "Presolve time: 0.06s\n",
      "Presolve: All rows and columns removed\n",
      "Iteration    Objective       Primal Inf.    Dual Inf.      Time\n",
      "       0   -0.0000000e+00   0.000000e+00   0.000000e+00      0s\n",
      "\n",
      "Solved in 0 iterations and 0.09 seconds (0.04 work units)\n",
      "Optimal objective -0.000000000e+00\n"
     ]
    },
    {
     "ename": "NameError",
     "evalue": "name 'compile_scenario' is not defined",
     "output_type": "error",
     "traceback": [
      "\u001b[0;31m---------------------------------------------------------------------------\u001b[0m",
      "\u001b[0;31mNameError\u001b[0m                                 Traceback (most recent call last)",
      "Cell \u001b[0;32mIn[11], line 2\u001b[0m\n\u001b[1;32m      1\u001b[0m \u001b[38;5;66;03m# Not harvesting scenario\u001b[39;00m\n\u001b[0;32m----> 2\u001b[0m \u001b[43mrun_scenario\u001b[49m\u001b[43m(\u001b[49m\u001b[43mfm\u001b[49m\u001b[43m,\u001b[49m\u001b[43m \u001b[49m\u001b[38;5;124;43m'\u001b[39;49m\u001b[38;5;124;43mbase\u001b[39;49m\u001b[38;5;124;43m'\u001b[39;49m\u001b[43m)\u001b[49m\n",
      "Cell \u001b[0;32mIn[10], line 52\u001b[0m, in \u001b[0;36mrun_scenario\u001b[0;34m(fm, scenario_name)\u001b[0m\n\u001b[1;32m     44\u001b[0m sch \u001b[38;5;241m=\u001b[39m fm\u001b[38;5;241m.\u001b[39mcompile_schedule(p)\n\u001b[1;32m     45\u001b[0m fm\u001b[38;5;241m.\u001b[39mapply_schedule(sch, \n\u001b[1;32m     46\u001b[0m                   force_integral_area\u001b[38;5;241m=\u001b[39m\u001b[38;5;28;01mFalse\u001b[39;00m, \n\u001b[1;32m     47\u001b[0m                   override_operability\u001b[38;5;241m=\u001b[39m\u001b[38;5;28;01mFalse\u001b[39;00m,\n\u001b[0;32m   (...)\u001b[0m\n\u001b[1;32m     50\u001b[0m                   verbose\u001b[38;5;241m=\u001b[39m\u001b[38;5;28;01mFalse\u001b[39;00m,\n\u001b[1;32m     51\u001b[0m                   compile_c_ycomps\u001b[38;5;241m=\u001b[39m\u001b[38;5;28;01mTrue\u001b[39;00m)\n\u001b[0;32m---> 52\u001b[0m df \u001b[38;5;241m=\u001b[39m \u001b[43mcompile_scenario\u001b[49m(fm)\n\u001b[1;32m     53\u001b[0m fig, ax \u001b[38;5;241m=\u001b[39m plot_scenario(df)\n\u001b[1;32m     54\u001b[0m \u001b[38;5;28;01mreturn\u001b[39;00m fig, df, p\n",
      "\u001b[0;31mNameError\u001b[0m: name 'compile_scenario' is not defined"
     ]
    }
   ],
   "source": [
    "# Not harvesting scenario\n",
    "run_scenario(fm, 'base')"
   ]
  },
  {
   "cell_type": "code",
   "execution_count": null,
   "id": "ddfd4301-6b97-46b7-a625-de58cde79032",
   "metadata": {},
   "outputs": [],
   "source": [
    "# Business as usual scenario\n",
    "# run_scenario(fm, 'bau_redchrs')"
   ]
  }
 ],
 "metadata": {
  "kernelspec": {
   "display_name": "Python 3 (venv:foo)",
   "language": "python",
   "name": "foo"
  },
  "language_info": {
   "codemirror_mode": {
    "name": "ipython",
    "version": 3
   },
   "file_extension": ".py",
   "mimetype": "text/x-python",
   "name": "python",
   "nbconvert_exporter": "python",
   "pygments_lexer": "ipython3",
   "version": "3.10.12"
  }
 },
 "nbformat": 4,
 "nbformat_minor": 5
}
