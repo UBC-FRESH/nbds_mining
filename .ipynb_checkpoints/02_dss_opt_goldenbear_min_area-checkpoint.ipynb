{
 "cells": [
  {
   "cell_type": "markdown",
   "id": "e26eddd8-59ca-40cf-857e-ecee6cda98e1",
   "metadata": {},
   "source": [
    "# DSS Example: Maximize Harvesting via optimization\n",
    "\n",
    "This notebook is an example implementation of a notebook-based decision-support system (DSS) for evaluating the net system-level carbon emissions impact of an maximize harvesting_ type project. \n",
    "\n",
    "## DSS implementation notes\n",
    "\n",
    "At its core this DSS prototype uses ws3 and libcbm_py to do most of the heavy lifting in terms of simulating forest growth, simulating harvesting disturbances, and simulating forest ecosystem carbon stocks and fluxes. ws3 includes built-in functions that automate most of process of compiling CBM input data, importing this input data into CBM, running CBM, and extracting CBM output data in tablular format. We layer onto this some custom functions to simulate multiple decaying pools of harvested wood products (HWP), and displacement effects for these. \n",
    "\n",
    "This DSS assumes we are using the standard \"alternative scenario net of baseline scenario\" approach to defining net carbon emissions, so we include functions that automate the process of pushing a pair of (baseline, alternative) scenarios through the simulation pipeline, collecting the output from each scenario, calculating the difference across scenarios (alternative minus baseline) and displaying this contrast as a function of time.\n",
    "\n",
    "We include a few interactive widgets to show how these can be used to implement a more user-friendly interface for the DSS while keeping the flexibility and low overhead cost of using a Jupyter notebook environment to implement the DSS. \n",
    "\n",
    "Note that most of the complex code that defines the behaviour of the DSS and underlying simulation engines is implemented in a companion `util_opt` Python module. The functions we need from the `util_opt` module are imported at the top of this notebook. \n",
    "\n",
    "\n",
    "## Description of case\n",
    "\n",
    "The study area for this case is a part of timber supply area (TSA) 04 (Cassier) in British Columbia around a mining site with size of 538,355 ha. In this hypothetical case we are assuming that harvesting will be planned such that a _maximizing harvesting_ of merchantable timber volume is extracted from the study area (over an arbitrary 100-year simulation horizon, althought the system can easily be parametrized to simulate shorter or longer horizons). We assume that the harvesting will begin unless someone \"buys out\" and holds the harvesting rights without exploiting them (effectively implementing a \"no harvesting\" policy going forward). In this situation, the \"harvesting\" policy represents the baseline scenario and the \"no harvesting\" policy is the alternative scenario.  "
   ]
  },
  {
   "cell_type": "code",
   "execution_count": 1,
   "id": "f85b3f10-74de-4b90-8965-f92287d1045a",
   "metadata": {},
   "outputs": [],
   "source": [
    "import math\n",
    "import matplotlib.pyplot as plt\n",
    "import pandas as pd\n",
    "import ipywidgets as widgets\n",
    "from IPython.display import display\n",
    "import ws3.forest\n",
    "from util_opt import results_scenarios, run_scenario\n",
    "import time\n",
    "import gurobipy as grb"
   ]
  },
  {
   "cell_type": "code",
   "execution_count": 2,
   "id": "8a2ab190-93b9-4791-ad7b-9ba7e7dc5e89",
   "metadata": {},
   "outputs": [],
   "source": [
    "base_year = 2020\n",
    "horizon = 10\n",
    "period_length = 10\n",
    "max_age = 1000\n",
    "n_steps = 100\n",
    "tvy_name = 'totvol'\n",
    "case_study =  'gldbr'\n",
    "output_csv_path='./outputs/csv'\n",
    "output_pdf_path='./outputs/pdf'"
   ]
  },
  {
   "cell_type": "markdown",
   "id": "bf8f3a05-c967-404e-934d-33b7c99fab2a",
   "metadata": {},
   "source": [
    "Create some interactive widgets to control four model parameters. The widgets have reasonable default values defined, but DSS users can override these default values. There are many (thousands!) of other model parameters that could modified to tweak model behaviour. These are complex models, and in the end the quality of output data is limited by the quality of input parameter choices (many of which require expert judgement).  "
   ]
  },
  {
   "cell_type": "code",
   "execution_count": 3,
   "id": "8675aed4-a638-478a-b272-f2b49edd3eee",
   "metadata": {},
   "outputs": [
    {
     "data": {
      "application/vnd.jupyter.widget-view+json": {
       "model_id": "04aefe919ef441548bbdf605aefb0d16",
       "version_major": 2,
       "version_minor": 0
      },
      "text/plain": [
       "FloatSlider(value=1.0, description='HWP_effect', max=1.0, step=1.0)"
      ]
     },
     "metadata": {},
     "output_type": "display_data"
    }
   ],
   "source": [
    "hwp_pool_effect = widgets.FloatSlider(min=0, max=1, step=1, description='HWP_effect', value=1)\n",
    "\n",
    "display(hwp_pool_effect)"
   ]
  },
  {
   "cell_type": "code",
   "execution_count": 4,
   "id": "b123baf5-36ed-4f07-9d38-ca4f02ea1b23",
   "metadata": {},
   "outputs": [],
   "source": [
    "hwp_pool_effect_value = hwp_pool_effect.value"
   ]
  },
  {
   "cell_type": "code",
   "execution_count": 5,
   "id": "3bee2194-67cc-408f-9b55-7bf1e20c3060",
   "metadata": {},
   "outputs": [],
   "source": [
    "# Here we indicate whether the harvested pool products turn into emissions immediately instead of turning into wood products.\n",
    "if hwp_pool_effect_value == 0:\n",
    "    release_immediately = widgets.FloatSlider(min=0, max=1, step=1, description='Release immediately', value=1)\n",
    "    display(release_immediately)"
   ]
  },
  {
   "cell_type": "code",
   "execution_count": 6,
   "id": "d9e60384-c026-4e68-a516-e039857773f8",
   "metadata": {},
   "outputs": [],
   "source": [
    "if hwp_pool_effect_value == 0:\n",
    "    release_immediately_value = release_immediately.value\n",
    "else:  \n",
    "    release_immediately_value = 0"
   ]
  },
  {
   "cell_type": "code",
   "execution_count": 7,
   "id": "358bed9f-7677-4253-828c-6ec38cf98905",
   "metadata": {},
   "outputs": [
    {
     "data": {
      "application/vnd.jupyter.widget-view+json": {
       "model_id": "de5fee2c334841cd837e8ae17e9f5d87",
       "version_major": 2,
       "version_minor": 0
      },
      "text/plain": [
       "FloatSlider(value=1.0, description='Displacement', max=1.0, step=1.0)"
      ]
     },
     "metadata": {},
     "output_type": "display_data"
    }
   ],
   "source": [
    "if hwp_pool_effect_value != 0:\n",
    "    displacement_effect = widgets.FloatSlider(min=0, max=1, step=1, description='Displacement', value=1)\n",
    "    display(displacement_effect)"
   ]
  },
  {
   "cell_type": "code",
   "execution_count": 8,
   "id": "ff39d046-c619-4923-8627-31a6f3d963fd",
   "metadata": {},
   "outputs": [],
   "source": [
    "if hwp_pool_effect_value != 0:\n",
    "    displacement_effect = displacement_effect.value\n",
    "else:  \n",
    "    displacement_effect = 0"
   ]
  },
  {
   "cell_type": "code",
   "execution_count": 9,
   "id": "d2317f09-3db3-4474-80d7-614e93e1a7b4",
   "metadata": {},
   "outputs": [
    {
     "data": {
      "application/vnd.jupyter.widget-view+json": {
       "model_id": "886a739076d1470fa02285d92666c8fa",
       "version_major": 2,
       "version_minor": 0
      },
      "text/plain": [
       "FloatSlider(value=0.5, description='CLT_percent:', max=1.0)"
      ]
     },
     "metadata": {},
     "output_type": "display_data"
    },
    {
     "data": {
      "application/vnd.jupyter.widget-view+json": {
       "model_id": "973881dbfdd94f739036fd4cff6f3aa1",
       "version_major": 2,
       "version_minor": 0
      },
      "text/plain": [
       "FloatSlider(value=1.0, description='Credibility:', max=1.0)"
      ]
     },
     "metadata": {},
     "output_type": "display_data"
    }
   ],
   "source": [
    "if displacement_effect == 0:\n",
    "   clt_percentage = 0\n",
    "   credibility = 0\n",
    "else:\n",
    "    clt_percentage = widgets.FloatSlider(min=0, max=1, step=0.1, description='CLT_percent:', value=0.5)\n",
    "    credibility = widgets.FloatSlider(min=0, max=1, step=0.1, description='Credibility:', value=1)\n",
    "    display(clt_percentage, credibility)"
   ]
  },
  {
   "cell_type": "code",
   "execution_count": 10,
   "id": "00f637d1-92cc-4c74-ae88-57ab5f51da79",
   "metadata": {},
   "outputs": [
    {
     "data": {
      "application/vnd.jupyter.widget-view+json": {
       "model_id": "a75869cb0e4b48b9996b2439836c5262",
       "version_major": 2,
       "version_minor": 0
      },
      "text/plain": [
       "FloatSlider(value=0.1, description='Max_harvest:', max=1.0, step=0.05)"
      ]
     },
     "metadata": {},
     "output_type": "display_data"
    },
    {
     "data": {
      "application/vnd.jupyter.widget-view+json": {
       "model_id": "5d10b392373344f297e23c37d30b3c5b",
       "version_major": 2,
       "version_minor": 0
      },
      "text/plain": [
       "FloatText(value=10000000.0, description='Budget:')"
      ]
     },
     "metadata": {},
     "output_type": "display_data"
    }
   ],
   "source": [
    "max_harvest = widgets.FloatSlider(min=0, max=1, step=0.05, description='Max_harvest:', value=0.1)\n",
    "budget_input = widgets.FloatText(\n",
    "    value=10000000,\n",
    "    description='Budget:',\n",
    "    disabled=False)\n",
    "display(max_harvest, budget_input)"
   ]
  },
  {
   "cell_type": "code",
   "execution_count": 11,
   "id": "b1890106-a4ba-46b1-a125-4dc86c4da826",
   "metadata": {},
   "outputs": [
    {
     "data": {
      "application/vnd.jupyter.widget-view+json": {
       "model_id": "3de598b0437d4a0a9f76074f43c82a38",
       "version_major": 2,
       "version_minor": 0
      },
      "text/plain": [
       "Dropdown(description='Scenario:', index=1, options=('test', 'no_cons', 'bau_redchrs'), value='no_cons')"
      ]
     },
     "metadata": {},
     "output_type": "display_data"
    }
   ],
   "source": [
    "def select_scenario(scenario_name):\n",
    "    print(f\"Selected scenario: {scenario_name}\")\n",
    "scenario_dropdown = widgets.Dropdown(\n",
    "    options=['test', 'no_cons', 'bau_redchrs'],\n",
    "    value='no_cons',\n",
    "    description='Scenario:'\n",
    ")\n",
    "display(scenario_dropdown)\n",
    "scenario_dropdown.observe(lambda change: select_scenario(change['new']), names='value')"
   ]
  },
  {
   "cell_type": "code",
   "execution_count": 12,
   "id": "9532cfc8-5da1-49c0-b5a4-fd2664809d5e",
   "metadata": {},
   "outputs": [
    {
     "data": {
      "application/vnd.jupyter.widget-view+json": {
       "model_id": "d09d07e8929e49e69f3c5fb7b4c66d3d",
       "version_major": 2,
       "version_minor": 0
      },
      "text/plain": [
       "Dropdown(description='Objective:', index=1, options=('max_hv', 'min_ha'), value='min_ha')"
      ]
     },
     "metadata": {},
     "output_type": "display_data"
    }
   ],
   "source": [
    "def select_obj(obj_mode):\n",
    "    print(f\"Selected scenario: {obj_mode}\")\n",
    "obj_dropdown = widgets.Dropdown(\n",
    "    options=['max_hv', 'min_ha'],\n",
    "    value='min_ha',\n",
    "    description='Objective:'\n",
    ")\n",
    "display(obj_dropdown)\n",
    "obj_dropdown.observe(lambda change: select_obj(change['new']), names='value')"
   ]
  },
  {
   "cell_type": "code",
   "execution_count": 13,
   "id": "d3bdbd46-1954-4925-a8f9-36cbdcf156e4",
   "metadata": {},
   "outputs": [],
   "source": [
    "if displacement_effect != 0:\n",
    "    clt_percentage = clt_percentage.value\n",
    "    credibility = credibility.value\n",
    "max_harvest = max_harvest.value\n",
    "budget_input = budget_input.value\n",
    "scenario_name = scenario_dropdown.value\n",
    "obj_mode = obj_dropdown.value"
   ]
  },
  {
   "cell_type": "code",
   "execution_count": 14,
   "id": "972c6490-009c-4c93-a20d-6828d27f6e3d",
   "metadata": {},
   "outputs": [],
   "source": [
    "fm = ws3.forest.ForestModel(model_name='goldenbear',\n",
    "                            model_path='./data/woodstock_model_files_goldenbear',\n",
    "                            base_year=base_year,\n",
    "                            horizon=horizon,\n",
    "                            period_length=period_length,\n",
    "                            max_age=max_age)\n",
    "fm.import_landscape_section()\n",
    "fm.import_areas_section()\n",
    "fm.import_yields_section()\n",
    "fm.import_actions_section()\n",
    "fm.import_transitions_section()\n",
    "fm.initialize_areas()\n",
    "fm.add_null_action()\n",
    "fm.reset_actions()"
   ]
  },
  {
   "cell_type": "markdown",
   "id": "b7ecbdff-88a6-417a-ae9c-7d2696286c2b",
   "metadata": {},
   "source": [
    "Run the simulations and compile output data into a \"dashboard\" of graphs. The grid of four subfigures shows carbon stocks and emissions for both baseline and alternative scenarios. The figure on the bottom shows the contrast (difference) between net emissions for alternative and baseline scenarios. The contrast is a negative number (in most time steps), which means that according to this simulation the alternative (no harvesting) scenario generally has lower emissions behaviour than the baseline (high even-flow harvesting) scenario. \n",
    "\n",
    "However, close inspection of the detailed scenario-wise emissions graphs reveals that the absolute magnitude of the \"net emission\" indictator for each of the scenarios is relatively small compared to the absolute magnitude of \"ecosystem decay\" and \"gross growth\" emissions (which dominate the net emissions calculation, and come close to cancelling each other out completely). Furthermore, side-by-side visual inspection of the relatively small-magnitude \"net emissions\" profiles for each scenario shows that they are _very_ similar.\n",
    "\n",
    "So, althrough this model is calculating a net negative impact of the \"no harvesting\" scenario relative to the \"with harvesting\" scenario, the magnitude of this impact is small enough (compared to the magnitude of the constituent carbon emission components that are summed to calculate the net emission indicator) to trigger a \"materiality\" criterion challenge. Materiality is further challenged when one considers the relatively low confidence (i.e., high uncertainty) associated with some of the key input assumptions used in this deterministic analysis). \n",
    "\n",
    "As a further example of how the flexibility of this type of notebook-based DSS implementation, we automate the process of calculating the avoided emissions for the first 25 years of the simulation horizon (i.e., the area under the leftmost part of the curve in the bottom figure in the dashboard), and dividing this number into a hypothetical \"budget\" for buying out the harvesting rights, yielding a \"unit cost of avoided emissions\" (in $ per tCO2e). This is the same sort of calculation (minus a full-blown techno-economic analysis to back up the budget value in the numerator) used by economists to compile marginal abatement cost curve (MACC) figures. For example, the DSS prototype as it is implemented could be re-run multiple times to find (through trial and error) the maximum total price one would want to bid to buy out the harvesting rights on this piece of land, given a maximum \"unit cost of avoided emissions\" price we were willing to pay (above which price maybe it would be more economically efficient to invest our \"carbon money\" elsewhere, or just purchase ready-baked carbon offset credits from one of several retail voluntary carbon offset markets)."
   ]
  },
  {
   "cell_type": "code",
   "execution_count": 15,
   "id": "42e05de1-e225-43ce-ab20-eddf586e471a",
   "metadata": {},
   "outputs": [],
   "source": [
    "harvest_acode='harvest'\n",
    "fm.actions[harvest_acode].is_harvest = True"
   ]
  },
  {
   "cell_type": "code",
   "execution_count": 16,
   "id": "f08bfa77-956f-48b1-aaf3-01d57471c0db",
   "metadata": {},
   "outputs": [],
   "source": [
    "fm.reset()"
   ]
  },
  {
   "cell_type": "code",
   "execution_count": 17,
   "id": "c4b4a296-18ef-423d-9af7-00d570d143d4",
   "metadata": {},
   "outputs": [],
   "source": [
    "# schedule = run_scenario(fm, obj_mode, scenario_name)\n",
    "# schedule"
   ]
  },
  {
   "cell_type": "code",
   "execution_count": null,
   "id": "74b5f8d3-3a9a-4145-929f-af9367a22e5e",
   "metadata": {},
   "outputs": [
    {
     "name": "stdout",
     "output_type": "stream",
     "text": [
      "running no constraints scenario\n",
      "Set parameter Username\n",
      "Academic license - for non-commercial use only - expires 2025-01-09\n",
      "Gurobi Optimizer version 10.0.3 build v10.0.3rc0 (linux64)\n",
      "\n",
      "CPU model: Intel Core Processor (Broadwell, IBRS), instruction set [SSE2|AVX|AVX2]\n",
      "Thread count: 16 physical cores, 16 logical processors, using up to 16 threads\n",
      "\n",
      "Optimize a model with 3905 rows, 36130 columns and 36130 nonzeros\n",
      "Model fingerprint: 0x801989dc\n",
      "Coefficient statistics:\n",
      "  Matrix range     [1e+00, 1e+00]\n",
      "  Objective range  [2e-01, 1e+03]\n",
      "  Bounds range     [0e+00, 0e+00]\n",
      "  RHS range        [1e+00, 1e+00]\n",
      "Presolve removed 3905 rows and 36130 columns\n",
      "Presolve time: 0.04s\n",
      "Presolve: All rows and columns removed\n",
      "Iteration    Objective       Primal Inf.    Dual Inf.      Time\n",
      "       0    0.0000000e+00   0.000000e+00   0.000000e+00      0s\n",
      "\n",
      "Solved in 0 iterations and 0.05 seconds (0.01 work units)\n",
      "Optimal objective  0.000000000e+00\n",
      "      Ecosystem decay emission  Gross growth   Net emission  HWP  \\\n",
      "Year                                                               \n",
      "0                 0.000000e+00  0.000000e+00       0.000000  0.0   \n",
      "1                 1.595596e+06 -2.095777e+06 -500181.566160  0.0   \n",
      "2                 1.606482e+06 -2.112336e+06 -505853.904221  0.0   \n",
      "3                 1.617333e+06 -2.127450e+06 -510117.078579  0.0   \n",
      "4                 1.628126e+06 -2.142534e+06 -514407.380618  0.0   \n",
      "...                        ...           ...            ...  ...   \n",
      "96                2.232638e+06 -2.591665e+06 -359027.475588  0.0   \n",
      "97                2.236207e+06 -2.590461e+06 -354254.242995  0.0   \n",
      "98                2.239725e+06 -2.589835e+06 -350109.497178  0.0   \n",
      "99                2.243194e+06 -2.588700e+06 -345506.510675  0.0   \n",
      "100               2.246612e+06 -2.587690e+06 -341077.355027  0.0   \n",
      "\n",
      "      Carbon release immediately  Concrete_manufacturing  Concrete_landfill  \n",
      "Year                                                                         \n",
      "0                            0.0                    -0.0               -0.0  \n",
      "1                            0.0                    -0.0               -0.0  \n",
      "2                            0.0                    -0.0               -0.0  \n",
      "3                            0.0                    -0.0               -0.0  \n",
      "4                            0.0                    -0.0               -0.0  \n",
      "...                          ...                     ...                ...  \n",
      "96                           0.0                    -0.0               -0.0  \n",
      "97                           0.0                    -0.0               -0.0  \n",
      "98                           0.0                    -0.0               -0.0  \n",
      "99                           0.0                    -0.0               -0.0  \n",
      "100                          0.0                    -0.0               -0.0  \n",
      "\n",
      "[101 rows x 7 columns]\n",
      "running business as usual scenario for the Golden Bear mine site\n",
      "Gurobi Optimizer version 10.0.3 build v10.0.3rc0 (linux64)\n",
      "\n",
      "CPU model: Intel Core Processor (Broadwell, IBRS), instruction set [SSE2|AVX|AVX2]\n",
      "Thread count: 16 physical cores, 16 logical processors, using up to 16 threads\n",
      "\n",
      "Optimize a model with 3947 rows, 36130 columns and 442656 nonzeros\n",
      "Model fingerprint: 0x8d2c59df\n",
      "Coefficient statistics:\n",
      "  Matrix range     [1e-02, 9e+04]\n",
      "  Objective range  [2e-01, 1e+03]\n",
      "  Bounds range     [0e+00, 0e+00]\n",
      "  RHS range        [1e+00, 8e+05]\n",
      "Presolve removed 2036 rows and 3905 columns\n",
      "Presolve time: 0.18s\n",
      "Presolved: 1911 rows, 32225 columns, 407291 nonzeros\n",
      "\n",
      "Concurrent LP optimizer: primal simplex, dual simplex, and barrier\n",
      "Showing barrier log only...\n",
      "\n",
      "Ordering time: 0.00s\n",
      "\n",
      "Barrier statistics:\n",
      " AA' NZ     : 6.685e+04\n",
      " Factor NZ  : 9.050e+04 (roughly 14 MB of memory)\n",
      " Factor Ops : 4.448e+06 (less than 1 second per iteration)\n",
      " Threads    : 14\n",
      "\n",
      "                  Objective                Residual\n",
      "Iter       Primal          Dual         Primal    Dual     Compl     Time\n",
      "   0   3.82646357e+07  0.00000000e+00  2.53e+05 1.78e-15  8.85e+02     0s\n",
      "   1   2.45630212e+07 -7.90961529e+04  1.63e+05 4.59e+00  5.66e+02     0s\n",
      "   2   8.27024934e+06 -1.99920183e+05  5.48e+04 3.55e-14  2.02e+02     0s\n",
      "   3   3.26004003e+05 -1.60286836e+05  1.60e+03 5.68e-14  9.36e+00     0s\n",
      "   4   2.01370481e+05 -5.96537324e+04  7.22e+02 3.55e-14  4.45e+00     0s\n",
      "   5   1.26144691e+05 -5.58782218e+02  2.57e+02 2.84e-14  1.94e+00     0s\n",
      "   6   1.08405974e+05  1.28288198e+04  1.67e+02 2.84e-14  1.43e+00     0s\n",
      "   7   1.02098979e+05  1.40963301e+04  1.39e+02 2.13e-14  1.31e+00     0s\n",
      "   8   9.51696915e+04  2.79096744e+04  1.10e+02 2.84e-14  9.72e-01     0s\n",
      "   9   8.97263475e+04  4.76486918e+04  8.77e+01 3.20e-14  5.74e-01     0s\n",
      "  10   8.26749592e+04  5.30457471e+04  6.35e+01 2.84e-14  3.97e-01     0s\n",
      "  11   7.03991924e+04  5.59479642e+04  2.53e+01 3.55e-14  1.97e-01     0s\n",
      "  12   6.70947793e+04  5.78663599e+04  1.62e+01 3.55e-14  1.25e-01     0s\n",
      "  13   6.41763058e+04  5.90877149e+04  8.43e+00 4.62e-14  6.96e-02     0s\n",
      "  14   6.31770158e+04  5.94063954e+04  5.90e+00 3.55e-14  5.19e-02     0s\n",
      "  15   6.24084883e+04  5.95100234e+04  3.99e+00 4.97e-14  4.03e-02     0s\n",
      "  16   6.16152032e+04  5.99758508e+04  2.06e+00 4.62e-14  2.30e-02     0s\n",
      "  17   6.12176056e+04  6.01644744e+04  1.10e+00 4.62e-14  1.50e-02     0s\n",
      "  18   6.10812444e+04  6.03179247e+04  7.84e-01 3.55e-14  1.09e-02     0s\n",
      "  19   6.10253438e+04  6.04078754e+04  6.53e-01 6.75e-14  8.79e-03     1s\n",
      "  20   6.09705359e+04  6.04660093e+04  5.27e-01 6.04e-14  7.19e-03     1s\n",
      "  21   6.09548417e+04  6.05154645e+04  4.91e-01 4.97e-14  6.24e-03     1s\n",
      "  22   6.08882792e+04  6.05682668e+04  3.32e-01 4.97e-14  4.57e-03     1s\n",
      "  23   6.08237674e+04  6.06063289e+04  1.90e-01 4.62e-14  3.13e-03     1s\n",
      "  24   6.08042746e+04  6.06510376e+04  1.44e-01 6.75e-14  2.20e-03     1s\n",
      "  25   6.07853405e+04  6.06691625e+04  1.03e-01 4.62e-14  1.67e-03     1s\n",
      "  26   6.07704828e+04  6.06828869e+04  6.78e-02 5.68e-14  1.27e-03     1s\n",
      "  27   6.07597155e+04  6.06946541e+04  4.45e-02 5.68e-14  9.47e-04     1s\n",
      "  28   6.07549663e+04  6.06996519e+04  3.52e-02 4.97e-14  8.07e-04     1s\n",
      "  29   6.07518252e+04  6.07031849e+04  2.87e-02 4.26e-14  7.11e-04     1s\n",
      "  30   6.07507769e+04  6.07179614e+04  2.52e-02 4.97e-14  4.76e-04     1s\n",
      "  31   6.07461712e+04  6.07353486e+04  1.49e-02 5.33e-14  1.52e-04     1s\n",
      "  32   6.07393601e+04  6.07386425e+04  1.33e-05 7.11e-14  1.08e-05     1s\n",
      "  33   6.07392861e+04  6.07392717e+04  4.32e-07 6.39e-14  2.17e-07     1s\n",
      "  34   6.07392798e+04  6.07392798e+04  2.63e-08 6.39e-14  4.53e-10     1s\n",
      "\n",
      "Barrier solved model in 34 iterations and 0.69 seconds (0.53 work units)\n",
      "Optimal objective 6.07392798e+04\n",
      "\n",
      "\n",
      "Solved with dual simplex\n",
      "Iteration    Objective       Primal Inf.    Dual Inf.      Time\n",
      "    3900    6.0739280e+04   0.000000e+00   0.000000e+00      1s\n",
      "\n",
      "Solved in 3900 iterations and 0.76 seconds (0.89 work units)\n",
      "Optimal objective  6.073927981e+04\n"
     ]
    }
   ],
   "source": [
    "Start = time.time()\n",
    "\n",
    "results_scenarios(fm, clt_percentage, credibility, budget_input, n_steps, max_harvest, scenario_name, displacement_effect, hwp_pool_effect_value, release_immediately_value, case_study, obj_mode, output_csv_path, output_pdf_path)\n",
    "\n",
    "print('It took', round((time.time() - Start) / 60, 1), \"minutes to run this script.\")"
   ]
  },
  {
   "cell_type": "code",
   "execution_count": null,
   "id": "77979f29-13b3-4adf-aada-cd459f8a6904",
   "metadata": {},
   "outputs": [],
   "source": []
  }
 ],
 "metadata": {
  "kernelspec": {
   "display_name": "Python 3 (venv:foo)",
   "language": "python",
   "name": "foo"
  },
  "language_info": {
   "codemirror_mode": {
    "name": "ipython",
    "version": 3
   },
   "file_extension": ".py",
   "mimetype": "text/x-python",
   "name": "python",
   "nbconvert_exporter": "python",
   "pygments_lexer": "ipython3",
   "version": "3.10.12"
  }
 },
 "nbformat": 4,
 "nbformat_minor": 5
}
