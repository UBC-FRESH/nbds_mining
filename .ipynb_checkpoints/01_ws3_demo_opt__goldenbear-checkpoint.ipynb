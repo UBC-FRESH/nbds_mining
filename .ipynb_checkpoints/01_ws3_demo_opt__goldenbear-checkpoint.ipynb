{
 "cells": [
  {
   "cell_type": "markdown",
   "id": "57ef47ee-e7b3-4ad3-8407-11a46e2e19ff",
   "metadata": {},
   "source": [
    "# Overview\n",
    "\n",
    "This notebook imports Woodstock formatted input data files and optimize the harvest scheduling considering even flow constrainsts and other constraints. "
   ]
  },
  {
   "cell_type": "code",
   "execution_count": 1,
   "id": "bb0485fa-58cc-4048-a5f5-6bade2903da9",
   "metadata": {},
   "outputs": [
    {
     "name": "stdout",
     "output_type": "stream",
     "text": [
      "Requirement already satisfied: gurobipy in /media/data/home/eghasemi/.virtualenvs/foo/lib/python3.10/site-packages (10.0.3)\n",
      "Note: you may need to restart the kernel to use updated packages.\n"
     ]
    }
   ],
   "source": [
    "%pip install gurobipy"
   ]
  },
  {
   "cell_type": "code",
   "execution_count": 2,
   "id": "972a3d1e-604e-4edc-9101-5f3f6449fb26",
   "metadata": {
    "tags": []
   },
   "outputs": [],
   "source": [
    "import matplotlib.pyplot as plt\n",
    "import pandas as pd\n",
    "import geopandas as gpd\n",
    "import ws3.forest, ws3.core\n",
    "import csv\n",
    "import numpy as np\n",
    "from util import compile_scenario, plot_scenario, cmp_c_z, cmp_c_cflw, cmp_c_caa, cmp_c_ci, gen_scenario, run_scenario\n",
    "import gurobipy as grb"
   ]
  },
  {
   "cell_type": "code",
   "execution_count": 3,
   "id": "e397f7bf-c67a-4fd8-862f-9da3a8aa1523",
   "metadata": {
    "tags": []
   },
   "outputs": [],
   "source": [
    "base_year = 2020\n",
    "horizon = 10\n",
    "period_length = 10\n",
    "max_age =  1000\n",
    "tvy_name = 'totvol'\n",
    "max_harvest = 1"
   ]
  },
  {
   "cell_type": "code",
   "execution_count": 4,
   "id": "d40f4fcc-0465-4c67-9fd1-7fca3f66d16d",
   "metadata": {},
   "outputs": [],
   "source": [
    "fm = ws3.forest.ForestModel(model_name='goldenbear',\n",
    "                            model_path='./data/woodstock_model_files_goldenbear',\n",
    "                            base_year=base_year,\n",
    "                            horizon=horizon,\n",
    "                            period_length=period_length,\n",
    "                            max_age=max_age)\n",
    "fm.import_landscape_section()\n",
    "fm.import_areas_section()\n",
    "fm.import_yields_section()\n",
    "fm.import_actions_section()\n",
    "fm.import_transitions_section()\n",
    "fm.initialize_areas()\n",
    "fm.add_null_action()\n",
    "fm.reset_actions()"
   ]
  },
  {
   "cell_type": "markdown",
   "id": "1caee887-6734-46b1-a79a-b6c330baef2b",
   "metadata": {},
   "source": [
    "At this point, we have a simple but fully functional ws3 model instance. "
   ]
  },
  {
   "cell_type": "code",
   "execution_count": 5,
   "id": "6ce07b10-aa59-4096-8b62-7012f49cf75b",
   "metadata": {
    "tags": []
   },
   "outputs": [],
   "source": [
    "fm.reset()"
   ]
  },
  {
   "cell_type": "markdown",
   "id": "3c8fdcd3-6b41-48b1-bf48-b3a877eb971a",
   "metadata": {},
   "source": [
    "Here is the age distribution for the AOI"
   ]
  },
  {
   "cell_type": "code",
   "execution_count": 6,
   "id": "073d963c-28c0-4066-8e0c-0f937842afc2",
   "metadata": {},
   "outputs": [
    {
     "data": {
      "image/png": "[encoded data removed]",
      "text/plain": [
       "<Figure size 640x480 with 1 Axes>"
      ]
     },
     "metadata": {},
     "output_type": "display_data"
    }
   ],
   "source": [
    "data = fm.age_class_distribution(0)\n",
    "x_values = list(data.keys())\n",
    "y_values = list(data.values()) \n",
    "bin_edges = np.arange(0, 480, 20)\n",
    "hist, _ = np.histogram(x_values, bins=bin_edges, weights=y_values)\n",
    "plt.bar(bin_edges[:-1], hist, width=20, color='blue', edgecolor='black', alpha=0.7)\n",
    "plt.xlabel('Age')\n",
    "plt.ylabel('Area (ha)')\n",
    "plt.title('Age Distribution')\n",
    "plt.show()"
   ]
  },
  {
   "cell_type": "markdown",
   "id": "ad33e148-60c8-4397-8deb-e5ca4ecf7293",
   "metadata": {},
   "source": [
    "## Implement optimization-based action scheduling\n",
    "\n",
    "`ws3` also includes functions to automate the process of formulating and solving linear programming (LP) optimization problems to schedule actions in your model. Using an optimization approach, you formulate your forest-level management problem in terms of an _objective function_ and _constraints_.\n",
    "\n",
    "`ws3` currently includes functions to formulate and solve Model I type optimization problems, as first documented in Johson and Scheurman (1977).\n",
    "\n",
    ">Johnson, K.N. and H.L. Scheurman (1977). “Techniques for prescribing optimal\n",
    "timber harvest and investment under different objectives—discussion and\n",
    "synthesis”. In: Forest Science Monograph 23.suppl_1.\n",
    "\n"
   ]
  },
  {
   "cell_type": "markdown",
   "id": "b11f3377-c127-44dd-b83a-d069e2ffe648",
   "metadata": {},
   "source": [
    "You will need to have `gurobipy` installed for this next step to work. At some point I will finish implementing bindings to the PuLP open-source solver library, but for now we are stuck with Gurobi as the only solver that works with ws3. \n",
    "\n",
    "You should be able to install `gurobipy` using the magic `%pip` command below, however this _only_ installs the Python module and minimal solver binaries. This _does not_ install the full Gurobi software stack, do the Gurobi licence managent tools (including the `grbgetkey` command) are _not_ installed automatically with the Python module. The `gurobipy` installation includes a limited software license that should allow you to solve _small_ problem instances, but will puke if you try to solve anything too large (which includes most `ws3` problems, unless you model is extremely small and simple). \n",
    "\n",
    "If you are eligible for an academic license, you should request and install a \"Named-User Acacdemic\" license from the Licenses tab in the [Gurobi User Portal](https://portal.gurobi.com/iam/licenses/request) (create a new Gurobi account if you do not have one yet, using your official academic institution email address). This license is per-user, per-machine, is valid for one year, should _only_ be used in an academic context (see [Gurobi Standard EULA](https://cdn.gurobi.com/wp-content/uploads/Gurobi_Standard_EULA_Nov2022.pdf) for details of license terms and restrictions).\n",
    "\n",
    "**Hint:** If you get a `grbgetkey: command not found` error, either the full Gurobi software stack is not installed at all on your system, or is installed but `grbgetkey` is not in your path. Depending on your situation, either [install the full Gurobi software stack](https://support.gurobi.com/hc/en-us/articles/4534161999889) or specify the full path to the `grbgetkey` command (Gurobi installation instructions recommend installing Gurobi into `/opt/gurobi` on linux platforms).   "
   ]
  },
  {
   "cell_type": "markdown",
   "id": "c415e085-88aa-4918-950d-80f8e3debae1",
   "metadata": {},
   "source": [
    "First we need to define a few utility functions that we will use to build the problems (e.g., objective function coefficient function, even flow constraint coefficient function, general constraint coefficient function).\n",
    "\n",
    "Note that the `spades_ws3` project contains several useful chunks of code that you can use as a starting point (on GitHub, see link below).\n",
    "\n",
    "https://github.com/gparadis/spades_ws3/blob/master/python/spadesws3.py"
   ]
  },
  {
   "cell_type": "markdown",
   "id": "c4620927-df90-4172-b6e7-829788ef5249",
   "metadata": {},
   "source": [
    "Define a generic base scenario function, and link it to a dispatch function keyed on scenario name string (e.g., `base`). \n",
    "\n",
    "Note how we use `functools.partial` to specialize the more general functions defined above for use in the `coeff_funcs` arg of `ForestModel.add_problem`. Otherwise we would have to define an entirely new function each time we defined a slightly different objective or constraint in one of our scenarios, which would get tedious and messy. The tedium and mess would be more evident if we had a large number of alternative scenarios defined in the same notebook (which we do not here, but use your imagination). \n",
    "\n",
    "Note also that the expected data structures for the various args to `ForestModel.add_problem` must be matched exactly or `ws3` will likely crash somewhere in one of the series of complicated private optimization model-building methods that get called from `ForestModel.add_problem`. You _should not_ have to unpack the exact logic of this model-building code to figure out why your model is crashing... it really is quite complicated and hard to follow. If you model is crashing there, you probably fed invalid (or incorrectly structured) args to `ForestModel.add_problem`. Carefully review the structure and values of your args to find the problem."
   ]
  },
  {
   "cell_type": "markdown",
   "id": "5b1e0fab-6684-45ef-a29d-99c46bb0ce1b",
   "metadata": {},
   "source": [
    "`ForestModel.add_problem` arg specs are described below.\n",
    "\n",
    "`name`: String. Used as key to store `Problem` instances in a dict in the `ForestModel` instanace, so make sure it is unique within a given model or you will overwrite dict values (assuming you want to stuff multiple problems, and their solutions, into your model at the same time). \n",
    "    \n",
    "`coeff_funcs`: Dict of function references, keyed on _row name_ strings. These are the functions that generate the LP optimization problem matrix coefficients (for the objective function and constraint rows). This one gets complicated, and is a likely source of bugs. Make sure the row name key strings are all unique or you will make a mess. You can name the constraint rows anything you want, but the objective function row has to be named `z`. All coefficient functions must accept exactly two args, in this order: a `ws3.forest.ForestModel` instance and a `ws3.common.Path` instance. The `z` coefficient function is special in that it must return a single float value. All other (i.e., constraint) coefficient functions just return a dict of floats, keyed on period ints (can be sparse, i.e., not necessary to include key:value pairs in output dict if value is 0.0). It is useful (but not necessary) to use `functools.partial` to specialize a smaller number of more general function definitions (with more args, that get \"locked down\" and hidden by `partial`) as we have done in the example in this notebook.\n",
    "\n",
    "`cflw_e`: Dict of `(dict, int)` tuples, keyed on _row name_ strings (must match _row name_ key values used to define coefficient functions for flow constraints in `coeff_func` dict), where the int:float dict embedded in the tuple defines epsilon values keyed on periods (must include all periods, even if epsilon value is always the same). See example below. \n",
    "\n",
    "```\n",
    "{\n",
    "  'cflw_acut':({1:0.01, 2:0.01, ..., 10:0.01}, 1),\n",
    "  'cflw_vcut':({1:0.05, 2:0.05, ..., 10:0.05}, 1)\n",
    "}\n",
    "```\n",
    "\n",
    "`cgen_data`: Dict of dict of dicts. The outer-level dict is keyed on _row name_ strings (must match row names used in `coeff_funcs`. The middle second level of dicts always has keys `'lb'` and `'ub'`, and the inner level of dicts specifies lower- and upper-bound general constraint RHS (float) values, keyed on period (int).\n",
    "\n",
    "`acodes`: List of strings. Action codes to be included in optimization problem formulation (actions must defined in the `ForestModel` instance, but can be only a subset).\n",
    "\n",
    "`sense`: Must be one of `ws3.opt.SENSE_MAXIMIZE` or `ws3.opt.SENSE_MINIMIZE`.\n",
    "\n",
    "`mask`: Tuple of strings constituting a valid mask for your `ForestModel` instance. Can be `None` if you do not want to filter `DevelopmentType` instances."
   ]
  },
  {
   "cell_type": "markdown",
   "id": "97d7b993-a203-4451-b3a9-3d86e1ec82d7",
   "metadata": {},
   "source": [
    "We need to add a \"null\" action to the model for the optimization functions to work correctly. This is basically a pass-through action that literally does nothing (i.e., just grow the forest for one time step, which `ws3` models as an explicit decision option in the dynamic programming state trees it builds when it generates the LP problem matrix)."
   ]
  },
  {
   "cell_type": "code",
   "execution_count": 7,
   "id": "aa8a0aa7-40c6-4b39-b719-c13c70f86afd",
   "metadata": {},
   "outputs": [],
   "source": [
    "fm.add_null_action()"
   ]
  },
  {
   "cell_type": "markdown",
   "id": "0cae7a58-6597-433c-b878-b182ad02a64f",
   "metadata": {},
   "source": [
    "We define some scenario options below. Specify which scenario by setting the `scenario_name` variable below."
   ]
  },
  {
   "cell_type": "markdown",
   "id": "032c1138-e225-447b-a8ee-57a2455d30a9",
   "metadata": {},
   "source": [
    "Note that the `Problem.solve` method return a reference to the lower-level `gurobi.Model` object in case we need or want to poke around it (can yield insight into how the optimization problem is formulated on the solver side of things, or help debug).\n",
    "\n",
    "Be vigilant for \"infeasible or unbounded model\" messages and such below, in case these are unexpected. Depending on how the rest of the model was set up, `ws3` may automatically attempt to resolve infeasible models using \"feasibility relaxation\" mode in Gurobi (which might not be what you want, depending on the situation)."
   ]
  },
  {
   "cell_type": "code",
   "execution_count": 8,
   "id": "f3560cb3-05af-410e-a4da-4a3b59ef75b1",
   "metadata": {},
   "outputs": [],
   "source": [
    "# run_scenario(fm, 'base')"
   ]
  },
  {
   "cell_type": "code",
   "execution_count": 9,
   "id": "23c7b291-3297-4d52-9002-c5ab5fd2ceba",
   "metadata": {},
   "outputs": [],
   "source": [
    "# fig, df, problem = run_scenario(fm, 'base-cgen_ha')"
   ]
  },
  {
   "cell_type": "code",
   "execution_count": 10,
   "id": "3f9110b0-eb08-4ed0-8bf6-07060ccb499d",
   "metadata": {},
   "outputs": [],
   "source": [
    "# fig, df, problem = run_scenario(fm, 'base-cgen_ha_90%')"
   ]
  },
  {
   "cell_type": "code",
   "execution_count": 11,
   "id": "3ad3571c-9e22-419b-9f1c-7ded122f4d7f",
   "metadata": {},
   "outputs": [],
   "source": [
    "# fig, df, problem = run_scenario(fm, 'base-cgen_ha_80%')"
   ]
  },
  {
   "cell_type": "code",
   "execution_count": 12,
   "id": "5c9901f6-7bb3-433b-8141-274077cb9d47",
   "metadata": {},
   "outputs": [
    {
     "name": "stdout",
     "output_type": "stream",
     "text": [
      "running maxmizie harvest scenario scenario plus growing stock constraints plus harvest area constraints 100%\n",
      "Set parameter Username\n",
      "Academic license - for non-commercial use only - expires 2025-01-09\n",
      "Gurobi Optimizer version 10.0.3 build v10.0.3rc0 (linux64)\n",
      "\n",
      "CPU model: Intel Core Processor (Broadwell, IBRS), instruction set [SSE2|AVX|AVX2]\n",
      "Thread count: 16 physical cores, 16 logical processors, using up to 16 threads\n",
      "\n",
      "Optimize a model with 3967 rows, 36130 columns and 858624 nonzeros\n",
      "Model fingerprint: 0xc9430a79\n",
      "Coefficient statistics:\n",
      "  Matrix range     [1e-02, 1e+05]\n",
      "  Objective range  [0e+00, 0e+00]\n",
      "  Bounds range     [0e+00, 0e+00]\n",
      "  RHS range        [1e+00, 7e+08]\n",
      "Presolve removed 2050 rows and 2031 columns\n",
      "Presolve time: 0.33s\n",
      "Presolved: 1917 rows, 34100 columns, 525782 nonzeros\n",
      "\n",
      "Concurrent LP optimizer: primal simplex, dual simplex, and barrier\n",
      "Showing barrier log only...\n",
      "\n",
      "Ordering time: 0.01s\n",
      "\n",
      "Barrier statistics:\n",
      " AA' NZ     : 7.816e+04\n",
      " Factor NZ  : 1.016e+05 (roughly 15 MB of memory)\n",
      " Factor Ops : 5.575e+06 (less than 1 second per iteration)\n",
      " Threads    : 14\n",
      "\n",
      "                  Objective                Residual\n",
      "Iter       Primal          Dual         Primal    Dual     Compl     Time\n",
      "   0  -0.00000000e+00  1.89465469e+02  5.44e+06 0.00e+00  5.18e+01     0s\n",
      "   1  -0.00000000e+00  6.08963917e+02  3.58e+06 3.17e-02  3.37e+01     1s\n",
      "   2  -0.00000000e+00  7.15207939e+02  1.67e+06 2.65e-02  1.60e+01     1s\n",
      "   3  -0.00000000e+00  9.19086543e+02  1.14e+06 1.91e-02  1.09e+01     1s\n",
      "   4  -0.00000000e+00  1.51676179e+03  3.77e+05 1.10e-02  3.73e+00     1s\n",
      "   5  -0.00000000e+00  1.96242051e+03  5.63e+04 2.79e-03  5.85e-01     1s\n",
      "   6  -0.00000000e+00  1.85829806e+03  3.46e+04 1.86e-03  3.64e-01     1s\n",
      "   7  -0.00000000e+00  1.40781387e+03  3.32e+04 2.06e-05  3.20e-01     1s\n",
      "   8  -0.00000000e+00  1.12580758e+03  1.76e+04 8.43e-06  1.72e-01     1s\n",
      "   9  -0.00000000e+00  9.22369612e+02  4.02e+03 4.43e-06  4.86e-02     1s\n",
      "  10  -0.00000000e+00  6.61452824e+02  2.45e+03 2.04e-06  2.88e-02     1s\n",
      "  11  -0.00000000e+00  4.75773198e+02  1.37e+03 1.08e-06  1.68e-02     1s\n",
      "  12  -0.00000000e+00  3.15712855e+02  9.73e+02 5.47e-07  1.07e-02     1s\n",
      "  13  -0.00000000e+00  2.43399956e+02  7.03e+02 3.53e-07  7.70e-03     1s\n",
      "  14  -0.00000000e+00  1.57491314e+02  4.05e+02 1.67e-07  4.53e-03     1s\n",
      "  15  -0.00000000e+00  7.57855760e+01  1.09e+02 3.07e-08  1.85e-03     1s\n",
      "  16  -0.00000000e+00  4.78372557e+01  7.05e+01 1.06e-08  1.06e-03     1s\n",
      "  17  -0.00000000e+00  2.38319484e+01  4.20e+01 1.33e-15  4.71e-04     1s\n",
      "  18  -0.00000000e+00  7.59635852e+00  1.94e+01 0.00e+00  1.33e-04     1s\n",
      "\n",
      "Barrier performed 18 iterations in 0.74 seconds (0.53 work units)\n",
      "Barrier solve interrupted - model solved by another algorithm\n",
      "\n",
      "\n",
      "Solved with dual simplex\n",
      "Iteration    Objective       Primal Inf.    Dual Inf.      Time\n",
      "    2187   -0.0000000e+00   0.000000e+00   0.000000e+00      1s\n",
      "\n",
      "Solved in 2187 iterations and 0.81 seconds (0.79 work units)\n",
      "Optimal objective -0.000000000e+00\n"
     ]
    },
    {
     "data": {
      "image/png": "[encoded data removed]",
      "text/plain": [
       "<Figure size 1200x400 with 3 Axes>"
      ]
     },
     "metadata": {},
     "output_type": "display_data"
    }
   ],
   "source": [
    "fig, df, problem = run_scenario(fm, 'base-cgen_gs_ha_100') "
   ]
  },
  {
   "cell_type": "code",
   "execution_count": 13,
   "id": "2043ee56-8ebd-48b5-bd45-4c94a926c44e",
   "metadata": {},
   "outputs": [],
   "source": [
    "# fig, df, problem = run_scenario(fm, 'base-cgen_ha_0%')"
   ]
  },
  {
   "cell_type": "code",
   "execution_count": 14,
   "id": "4b84481a-f16c-45c5-892c-56263731c903",
   "metadata": {},
   "outputs": [],
   "source": [
    "# run_scenario(fm, 'base-cgen_hv')"
   ]
  },
  {
   "cell_type": "code",
   "execution_count": 15,
   "id": "069afd6c-72c3-4cf1-b847-4e34e47f8a3f",
   "metadata": {},
   "outputs": [],
   "source": [
    "# run_scenario(fm, 'base-cgen_gs')"
   ]
  }
 ],
 "metadata": {
  "kernelspec": {
   "display_name": "Python 3 (venv:foo)",
   "language": "python",
   "name": "foo"
  },
  "language_info": {
   "codemirror_mode": {
    "name": "ipython",
    "version": 3
   },
   "file_extension": ".py",
   "mimetype": "text/x-python",
   "name": "python",
   "nbconvert_exporter": "python",
   "pygments_lexer": "ipython3",
   "version": "3.10.12"
  }
 },
 "nbformat": 4,
 "nbformat_minor": 5
}
