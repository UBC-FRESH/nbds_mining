{
 "cells": [
  {
   "cell_type": "markdown",
   "id": "e26eddd8-59ca-40cf-857e-ecee6cda98e1",
   "metadata": {},
   "source": [
    "# DSS Example: Maximize Harvesting via optimization\n",
    "\n",
    "This notebook is an example implementation of a notebook-based decision-support system (DSS) for evaluating the net system-level carbon emissions impact of an maximize harvesting_ type project. \n",
    "\n",
    "## DSS implementation notes\n",
    "\n",
    "At its core this DSS prototype uses ws3 and libcbm_py to do most of the heavy lifting in terms of simulating forest growth, simulating harvesting disturbances, and simulating forest ecosystem carbon stocks and fluxes. ws3 includes built-in functions that automate most of process of compiling CBM input data, importing this input data into CBM, running CBM, and extracting CBM output data in tablular format. We layer onto this some custom functions to simulate multiple decaying pools of harvested wood products (HWP), and displacement effects for these. \n",
    "\n",
    "This DSS assumes we are using the standard \"alternative scenario net of baseline scenario\" approach to defining net carbon emissions, so we include functions that automate the process of pushing a pair of (baseline, alternative) scenarios through the simulation pipeline, collecting the output from each scenario, calculating the difference across scenarios (alternative minus baseline) and displaying this contrast as a function of time.\n",
    "\n",
    "We include a few interactive widgets to show how these can be used to implement a more user-friendly interface for the DSS while keeping the flexibility and low overhead cost of using a Jupyter notebook environment to implement the DSS. \n",
    "\n",
    "Note that most of the complex code that defines the behaviour of the DSS and underlying simulation engines is implemented in a companion `util_opt` Python module. The functions we need from the `util_opt` module are imported at the top of this notebook. \n",
    "\n",
    "\n",
    "## Description of case\n",
    "\n",
    "The study area for this case is a part of timber supply area (TSA) 04 (Cassier) in British Columbia around a mining site with size of 538,355 ha. In this hypothetical case we are assuming that harvesting will be planned such that a _maximizing harvesting_ of merchantable timber volume is extracted from the study area (over an arbitrary 100-year simulation horizon, althought the system can easily be parametrized to simulate shorter or longer horizons). We assume that the harvesting will begin unless someone \"buys out\" and holds the harvesting rights without exploiting them (effectively implementing a \"no harvesting\" policy going forward). In this situation, the \"harvesting\" policy represents the baseline scenario and the \"no harvesting\" policy is the alternative scenario.  "
   ]
  },
  {
   "cell_type": "code",
   "execution_count": 1,
   "id": "f85b3f10-74de-4b90-8965-f92287d1045a",
   "metadata": {},
   "outputs": [],
   "source": [
    "import math\n",
    "import matplotlib.pyplot as plt\n",
    "import pandas as pd\n",
    "import ipywidgets as widgets\n",
    "from IPython.display import display\n",
    "import ws3.forest\n",
    "from util_opt import results_scenarios, run_scenario\n",
    "import time\n",
    "import gurobipy as grb"
   ]
  },
  {
   "cell_type": "code",
   "execution_count": 2,
   "id": "8a2ab190-93b9-4791-ad7b-9ba7e7dc5e89",
   "metadata": {},
   "outputs": [],
   "source": [
    "base_year = 2020\n",
    "horizon = 10\n",
    "period_length = 10\n",
    "max_age = 1000\n",
    "n_steps = 100\n",
    "tvy_name = 'totvol'\n",
    "case_study =  'gldbr'\n",
    "output_csv_path='./outputs/csv'\n",
    "output_pdf_path='./outputs/pdf'"
   ]
  },
  {
   "cell_type": "markdown",
   "id": "bf8f3a05-c967-404e-934d-33b7c99fab2a",
   "metadata": {},
   "source": [
    "Create some interactive widgets to control four model parameters. The widgets have reasonable default values defined, but DSS users can override these default values. There are many (thousands!) of other model parameters that could modified to tweak model behaviour. These are complex models, and in the end the quality of output data is limited by the quality of input parameter choices (many of which require expert judgement).  "
   ]
  },
  {
   "cell_type": "code",
   "execution_count": 3,
   "id": "8675aed4-a638-478a-b272-f2b49edd3eee",
   "metadata": {},
   "outputs": [
    {
     "data": {
      "application/vnd.jupyter.widget-view+json": {
       "model_id": "14ad252a62214712a585f08da7ea61d8",
       "version_major": 2,
       "version_minor": 0
      },
      "text/plain": [
       "FloatSlider(value=1.0, description='HWP_effect', max=1.0, step=1.0)"
      ]
     },
     "metadata": {},
     "output_type": "display_data"
    }
   ],
   "source": [
    "hwp_pool_effect = widgets.FloatSlider(min=0, max=1, step=1, description='HWP_effect', value=1)\n",
    "\n",
    "display(hwp_pool_effect)"
   ]
  },
  {
   "cell_type": "code",
   "execution_count": 4,
   "id": "b123baf5-36ed-4f07-9d38-ca4f02ea1b23",
   "metadata": {},
   "outputs": [],
   "source": [
    "hwp_pool_effect_value = hwp_pool_effect.value"
   ]
  },
  {
   "cell_type": "code",
   "execution_count": 5,
   "id": "3bee2194-67cc-408f-9b55-7bf1e20c3060",
   "metadata": {},
   "outputs": [],
   "source": [
    "# Here we indicate whether the harvested pool products turn into emissions immediately instead of turning into wood products.\n",
    "if hwp_pool_effect_value == 0:\n",
    "    release_immediately = widgets.FloatSlider(min=0, max=1, step=1, description='Release immediately', value=1)\n",
    "    display(release_immediately)"
   ]
  },
  {
   "cell_type": "code",
   "execution_count": 6,
   "id": "d9e60384-c026-4e68-a516-e039857773f8",
   "metadata": {},
   "outputs": [],
   "source": [
    "if hwp_pool_effect_value == 0:\n",
    "    release_immediately_value = release_immediately.value\n",
    "else:  \n",
    "    release_immediately_value = 0"
   ]
  },
  {
   "cell_type": "code",
   "execution_count": 7,
   "id": "358bed9f-7677-4253-828c-6ec38cf98905",
   "metadata": {},
   "outputs": [
    {
     "data": {
      "application/vnd.jupyter.widget-view+json": {
       "model_id": "508888773337407bb1ae5792fd7d0307",
       "version_major": 2,
       "version_minor": 0
      },
      "text/plain": [
       "FloatSlider(value=1.0, description='Displacement', max=1.0, step=1.0)"
      ]
     },
     "metadata": {},
     "output_type": "display_data"
    }
   ],
   "source": [
    "if hwp_pool_effect_value != 0:\n",
    "    displacement_effect = widgets.FloatSlider(min=0, max=1, step=1, description='Displacement', value=1)\n",
    "    display(displacement_effect)"
   ]
  },
  {
   "cell_type": "code",
   "execution_count": 8,
   "id": "ff39d046-c619-4923-8627-31a6f3d963fd",
   "metadata": {},
   "outputs": [],
   "source": [
    "if hwp_pool_effect_value != 0:\n",
    "    displacement_effect = displacement_effect.value\n",
    "else:  \n",
    "    displacement_effect = 0"
   ]
  },
  {
   "cell_type": "code",
   "execution_count": 9,
   "id": "d2317f09-3db3-4474-80d7-614e93e1a7b4",
   "metadata": {},
   "outputs": [
    {
     "data": {
      "application/vnd.jupyter.widget-view+json": {
       "model_id": "a2c9a80ee89d49ad89de3252a8cf411f",
       "version_major": 2,
       "version_minor": 0
      },
      "text/plain": [
       "FloatSlider(value=0.5, description='CLT_percent:', max=1.0)"
      ]
     },
     "metadata": {},
     "output_type": "display_data"
    },
    {
     "data": {
      "application/vnd.jupyter.widget-view+json": {
       "model_id": "74eee4305d94476bba6ed41374967568",
       "version_major": 2,
       "version_minor": 0
      },
      "text/plain": [
       "FloatSlider(value=1.0, description='Credibility:', max=1.0)"
      ]
     },
     "metadata": {},
     "output_type": "display_data"
    }
   ],
   "source": [
    "if displacement_effect == 0:\n",
    "   clt_percentage = 0\n",
    "   credibility = 0\n",
    "else:\n",
    "    clt_percentage = widgets.FloatSlider(min=0, max=1, step=0.1, description='CLT_percent:', value=0.5)\n",
    "    credibility = widgets.FloatSlider(min=0, max=1, step=0.1, description='Credibility:', value=1)\n",
    "    display(clt_percentage, credibility)"
   ]
  },
  {
   "cell_type": "code",
   "execution_count": 10,
   "id": "00f637d1-92cc-4c74-ae88-57ab5f51da79",
   "metadata": {},
   "outputs": [
    {
     "data": {
      "application/vnd.jupyter.widget-view+json": {
       "model_id": "6269c482f8ee40c48f016d76db678a5e",
       "version_major": 2,
       "version_minor": 0
      },
      "text/plain": [
       "FloatSlider(value=0.1, description='Max_harvest:', max=1.0, step=0.05)"
      ]
     },
     "metadata": {},
     "output_type": "display_data"
    },
    {
     "data": {
      "application/vnd.jupyter.widget-view+json": {
       "model_id": "3db91414bd24494ba346c490673601de",
       "version_major": 2,
       "version_minor": 0
      },
      "text/plain": [
       "FloatText(value=10000000.0, description='Budget:')"
      ]
     },
     "metadata": {},
     "output_type": "display_data"
    }
   ],
   "source": [
    "max_harvest = widgets.FloatSlider(min=0, max=1, step=0.05, description='Max_harvest:', value=0.1)\n",
    "budget_input = widgets.FloatText(\n",
    "    value=10000000,\n",
    "    description='Budget:',\n",
    "    disabled=False)\n",
    "display(max_harvest, budget_input)"
   ]
  },
  {
   "cell_type": "code",
   "execution_count": 11,
   "id": "b1890106-a4ba-46b1-a125-4dc86c4da826",
   "metadata": {},
   "outputs": [
    {
     "data": {
      "application/vnd.jupyter.widget-view+json": {
       "model_id": "b689d0c1333847369591d40541b5aadb",
       "version_major": 2,
       "version_minor": 0
      },
      "text/plain": [
       "Dropdown(description='Scenario:', index=1, options=('test', 'no_cons', 'bau_redchrs'), value='no_cons')"
      ]
     },
     "metadata": {},
     "output_type": "display_data"
    }
   ],
   "source": [
    "def select_scenario(scenario_name):\n",
    "    print(f\"Selected scenario: {scenario_name}\")\n",
    "scenario_dropdown = widgets.Dropdown(\n",
    "    options=['test', 'no_cons', 'bau_redchrs'],\n",
    "    value='no_cons',\n",
    "    description='Scenario:'\n",
    ")\n",
    "display(scenario_dropdown)\n",
    "scenario_dropdown.observe(lambda change: select_scenario(change['new']), names='value')"
   ]
  },
  {
   "cell_type": "code",
   "execution_count": 12,
   "id": "9532cfc8-5da1-49c0-b5a4-fd2664809d5e",
   "metadata": {},
   "outputs": [
    {
     "data": {
      "application/vnd.jupyter.widget-view+json": {
       "model_id": "75e56f9976aa4e79af888f6f55793be2",
       "version_major": 2,
       "version_minor": 0
      },
      "text/plain": [
       "Dropdown(description='Objective:', options=('max_hv', 'min_ha'), value='max_hv')"
      ]
     },
     "metadata": {},
     "output_type": "display_data"
    }
   ],
   "source": [
    "def select_obj(obj_mode):\n",
    "    print(f\"Selected scenario: {obj_mode}\")\n",
    "obj_dropdown = widgets.Dropdown(\n",
    "    options=['max_hv', 'min_ha'],\n",
    "    value='max_hv',\n",
    "    description='Objective:'\n",
    ")\n",
    "display(obj_dropdown)\n",
    "obj_dropdown.observe(lambda change: select_obj(change['new']), names='value')"
   ]
  },
  {
   "cell_type": "code",
   "execution_count": 13,
   "id": "d3bdbd46-1954-4925-a8f9-36cbdcf156e4",
   "metadata": {},
   "outputs": [],
   "source": [
    "if displacement_effect != 0:\n",
    "    clt_percentage = clt_percentage.value\n",
    "    credibility = credibility.value\n",
    "max_harvest = max_harvest.value\n",
    "budget_input = budget_input.value\n",
    "scenario_name = scenario_dropdown.value\n",
    "obj_mode = obj_dropdown.value"
   ]
  },
  {
   "cell_type": "code",
   "execution_count": 14,
   "id": "972c6490-009c-4c93-a20d-6828d27f6e3d",
   "metadata": {},
   "outputs": [],
   "source": [
    "fm = ws3.forest.ForestModel(model_name='goldenbear',\n",
    "                            model_path='./data/woodstock_model_files_goldenbear',\n",
    "                            base_year=base_year,\n",
    "                            horizon=horizon,\n",
    "                            period_length=period_length,\n",
    "                            max_age=max_age)\n",
    "fm.import_landscape_section()\n",
    "fm.import_areas_section()\n",
    "fm.import_yields_section()\n",
    "fm.import_actions_section()\n",
    "fm.import_transitions_section()\n",
    "fm.initialize_areas()\n",
    "fm.add_null_action()\n",
    "fm.reset_actions()"
   ]
  },
  {
   "cell_type": "markdown",
   "id": "b7ecbdff-88a6-417a-ae9c-7d2696286c2b",
   "metadata": {},
   "source": [
    "Run the simulations and compile output data into a \"dashboard\" of graphs. The grid of four subfigures shows carbon stocks and emissions for both baseline and alternative scenarios. The figure on the bottom shows the contrast (difference) between net emissions for alternative and baseline scenarios. The contrast is a negative number (in most time steps), which means that according to this simulation the alternative (no harvesting) scenario generally has lower emissions behaviour than the baseline (high even-flow harvesting) scenario. \n",
    "\n",
    "However, close inspection of the detailed scenario-wise emissions graphs reveals that the absolute magnitude of the \"net emission\" indictator for each of the scenarios is relatively small compared to the absolute magnitude of \"ecosystem decay\" and \"gross growth\" emissions (which dominate the net emissions calculation, and come close to cancelling each other out completely). Furthermore, side-by-side visual inspection of the relatively small-magnitude \"net emissions\" profiles for each scenario shows that they are _very_ similar.\n",
    "\n",
    "So, althrough this model is calculating a net negative impact of the \"no harvesting\" scenario relative to the \"with harvesting\" scenario, the magnitude of this impact is small enough (compared to the magnitude of the constituent carbon emission components that are summed to calculate the net emission indicator) to trigger a \"materiality\" criterion challenge. Materiality is further challenged when one considers the relatively low confidence (i.e., high uncertainty) associated with some of the key input assumptions used in this deterministic analysis). \n",
    "\n",
    "As a further example of how the flexibility of this type of notebook-based DSS implementation, we automate the process of calculating the avoided emissions for the first 25 years of the simulation horizon (i.e., the area under the leftmost part of the curve in the bottom figure in the dashboard), and dividing this number into a hypothetical \"budget\" for buying out the harvesting rights, yielding a \"unit cost of avoided emissions\" (in $ per tCO2e). This is the same sort of calculation (minus a full-blown techno-economic analysis to back up the budget value in the numerator) used by economists to compile marginal abatement cost curve (MACC) figures. For example, the DSS prototype as it is implemented could be re-run multiple times to find (through trial and error) the maximum total price one would want to bid to buy out the harvesting rights on this piece of land, given a maximum \"unit cost of avoided emissions\" price we were willing to pay (above which price maybe it would be more economically efficient to invest our \"carbon money\" elsewhere, or just purchase ready-baked carbon offset credits from one of several retail voluntary carbon offset markets)."
   ]
  },
  {
   "cell_type": "code",
   "execution_count": 15,
   "id": "42e05de1-e225-43ce-ab20-eddf586e471a",
   "metadata": {},
   "outputs": [],
   "source": [
    "harvest_acode='harvest'\n",
    "fm.actions[harvest_acode].is_harvest = True"
   ]
  },
  {
   "cell_type": "code",
   "execution_count": 16,
   "id": "f08bfa77-956f-48b1-aaf3-01d57471c0db",
   "metadata": {},
   "outputs": [],
   "source": [
    "fm.reset()"
   ]
  },
  {
   "cell_type": "code",
   "execution_count": 17,
   "id": "c4b4a296-18ef-423d-9af7-00d570d143d4",
   "metadata": {},
   "outputs": [],
   "source": [
    "# schedule = run_scenario(fm, obj_mode, scenario_name)\n",
    "# schedule"
   ]
  },
  {
   "cell_type": "code",
   "execution_count": null,
   "id": "74b5f8d3-3a9a-4145-929f-af9367a22e5e",
   "metadata": {},
   "outputs": [
    {
     "name": "stdout",
     "output_type": "stream",
     "text": [
      "running no constraints scenario\n",
      "Set parameter Username\n",
      "Academic license - for non-commercial use only - expires 2025-01-09\n",
      "Gurobi Optimizer version 10.0.3 build v10.0.3rc0 (linux64)\n",
      "\n",
      "CPU model: Intel Core Processor (Broadwell, IBRS), instruction set [SSE2|AVX|AVX2]\n",
      "Thread count: 16 physical cores, 16 logical processors, using up to 16 threads\n",
      "\n",
      "Optimize a model with 3905 rows, 36130 columns and 36130 nonzeros\n",
      "Model fingerprint: 0xcba9c472\n",
      "Coefficient statistics:\n",
      "  Matrix range     [1e+00, 1e+00]\n",
      "  Objective range  [1e+00, 9e+04]\n",
      "  Bounds range     [0e+00, 0e+00]\n",
      "  RHS range        [1e+00, 1e+00]\n",
      "Presolve removed 3905 rows and 36130 columns\n",
      "Presolve time: 0.03s\n",
      "Presolve: All rows and columns removed\n",
      "Iteration    Objective       Primal Inf.    Dual Inf.      Time\n",
      "       0    2.0306528e+07   0.000000e+00   0.000000e+00      0s\n",
      "\n",
      "Solved in 0 iterations and 0.04 seconds (0.01 work units)\n",
      "Optimal objective  2.030652838e+07\n",
      "      Ecosystem decay emission  Gross growth  Net emission            HWP  \\\n",
      "Year                                                                        \n",
      "0                 0.000000e+00  0.000000e+00  0.000000e+00       0.000000   \n",
      "1                 1.595596e+06 -2.095777e+06 -5.106326e+05     282.337987   \n",
      "2                 1.606482e+06 -2.112336e+06 -5.117303e+05    4856.963268   \n",
      "3                 1.617333e+06 -2.127450e+06 -5.144797e+05    6370.735499   \n",
      "4                 1.628126e+06 -2.142534e+06 -5.175995e+05    7541.186098   \n",
      "...                        ...           ...           ...            ...   \n",
      "96                2.207290e+06 -2.582837e+06  2.261327e+05  914663.273977   \n",
      "97                2.210653e+06 -2.582255e+06  2.325469e+05  917131.455963   \n",
      "98                2.214033e+06 -2.582300e+06  2.383003e+05  919550.757566   \n",
      "99                2.217419e+06 -2.581840e+06  2.445179e+05  921922.146824   \n",
      "100               3.890663e+06 -7.799930e+05  3.721933e+06  924246.572603   \n",
      "\n",
      "      Carbon release immediately  Concrete_manufacturing  Concrete_landfill  \n",
      "Year                                                                         \n",
      "0                            0.0               -0.000000          -0.000000  \n",
      "1                            0.0           -10304.305533        -429.046386  \n",
      "2                            0.0           -10304.305533        -429.046386  \n",
      "3                            0.0           -10304.305533        -429.046386  \n",
      "4                            0.0           -10304.305533        -429.046386  \n",
      "...                          ...                     ...                ...  \n",
      "96                           0.0          -300472.408917      -12510.945134  \n",
      "97                           0.0          -300472.408917      -12510.945134  \n",
      "98                           0.0          -300472.408917      -12510.945134  \n",
      "99                           0.0          -300472.408917      -12510.945134  \n",
      "100                          0.0          -300472.408917      -12510.945134  \n",
      "\n",
      "[101 rows x 7 columns]\n",
      "running business as usual scenario for the Golden Bear mine site\n",
      "Gurobi Optimizer version 10.0.3 build v10.0.3rc0 (linux64)\n",
      "\n",
      "CPU model: Intel Core Processor (Broadwell, IBRS), instruction set [SSE2|AVX|AVX2]\n",
      "Thread count: 16 physical cores, 16 logical processors, using up to 16 threads\n",
      "\n",
      "Optimize a model with 3947 rows, 36130 columns and 442656 nonzeros\n",
      "Model fingerprint: 0x9c20d9c8\n",
      "Coefficient statistics:\n",
      "  Matrix range     [1e-02, 9e+04]\n",
      "  Objective range  [1e+00, 9e+04]\n",
      "  Bounds range     [0e+00, 0e+00]\n",
      "  RHS range        [1e+00, 8e+05]\n",
      "Presolve removed 2036 rows and 3905 columns\n",
      "Presolve time: 0.12s\n",
      "Presolved: 1911 rows, 32225 columns, 407291 nonzeros\n",
      "\n",
      "Concurrent LP optimizer: primal simplex, dual simplex, and barrier\n",
      "Showing barrier log only...\n",
      "\n",
      "Ordering time: 0.00s\n",
      "\n",
      "Barrier statistics:\n",
      " AA' NZ     : 6.685e+04\n",
      " Factor NZ  : 9.050e+04 (roughly 14 MB of memory)\n",
      " Factor Ops : 4.448e+06 (less than 1 second per iteration)\n",
      " Threads    : 14\n",
      "\n",
      "                  Objective                Residual\n",
      "Iter       Primal          Dual         Primal    Dual     Compl     Time\n",
      "   0   1.78375199e+09  7.63590520e+06  2.55e+05 1.02e+03  6.29e+04     0s\n",
      "   1   9.69539287e+08  1.85084962e+07  1.38e+05 5.38e+02  3.49e+04     0s\n",
      "   2   7.70142576e+07  3.21609381e+07  9.71e+03 6.82e-12  2.87e+03     0s\n",
      "   3   2.03189580e+07  2.47641943e+07  1.55e+03 7.50e-12  6.29e+02     0s\n",
      "   4   1.12633921e+07  1.99039591e+07  4.12e+02 7.22e-12  2.63e+02     0s\n",
      "   5   9.81108553e+06  1.25340874e+07  2.28e+02 4.55e-12  9.26e+01     0s\n",
      "   6   9.17220544e+06  9.22950242e+06  1.48e+02 4.55e-12  2.40e+01     0s\n",
      "   7   8.04707475e+06  8.20457211e+06  5.32e+00 2.50e-12  3.07e+00     0s\n",
      "   8   8.00538800e+06  8.00770168e+06  2.41e-11 2.05e-12  3.49e-02     0s\n",
      "   9   8.00538970e+06  8.00539201e+06  6.64e-11 2.96e-12  3.49e-05     0s\n",
      "  10   8.00538970e+06  8.00538970e+06  1.05e-11 3.07e-12  3.49e-08     0s\n",
      "  11   8.00538970e+06  8.00538970e+06  1.52e-10 2.73e-12  3.50e-12     0s\n",
      "\n",
      "Barrier solved model in 11 iterations and 0.36 seconds (0.29 work units)\n",
      "Optimal objective 8.00538970e+06\n",
      "\n",
      "\n",
      "Solved with primal simplex\n",
      "Iteration    Objective       Primal Inf.    Dual Inf.      Time\n",
      "    5039    8.0053897e+06   0.000000e+00   0.000000e+00      1s\n",
      "\n",
      "Solved in 5039 iterations and 0.54 seconds (0.90 work units)\n",
      "Optimal objective  8.005389700e+06\n"
     ]
    }
   ],
   "source": [
    "Start = time.time()\n",
    "\n",
    "results_scenarios(fm, clt_percentage, credibility, budget_input, n_steps, max_harvest, scenario_name, displacement_effect, hwp_pool_effect_value, release_immediately_value, case_study, obj_mode, output_csv_path, output_pdf_path)\n",
    "\n",
    "print('It took', round((time.time() - Start) / 60, 1), \"minutes to run this script.\")"
   ]
  },
  {
   "cell_type": "code",
   "execution_count": null,
   "id": "77979f29-13b3-4adf-aada-cd459f8a6904",
   "metadata": {},
   "outputs": [],
   "source": []
  }
 ],
 "metadata": {
  "kernelspec": {
   "display_name": "Python 3 (venv:foo)",
   "language": "python",
   "name": "foo"
  },
  "language_info": {
   "codemirror_mode": {
    "name": "ipython",
    "version": 3
   },
   "file_extension": ".py",
   "mimetype": "text/x-python",
   "name": "python",
   "nbconvert_exporter": "python",
   "pygments_lexer": "ipython3",
   "version": "3.10.12"
  }
 },
 "nbformat": 4,
 "nbformat_minor": 5
}
