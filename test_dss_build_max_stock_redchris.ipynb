{
 "cells": [
  {
   "cell_type": "markdown",
   "id": "1a5d44a5-2160-4043-aff7-eecad3db2ce0",
   "metadata": {
    "tags": []
   },
   "source": [
    "# Connect Forest Management Model with Forest Carbon Budget Model (without calibration)"
   ]
  },
  {
   "cell_type": "markdown",
   "id": "b2965270-03d6-4a66-b266-7744e7ae5e1b",
   "metadata": {
    "tags": []
   },
   "source": [
    "## Set up Modelling Environment"
   ]
  },
  {
   "cell_type": "code",
   "execution_count": 1,
   "id": "213247ec-412e-4f98-9141-7de4cc19d042",
   "metadata": {
    "tags": []
   },
   "outputs": [],
   "source": [
    "import numpy as np\n",
    "import math\n",
    "import matplotlib.pyplot as plt\n",
    "import pandas as pd\n",
    "import ipywidgets as widgets\n",
    "from IPython.display import display\n",
    "import ws3.forest\n",
    "import time\n",
    "import gurobipy as grb\n",
    "from util_opt import compile_scenario_maxstock, plot_scenario_maxstock, run_cbm_maxstock, cbm_report, plugin_c_curves, compare_ws3_cbm, compile_events\n",
    "import pickle\n",
    "# Import Module\n",
    "from util_opt import compile_scenario_maxstock, plot_scenario_maxstock, run_cbm_maxstock, run_scenario, plugin_c_curves_both, cbm_report_both, compare_ws3_cbm_both, track_system_stock, track_system_emission, compile_scenario_minemission, plot_scenario_minemission, kpi_age, kpi_species\n",
    "import libcbm"
   ]
  },
  {
   "cell_type": "markdown",
   "id": "84d286e1-4f32-408d-831d-ff751dee88a9",
   "metadata": {
    "tags": []
   },
   "source": [
    "## Create and Run `ForestModel` instance"
   ]
  },
  {
   "cell_type": "code",
   "execution_count": 2,
   "id": "7b36a6af-653c-4e96-a449-694f3f46a55e",
   "metadata": {
    "tags": []
   },
   "outputs": [],
   "source": [
    "base_year = 2020\n",
    "horizon = 10\n",
    "period_length = 10\n",
    "max_age = 1000\n",
    "n_steps = 100\n",
    "tvy_name = 'totvol'\n",
    "case_study = 'redchris'"
   ]
  },
  {
   "cell_type": "code",
   "execution_count": 3,
   "id": "272dc89c-766b-40d9-adef-cde44991305a",
   "metadata": {},
   "outputs": [
    {
     "data": {
      "application/vnd.jupyter.widget-view+json": {
       "model_id": "8d46d5a56f11456a8258cdd387b93e21",
       "version_major": 2,
       "version_minor": 0
      },
      "text/plain": [
       "FloatSlider(value=1.0, description='HWP_effect', max=1.0, step=1.0)"
      ]
     },
     "metadata": {},
     "output_type": "display_data"
    }
   ],
   "source": [
    "hwp_pool_effect = widgets.FloatSlider(min=0, max=1, step=1, description='HWP_effect', value=1)\n",
    "\n",
    "display(hwp_pool_effect)"
   ]
  },
  {
   "cell_type": "code",
   "execution_count": 4,
   "id": "359a42b5-17cd-4203-90dd-b5e5f4098da9",
   "metadata": {},
   "outputs": [],
   "source": [
    "hwp_pool_effect_value = hwp_pool_effect.value"
   ]
  },
  {
   "cell_type": "code",
   "execution_count": 5,
   "id": "89d3b9c7-27b9-411a-a5e6-cc364469c9cb",
   "metadata": {},
   "outputs": [],
   "source": [
    "# Here we indicate whether the harvested pool products turn into emissions immediately instead of turning into wood products.\n",
    "if hwp_pool_effect_value == 0:\n",
    "    release_immediately = widgets.FloatSlider(min=0, max=1, step=1, description='Release immediately', value=1)\n",
    "    display(release_immediately)"
   ]
  },
  {
   "cell_type": "code",
   "execution_count": 6,
   "id": "1f6af640-a201-45e9-a541-b0084a40b494",
   "metadata": {},
   "outputs": [],
   "source": [
    "if hwp_pool_effect_value == 0:\n",
    "    release_immediately_value = release_immediately.value\n",
    "else:  \n",
    "    release_immediately_value = 0"
   ]
  },
  {
   "cell_type": "code",
   "execution_count": 7,
   "id": "1c1a7235-c3a2-40a9-beb8-483e25c9f7fe",
   "metadata": {},
   "outputs": [
    {
     "data": {
      "application/vnd.jupyter.widget-view+json": {
       "model_id": "28be2bcdce024dc3a5d5d3fba1715a06",
       "version_major": 2,
       "version_minor": 0
      },
      "text/plain": [
       "FloatSlider(value=1.0, description='Displacement', max=1.0, step=1.0)"
      ]
     },
     "metadata": {},
     "output_type": "display_data"
    }
   ],
   "source": [
    "if hwp_pool_effect_value != 0:\n",
    "    displacement_effect = widgets.FloatSlider(min=0, max=1, step=1, description='Displacement', value=1)\n",
    "    display(displacement_effect)"
   ]
  },
  {
   "cell_type": "code",
   "execution_count": 8,
   "id": "c19141f6-3ce3-4905-be86-6df0e94e7960",
   "metadata": {},
   "outputs": [],
   "source": [
    "if hwp_pool_effect_value != 0:\n",
    "    displacement_effect = displacement_effect.value\n",
    "else:  \n",
    "    displacement_effect = 0"
   ]
  },
  {
   "cell_type": "code",
   "execution_count": 9,
   "id": "ff271222-39ba-4d25-a0db-29253ca921e2",
   "metadata": {},
   "outputs": [
    {
     "data": {
      "application/vnd.jupyter.widget-view+json": {
       "model_id": "c9e67aea7cb144fcba1ee99912a0ff81",
       "version_major": 2,
       "version_minor": 0
      },
      "text/plain": [
       "FloatSlider(value=0.5, description='CLT_percent:', max=1.0)"
      ]
     },
     "metadata": {},
     "output_type": "display_data"
    },
    {
     "data": {
      "application/vnd.jupyter.widget-view+json": {
       "model_id": "d33bac7023784466bd4724c672063a51",
       "version_major": 2,
       "version_minor": 0
      },
      "text/plain": [
       "FloatSlider(value=1.0, description='Credibility:', max=1.0)"
      ]
     },
     "metadata": {},
     "output_type": "display_data"
    }
   ],
   "source": [
    "if displacement_effect == 0:\n",
    "   clt_percentage = 0\n",
    "   credibility = 0\n",
    "else:\n",
    "    clt_percentage = widgets.FloatSlider(min=0, max=1, step=0.1, description='CLT_percent:', value=0.5)\n",
    "    credibility = widgets.FloatSlider(min=0, max=1, step=0.1, description='Credibility:', value=1)\n",
    "    display(clt_percentage, credibility)"
   ]
  },
  {
   "cell_type": "code",
   "execution_count": 10,
   "id": "ebc67ca7-85eb-4f1b-b253-276d2d79ae42",
   "metadata": {},
   "outputs": [
    {
     "data": {
      "application/vnd.jupyter.widget-view+json": {
       "model_id": "507c049ff15f46f49a091184e469adca",
       "version_major": 2,
       "version_minor": 0
      },
      "text/plain": [
       "FloatSlider(value=0.1, description='Max_harvest:', max=1.0, step=0.05)"
      ]
     },
     "metadata": {},
     "output_type": "display_data"
    },
    {
     "data": {
      "application/vnd.jupyter.widget-view+json": {
       "model_id": "b7e64cf2a98f46e689e4d9f0ddce01f3",
       "version_major": 2,
       "version_minor": 0
      },
      "text/plain": [
       "FloatText(value=10000000.0, description='Budget:')"
      ]
     },
     "metadata": {},
     "output_type": "display_data"
    }
   ],
   "source": [
    "max_harvest = widgets.FloatSlider(min=0, max=1, step=0.05, description='Max_harvest:', value=0.1)\n",
    "budget_input = widgets.FloatText(\n",
    "    value=10000000,\n",
    "    description='Budget:',\n",
    "    disabled=False)\n",
    "display(max_harvest, budget_input)"
   ]
  },
  {
   "cell_type": "code",
   "execution_count": 11,
   "id": "43d8d9bf-3321-4101-af73-dec170dd2fe9",
   "metadata": {},
   "outputs": [
    {
     "data": {
      "application/vnd.jupyter.widget-view+json": {
       "model_id": "5c2a7d9b7d024297ac55452b7599d685",
       "version_major": 2,
       "version_minor": 0
      },
      "text/plain": [
       "Dropdown(description='Scenario:', index=1, options=('test', 'no_cons', 'bau_redchrs'), value='no_cons')"
      ]
     },
     "metadata": {},
     "output_type": "display_data"
    }
   ],
   "source": [
    "def select_scenario(scenario_name):\n",
    "    print(f\"Selected scenario: {scenario_name}\")\n",
    "scenario_dropdown = widgets.Dropdown(\n",
    "    options=['test', 'no_cons', 'bau_redchrs'],\n",
    "    value='no_cons',\n",
    "    description='Scenario:'\n",
    ")\n",
    "display(scenario_dropdown)\n",
    "scenario_dropdown.observe(lambda change: select_scenario(change['new']), names='value')"
   ]
  },
  {
   "cell_type": "code",
   "execution_count": 12,
   "id": "baeaf4f5-2c62-4d92-8241-254b005187bd",
   "metadata": {},
   "outputs": [
    {
     "data": {
      "application/vnd.jupyter.widget-view+json": {
       "model_id": "e611ff7c27ca467b9dd885d206de2017",
       "version_major": 2,
       "version_minor": 0
      },
      "text/plain": [
       "Dropdown(description='Objective:', index=3, options=('max_hv', 'min_ha', 'max_st', 'min_em'), value='min_em')"
      ]
     },
     "metadata": {},
     "output_type": "display_data"
    }
   ],
   "source": [
    "def select_obj(obj_mode):\n",
    "    print(f\"Selected scenario: {obj_mode}\")\n",
    "obj_dropdown = widgets.Dropdown(\n",
    "    options=['max_hv', 'min_ha', 'max_st', 'min_em'],\n",
    "    value='min_em',\n",
    "    description='Objective:'\n",
    ")\n",
    "display(obj_dropdown)\n",
    "obj_dropdown.observe(lambda change: select_obj(change['new']), names='value')"
   ]
  },
  {
   "cell_type": "code",
   "execution_count": 13,
   "id": "0a2f0004-2e8c-4ccb-bfe6-df52b1bbf437",
   "metadata": {},
   "outputs": [],
   "source": [
    "if displacement_effect != 0:\n",
    "    clt_percentage = clt_percentage.value\n",
    "    credibility = credibility.value\n",
    "max_harvest = max_harvest.value\n",
    "budget_input = budget_input.value\n",
    "scenario_name = scenario_dropdown.value\n",
    "obj_mode = obj_dropdown.value"
   ]
  },
  {
   "cell_type": "code",
   "execution_count": 14,
   "id": "21205949-5636-4bef-8d49-247687514ec2",
   "metadata": {
    "tags": []
   },
   "outputs": [],
   "source": [
    "fm = ws3.forest.ForestModel(model_name='redchris',\n",
    "                            # model_path='./data/woodstock_model_files_redchris_test',\n",
    "                            model_path='./data/woodstock_model_files_redchris',\n",
    "                            base_year=base_year,\n",
    "                            horizon=horizon,\n",
    "                            period_length=period_length,\n",
    "                            max_age=max_age)\n",
    "fm.import_landscape_section()\n",
    "fm.import_areas_section()\n",
    "fm.import_yields_section()\n",
    "fm.import_actions_section()\n",
    "fm.import_transitions_section()\n",
    "fm.initialize_areas()\n",
    "fm.add_null_action()\n",
    "fm.reset_actions()\n",
    "\n",
    "fm.grow()"
   ]
  },
  {
   "cell_type": "code",
   "execution_count": 15,
   "id": "b5f68734-e67c-4bc5-9100-a99862e4567c",
   "metadata": {
    "tags": []
   },
   "outputs": [],
   "source": [
    "# Flag 'harvest' as a harvesting action in the ws3 model\n",
    "harvest_acode='harvest'\n",
    "fm.actions[harvest_acode].is_harvest = True"
   ]
  },
  {
   "cell_type": "code",
   "execution_count": 16,
   "id": "e48cb5b5-787a-43bd-b43b-f6caf2f96cf6",
   "metadata": {
    "tags": []
   },
   "outputs": [
    {
     "data": {
      "text/plain": [
       "(<Figure size 2000x500 with 4 Axes>,\n",
       " array([<Axes: title={'center': 'Harvested area'}, xlabel='Period', ylabel='Area (ha)'>,\n",
       "        <Axes: title={'center': 'Harvested volume'}, xlabel='Period', ylabel='Volume (m3)'>,\n",
       "        <Axes: title={'center': 'Growing Stock'}, xlabel='Period', ylabel='Volume (m3)'>,\n",
       "        <Axes: title={'center': 'Ecosystem C stock'}, xlabel='Period', ylabel='Stock (ton)'>],\n",
       "       dtype=object))"
      ]
     },
     "execution_count": 16,
     "metadata": {},
     "output_type": "execute_result"
    },
    {
     "data": {
      "image/png": "[encoded data removed]",
      "text/plain": [
       "<Figure size 2000x500 with 4 Axes>"
      ]
     },
     "metadata": {},
     "output_type": "display_data"
    }
   ],
   "source": [
    "# Check the Forest Inventory of the Forest Model\n",
    "df = compile_scenario_maxstock(fm)\n",
    "plot_scenario_maxstock(df)"
   ]
  },
  {
   "cell_type": "markdown",
   "id": "9597ca3e-2d50-4fc5-86d7-d65110ac0105",
   "metadata": {
    "tags": []
   },
   "source": [
    "## Hard-link `ForestModel` to `libcbm`"
   ]
  },
  {
   "cell_type": "markdown",
   "id": "3d758cb0-7bba-4bb2-b6a6-cd078d9a3602",
   "metadata": {},
   "source": [
    "Prepare CBM input files"
   ]
  },
  {
   "cell_type": "code",
   "execution_count": 17,
   "id": "1a3238c3-ef1e-4aab-aac1-20c951520bc5",
   "metadata": {
    "tags": []
   },
   "outputs": [],
   "source": [
    "# Define Disturance Types\n",
    "disturbance_type_mapping = [{'user_dist_type': 'harvest', 'default_dist_type': 'Clearcut harvesting without salvage'},\n",
    "                            {'user_dist_type': 'fire', 'default_dist_type': 'Wildfire'}]\n",
    "for dtype_key in fm.dtypes:\n",
    "    fm.dt(dtype_key).last_pass_disturbance = 'fire' if dtype_key[2] == dtype_key[4] else 'harvest'"
   ]
  },
  {
   "cell_type": "code",
   "execution_count": 18,
   "id": "8b285ecf-6981-437f-829a-54b951b674e7",
   "metadata": {
    "tags": []
   },
   "outputs": [],
   "source": [
    "sit_config, sit_tables = fm.to_cbm_sit(softwood_volume_yname='swdvol', \n",
    "                                       hardwood_volume_yname='hwdvol', \n",
    "                                       admin_boundary='British Columbia', \n",
    "                                       eco_boundary='Montane Cordillera',\n",
    "                                       disturbance_type_mapping=disturbance_type_mapping)"
   ]
  },
  {
   "cell_type": "markdown",
   "id": "aa26a5b6-9c12-4653-9fa8-d9b46e71fee2",
   "metadata": {},
   "source": [
    "Here are other two ways to generate sit tables. But they are only suitbale for small forest model since they take too much running time and memory"
   ]
  },
  {
   "cell_type": "code",
   "execution_count": 19,
   "id": "c0d05155-9b33-49c8-8320-ad9acbafda13",
   "metadata": {
    "tags": []
   },
   "outputs": [],
   "source": [
    "# Define Time Steps\n",
    "n_steps = fm.horizon * fm.period_length\n",
    "\n",
    "# Run CBM and Generate CBM 0utputs\n",
    "cbm_output = run_cbm_maxstock(sit_config, sit_tables, n_steps)"
   ]
  },
  {
   "cell_type": "markdown",
   "id": "c6d27b60-bd78-42af-9bc3-f81ad77fd9ad",
   "metadata": {},
   "source": [
    "Emissions from all biomass components only resulting from fire disturbance, while these from all DOM pools resulting from annual decay processes and fire disturbance."
   ]
  },
  {
   "cell_type": "code",
   "execution_count": 20,
   "id": "05ab0cab-f8fb-49a0-bf38-c196e5720344",
   "metadata": {
    "tags": []
   },
   "outputs": [],
   "source": [
    "# Define Carbon Pools\n",
    "biomass_pools = ['SoftwoodMerch','SoftwoodFoliage', 'SoftwoodOther', 'SoftwoodCoarseRoots','SoftwoodFineRoots',                        \n",
    "                 'HardwoodMerch', 'HardwoodFoliage', 'HardwoodOther', 'HardwoodCoarseRoots', 'HardwoodFineRoots']\n",
    "dom_pools = ['AboveGroundVeryFastSoil', 'BelowGroundVeryFastSoil', 'AboveGroundFastSoil', 'BelowGroundFastSoil',\n",
    "             'MediumSoil', 'AboveGroundSlowSoil', 'BelowGroundSlowSoil', 'SoftwoodStemSnag', 'SoftwoodBranchSnag',\n",
    "             'HardwoodStemSnag', 'HardwoodBranchSnag']\n",
    "emissions_pools = ['CO2', 'CH4', 'CO', 'NO2']\n",
    "products_pools = ['Products']\n",
    "ecosystem_pools = biomass_pools + dom_pools\n",
    "all_pools = biomass_pools + dom_pools + emissions_pools + products_pools"
   ]
  },
  {
   "cell_type": "code",
   "execution_count": 21,
   "id": "c5c842f1-a9ab-4602-81a3-668325e6f2eb",
   "metadata": {
    "tags": []
   },
   "outputs": [],
   "source": [
    "# Define Carbon Fluxes\n",
    "annual_process_fluxes = [\n",
    "    'DecayDOMCO2Emission',\n",
    "    'DeltaBiomass_AG',\n",
    "    'DeltaBiomass_BG',\n",
    "    'TurnoverMerchLitterInput',\n",
    "    'TurnoverFolLitterInput',\n",
    "    'TurnoverOthLitterInput',\n",
    "    'TurnoverCoarseLitterInput',\n",
    "    'TurnoverFineLitterInput',\n",
    "    'DecayVFastAGToAir',\n",
    "    'DecayVFastBGToAir',\n",
    "    'DecayFastAGToAir',\n",
    "    'DecayFastBGToAir',\n",
    "    'DecayMediumToAir',\n",
    "    'DecaySlowAGToAir',\n",
    "    'DecaySlowBGToAir',\n",
    "    'DecaySWStemSnagToAir',\n",
    "    'DecaySWBranchSnagToAir',\n",
    "    'DecayHWStemSnagToAir',\n",
    "    'DecayHWBranchSnagToAir'\n",
    "]\n",
    "\n",
    "\n",
    "npp_fluxes=[\n",
    "    'DeltaBiomass_AG', \n",
    "    'DeltaBiomass_BG'\n",
    "]\n",
    "\n",
    "# decay_emissions_fluxes = [\n",
    "#     'DecayVFastAGToAir',\n",
    "#     'DecayVFastBGToAir',\n",
    "#     'DecayFastAGToAir',\n",
    "#     'DecayFastBGToAir',\n",
    "#     'DecayMediumToAir',\n",
    "#     'DecaySlowAGToAir',\n",
    "#     'DecaySlowBGToAir',\n",
    "#     'DecaySWStemSnagToAir',\n",
    "#     'DecaySWBranchSnagToAir',\n",
    "#     'DecayHWStemSnagToAir',\n",
    "#     'DecayHWBranchSnagToAir'\n",
    "# ]\n",
    "ecosystem_decay_emissions_pools = [\n",
    "    'DecayVFastAGToAir',\n",
    "    'DecayVFastBGToAir',\n",
    "    'DecayFastAGToAir',\n",
    "    'DecayFastBGToAir',\n",
    "    'DecayMediumToAir',\n",
    "    'DecaySlowAGToAir',\n",
    "    'DecaySlowBGToAir',\n",
    "    'DecaySWStemSnagToAir',\n",
    "    'DecaySWBranchSnagToAir',\n",
    "    'DecayHWStemSnagToAir',\n",
    "    'DecayHWBranchSnagToAir']\n",
    "\n",
    "disturbance_production_fluxes = [\n",
    "    'DisturbanceSoftProduction',\n",
    "    'DisturbanceHardProduction',\n",
    "    'DisturbanceDOMProduction'   \n",
    "]\n",
    "\n",
    "disturbance_emissions_fluxes = [\n",
    "    'DisturbanceMerchToAir',\n",
    "    'DisturbanceFolToAir',\n",
    "    'DisturbanceOthToAir',\n",
    "    'DisturbanceCoarseToAir',\n",
    "    'DisturbanceFineToAir',\n",
    "    'DisturbanceVFastAGToAir',\n",
    "    'DisturbanceVFastBGToAir',\n",
    "    'DisturbanceFastAGToAir',\n",
    "    'DisturbanceFastBGToAir',\n",
    "    'DisturbanceMediumToAir',\n",
    "    'DisturbanceSlowAGToAir',\n",
    "    'DisturbanceSlowBGToAir',\n",
    "    'DisturbanceSWStemSnagToAir',\n",
    "    'DisturbanceSWBranchSnagToAir',\n",
    "    'DisturbanceHWStemSnagToAir',\n",
    "    'DisturbanceHWBranchSnagToAir'   \n",
    "]\n",
    "\n",
    "all_fluxes = [\n",
    "    'DisturbanceCO2Production',\n",
    "    'DisturbanceCH4Production',\n",
    "    'DisturbanceCOProduction',\n",
    "    'DisturbanceBioCO2Emission',\n",
    "    'DisturbanceBioCH4Emission',\n",
    "    'DisturbanceBioCOEmission',\n",
    "    'DecayDOMCO2Emission',\n",
    "    'DisturbanceSoftProduction',\n",
    "    'DisturbanceHardProduction',\n",
    "    'DisturbanceDOMProduction',\n",
    "    'DeltaBiomass_AG',\n",
    "    'DeltaBiomass_BG',\n",
    "    'TurnoverMerchLitterInput',\n",
    "    'TurnoverFolLitterInput',\n",
    "    'TurnoverOthLitterInput',\n",
    "    'TurnoverCoarseLitterInput',\n",
    "    'TurnoverFineLitterInput',\n",
    "    'DecayVFastAGToAir',\n",
    "    'DecayVFastBGToAir',\n",
    "    'DecayFastAGToAir',\n",
    "    'DecayFastBGToAir',\n",
    "    'DecayMediumToAir',\n",
    "    'DecaySlowAGToAir',\n",
    "    'DecaySlowBGToAir',\n",
    "    'DecaySWStemSnagToAir',\n",
    "    'DecaySWBranchSnagToAir',\n",
    "    'DecayHWStemSnagToAir',\n",
    "    'DecayHWBranchSnagToAir',\n",
    "    'DisturbanceMerchToAir',\n",
    "    'DisturbanceFolToAir',\n",
    "    'DisturbanceOthToAir',\n",
    "    'DisturbanceCoarseToAir',\n",
    "    'DisturbanceFineToAir',\n",
    "    'DisturbanceDOMCO2Emission',\n",
    "    'DisturbanceDOMCH4Emission',\n",
    "    'DisturbanceDOMCOEmission',\n",
    "    'DisturbanceMerchLitterInput',\n",
    "    'DisturbanceFolLitterInput',\n",
    "    'DisturbanceOthLitterInput',\n",
    "    'DisturbanceCoarseLitterInput',\n",
    "    'DisturbanceFineLitterInput',\n",
    "    'DisturbanceVFastAGToAir',\n",
    "    'DisturbanceVFastBGToAir',\n",
    "    'DisturbanceFastAGToAir',\n",
    "    'DisturbanceFastBGToAir',\n",
    "    'DisturbanceMediumToAir',\n",
    "    'DisturbanceSlowAGToAir',\n",
    "    'DisturbanceSlowBGToAir',\n",
    "    'DisturbanceSWStemSnagToAir',\n",
    "    'DisturbanceSWBranchSnagToAir',\n",
    "    'DisturbanceHWStemSnagToAir',\n",
    "    'DisturbanceHWBranchSnagToAir'\n",
    "]\n",
    "grossgrowth_ag = [\n",
    "    \"DeltaBiomass_AG\",\n",
    "    \"TurnoverMerchLitterInput\",\n",
    "    \"TurnoverFolLitterInput\",\n",
    "    \"TurnoverOthLitterInput\",\n",
    "]\n",
    "\n",
    "grossgrowth_bg = [\n",
    "    \"DeltaBiomass_BG\",\n",
    "    \"TurnoverCoarseLitterInput\",\n",
    "    \"TurnoverFineLitterInput\",\n",
    "]\n",
    "\n",
    "product_flux = [\n",
    "     \"DisturbanceSoftProduction\",\n",
    "     \"DisturbanceHardProduction\",\n",
    "     \"DisturbanceDOMProduction\",\n",
    "]\n",
    "\n",
    "ecosystem_decay_emissions_pools = [\n",
    "    'DecayVFastAGToAir',\n",
    "    'DecayVFastBGToAir',\n",
    "    'DecayFastAGToAir',\n",
    "    'DecayFastBGToAir',\n",
    "    'DecayMediumToAir',\n",
    "    'DecaySlowAGToAir',\n",
    "    'DecaySlowBGToAir',\n",
    "    'DecaySWStemSnagToAir',\n",
    "    'DecaySWBranchSnagToAir',\n",
    "    'DecayHWStemSnagToAir',\n",
    "    'DecayHWBranchSnagToAir']\n",
    "GrossGrowth_pools = [\n",
    "    'DeltaBiomass_AG',\n",
    "    'TurnoverMerchLitterInput',\n",
    "    'TurnoverFolLitterInput',\n",
    "    'TurnoverOthLitterInput',\n",
    "    'DeltaBiomass_BG',\n",
    "    'TurnoverCoarseLitterInput',\n",
    "    'TurnoverFineLitterInput']"
   ]
  },
  {
   "cell_type": "markdown",
   "id": "3405125d-441b-4657-9bf3-86bcaff5d966",
   "metadata": {},
   "source": [
    "GrossGrowth_AG = flux[[\n",
    "        \"DeltaBiomass_AG\",\n",
    "        \"TurnoverMerchLitterInput\",\n",
    "        \"TurnoverFolLitterInput\",\n",
    "        \"TurnoverOthLitterInput\",\n",
    "        ]].sum(axis=1)\n",
    "\n",
    "GrossGrowth_BG = flux[[\n",
    "        \"DeltaBiomass_BG\",\n",
    "        \"TurnoverCoarseLitterInput\",\n",
    "        \"TurnoverFineLitterInput\",\n",
    "        ]].sum(axis=1)"
   ]
  },
  {
   "cell_type": "code",
   "execution_count": 22,
   "id": "10ca892e-2e13-4286-9c77-f0be60fd7313",
   "metadata": {
    "tags": []
   },
   "outputs": [],
   "source": [
    "# Define Sum Carbon Pools and Sum Carbon Fluxes\n",
    "pools = ecosystem_pools\n",
    "# fluxes = decay_emissions_fluxes + disturbance_emissions_fluxes\n",
    "# gross_growth = grossgrowth_ag + grossgrowth_bg\n",
    "fluxes = ecosystem_decay_emissions_pools\n",
    "gross_growth = GrossGrowth_pools\n",
    "sum_pools = ['ecosystem', 'biomass', 'DOM']"
   ]
  },
  {
   "cell_type": "code",
   "execution_count": 23,
   "id": "d42425c9-2d20-4a2b-841e-0ae425e43c9c",
   "metadata": {
    "scrolled": true,
    "tags": []
   },
   "outputs": [
    {
     "data": {
      "text/html": [
       "<div>\n",
       "<style scoped>\n",
       "    .dataframe tbody tr th:only-of-type {\n",
       "        vertical-align: middle;\n",
       "    }\n",
       "\n",
       "    .dataframe tbody tr th {\n",
       "        vertical-align: top;\n",
       "    }\n",
       "\n",
       "    .dataframe thead th {\n",
       "        text-align: right;\n",
       "    }\n",
       "</style>\n",
       "<table border=\"1\" class=\"dataframe\">\n",
       "  <thead>\n",
       "    <tr style=\"text-align: right;\">\n",
       "      <th></th>\n",
       "      <th>Biomass</th>\n",
       "      <th>DOM</th>\n",
       "      <th>Ecosystem</th>\n",
       "      <th>All_Emissions</th>\n",
       "      <th>Gross_Growth</th>\n",
       "      <th>Stock_Change</th>\n",
       "    </tr>\n",
       "    <tr>\n",
       "      <th>Year</th>\n",
       "      <th></th>\n",
       "      <th></th>\n",
       "      <th></th>\n",
       "      <th></th>\n",
       "      <th></th>\n",
       "      <th></th>\n",
       "    </tr>\n",
       "  </thead>\n",
       "  <tbody>\n",
       "    <tr>\n",
       "      <th>0</th>\n",
       "      <td>1.403745e+07</td>\n",
       "      <td>3.874220e+07</td>\n",
       "      <td>5.277965e+07</td>\n",
       "      <td>0.000000e+00</td>\n",
       "      <td>0.000000e+00</td>\n",
       "      <td>0.000000</td>\n",
       "    </tr>\n",
       "    <tr>\n",
       "      <th>1</th>\n",
       "      <td>1.423830e+07</td>\n",
       "      <td>3.863534e+07</td>\n",
       "      <td>5.287364e+07</td>\n",
       "      <td>8.850461e+05</td>\n",
       "      <td>9.790345e+05</td>\n",
       "      <td>-93988.459640</td>\n",
       "    </tr>\n",
       "    <tr>\n",
       "      <th>2</th>\n",
       "      <td>1.443963e+07</td>\n",
       "      <td>3.854026e+07</td>\n",
       "      <td>5.297989e+07</td>\n",
       "      <td>8.807935e+05</td>\n",
       "      <td>9.870460e+05</td>\n",
       "      <td>-106252.503460</td>\n",
       "    </tr>\n",
       "    <tr>\n",
       "      <th>3</th>\n",
       "      <td>1.464088e+07</td>\n",
       "      <td>3.845560e+07</td>\n",
       "      <td>5.309648e+07</td>\n",
       "      <td>8.778403e+05</td>\n",
       "      <td>9.944342e+05</td>\n",
       "      <td>-116593.865791</td>\n",
       "    </tr>\n",
       "    <tr>\n",
       "      <th>4</th>\n",
       "      <td>1.484254e+07</td>\n",
       "      <td>3.838034e+07</td>\n",
       "      <td>5.322289e+07</td>\n",
       "      <td>8.758588e+05</td>\n",
       "      <td>1.002263e+06</td>\n",
       "      <td>-126404.196888</td>\n",
       "    </tr>\n",
       "    <tr>\n",
       "      <th>...</th>\n",
       "      <td>...</td>\n",
       "      <td>...</td>\n",
       "      <td>...</td>\n",
       "      <td>...</td>\n",
       "      <td>...</td>\n",
       "      <td>...</td>\n",
       "    </tr>\n",
       "    <tr>\n",
       "      <th>96</th>\n",
       "      <td>2.990867e+07</td>\n",
       "      <td>4.437639e+07</td>\n",
       "      <td>7.428506e+07</td>\n",
       "      <td>1.161644e+06</td>\n",
       "      <td>1.352158e+06</td>\n",
       "      <td>-190514.038495</td>\n",
       "    </tr>\n",
       "    <tr>\n",
       "      <th>97</th>\n",
       "      <td>2.999184e+07</td>\n",
       "      <td>4.448176e+07</td>\n",
       "      <td>7.447360e+07</td>\n",
       "      <td>1.164035e+06</td>\n",
       "      <td>1.352573e+06</td>\n",
       "      <td>-188538.465314</td>\n",
       "    </tr>\n",
       "    <tr>\n",
       "      <th>98</th>\n",
       "      <td>3.007064e+07</td>\n",
       "      <td>4.458672e+07</td>\n",
       "      <td>7.465736e+07</td>\n",
       "      <td>1.166360e+06</td>\n",
       "      <td>1.350117e+06</td>\n",
       "      <td>-183756.250185</td>\n",
       "    </tr>\n",
       "    <tr>\n",
       "      <th>99</th>\n",
       "      <td>3.014928e+07</td>\n",
       "      <td>4.469132e+07</td>\n",
       "      <td>7.484060e+07</td>\n",
       "      <td>1.168627e+06</td>\n",
       "      <td>1.351867e+06</td>\n",
       "      <td>-183240.362091</td>\n",
       "    </tr>\n",
       "    <tr>\n",
       "      <th>100</th>\n",
       "      <td>3.022549e+07</td>\n",
       "      <td>4.479569e+07</td>\n",
       "      <td>7.502118e+07</td>\n",
       "      <td>1.170843e+06</td>\n",
       "      <td>1.351425e+06</td>\n",
       "      <td>-180581.526359</td>\n",
       "    </tr>\n",
       "  </tbody>\n",
       "</table>\n",
       "<p>101 rows × 6 columns</p>\n",
       "</div>"
      ],
      "text/plain": [
       "           Biomass           DOM     Ecosystem  All_Emissions  Gross_Growth  \\\n",
       "Year                                                                          \n",
       "0     1.403745e+07  3.874220e+07  5.277965e+07   0.000000e+00  0.000000e+00   \n",
       "1     1.423830e+07  3.863534e+07  5.287364e+07   8.850461e+05  9.790345e+05   \n",
       "2     1.443963e+07  3.854026e+07  5.297989e+07   8.807935e+05  9.870460e+05   \n",
       "3     1.464088e+07  3.845560e+07  5.309648e+07   8.778403e+05  9.944342e+05   \n",
       "4     1.484254e+07  3.838034e+07  5.322289e+07   8.758588e+05  1.002263e+06   \n",
       "...            ...           ...           ...            ...           ...   \n",
       "96    2.990867e+07  4.437639e+07  7.428506e+07   1.161644e+06  1.352158e+06   \n",
       "97    2.999184e+07  4.448176e+07  7.447360e+07   1.164035e+06  1.352573e+06   \n",
       "98    3.007064e+07  4.458672e+07  7.465736e+07   1.166360e+06  1.350117e+06   \n",
       "99    3.014928e+07  4.469132e+07  7.484060e+07   1.168627e+06  1.351867e+06   \n",
       "100   3.022549e+07  4.479569e+07  7.502118e+07   1.170843e+06  1.351425e+06   \n",
       "\n",
       "       Stock_Change  \n",
       "Year                 \n",
       "0          0.000000  \n",
       "1     -93988.459640  \n",
       "2    -106252.503460  \n",
       "3    -116593.865791  \n",
       "4    -126404.196888  \n",
       "...             ...  \n",
       "96   -190514.038495  \n",
       "97   -188538.465314  \n",
       "98   -183756.250185  \n",
       "99   -183240.362091  \n",
       "100  -180581.526359  \n",
       "\n",
       "[101 rows x 6 columns]"
      ]
     },
     "execution_count": 23,
     "metadata": {},
     "output_type": "execute_result"
    },
    {
     "data": {
      "image/png": "[encoded data removed]",
      "text/plain": [
       "<Figure size 500x500 with 1 Axes>"
      ]
     },
     "metadata": {},
     "output_type": "display_data"
    },
    {
     "data": {
      "image/png": "[encoded data removed]",
      "text/plain": [
       "<Figure size 500x500 with 1 Axes>"
      ]
     },
     "metadata": {},
     "output_type": "display_data"
    },
    {
     "data": {
      "image/png": "[encoded data removed]",
      "text/plain": [
       "<Figure size 500x500 with 1 Axes>"
      ]
     },
     "metadata": {},
     "output_type": "display_data"
    },
    {
     "data": {
      "image/png": "[encoded data removed]",
      "text/plain": [
       "<Figure size 500x500 with 1 Axes>"
      ]
     },
     "metadata": {},
     "output_type": "display_data"
    }
   ],
   "source": [
    "# Report Annual CBM Results\n",
    "cbm_report(fm, cbm_output, biomass_pools, dom_pools, fluxes, gross_growth)"
   ]
  },
  {
   "cell_type": "markdown",
   "id": "2dd6060c-6b96-4f0e-99ca-78705b8569ff",
   "metadata": {
    "tags": []
   },
   "source": [
    "## Plug-in Carbon Yield Curves"
   ]
  },
  {
   "cell_type": "code",
   "execution_count": 24,
   "id": "32438b9f-cf2c-4664-bdbe-57d63581f089",
   "metadata": {
    "tags": []
   },
   "outputs": [],
   "source": [
    "# Read curves\n",
    "# c_curves_p = pd.read_pickle(\"./redchris_c_curves_p_test.pkl\")\n",
    "# c_curves_f = pd.read_pickle(\"./redchris_c_curves_f_test.pkl\")\n",
    "\n",
    "c_curves_p = pd.read_pickle(\"./redchris_c_curves_p.pkl\")\n",
    "c_curves_f = pd.read_pickle(\"./redchris_c_curves_f.pkl\")"
   ]
  },
  {
   "cell_type": "code",
   "execution_count": 25,
   "id": "c01d3dc0-e4f3-4ed1-87af-b75eb93e50fd",
   "metadata": {},
   "outputs": [],
   "source": [
    "# In order to reduce the impact of DOM input\n",
    "# c_curves_p.loc[:59, 'DOM'] = c_curves_p.loc[:59, 'DOM'] * 0.1\n",
    "# c_curves_p['ecosystem'] = c_curves_p['DOM'] + c_curves_p['biomass']"
   ]
  },
  {
   "cell_type": "code",
   "execution_count": 26,
   "id": "ce1777eb-eff1-430c-b8be-39c310225c5c",
   "metadata": {
    "tags": []
   },
   "outputs": [
    {
     "name": "stdout",
     "output_type": "stream",
     "text": [
      "found match for mask ('?', '?', '?', '?', '1', '1')\n",
      "found match for mask ('?', '?', '?', '?', '2', '2')\n",
      "found match for mask ('?', '?', '?', '?', '3', '3')\n",
      "found match for mask ('?', '?', '?', '?', '4', '4')\n",
      "found match for mask ('?', '?', '?', '?', '5', '5')\n",
      "found match for mask ('?', '?', '?', '?', '6', '6')\n",
      "found match for mask ('?', '?', '?', '?', '7', '7')\n",
      "found match for mask ('?', '?', '?', '?', '8', '8')\n",
      "found match for mask ('?', '?', '?', '?', '9', '9')\n",
      "found match for mask ('?', '?', '?', '?', '10', '10')\n",
      "found match for mask ('?', '?', '?', '?', '11', '11')\n",
      "found match for mask ('?', '?', '?', '?', '12', '12')\n",
      "found match for mask ('?', '?', '?', '?', '16', '16')\n",
      "found match for mask ('?', '?', '?', '?', '17', '17')\n",
      "found match for mask ('?', '?', '?', '?', '18', '18')\n",
      "found match for mask ('?', '?', '?', '?', '19', '19')\n",
      "found match for mask ('?', '?', '?', '?', '20', '20')\n",
      "found match for mask ('?', '?', '?', '?', '21', '21')\n",
      "found match for mask ('?', '?', '?', '?', '22', '22')\n",
      "found match for mask ('?', '?', '?', '?', '23', '23')\n",
      "found match for mask ('?', '?', '?', '?', '24', '24')\n",
      "found match for mask ('?', '?', '?', '?', '25', '25')\n",
      "found match for mask ('?', '?', '?', '?', '26', '26')\n",
      "found match for mask ('?', '?', '?', '?', '27', '27')\n",
      "found match for mask ('?', '?', '?', '?', '31', '31')\n",
      "found match for mask ('?', '?', '?', '?', '32', '32')\n",
      "found match for mask ('?', '?', '?', '?', '33', '33')\n",
      "found match for mask ('?', '?', '?', '?', '37', '37')\n",
      "found match for mask ('?', '?', '?', '?', '38', '38')\n",
      "found match for mask ('?', '?', '?', '?', '39', '39')\n",
      "found match for mask ('?', '?', '?', '?', '40', '40')\n",
      "found match for mask ('?', '?', '?', '?', '41', '41')\n",
      "found match for mask ('?', '?', '?', '?', '42', '42')\n",
      "found match for mask ('?', '?', '?', '?', '2', '2')\n",
      "found match for mask ('?', '?', '?', '?', '3', '3')\n",
      "found match for mask ('?', '?', '?', '?', '4', '4')\n",
      "found match for mask ('?', '?', '?', '?', '5', '5')\n",
      "found match for mask ('?', '?', '?', '?', '6', '6')\n",
      "found match for mask ('?', '?', '?', '?', '7', '7')\n",
      "found match for mask ('?', '?', '?', '?', '8', '8')\n",
      "found match for mask ('?', '?', '?', '?', '9', '9')\n",
      "found match for mask ('?', '?', '?', '?', '10', '10')\n",
      "found match for mask ('?', '?', '?', '?', '11', '11')\n",
      "found match for mask ('?', '?', '?', '?', '12', '12')\n",
      "found match for mask ('?', '?', '?', '?', '17', '17')\n",
      "found match for mask ('?', '?', '?', '?', '18', '18')\n",
      "found match for mask ('?', '?', '?', '?', '19', '19')\n",
      "found match for mask ('?', '?', '?', '?', '20', '20')\n",
      "found match for mask ('?', '?', '?', '?', '21', '21')\n",
      "found match for mask ('?', '?', '?', '?', '22', '22')\n",
      "found match for mask ('?', '?', '?', '?', '23', '23')\n",
      "found match for mask ('?', '?', '?', '?', '24', '24')\n",
      "found match for mask ('?', '?', '?', '?', '25', '25')\n",
      "found match for mask ('?', '?', '?', '?', '26', '26')\n",
      "found match for mask ('?', '?', '?', '?', '27', '27')\n",
      "found match for mask ('?', '?', '?', '?', '31', '31')\n",
      "found match for mask ('?', '?', '?', '?', '32', '32')\n",
      "found match for mask ('?', '?', '?', '?', '33', '33')\n",
      "found match for mask ('?', '?', '?', '?', '37', '37')\n",
      "found match for mask ('?', '?', '?', '?', '38', '38')\n",
      "found match for mask ('?', '?', '?', '?', '39', '39')\n",
      "found match for mask ('?', '?', '?', '?', '40', '40')\n",
      "found match for mask ('?', '?', '?', '?', '41', '41')\n",
      "found match for mask ('?', '?', '?', '?', '42', '42')\n"
     ]
    }
   ],
   "source": [
    "# Plug carbon yield curves into forest model\n",
    "# plugin_c_curves(fm, c_curves_p, pools=sum_pools)\n",
    "plugin_c_curves_both(fm, c_curves_p, c_curves_f, pools=sum_pools, fluxes=['net_emissions', 'total_emissions', 'gross_growth'])"
   ]
  },
  {
   "cell_type": "code",
   "execution_count": 27,
   "id": "641489b5-796b-4583-b7eb-298a968ae837",
   "metadata": {
    "scrolled": true,
    "tags": []
   },
   "outputs": [
    {
     "data": {
      "text/plain": [
       "[(('?', '?', '?', '?', '?', '?'), '', []),\n",
       " (('?', '?', '?', '?', '7', '7'),\n",
       "  'a',\n",
       "  [('s0100', <ws3.core.Curve at 0x7fec4a6a3bb0>),\n",
       "   ('ecosystem', <ws3.core.Curve at 0x7fec3c4021a0>),\n",
       "   ('biomass', <ws3.core.Curve at 0x7fec3c402230>),\n",
       "   ('DOM', <ws3.core.Curve at 0x7fec3c402740>),\n",
       "   ('net_emissions', <ws3.core.Curve at 0x7fec3c402590>),\n",
       "   ('total_emissions', <ws3.core.Curve at 0x7fec3c400eb0>),\n",
       "   ('gross_growth', <ws3.core.Curve at 0x7fec3c402140>),\n",
       "   ('ecosystem', <ws3.core.Curve at 0x7fec3c4021a0>),\n",
       "   ('biomass', <ws3.core.Curve at 0x7fec3c402230>),\n",
       "   ('DOM', <ws3.core.Curve at 0x7fec3c402740>),\n",
       "   ('net_emissions', <ws3.core.Curve at 0x7fec3c402590>),\n",
       "   ('total_emissions', <ws3.core.Curve at 0x7fec3c400eb0>),\n",
       "   ('gross_growth', <ws3.core.Curve at 0x7fec3c402140>)]),\n",
       " (('?', '?', '?', '?', '1', '1'),\n",
       "  'a',\n",
       "  [('s0304', <ws3.core.Curve at 0x7fec4a6a3be0>),\n",
       "   ('ecosystem', <ws3.core.Curve at 0x7fec3c400820>),\n",
       "   ('biomass', <ws3.core.Curve at 0x7fec3c400730>),\n",
       "   ('DOM', <ws3.core.Curve at 0x7fec3c400940>),\n",
       "   ('net_emissions', <ws3.core.Curve at 0x7fec3c4009a0>),\n",
       "   ('total_emissions', <ws3.core.Curve at 0x7fec3c400cd0>),\n",
       "   ('gross_growth', <ws3.core.Curve at 0x7fec3c400e20>)]),\n",
       " (('?', '?', '?', '?', '2', '2'),\n",
       "  'a',\n",
       "  [('s0304', <ws3.core.Curve at 0x7fec4a6a37c0>),\n",
       "   ('ecosystem', <ws3.core.Curve at 0x7fec3c400850>),\n",
       "   ('biomass', <ws3.core.Curve at 0x7fec3c400550>),\n",
       "   ('DOM', <ws3.core.Curve at 0x7fec3c4003d0>),\n",
       "   ('net_emissions', <ws3.core.Curve at 0x7fec3c400df0>),\n",
       "   ('total_emissions', <ws3.core.Curve at 0x7fec3c400d30>),\n",
       "   ('gross_growth', <ws3.core.Curve at 0x7fec3c400ac0>),\n",
       "   ('ecosystem', <ws3.core.Curve at 0x7fec3c400850>),\n",
       "   ('biomass', <ws3.core.Curve at 0x7fec3c400550>),\n",
       "   ('DOM', <ws3.core.Curve at 0x7fec3c4003d0>),\n",
       "   ('net_emissions', <ws3.core.Curve at 0x7fec3c400df0>),\n",
       "   ('total_emissions', <ws3.core.Curve at 0x7fec3c400d30>),\n",
       "   ('gross_growth', <ws3.core.Curve at 0x7fec3c400ac0>)]),\n",
       " (('?', '?', '?', '?', '3', '3'),\n",
       "  'a',\n",
       "  [('s0304', <ws3.core.Curve at 0x7fec4a6a2f20>),\n",
       "   ('ecosystem', <ws3.core.Curve at 0x7fec3c4010c0>),\n",
       "   ('biomass', <ws3.core.Curve at 0x7fec3c4006a0>),\n",
       "   ('DOM', <ws3.core.Curve at 0x7fec3c400910>),\n",
       "   ('net_emissions', <ws3.core.Curve at 0x7fec3c401390>),\n",
       "   ('total_emissions', <ws3.core.Curve at 0x7fec3c400c70>),\n",
       "   ('gross_growth', <ws3.core.Curve at 0x7fec3c400b80>),\n",
       "   ('ecosystem', <ws3.core.Curve at 0x7fec3c4010c0>),\n",
       "   ('biomass', <ws3.core.Curve at 0x7fec3c4006a0>),\n",
       "   ('DOM', <ws3.core.Curve at 0x7fec3c400910>),\n",
       "   ('net_emissions', <ws3.core.Curve at 0x7fec3c401390>),\n",
       "   ('total_emissions', <ws3.core.Curve at 0x7fec3c400c70>),\n",
       "   ('gross_growth', <ws3.core.Curve at 0x7fec3c400b80>)]),\n",
       " (('?', '?', '?', '?', '16', '16'),\n",
       "  'a',\n",
       "  [('s0304', <ws3.core.Curve at 0x7fec4a6a2e60>),\n",
       "   ('ecosystem', <ws3.core.Curve at 0x7fec3c4035b0>),\n",
       "   ('biomass', <ws3.core.Curve at 0x7fec3c3f3fa0>),\n",
       "   ('DOM', <ws3.core.Curve at 0x7fec3c6a8220>),\n",
       "   ('net_emissions', <ws3.core.Curve at 0x7fec3c403700>),\n",
       "   ('total_emissions', <ws3.core.Curve at 0x7fec3c403b80>),\n",
       "   ('gross_growth', <ws3.core.Curve at 0x7fec3c6a8100>)]),\n",
       " (('?', '?', '?', '?', '10', '10'),\n",
       "  'a',\n",
       "  [('s0100', <ws3.core.Curve at 0x7fec4a6a2da0>),\n",
       "   ('ecosystem', <ws3.core.Curve at 0x7fec3c403130>),\n",
       "   ('biomass', <ws3.core.Curve at 0x7fec3c402e00>),\n",
       "   ('DOM', <ws3.core.Curve at 0x7fec3c4029b0>),\n",
       "   ('net_emissions', <ws3.core.Curve at 0x7fec3c403310>),\n",
       "   ('total_emissions', <ws3.core.Curve at 0x7fec3c4019f0>),\n",
       "   ('gross_growth', <ws3.core.Curve at 0x7fec3c402b60>),\n",
       "   ('ecosystem', <ws3.core.Curve at 0x7fec3c403130>),\n",
       "   ('biomass', <ws3.core.Curve at 0x7fec3c402e00>),\n",
       "   ('DOM', <ws3.core.Curve at 0x7fec3c4029b0>),\n",
       "   ('net_emissions', <ws3.core.Curve at 0x7fec3c403310>),\n",
       "   ('total_emissions', <ws3.core.Curve at 0x7fec3c4019f0>),\n",
       "   ('gross_growth', <ws3.core.Curve at 0x7fec3c402b60>)]),\n",
       " (('?', '?', '?', '?', '11', '11'),\n",
       "  'a',\n",
       "  [('s0100', <ws3.core.Curve at 0x7fec4a6a2ce0>),\n",
       "   ('ecosystem', <ws3.core.Curve at 0x7fec3c403580>),\n",
       "   ('biomass', <ws3.core.Curve at 0x7fec3c403430>),\n",
       "   ('DOM', <ws3.core.Curve at 0x7fec3c402800>),\n",
       "   ('net_emissions', <ws3.core.Curve at 0x7fec3c403790>),\n",
       "   ('total_emissions', <ws3.core.Curve at 0x7fec3c402110>),\n",
       "   ('gross_growth', <ws3.core.Curve at 0x7fec3c403340>),\n",
       "   ('ecosystem', <ws3.core.Curve at 0x7fec3c403580>),\n",
       "   ('biomass', <ws3.core.Curve at 0x7fec3c403430>),\n",
       "   ('DOM', <ws3.core.Curve at 0x7fec3c402800>),\n",
       "   ('net_emissions', <ws3.core.Curve at 0x7fec3c403790>),\n",
       "   ('total_emissions', <ws3.core.Curve at 0x7fec3c402110>),\n",
       "   ('gross_growth', <ws3.core.Curve at 0x7fec3c403340>)]),\n",
       " (('?', '?', '?', '?', '40', '40'),\n",
       "  'a',\n",
       "  [('s1201', <ws3.core.Curve at 0x7fec4a6a2c20>),\n",
       "   ('ecosystem', <ws3.core.Curve at 0x7fec3c6abf40>),\n",
       "   ('biomass', <ws3.core.Curve at 0x7fec3c830d00>),\n",
       "   ('DOM', <ws3.core.Curve at 0x7fec3c830880>),\n",
       "   ('net_emissions', <ws3.core.Curve at 0x7fec3c6ab310>),\n",
       "   ('total_emissions', <ws3.core.Curve at 0x7fec3c830e20>),\n",
       "   ('gross_growth', <ws3.core.Curve at 0x7fec3c830a00>),\n",
       "   ('ecosystem', <ws3.core.Curve at 0x7fec3c6abf40>),\n",
       "   ('biomass', <ws3.core.Curve at 0x7fec3c830d00>),\n",
       "   ('DOM', <ws3.core.Curve at 0x7fec3c830880>),\n",
       "   ('net_emissions', <ws3.core.Curve at 0x7fec3c6ab310>),\n",
       "   ('total_emissions', <ws3.core.Curve at 0x7fec3c830e20>),\n",
       "   ('gross_growth', <ws3.core.Curve at 0x7fec3c830a00>)]),\n",
       " (('?', '?', '?', '?', '41', '41'),\n",
       "  'a',\n",
       "  [('s1201', <ws3.core.Curve at 0x7fec4a6a2b60>),\n",
       "   ('ecosystem', <ws3.core.Curve at 0x7fec3c6abee0>),\n",
       "   ('biomass', <ws3.core.Curve at 0x7fec3c830ee0>),\n",
       "   ('DOM', <ws3.core.Curve at 0x7fec3c830b50>),\n",
       "   ('net_emissions', <ws3.core.Curve at 0x7fec3c831210>),\n",
       "   ('total_emissions', <ws3.core.Curve at 0x7fec3c831300>),\n",
       "   ('gross_growth', <ws3.core.Curve at 0x7fec3c830f70>),\n",
       "   ('ecosystem', <ws3.core.Curve at 0x7fec3c6abee0>),\n",
       "   ('biomass', <ws3.core.Curve at 0x7fec3c830ee0>),\n",
       "   ('DOM', <ws3.core.Curve at 0x7fec3c830b50>),\n",
       "   ('net_emissions', <ws3.core.Curve at 0x7fec3c831210>),\n",
       "   ('total_emissions', <ws3.core.Curve at 0x7fec3c831300>),\n",
       "   ('gross_growth', <ws3.core.Curve at 0x7fec3c830f70>)]),\n",
       " (('?', '?', '?', '?', '12', '12'),\n",
       "  'a',\n",
       "  [('s0100', <ws3.core.Curve at 0x7fec4a6a2aa0>),\n",
       "   ('ecosystem', <ws3.core.Curve at 0x7fec3c403a00>),\n",
       "   ('biomass', <ws3.core.Curve at 0x7fec3c403820>),\n",
       "   ('DOM', <ws3.core.Curve at 0x7fec3c4034c0>),\n",
       "   ('net_emissions', <ws3.core.Curve at 0x7fec3c403c10>),\n",
       "   ('total_emissions', <ws3.core.Curve at 0x7fec3c4022f0>),\n",
       "   ('gross_growth', <ws3.core.Curve at 0x7fec3c4037c0>),\n",
       "   ('ecosystem', <ws3.core.Curve at 0x7fec3c403a00>),\n",
       "   ('biomass', <ws3.core.Curve at 0x7fec3c403820>),\n",
       "   ('DOM', <ws3.core.Curve at 0x7fec3c4034c0>),\n",
       "   ('net_emissions', <ws3.core.Curve at 0x7fec3c403c10>),\n",
       "   ('total_emissions', <ws3.core.Curve at 0x7fec3c4022f0>),\n",
       "   ('gross_growth', <ws3.core.Curve at 0x7fec3c4037c0>)]),\n",
       " (('?', '?', '?', '?', '24', '24'),\n",
       "  'a',\n",
       "  [('s0204', <ws3.core.Curve at 0x7fec4a6a29e0>),\n",
       "   ('ecosystem', <ws3.core.Curve at 0x7fec3c3abdf0>),\n",
       "   ('biomass', <ws3.core.Curve at 0x7fec3c6a97b0>),\n",
       "   ('DOM', <ws3.core.Curve at 0x7fec3c6a91b0>),\n",
       "   ('net_emissions', <ws3.core.Curve at 0x7fec3c403ee0>),\n",
       "   ('total_emissions', <ws3.core.Curve at 0x7fec3c6a9ff0>),\n",
       "   ('gross_growth', <ws3.core.Curve at 0x7fec3c6a9b70>),\n",
       "   ('ecosystem', <ws3.core.Curve at 0x7fec3c3abdf0>),\n",
       "   ('biomass', <ws3.core.Curve at 0x7fec3c6a97b0>),\n",
       "   ('DOM', <ws3.core.Curve at 0x7fec3c6a91b0>),\n",
       "   ('net_emissions', <ws3.core.Curve at 0x7fec3c403ee0>),\n",
       "   ('total_emissions', <ws3.core.Curve at 0x7fec3c6a9ff0>),\n",
       "   ('gross_growth', <ws3.core.Curve at 0x7fec3c6a9b70>)]),\n",
       " (('?', '?', '?', '?', '21', '21'),\n",
       "  'a',\n",
       "  [('s1201', <ws3.core.Curve at 0x7fec4a6a2920>),\n",
       "   ('ecosystem', <ws3.core.Curve at 0x7fec3c6a9360>),\n",
       "   ('biomass', <ws3.core.Curve at 0x7fec3c6a8b20>),\n",
       "   ('DOM', <ws3.core.Curve at 0x7fec3c6a90f0>),\n",
       "   ('net_emissions', <ws3.core.Curve at 0x7fec3c6aa3b0>),\n",
       "   ('total_emissions', <ws3.core.Curve at 0x7fec3c6a9540>),\n",
       "   ('gross_growth', <ws3.core.Curve at 0x7fec3c3ca950>),\n",
       "   ('ecosystem', <ws3.core.Curve at 0x7fec3c6a9360>),\n",
       "   ('biomass', <ws3.core.Curve at 0x7fec3c6a8b20>),\n",
       "   ('DOM', <ws3.core.Curve at 0x7fec3c6a90f0>),\n",
       "   ('net_emissions', <ws3.core.Curve at 0x7fec3c6aa3b0>),\n",
       "   ('total_emissions', <ws3.core.Curve at 0x7fec3c6a9540>),\n",
       "   ('gross_growth', <ws3.core.Curve at 0x7fec3c3ca950>)]),\n",
       " (('?', '?', '?', '?', '22', '22'),\n",
       "  'a',\n",
       "  [('s0204', <ws3.core.Curve at 0x7fec4a6a2860>),\n",
       "   ('ecosystem', <ws3.core.Curve at 0x7fec3c3abd90>),\n",
       "   ('biomass', <ws3.core.Curve at 0x7fec3c6a90c0>),\n",
       "   ('DOM', <ws3.core.Curve at 0x7fec3c6a8c70>),\n",
       "   ('net_emissions', <ws3.core.Curve at 0x7fec3c3ca920>),\n",
       "   ('total_emissions', <ws3.core.Curve at 0x7fec3c6a98d0>),\n",
       "   ('gross_growth', <ws3.core.Curve at 0x7fec3c6a9660>),\n",
       "   ('ecosystem', <ws3.core.Curve at 0x7fec3c3abd90>),\n",
       "   ('biomass', <ws3.core.Curve at 0x7fec3c6a90c0>),\n",
       "   ('DOM', <ws3.core.Curve at 0x7fec3c6a8c70>),\n",
       "   ('net_emissions', <ws3.core.Curve at 0x7fec3c3ca920>),\n",
       "   ('total_emissions', <ws3.core.Curve at 0x7fec3c6a98d0>),\n",
       "   ('gross_growth', <ws3.core.Curve at 0x7fec3c6a9660>)]),\n",
       " (('?', '?', '?', '?', '42', '42'),\n",
       "  'a',\n",
       "  [('s1201', <ws3.core.Curve at 0x7fec4a6a27a0>),\n",
       "   ('ecosystem', <ws3.core.Curve at 0x7fec3c831450>),\n",
       "   ('biomass', <ws3.core.Curve at 0x7fec3c8314e0>),\n",
       "   ('DOM', <ws3.core.Curve at 0x7fec3c8311b0>),\n",
       "   ('net_emissions', <ws3.core.Curve at 0x7fec3c831780>),\n",
       "   ('total_emissions', <ws3.core.Curve at 0x7fec3c831690>),\n",
       "   ('gross_growth', <ws3.core.Curve at 0x7fec3c831420>),\n",
       "   ('ecosystem', <ws3.core.Curve at 0x7fec3c831450>),\n",
       "   ('biomass', <ws3.core.Curve at 0x7fec3c8314e0>),\n",
       "   ('DOM', <ws3.core.Curve at 0x7fec3c8311b0>),\n",
       "   ('net_emissions', <ws3.core.Curve at 0x7fec3c831780>),\n",
       "   ('total_emissions', <ws3.core.Curve at 0x7fec3c831690>),\n",
       "   ('gross_growth', <ws3.core.Curve at 0x7fec3c831420>)]),\n",
       " (('?', '?', '?', '?', '18', '18'),\n",
       "  'a',\n",
       "  [('s0304', <ws3.core.Curve at 0x7fec4a6a26e0>),\n",
       "   ('ecosystem', <ws3.core.Curve at 0x7fec3c4038b0>),\n",
       "   ('biomass', <ws3.core.Curve at 0x7fec3c6a8670>),\n",
       "   ('DOM', <ws3.core.Curve at 0x7fec3c6a8250>),\n",
       "   ('net_emissions', <ws3.core.Curve at 0x7fec3c403220>),\n",
       "   ('total_emissions', <ws3.core.Curve at 0x7fec3c6a89d0>),\n",
       "   ('gross_growth', <ws3.core.Curve at 0x7fec3c6a8430>),\n",
       "   ('ecosystem', <ws3.core.Curve at 0x7fec3c4038b0>),\n",
       "   ('biomass', <ws3.core.Curve at 0x7fec3c6a8670>),\n",
       "   ('DOM', <ws3.core.Curve at 0x7fec3c6a8250>),\n",
       "   ('net_emissions', <ws3.core.Curve at 0x7fec3c403220>),\n",
       "   ('total_emissions', <ws3.core.Curve at 0x7fec3c6a89d0>),\n",
       "   ('gross_growth', <ws3.core.Curve at 0x7fec3c6a8430>)]),\n",
       " (('?', '?', '?', '?', '8', '8'),\n",
       "  'a',\n",
       "  [('s0100', <ws3.core.Curve at 0x7fec4a6a2620>),\n",
       "   ('ecosystem', <ws3.core.Curve at 0x7fec3c402620>),\n",
       "   ('biomass', <ws3.core.Curve at 0x7fec3c401a50>),\n",
       "   ('DOM', <ws3.core.Curve at 0x7fec3c402ce0>),\n",
       "   ('net_emissions', <ws3.core.Curve at 0x7fec3c402a10>),\n",
       "   ('total_emissions', <ws3.core.Curve at 0x7fec3c401090>),\n",
       "   ('gross_growth', <ws3.core.Curve at 0x7fec3c4025c0>),\n",
       "   ('ecosystem', <ws3.core.Curve at 0x7fec3c402620>),\n",
       "   ('biomass', <ws3.core.Curve at 0x7fec3c401a50>),\n",
       "   ('DOM', <ws3.core.Curve at 0x7fec3c402ce0>),\n",
       "   ('net_emissions', <ws3.core.Curve at 0x7fec3c402a10>),\n",
       "   ('total_emissions', <ws3.core.Curve at 0x7fec3c401090>),\n",
       "   ('gross_growth', <ws3.core.Curve at 0x7fec3c4025c0>)]),\n",
       " (('?', '?', '?', '?', '9', '9'),\n",
       "  'a',\n",
       "  [('s0100', <ws3.core.Curve at 0x7fec4a6a2560>),\n",
       "   ('ecosystem', <ws3.core.Curve at 0x7fec3c402c80>),\n",
       "   ('biomass', <ws3.core.Curve at 0x7fec3c402b00>),\n",
       "   ('DOM', <ws3.core.Curve at 0x7fec3c402830>),\n",
       "   ('net_emissions', <ws3.core.Curve at 0x7fec3c402fe0>),\n",
       "   ('total_emissions', <ws3.core.Curve at 0x7fec3c4016c0>),\n",
       "   ('gross_growth', <ws3.core.Curve at 0x7fec3c402a40>),\n",
       "   ('ecosystem', <ws3.core.Curve at 0x7fec3c402c80>),\n",
       "   ('biomass', <ws3.core.Curve at 0x7fec3c402b00>),\n",
       "   ('DOM', <ws3.core.Curve at 0x7fec3c402830>),\n",
       "   ('net_emissions', <ws3.core.Curve at 0x7fec3c402fe0>),\n",
       "   ('total_emissions', <ws3.core.Curve at 0x7fec3c4016c0>),\n",
       "   ('gross_growth', <ws3.core.Curve at 0x7fec3c402a40>)]),\n",
       " (('?', '?', '?', '?', '19', '19'),\n",
       "  'a',\n",
       "  [('s1201', <ws3.core.Curve at 0x7fec4a6a24a0>),\n",
       "   ('ecosystem', <ws3.core.Curve at 0x7fec3c403fd0>),\n",
       "   ('biomass', <ws3.core.Curve at 0x7fec3c6a8b80>),\n",
       "   ('DOM', <ws3.core.Curve at 0x7fec3c6a81f0>),\n",
       "   ('net_emissions', <ws3.core.Curve at 0x7fec3c4035e0>),\n",
       "   ('total_emissions', <ws3.core.Curve at 0x7fec3c6a8d90>),\n",
       "   ('gross_growth', <ws3.core.Curve at 0x7fec3c6a8730>),\n",
       "   ('ecosystem', <ws3.core.Curve at 0x7fec3c403fd0>),\n",
       "   ('biomass', <ws3.core.Curve at 0x7fec3c6a8b80>),\n",
       "   ('DOM', <ws3.core.Curve at 0x7fec3c6a81f0>),\n",
       "   ('net_emissions', <ws3.core.Curve at 0x7fec3c4035e0>),\n",
       "   ('total_emissions', <ws3.core.Curve at 0x7fec3c6a8d90>),\n",
       "   ('gross_growth', <ws3.core.Curve at 0x7fec3c6a8730>)]),\n",
       " (('?', '?', '?', '?', '17', '17'),\n",
       "  'a',\n",
       "  [('s0304', <ws3.core.Curve at 0x7fec4a6a23e0>),\n",
       "   ('ecosystem', <ws3.core.Curve at 0x7fec3c402b90>),\n",
       "   ('biomass', <ws3.core.Curve at 0x7fec3c6a8340>),\n",
       "   ('DOM', <ws3.core.Curve at 0x7fec3c6a8160>),\n",
       "   ('net_emissions', <ws3.core.Curve at 0x7fec3c402e90>),\n",
       "   ('total_emissions', <ws3.core.Curve at 0x7fec3c6a85b0>),\n",
       "   ('gross_growth', <ws3.core.Curve at 0x7fec3c6a8460>),\n",
       "   ('ecosystem', <ws3.core.Curve at 0x7fec3c402b90>),\n",
       "   ('biomass', <ws3.core.Curve at 0x7fec3c6a8340>),\n",
       "   ('DOM', <ws3.core.Curve at 0x7fec3c6a8160>),\n",
       "   ('net_emissions', <ws3.core.Curve at 0x7fec3c402e90>),\n",
       "   ('total_emissions', <ws3.core.Curve at 0x7fec3c6a85b0>),\n",
       "   ('gross_growth', <ws3.core.Curve at 0x7fec3c6a8460>)]),\n",
       " (('?', '?', '?', '?', '6', '6'),\n",
       "  'a',\n",
       "  [('s0204', <ws3.core.Curve at 0x7fec4a6a2320>),\n",
       "   ('ecosystem', <ws3.core.Curve at 0x7fec3c401d20>),\n",
       "   ('biomass', <ws3.core.Curve at 0x7fec3c401db0>),\n",
       "   ('DOM', <ws3.core.Curve at 0x7fec3c401ab0>),\n",
       "   ('net_emissions', <ws3.core.Curve at 0x7fec3c4016f0>),\n",
       "   ('total_emissions', <ws3.core.Curve at 0x7fec3c400a30>),\n",
       "   ('gross_growth', <ws3.core.Curve at 0x7fec3c401cc0>),\n",
       "   ('ecosystem', <ws3.core.Curve at 0x7fec3c401d20>),\n",
       "   ('biomass', <ws3.core.Curve at 0x7fec3c401db0>),\n",
       "   ('DOM', <ws3.core.Curve at 0x7fec3c401ab0>),\n",
       "   ('net_emissions', <ws3.core.Curve at 0x7fec3c4016f0>),\n",
       "   ('total_emissions', <ws3.core.Curve at 0x7fec3c400a30>),\n",
       "   ('gross_growth', <ws3.core.Curve at 0x7fec3c401cc0>)]),\n",
       " (('?', '?', '?', '?', '20', '20'),\n",
       "  'a',\n",
       "  [('s1201', <ws3.core.Curve at 0x7fec4a6a2260>),\n",
       "   ('ecosystem', <ws3.core.Curve at 0x7fec3c6a8fd0>),\n",
       "   ('biomass', <ws3.core.Curve at 0x7fec3c6a9090>),\n",
       "   ('DOM', <ws3.core.Curve at 0x7fec3c6a8af0>),\n",
       "   ('net_emissions', <ws3.core.Curve at 0x7fec3c403e80>),\n",
       "   ('total_emissions', <ws3.core.Curve at 0x7fec3c6aa440>),\n",
       "   ('gross_growth', <ws3.core.Curve at 0x7fec3c6a8d30>),\n",
       "   ('ecosystem', <ws3.core.Curve at 0x7fec3c6a8fd0>),\n",
       "   ('biomass', <ws3.core.Curve at 0x7fec3c6a9090>),\n",
       "   ('DOM', <ws3.core.Curve at 0x7fec3c6a8af0>),\n",
       "   ('net_emissions', <ws3.core.Curve at 0x7fec3c403e80>),\n",
       "   ('total_emissions', <ws3.core.Curve at 0x7fec3c6aa440>),\n",
       "   ('gross_growth', <ws3.core.Curve at 0x7fec3c6a8d30>)]),\n",
       " (('?', '?', '?', '?', '4', '4'),\n",
       "  'a',\n",
       "  [('s0204', <ws3.core.Curve at 0x7fec4a6a21a0>),\n",
       "   ('ecosystem', <ws3.core.Curve at 0x7fec3c4014b0>),\n",
       "   ('biomass', <ws3.core.Curve at 0x7fec3c401510>),\n",
       "   ('DOM', <ws3.core.Curve at 0x7fec3c4011b0>),\n",
       "   ('net_emissions', <ws3.core.Curve at 0x7fec3c401810>),\n",
       "   ('total_emissions', <ws3.core.Curve at 0x7fec3c400ca0>),\n",
       "   ('gross_growth', <ws3.core.Curve at 0x7fec3c4013c0>),\n",
       "   ('ecosystem', <ws3.core.Curve at 0x7fec3c4014b0>),\n",
       "   ('biomass', <ws3.core.Curve at 0x7fec3c401510>),\n",
       "   ('DOM', <ws3.core.Curve at 0x7fec3c4011b0>),\n",
       "   ('net_emissions', <ws3.core.Curve at 0x7fec3c401810>),\n",
       "   ('total_emissions', <ws3.core.Curve at 0x7fec3c400ca0>),\n",
       "   ('gross_growth', <ws3.core.Curve at 0x7fec3c4013c0>)]),\n",
       " (('?', '?', '?', '?', '38', '38'),\n",
       "  'a',\n",
       "  [('s0100', <ws3.core.Curve at 0x7fec4a6a20e0>),\n",
       "   ('ecosystem', <ws3.core.Curve at 0x7fec3c6ab460>),\n",
       "   ('biomass', <ws3.core.Curve at 0x7fec3c830250>),\n",
       "   ('DOM', <ws3.core.Curve at 0x7fec3c830340>),\n",
       "   ('net_emissions', <ws3.core.Curve at 0x7fec3c6abd30>),\n",
       "   ('total_emissions', <ws3.core.Curve at 0x7fec3c8305b0>),\n",
       "   ('gross_growth', <ws3.core.Curve at 0x7fec3c8301f0>),\n",
       "   ('ecosystem', <ws3.core.Curve at 0x7fec3c6ab460>),\n",
       "   ('biomass', <ws3.core.Curve at 0x7fec3c830250>),\n",
       "   ('DOM', <ws3.core.Curve at 0x7fec3c830340>),\n",
       "   ('net_emissions', <ws3.core.Curve at 0x7fec3c6abd30>),\n",
       "   ('total_emissions', <ws3.core.Curve at 0x7fec3c8305b0>),\n",
       "   ('gross_growth', <ws3.core.Curve at 0x7fec3c8301f0>)]),\n",
       " (('?', '?', '?', '?', '5', '5'),\n",
       "  'a',\n",
       "  [('s0204', <ws3.core.Curve at 0x7fec4a6a0d30>),\n",
       "   ('ecosystem', <ws3.core.Curve at 0x7fec3c4018a0>),\n",
       "   ('biomass', <ws3.core.Curve at 0x7fec3c401930>),\n",
       "   ('DOM', <ws3.core.Curve at 0x7fec3c401630>),\n",
       "   ('net_emissions', <ws3.core.Curve at 0x7fec3c401c90>),\n",
       "   ('total_emissions', <ws3.core.Curve at 0x7fec3c400d00>),\n",
       "   ('gross_growth', <ws3.core.Curve at 0x7fec3c401840>),\n",
       "   ('ecosystem', <ws3.core.Curve at 0x7fec3c4018a0>),\n",
       "   ('biomass', <ws3.core.Curve at 0x7fec3c401930>),\n",
       "   ('DOM', <ws3.core.Curve at 0x7fec3c401630>),\n",
       "   ('net_emissions', <ws3.core.Curve at 0x7fec3c401c90>),\n",
       "   ('total_emissions', <ws3.core.Curve at 0x7fec3c400d00>),\n",
       "   ('gross_growth', <ws3.core.Curve at 0x7fec3c401840>)]),\n",
       " (('?', '?', '?', '?', '37', '37'),\n",
       "  'a',\n",
       "  [('s0100', <ws3.core.Curve at 0x7fec4a6a0c70>),\n",
       "   ('ecosystem', <ws3.core.Curve at 0x7fec3c6ab820>),\n",
       "   ('biomass', <ws3.core.Curve at 0x7fec3c3ca860>),\n",
       "   ('DOM', <ws3.core.Curve at 0x7fec3c830400>),\n",
       "   ('net_emissions', <ws3.core.Curve at 0x7fec3c6aba30>),\n",
       "   ('total_emissions', <ws3.core.Curve at 0x7fec3c6abe20>),\n",
       "   ('gross_growth', <ws3.core.Curve at 0x7fec3c8300a0>),\n",
       "   ('ecosystem', <ws3.core.Curve at 0x7fec3c6ab820>),\n",
       "   ('biomass', <ws3.core.Curve at 0x7fec3c3ca860>),\n",
       "   ('DOM', <ws3.core.Curve at 0x7fec3c830400>),\n",
       "   ('net_emissions', <ws3.core.Curve at 0x7fec3c6aba30>),\n",
       "   ('total_emissions', <ws3.core.Curve at 0x7fec3c6abe20>),\n",
       "   ('gross_growth', <ws3.core.Curve at 0x7fec3c8300a0>)]),\n",
       " (('?', '?', '?', '?', '39', '39'),\n",
       "  'a',\n",
       "  [('s0100', <ws3.core.Curve at 0x7fec4a6a0bb0>),\n",
       "   ('ecosystem', <ws3.core.Curve at 0x7fec3c3abd00>),\n",
       "   ('biomass', <ws3.core.Curve at 0x7fec3c8306d0>),\n",
       "   ('DOM', <ws3.core.Curve at 0x7fec3c830460>),\n",
       "   ('net_emissions', <ws3.core.Curve at 0x7fec3c6abd60>),\n",
       "   ('total_emissions', <ws3.core.Curve at 0x7fec3c8309d0>),\n",
       "   ('gross_growth', <ws3.core.Curve at 0x7fec3c8306a0>),\n",
       "   ('ecosystem', <ws3.core.Curve at 0x7fec3c3abd00>),\n",
       "   ('biomass', <ws3.core.Curve at 0x7fec3c8306d0>),\n",
       "   ('DOM', <ws3.core.Curve at 0x7fec3c830460>),\n",
       "   ('net_emissions', <ws3.core.Curve at 0x7fec3c6abd60>),\n",
       "   ('total_emissions', <ws3.core.Curve at 0x7fec3c8309d0>),\n",
       "   ('gross_growth', <ws3.core.Curve at 0x7fec3c8306a0>)]),\n",
       " (('?', '?', '?', '?', '25', '25'),\n",
       "  'a',\n",
       "  [('s0304', <ws3.core.Curve at 0x7fec4a6a0af0>),\n",
       "   ('ecosystem', <ws3.core.Curve at 0x7fec3c3ca830>),\n",
       "   ('biomass', <ws3.core.Curve at 0x7fec3c6aa2f0>),\n",
       "   ('DOM', <ws3.core.Curve at 0x7fec3c6aa950>),\n",
       "   ('net_emissions', <ws3.core.Curve at 0x7fec3c6aa5c0>),\n",
       "   ('total_emissions', <ws3.core.Curve at 0x7fec3c6aa4d0>),\n",
       "   ('gross_growth', <ws3.core.Curve at 0x7fec3c6aa0e0>),\n",
       "   ('ecosystem', <ws3.core.Curve at 0x7fec3c3ca830>),\n",
       "   ('biomass', <ws3.core.Curve at 0x7fec3c6aa2f0>),\n",
       "   ('DOM', <ws3.core.Curve at 0x7fec3c6aa950>),\n",
       "   ('net_emissions', <ws3.core.Curve at 0x7fec3c6aa5c0>),\n",
       "   ('total_emissions', <ws3.core.Curve at 0x7fec3c6aa4d0>),\n",
       "   ('gross_growth', <ws3.core.Curve at 0x7fec3c6aa0e0>)]),\n",
       " (('?', '?', '?', '?', '31', '31'),\n",
       "  'a',\n",
       "  [('s1201', <ws3.core.Curve at 0x7fec4a6a0a30>),\n",
       "   ('ecosystem', <ws3.core.Curve at 0x7fec3c6ab1f0>),\n",
       "   ('biomass', <ws3.core.Curve at 0x7fec3c6ab0d0>),\n",
       "   ('DOM', <ws3.core.Curve at 0x7fec3c6ab580>),\n",
       "   ('net_emissions', <ws3.core.Curve at 0x7fec3c6ab2e0>),\n",
       "   ('total_emissions', <ws3.core.Curve at 0x7fec3c6ab4f0>),\n",
       "   ('gross_growth', <ws3.core.Curve at 0x7fec3c6aafe0>),\n",
       "   ('ecosystem', <ws3.core.Curve at 0x7fec3c6ab1f0>),\n",
       "   ('biomass', <ws3.core.Curve at 0x7fec3c6ab0d0>),\n",
       "   ('DOM', <ws3.core.Curve at 0x7fec3c6ab580>),\n",
       "   ('net_emissions', <ws3.core.Curve at 0x7fec3c6ab2e0>),\n",
       "   ('total_emissions', <ws3.core.Curve at 0x7fec3c6ab4f0>),\n",
       "   ('gross_growth', <ws3.core.Curve at 0x7fec3c6aafe0>)]),\n",
       " (('?', '?', '?', '?', '27', '27'),\n",
       "  'a',\n",
       "  [('s0304', <ws3.core.Curve at 0x7fec4a6a0970>),\n",
       "   ('ecosystem', <ws3.core.Curve at 0x7fec3c6aac20>),\n",
       "   ('biomass', <ws3.core.Curve at 0x7fec3c6aac80>),\n",
       "   ('DOM', <ws3.core.Curve at 0x7fec3c6aa920>),\n",
       "   ('net_emissions', <ws3.core.Curve at 0x7fec3c6aadd0>),\n",
       "   ('total_emissions', <ws3.core.Curve at 0x7fec3c6aaec0>),\n",
       "   ('gross_growth', <ws3.core.Curve at 0x7fec3c6aab60>),\n",
       "   ('ecosystem', <ws3.core.Curve at 0x7fec3c6aac20>),\n",
       "   ('biomass', <ws3.core.Curve at 0x7fec3c6aac80>),\n",
       "   ('DOM', <ws3.core.Curve at 0x7fec3c6aa920>),\n",
       "   ('net_emissions', <ws3.core.Curve at 0x7fec3c6aadd0>),\n",
       "   ('total_emissions', <ws3.core.Curve at 0x7fec3c6aaec0>),\n",
       "   ('gross_growth', <ws3.core.Curve at 0x7fec3c6aab60>)]),\n",
       " (('?', '?', '?', '?', '26', '26'),\n",
       "  'a',\n",
       "  [('s0304', <ws3.core.Curve at 0x7fec4a6a08b0>),\n",
       "   ('ecosystem', <ws3.core.Curve at 0x7fec3c6aa710>),\n",
       "   ('biomass', <ws3.core.Curve at 0x7fec3c6a95a0>),\n",
       "   ('DOM', <ws3.core.Curve at 0x7fec3c6aa470>),\n",
       "   ('net_emissions', <ws3.core.Curve at 0x7fec3c6aa9e0>),\n",
       "   ('total_emissions', <ws3.core.Curve at 0x7fec3c6aaa10>),\n",
       "   ('gross_growth', <ws3.core.Curve at 0x7fec3c6aa6e0>),\n",
       "   ('ecosystem', <ws3.core.Curve at 0x7fec3c6aa710>),\n",
       "   ('biomass', <ws3.core.Curve at 0x7fec3c6a95a0>),\n",
       "   ('DOM', <ws3.core.Curve at 0x7fec3c6aa470>),\n",
       "   ('net_emissions', <ws3.core.Curve at 0x7fec3c6aa9e0>),\n",
       "   ('total_emissions', <ws3.core.Curve at 0x7fec3c6aaa10>),\n",
       "   ('gross_growth', <ws3.core.Curve at 0x7fec3c6aa6e0>)]),\n",
       " (('?', '?', '?', '?', '32', '32'),\n",
       "  'a',\n",
       "  [('s1201', <ws3.core.Curve at 0x7fec4a6a07f0>),\n",
       "   ('ecosystem', <ws3.core.Curve at 0x7fec3c6ab7f0>),\n",
       "   ('biomass', <ws3.core.Curve at 0x7fec3c6aada0>),\n",
       "   ('DOM', <ws3.core.Curve at 0x7fec3c6ab5b0>),\n",
       "   ('net_emissions', <ws3.core.Curve at 0x7fec3c6ab910>),\n",
       "   ('total_emissions', <ws3.core.Curve at 0x7fec3c6ab8e0>),\n",
       "   ('gross_growth', <ws3.core.Curve at 0x7fec3c6ab550>),\n",
       "   ('ecosystem', <ws3.core.Curve at 0x7fec3c6ab7f0>),\n",
       "   ('biomass', <ws3.core.Curve at 0x7fec3c6aada0>),\n",
       "   ('DOM', <ws3.core.Curve at 0x7fec3c6ab5b0>),\n",
       "   ('net_emissions', <ws3.core.Curve at 0x7fec3c6ab910>),\n",
       "   ('total_emissions', <ws3.core.Curve at 0x7fec3c6ab8e0>),\n",
       "   ('gross_growth', <ws3.core.Curve at 0x7fec3c6ab550>)]),\n",
       " (('?', '?', '?', '?', '23', '23'),\n",
       "  'a',\n",
       "  [('s0204', <ws3.core.Curve at 0x7fec4a6a0730>),\n",
       "   ('ecosystem', <ws3.core.Curve at 0x7fec3c3abb20>),\n",
       "   ('biomass', <ws3.core.Curve at 0x7fec3c6a8df0>),\n",
       "   ('DOM', <ws3.core.Curve at 0x7fec3c6a9840>),\n",
       "   ('net_emissions', <ws3.core.Curve at 0x7fec3c402380>),\n",
       "   ('total_emissions', <ws3.core.Curve at 0x7fec3c6a8dc0>),\n",
       "   ('gross_growth', <ws3.core.Curve at 0x7fec3c6a9ae0>),\n",
       "   ('ecosystem', <ws3.core.Curve at 0x7fec3c3abb20>),\n",
       "   ('biomass', <ws3.core.Curve at 0x7fec3c6a8df0>),\n",
       "   ('DOM', <ws3.core.Curve at 0x7fec3c6a9840>),\n",
       "   ('net_emissions', <ws3.core.Curve at 0x7fec3c402380>),\n",
       "   ('total_emissions', <ws3.core.Curve at 0x7fec3c6a8dc0>),\n",
       "   ('gross_growth', <ws3.core.Curve at 0x7fec3c6a9ae0>)]),\n",
       " (('?', '?', '?', '?', '33', '33'),\n",
       "  'a',\n",
       "  [('s1201', <ws3.core.Curve at 0x7fec4a6a0670>),\n",
       "   ('ecosystem', <ws3.core.Curve at 0x7fec3c6abc10>),\n",
       "   ('biomass', <ws3.core.Curve at 0x7fec3c6ab250>),\n",
       "   ('DOM', <ws3.core.Curve at 0x7fec3c6ab670>),\n",
       "   ('net_emissions', <ws3.core.Curve at 0x7fec3c6abac0>),\n",
       "   ('total_emissions', <ws3.core.Curve at 0x7fec3c6abb80>),\n",
       "   ('gross_growth', <ws3.core.Curve at 0x7fec3c8300d0>),\n",
       "   ('ecosystem', <ws3.core.Curve at 0x7fec3c6abc10>),\n",
       "   ('biomass', <ws3.core.Curve at 0x7fec3c6ab250>),\n",
       "   ('DOM', <ws3.core.Curve at 0x7fec3c6ab670>),\n",
       "   ('net_emissions', <ws3.core.Curve at 0x7fec3c6abac0>),\n",
       "   ('total_emissions', <ws3.core.Curve at 0x7fec3c6abb80>),\n",
       "   ('gross_growth', <ws3.core.Curve at 0x7fec3c8300d0>)]),\n",
       " (('?', '?', '?', '?', '?', '?'),\n",
       "  'c',\n",
       "  [('totvol', '_SUM(s0100, s0304, s1201, s0204)'),\n",
       "   ('swdvol', '_SUM(s0100, s0304, s0204)'),\n",
       "   ('hwdvol', '_SUM(s1201)')])]"
      ]
     },
     "execution_count": 27,
     "metadata": {},
     "output_type": "execute_result"
    }
   ],
   "source": [
    "# Check if all carbon yield curves are plugged in well.\n",
    "fm.yields"
   ]
  },
  {
   "cell_type": "code",
   "execution_count": 28,
   "id": "be66095f-c2cb-4f8a-98cf-869c77ebd1bc",
   "metadata": {
    "tags": []
   },
   "outputs": [
    {
     "data": {
      "text/plain": [
       "(<Figure size 2000x500 with 4 Axes>,\n",
       " array([<Axes: title={'center': 'Harvested area'}, xlabel='Period', ylabel='Area (ha)'>,\n",
       "        <Axes: title={'center': 'Harvested volume'}, xlabel='Period', ylabel='Volume (m3)'>,\n",
       "        <Axes: title={'center': 'Growing Stock'}, xlabel='Period', ylabel='Volume (m3)'>,\n",
       "        <Axes: title={'center': 'Ecosystem C stock'}, xlabel='Period', ylabel='Stock (ton)'>],\n",
       "       dtype=object))"
      ]
     },
     "execution_count": 28,
     "metadata": {},
     "output_type": "execute_result"
    },
    {
     "data": {
      "image/png": "[encoded data removed]",
      "text/plain": [
       "<Figure size 2000x500 with 4 Axes>"
      ]
     },
     "metadata": {},
     "output_type": "display_data"
    }
   ],
   "source": [
    "# Check the Forest Inventory of the ws3 Model without harvesting\n",
    "df = compile_scenario_maxstock(fm)\n",
    "plot_scenario_maxstock(df)"
   ]
  },
  {
   "cell_type": "markdown",
   "id": "8aa130f6-3e4e-4412-8d9c-bc1479720f00",
   "metadata": {},
   "source": [
    "## No-harvest"
   ]
  },
  {
   "cell_type": "code",
   "execution_count": 29,
   "id": "31b13141-17e3-4eeb-b0c9-015529957202",
   "metadata": {
    "scrolled": true
   },
   "outputs": [
    {
     "data": {
      "image/png": "[encoded data removed]",
      "text/plain": [
       "<Figure size 2000x500 with 4 Axes>"
      ]
     },
     "metadata": {},
     "output_type": "display_data"
    }
   ],
   "source": [
    "df = compile_scenario_maxstock(fm)\n",
    "fig, ax = plot_scenario_maxstock(df)"
   ]
  },
  {
   "cell_type": "code",
   "execution_count": 30,
   "id": "bf881768-ecb0-452b-9d0e-3653547d9e0d",
   "metadata": {},
   "outputs": [],
   "source": [
    "#Define Basic Variables\n",
    "softwood_volume_yname='swdvol' \n",
    "hardwood_volume_yname='hwdvol'\n",
    "n_yield_vals=100"
   ]
  },
  {
   "cell_type": "code",
   "execution_count": 31,
   "id": "67a06251-d64c-4b03-a8d2-8b13e4ba576e",
   "metadata": {
    "tags": []
   },
   "outputs": [],
   "source": [
    "#Generate New Sit_events file\n",
    "sit_events = compile_events(fm, softwood_volume_yname, hardwood_volume_yname, n_yield_vals)"
   ]
  },
  {
   "cell_type": "code",
   "execution_count": 32,
   "id": "cf64f540-df14-407f-9320-6bd5a1b12c26",
   "metadata": {
    "tags": []
   },
   "outputs": [],
   "source": [
    "# Replace the Sit_events file in the sit tables\n",
    "sit_tables['sit_events'] = sit_events"
   ]
  },
  {
   "cell_type": "code",
   "execution_count": 33,
   "id": "32f74c25-3a52-4dbf-aad7-8702c727ae47",
   "metadata": {
    "tags": []
   },
   "outputs": [
    {
     "data": {
      "text/html": [
       "<div>\n",
       "<style scoped>\n",
       "    .dataframe tbody tr th:only-of-type {\n",
       "        vertical-align: middle;\n",
       "    }\n",
       "\n",
       "    .dataframe tbody tr th {\n",
       "        vertical-align: top;\n",
       "    }\n",
       "\n",
       "    .dataframe thead th {\n",
       "        text-align: right;\n",
       "    }\n",
       "</style>\n",
       "<table border=\"1\" class=\"dataframe\">\n",
       "  <thead>\n",
       "    <tr style=\"text-align: right;\">\n",
       "      <th></th>\n",
       "      <th>theme0</th>\n",
       "      <th>theme1</th>\n",
       "      <th>theme2</th>\n",
       "      <th>theme3</th>\n",
       "      <th>theme4</th>\n",
       "      <th>theme5</th>\n",
       "      <th>species</th>\n",
       "      <th>using_age_class</th>\n",
       "      <th>min_softwood_age</th>\n",
       "      <th>max_softwood_age</th>\n",
       "      <th>...</th>\n",
       "      <th>MinSWMerchStemSnagC</th>\n",
       "      <th>MaxSWMerchStemSnagC</th>\n",
       "      <th>MinHWMerchStemSnagC</th>\n",
       "      <th>MaxHWMerchStemSnagC</th>\n",
       "      <th>efficiency</th>\n",
       "      <th>sort_type</th>\n",
       "      <th>target_type</th>\n",
       "      <th>target</th>\n",
       "      <th>disturbance_type</th>\n",
       "      <th>disturbance_year</th>\n",
       "    </tr>\n",
       "  </thead>\n",
       "  <tbody>\n",
       "  </tbody>\n",
       "</table>\n",
       "<p>0 rows × 39 columns</p>\n",
       "</div>"
      ],
      "text/plain": [
       "Empty DataFrame\n",
       "Columns: [theme0, theme1, theme2, theme3, theme4, theme5, species, using_age_class, min_softwood_age, max_softwood_age, min_hardwood_age, max_hardwood_age, MinYearsSinceDist, MaxYearsSinceDist, LastDistTypeID, MinTotBiomassC, MaxTotBiomassC, MinSWMerchBiomassC, MaxSWMerchBiomassC, MinHWMerchBiomassC, MaxHWMerchBiomassC, MinTotalStemSnagC, MaxTotalStemSnagC, MinSWStemSnagC, MaxSWStemSnagC, MinHWStemSnagC, MaxHWStemSnagC, MinTotalStemSnagMerchC, MaxTotalStemSnagMerchC, MinSWMerchStemSnagC, MaxSWMerchStemSnagC, MinHWMerchStemSnagC, MaxHWMerchStemSnagC, efficiency, sort_type, target_type, target, disturbance_type, disturbance_year]\n",
       "Index: []\n",
       "\n",
       "[0 rows x 39 columns]"
      ]
     },
     "execution_count": 33,
     "metadata": {},
     "output_type": "execute_result"
    }
   ],
   "source": [
    "sit_events"
   ]
  },
  {
   "cell_type": "code",
   "execution_count": null,
   "id": "68c50965-1499-402b-bf89-3e90dcf37518",
   "metadata": {
    "tags": []
   },
   "outputs": [],
   "source": [
    "# Run CBM and Generate CBM Ouputs\n",
    "cbm_output = run_cbm_maxstock(sit_config, sit_tables, n_steps)"
   ]
  },
  {
   "cell_type": "code",
   "execution_count": null,
   "id": "e0ba0d75-1481-417e-afa5-0d6d228e8d69",
   "metadata": {
    "tags": []
   },
   "outputs": [],
   "source": [
    "# Report Annual CBM Outputs\n",
    "# cbm_report(fm, cbm_output, biomass_pools, dom_pools, fluxes, gross_growth)\n",
    "cbm_report_both(fm, cbm_output, biomass_pools, dom_pools, fluxes, gross_growth)"
   ]
  },
  {
   "cell_type": "code",
   "execution_count": null,
   "id": "82bf0ceb-8cde-4f3c-bede-8013536c612b",
   "metadata": {
    "tags": []
   },
   "outputs": [],
   "source": [
    "# Compare the carbon outputs from ws3 (table above) and libcbm (table below)\n",
    "# compare_ws3_cbm(fm, cbm_output, disturbance_type_mapping, biomass_pools, dom_pools, plots='whole')\n",
    "compare_ws3_cbm_both(fm, cbm_output, disturbance_type_mapping, biomass_pools, dom_pools, ecosystem_decay_emissions_pools, GrossGrowth_pools, plots=\"whole\")"
   ]
  },
  {
   "cell_type": "code",
   "execution_count": null,
   "id": "571824a4-be8b-41eb-9588-348b6c56421e",
   "metadata": {
    "tags": []
   },
   "outputs": [],
   "source": [
    "# Compare the carbon outputs from ws3 (table above) and libcbm (table below)\n",
    "# compare_ws3_cbm(fm, cbm_output, disturbance_type_mapping, biomass_pools, dom_pools, plots='individual')\n",
    "compare_ws3_cbm_both(fm, cbm_output, disturbance_type_mapping, biomass_pools, dom_pools, ecosystem_decay_emissions_pools, GrossGrowth_pools, plots=\"individual\")"
   ]
  },
  {
   "cell_type": "markdown",
   "id": "6ba04644-3ba2-4a20-a548-72b802af70f7",
   "metadata": {},
   "source": [
    "## Maximize the Total System Carbon Stock and Minimze Net Carbon Emission"
   ]
  },
  {
   "cell_type": "code",
   "execution_count": null,
   "id": "2ada247f-799a-4d1c-9b8e-539cfea6e94d",
   "metadata": {},
   "outputs": [],
   "source": [
    "# def select_obj(obj_mode):\n",
    "#     print(f\"Selected scenario: {obj_mode}\")\n",
    "# obj_dropdown = widgets.Dropdown(\n",
    "#     options=['max_hv', 'min_ha', 'max_st', 'min_em'],\n",
    "#     value='min_em',\n",
    "#     description='Objective:'\n",
    "# )\n",
    "# display(obj_dropdown)\n",
    "# obj_dropdown.observe(lambda change: select_obj(change['new']), names='value')"
   ]
  },
  {
   "cell_type": "code",
   "execution_count": null,
   "id": "f2f95f7b-d949-4446-a342-ca26b12f1124",
   "metadata": {},
   "outputs": [],
   "source": [
    "# obj_mode = obj_dropdown.value"
   ]
  },
  {
   "cell_type": "code",
   "execution_count": null,
   "id": "754656ab-456c-4fbe-930f-920d4d3213fc",
   "metadata": {},
   "outputs": [],
   "source": [
    "from util_opt import cmp_c_ss, cmp_c_se"
   ]
  },
  {
   "cell_type": "code",
   "execution_count": null,
   "id": "5cb999c3-2249-40c0-8891-c0edf185b230",
   "metadata": {
    "scrolled": true
   },
   "outputs": [],
   "source": [
    "# Maximize Harvest\n",
    "# run_scenario(fm, obj_mode , 'no_cons', solver='gurobi')\n",
    "# run_scenario(fm, obj_mode , 'no_cons') #using pulp"
   ]
  },
  {
   "cell_type": "code",
   "execution_count": null,
   "id": "ec00faab-d92b-4f4b-932c-c4ad9c4062db",
   "metadata": {
    "scrolled": true
   },
   "outputs": [],
   "source": [
    "# Maximize Harvest\n",
    "run_scenario(fm, obj_mode , 'no_cons', solver='gurobi')\n",
    "# run_scenario(fm, obj_mode , 'no_cons') #using pulp"
   ]
  },
  {
   "cell_type": "code",
   "execution_count": null,
   "id": "562468b6-8cb4-4dd6-b946-c0d6e9f884dd",
   "metadata": {},
   "outputs": [],
   "source": [
    "# fm.applied_actions"
   ]
  },
  {
   "cell_type": "code",
   "execution_count": null,
   "id": "dd80568a-1543-4eaf-88ac-af6d628330c6",
   "metadata": {},
   "outputs": [],
   "source": [
    "track_system_stock(fm)"
   ]
  },
  {
   "cell_type": "code",
   "execution_count": null,
   "id": "58cf4026-4232-45ec-bb84-6d49fd083e5e",
   "metadata": {},
   "outputs": [],
   "source": [
    "track_system_emission(fm)"
   ]
  },
  {
   "cell_type": "code",
   "execution_count": null,
   "id": "52dc1dca-cbd8-4dfc-8620-f1dfb747d5a2",
   "metadata": {},
   "outputs": [],
   "source": [
    "kpi_age(fm, case_study, obj_mode)"
   ]
  },
  {
   "cell_type": "code",
   "execution_count": null,
   "id": "c7a38fa1-6c98-43f9-a163-b3f1b5cb58cb",
   "metadata": {},
   "outputs": [],
   "source": [
    "kpi_species(fm, case_study, obj_mode)"
   ]
  },
  {
   "cell_type": "code",
   "execution_count": null,
   "id": "f7dc258c-aeac-45ca-a5f1-2579c4aa163b",
   "metadata": {},
   "outputs": [],
   "source": []
  }
 ],
 "metadata": {
  "kernelspec": {
   "display_name": "Python 3 (venv:foo)",
   "language": "python",
   "name": "foo"
  },
  "language_info": {
   "codemirror_mode": {
    "name": "ipython",
    "version": 3
   },
   "file_extension": ".py",
   "mimetype": "text/x-python",
   "name": "python",
   "nbconvert_exporter": "python",
   "pygments_lexer": "ipython3",
   "version": "3.10.12"
  }
 },
 "nbformat": 4,
 "nbformat_minor": 5
}
