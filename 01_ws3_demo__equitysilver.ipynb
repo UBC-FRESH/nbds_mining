{
 "cells": [
  {
   "cell_type": "code",
   "execution_count": 1,
   "id": "972a3d1e-604e-4edc-9101-5f3f6449fb26",
   "metadata": {
    "tags": []
   },
   "outputs": [],
   "source": [
    "import matplotlib.pyplot as plt\n",
    "import pandas as pd\n",
    "import geopandas as gpd\n",
    "import ws3.forest, ws3.core\n",
    "import csv\n",
    "import numpy as np\n",
    "from util import schedule_harvest_areacontrol, compile_scenario, plot_scenario"
   ]
  },
  {
   "cell_type": "code",
   "execution_count": 2,
   "id": "e397f7bf-c67a-4fd8-862f-9da3a8aa1523",
   "metadata": {
    "tags": []
   },
   "outputs": [],
   "source": [
    "base_year = 2020\n",
    "horizon = 10\n",
    "period_length = 10\n",
    "max_age =  1000\n",
    "tvy_name = 'totvol'\n",
    "max_harvest = 1"
   ]
  },
  {
   "cell_type": "code",
   "execution_count": 3,
   "id": "d40f4fcc-0465-4c67-9fd1-7fca3f66d16d",
   "metadata": {},
   "outputs": [],
   "source": [
    "fm = ws3.forest.ForestModel(model_name='equitysilver',\n",
    "                            model_path='./data/woodstock_model_files_equitysilver',\n",
    "                            base_year=base_year,\n",
    "                            horizon=horizon,\n",
    "                            period_length=period_length,\n",
    "                            max_age=max_age)\n",
    "fm.import_landscape_section()\n",
    "fm.import_areas_section()\n",
    "fm.import_yields_section()\n",
    "fm.import_actions_section()\n",
    "fm.import_transitions_section()\n",
    "fm.initialize_areas()\n",
    "fm.add_null_action()\n",
    "fm.reset_actions()"
   ]
  },
  {
   "cell_type": "markdown",
   "id": "1caee887-6734-46b1-a79a-b6c330baef2b",
   "metadata": {},
   "source": [
    "At this point, we have a simple but fully functional ws3 model instance. "
   ]
  },
  {
   "cell_type": "markdown",
   "id": "4c9a67b5-5616-4143-add6-a21f1b1ef0ad",
   "metadata": {
    "tags": []
   },
   "source": [
    "Implement a priority queue harvest scheduling heuristic."
   ]
  },
  {
   "cell_type": "code",
   "execution_count": 4,
   "id": "6ce07b10-aa59-4096-8b62-7012f49cf75b",
   "metadata": {
    "tags": []
   },
   "outputs": [],
   "source": [
    "fm.reset()"
   ]
  },
  {
   "cell_type": "code",
   "execution_count": 5,
   "id": "073d963c-28c0-4066-8e0c-0f937842afc2",
   "metadata": {},
   "outputs": [
    {
     "ename": "KeyError",
     "evalue": "2024",
     "output_type": "error",
     "traceback": [
      "\u001b[0;31m---------------------------------------------------------------------------\u001b[0m",
      "\u001b[0;31mKeyError\u001b[0m                                  Traceback (most recent call last)",
      "Cell \u001b[0;32mIn[5], line 5\u001b[0m\n\u001b[1;32m      2\u001b[0m \u001b[38;5;28;01mimport\u001b[39;00m \u001b[38;5;21;01mnumpy\u001b[39;00m \u001b[38;5;28;01mas\u001b[39;00m \u001b[38;5;21;01mnp\u001b[39;00m\n\u001b[1;32m      4\u001b[0m \u001b[38;5;66;03m# Assuming fm.age_class_distribution(0) returns a dictionary or two lists (x and y)\u001b[39;00m\n\u001b[0;32m----> 5\u001b[0m data \u001b[38;5;241m=\u001b[39m \u001b[43mfm\u001b[49m\u001b[38;5;241;43m.\u001b[39;49m\u001b[43mage_class_distribution\u001b[49m\u001b[43m(\u001b[49m\u001b[38;5;241;43m0\u001b[39;49m\u001b[43m)\u001b[49m\n\u001b[1;32m      7\u001b[0m \u001b[38;5;66;03m# Extracting x and y values\u001b[39;00m\n\u001b[1;32m      8\u001b[0m x_values \u001b[38;5;241m=\u001b[39m \u001b[38;5;28mlist\u001b[39m(data\u001b[38;5;241m.\u001b[39mkeys())\n",
      "File \u001b[0;32m/media/data/project/eghasemi/ws3/ws3/forest.py:1099\u001b[0m, in \u001b[0;36mForestModel.age_class_distribution\u001b[0;34m(self, period, mask, omit_null)\u001b[0m\n\u001b[1;32m   1097\u001b[0m     dt \u001b[38;5;241m=\u001b[39m \u001b[38;5;28mself\u001b[39m\u001b[38;5;241m.\u001b[39mdtypes[dtk]\n\u001b[1;32m   1098\u001b[0m     \u001b[38;5;28;01mfor\u001b[39;00m age \u001b[38;5;129;01min\u001b[39;00m dt\u001b[38;5;241m.\u001b[39m_areas[period]:\n\u001b[0;32m-> 1099\u001b[0m         result[age] \u001b[38;5;241m+\u001b[39m\u001b[38;5;241m=\u001b[39m dt\u001b[38;5;241m.\u001b[39m_areas[period][age]\n\u001b[1;32m   1100\u001b[0m \u001b[38;5;28;01mif\u001b[39;00m omit_null:\n\u001b[1;32m   1101\u001b[0m     result \u001b[38;5;241m=\u001b[39m {k:v \u001b[38;5;28;01mfor\u001b[39;00m k, v \u001b[38;5;129;01min\u001b[39;00m result\u001b[38;5;241m.\u001b[39mitems() \u001b[38;5;28;01mif\u001b[39;00m v}\n",
      "\u001b[0;31mKeyError\u001b[0m: 2024"
     ]
    }
   ],
   "source": [
    "import matplotlib.pyplot as plt\n",
    "import numpy as np\n",
    "\n",
    "# Assuming fm.age_class_distribution(0) returns a dictionary or two lists (x and y)\n",
    "data = fm.age_class_distribution(0)\n",
    "\n",
    "# Extracting x and y values\n",
    "x_values = list(data.keys())\n",
    "y_values = list(data.values()) \n",
    "\n",
    "# Define custom bin edges\n",
    "bin_edges = np.arange(0, 480, 20)\n",
    "\n",
    "# Create a histogram using numpy.histogram()\n",
    "hist, _ = np.histogram(x_values, bins=bin_edges, weights=y_values)\n",
    "\n",
    "# Plot the histogram\n",
    "plt.bar(bin_edges[:-1], hist, width=20, color='blue', edgecolor='black', alpha=0.7)\n",
    "\n",
    "# Add labels and title\n",
    "plt.xlabel('Age')\n",
    "plt.ylabel('Area (ha)')\n",
    "plt.title('Age Distribution')\n",
    "\n",
    "# Show the plot\n",
    "plt.show()\n"
   ]
  },
  {
   "cell_type": "code",
   "execution_count": null,
   "id": "c510610e-e9b6-4635-a49d-d6c207874e73",
   "metadata": {
    "scrolled": true,
    "tags": []
   },
   "outputs": [],
   "source": [
    "verbose = False # flip to True if you want the harvest scheduler to get _really_ chatty while it works\n",
    "for period in fm.periods:\n",
    "    schedule_harvest_areacontrol(fm, max_harvest, period=period, verbose=verbose)"
   ]
  },
  {
   "cell_type": "code",
   "execution_count": null,
   "id": "24ff958b-9c9a-4206-a96b-9b34b97259b4",
   "metadata": {},
   "outputs": [],
   "source": [
    "df = compile_scenario(fm)\n",
    "plot_scenario(df)"
   ]
  },
  {
   "cell_type": "code",
   "execution_count": null,
   "id": "c98d1089-d854-47b4-bb22-c2c2aeef72f5",
   "metadata": {},
   "outputs": [],
   "source": []
  }
 ],
 "metadata": {
  "kernelspec": {
   "display_name": "Python 3 (venv:foo)",
   "language": "python",
   "name": "foo"
  },
  "language_info": {
   "codemirror_mode": {
    "name": "ipython",
    "version": 3
   },
   "file_extension": ".py",
   "mimetype": "text/x-python",
   "name": "python",
   "nbconvert_exporter": "python",
   "pygments_lexer": "ipython3",
   "version": "3.10.12"
  }
 },
 "nbformat": 4,
 "nbformat_minor": 5
}
