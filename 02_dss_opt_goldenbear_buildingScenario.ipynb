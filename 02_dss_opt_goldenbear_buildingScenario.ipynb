{
 "cells": [
  {
   "cell_type": "markdown",
   "id": "e26eddd8-59ca-40cf-857e-ecee6cda98e1",
   "metadata": {},
   "source": [
    "# DSS Example: Avoided Harvesting\n",
    "\n",
    "This notebook is an example implementation of a notebook-based decision-support system (DSS) for evaluating the net system-level carbon emissions impact of an _avoided harvesting_ type project. \n",
    "\n",
    "## DSS implementation notes\n",
    "\n",
    "At its core this DSS prototype uses ws3 and libcbm_py to do most of the heavy lifting in terms of simulating forest growth, simulating harvesting disturbances, and simulating forest ecosystem carbon stocks and fluxes. ws3 includes built-in functions that automate most of process of compiling CBM input data, importing this input data into CBM, running CBM, and extracting CBM output data in tablular format. We layer onto this some custom functions to simulate multiple decaying pools of harvested wood products (HWP), and displacement effects for these. \n",
    "\n",
    "This DSS assumes we are using the standard \"alternative scenario net of baseline scenario\" approach to defining net carbon emissions, so we include functions that automate the process of pushing a pair of (baseline, alternative) scenarios through the simulation pipeline, collecting the output from each scenario, calculating the difference across scenarios (alternative minus baseline) and displaying this contrast as a function of time.\n",
    "\n",
    "We include a few interactive widgets to show how these can be used to implement a more user-friendly interface for the DSS while keeping the flexibility and low overhead cost of using a Jupyter notebook environment to implement the DSS. \n",
    "\n",
    "Note that most of the complex code that defines the behaviour of the DSS and underlying simulation engines is implemented in a companion `util` Python module. The functions we need from the `util` module are imported at the top of this notebook. \n",
    "\n",
    "It is also possible to further \"hide\" the code parts of a Jupyter notebook-based DSS dashboard application by linking _all_ required parameters and controls to interactive widgets (see some examples of widgets below), and then running the notebook throught the Voilà dashboard interface (not tested here, but Voilà is part of the standard ecosystem of Jupyter software should not be a problem). For anyone more familiar with the R programming environment, Voilà is to JupyterLab as Shiny is to RStudio (if this analogy is lost on you, then it was not meant for you). \n",
    "\n",
    "## Description of case\n",
    "\n",
    "The study area for this case is a part of timber supply area (TSA) 04 in British Columbia around a mining site. There has been little or no harvesting in this area to date, but in this hypothetical case we are supposing that there are plans to begin actively harvesting this area in the near future. We are assuming that harvesting will be planned such that an _even flow_ of merchantable timber volume is extracted from the study area (over an arbitrary 100-year simulation horizon, althought the system can easily be parametrized to simulate shorter or longer horizons). We assume that the harvesting will begin unless someone \"buys out\" and holds the harvesting rights without exploiting them (effectively implementing a \"no harvesting\" policy going forward). In this situation, the \"harvesting\" policy represents the baseline scenario and the \"no harvesting\" policy is the alternative scenario.  "
   ]
  },
  {
   "cell_type": "code",
   "execution_count": 12,
   "id": "f85b3f10-74de-4b90-8965-f92287d1045a",
   "metadata": {},
   "outputs": [],
   "source": [
    "import math\n",
    "import matplotlib.pyplot as plt\n",
    "import pandas as pd\n",
    "import ipywidgets as widgets\n",
    "from IPython.display import display\n",
    "import ws3.forest\n",
    "from util_opt import results_scenarios, run_scenario\n",
    "import time\n",
    "import gurobipy as grb"
   ]
  },
  {
   "cell_type": "code",
   "execution_count": 13,
   "id": "8a2ab190-93b9-4791-ad7b-9ba7e7dc5e89",
   "metadata": {},
   "outputs": [],
   "source": [
    "base_year = 2020\n",
    "horizon = 10\n",
    "period_length = 10\n",
    "max_age = 1000\n",
    "n_steps = 100\n",
    "tvy_name = 'totvol'"
   ]
  },
  {
   "cell_type": "markdown",
   "id": "bf8f3a05-c967-404e-934d-33b7c99fab2a",
   "metadata": {},
   "source": [
    "Create some interactive widgets to control four model parameters. The widgets have reasonable default values defined, but DSS users can override these default values. There are many (thousands!) of other model parameters that could modified to tweak model behaviour. These are complex models, and in the end the quality of output data is limited by the quality of input parameter choices (many of which require expert judgement).  "
   ]
  },
  {
   "cell_type": "code",
   "execution_count": 14,
   "id": "8675aed4-a638-478a-b272-f2b49edd3eee",
   "metadata": {},
   "outputs": [
    {
     "data": {
      "application/vnd.jupyter.widget-view+json": {
       "model_id": "1c4a304d9ace4220adf3a37d3246574f",
       "version_major": 2,
       "version_minor": 0
      },
      "text/plain": [
       "FloatSlider(value=0.0, description='Displacement', max=1.0, step=1.0)"
      ]
     },
     "metadata": {},
     "output_type": "display_data"
    },
    {
     "data": {
      "application/vnd.jupyter.widget-view+json": {
       "model_id": "955a1cb39a674bc096546ae3dd6e060d",
       "version_major": 2,
       "version_minor": 0
      },
      "text/plain": [
       "FloatSlider(value=0.0, description='HWP', max=1.0, step=1.0)"
      ]
     },
     "metadata": {},
     "output_type": "display_data"
    }
   ],
   "source": [
    "displacement_effect = widgets.FloatSlider(min=0, max=1, step=1, description='Displacement', value=0)\n",
    "hwp_pool = widgets.FloatSlider(min=0, max=1, step=1, description='HWP', value=0)\n",
    "display(displacement_effect, hwp_pool)"
   ]
  },
  {
   "cell_type": "code",
   "execution_count": 15,
   "id": "ff39d046-c619-4923-8627-31a6f3d963fd",
   "metadata": {},
   "outputs": [],
   "source": [
    "displacement_effect = displacement_effect.value\n",
    "hwp_pool = hwp_pool.value"
   ]
  },
  {
   "cell_type": "code",
   "execution_count": 16,
   "id": "d2317f09-3db3-4474-80d7-614e93e1a7b4",
   "metadata": {},
   "outputs": [],
   "source": [
    "if displacement_effect == 0:\n",
    "   clt_percentage = 0\n",
    "   credibility = 0\n",
    "else:\n",
    "    clt_percentage = widgets.FloatSlider(min=0, max=1, step=0.1, description='CLT_percent:', value=0.5)\n",
    "    credibility = widgets.FloatSlider(min=0, max=1, step=0.1, description='Credibility:', value=1)\n",
    "    display(clt_percentage, credibility)"
   ]
  },
  {
   "cell_type": "code",
   "execution_count": 17,
   "id": "00f637d1-92cc-4c74-ae88-57ab5f51da79",
   "metadata": {},
   "outputs": [
    {
     "data": {
      "application/vnd.jupyter.widget-view+json": {
       "model_id": "4d48b3e5c08b464aaed176e94fb57840",
       "version_major": 2,
       "version_minor": 0
      },
      "text/plain": [
       "FloatSlider(value=0.0, description='Max_harvest:', max=1.0, step=0.05)"
      ]
     },
     "metadata": {},
     "output_type": "display_data"
    },
    {
     "data": {
      "application/vnd.jupyter.widget-view+json": {
       "model_id": "846ce1319a794562aae1a121b88c9252",
       "version_major": 2,
       "version_minor": 0
      },
      "text/plain": [
       "FloatText(value=10000000.0, description='Budget:')"
      ]
     },
     "metadata": {},
     "output_type": "display_data"
    }
   ],
   "source": [
    "max_harvest = widgets.FloatSlider(min=0, max=1, step=0.05, description='Max_harvest:', value=0)\n",
    "budget_input = widgets.FloatText(\n",
    "    value=10000000,\n",
    "    description='Budget:',\n",
    "    disabled=False)\n",
    "display(max_harvest, budget_input)"
   ]
  },
  {
   "cell_type": "code",
   "execution_count": 18,
   "id": "b1890106-a4ba-46b1-a125-4dc86c4da826",
   "metadata": {},
   "outputs": [
    {
     "data": {
      "application/vnd.jupyter.widget-view+json": {
       "model_id": "fd56f3fb5f53474fbc180cb9419f4a43",
       "version_major": 2,
       "version_minor": 0
      },
      "text/plain": [
       "Dropdown(description='Scenario:', options=('base', 'base-cgen_ha', 'base-cgen_hv', 'base-cgen_gs'), value='bas…"
      ]
     },
     "metadata": {},
     "output_type": "display_data"
    }
   ],
   "source": [
    "def select_scenario(scenario_name):\n",
    "    print(f\"Selected scenario: {scenario_name}\")\n",
    "scenario_dropdown = widgets.Dropdown(\n",
    "    options=['base', 'base-cgen_ha', 'base-cgen_hv', 'base-cgen_gs'],\n",
    "    value='base',\n",
    "    description='Scenario:'\n",
    ")\n",
    "display(scenario_dropdown)\n",
    "scenario_dropdown.observe(lambda change: select_scenario(change['new']), names='value')"
   ]
  },
  {
   "cell_type": "code",
   "execution_count": 19,
   "id": "d3bdbd46-1954-4925-a8f9-36cbdcf156e4",
   "metadata": {},
   "outputs": [],
   "source": [
    "if displacement_effect != 0:\n",
    "    clt_percentage = clt_percentage.value\n",
    "    credibility = credibility.value\n",
    "max_harvest = max_harvest.value\n",
    "budget_input = budget_input.value\n",
    "scenario_name = scenario_dropdown.value"
   ]
  },
  {
   "cell_type": "code",
   "execution_count": 20,
   "id": "972c6490-009c-4c93-a20d-6828d27f6e3d",
   "metadata": {},
   "outputs": [],
   "source": [
    "fm = ws3.forest.ForestModel(model_name='tsa04',\n",
    "                            model_path='./data/woodstock_model_files',\n",
    "                            base_year=base_year,\n",
    "                            horizon=horizon,\n",
    "                            period_length=period_length,\n",
    "                            max_age=max_age)\n",
    "fm.import_landscape_section()\n",
    "fm.import_areas_section()\n",
    "fm.import_yields_section()\n",
    "fm.import_actions_section()\n",
    "fm.import_transitions_section()\n",
    "fm.initialize_areas()\n",
    "fm.add_null_action()\n",
    "fm.reset_actions()"
   ]
  },
  {
   "cell_type": "markdown",
   "id": "b7ecbdff-88a6-417a-ae9c-7d2696286c2b",
   "metadata": {},
   "source": [
    "Run the simulations and compile output data into a \"dashboard\" of graphs. The grid of four subfigures shows carbon stocks and emissions for both baseline and alternative scenarios. The figure on the bottom shows the contrast (difference) between net emissions for alternative and baseline scenarios. The contrast is a negative number (in most time steps), which means that according to this simulation the alternative (no harvesting) scenario generally has lower emissions behaviour than the baseline (high even-flow harvesting) scenario. \n",
    "\n",
    "However, close inspection of the detailed scenario-wise emissions graphs reveals that the absolute magnitude of the \"net emission\" indictator for each of the scenarios is relatively small compared to the absolute magnitude of \"ecosystem decay\" and \"gross growth\" emissions (which dominate the net emissions calculation, and come close to cancelling each other out completely). Furthermore, side-by-side visual inspection of the relatively small-magnitude \"net emissions\" profiles for each scenario shows that they are _very_ similar.\n",
    "\n",
    "So, althrough this model is calculating a net negative impact of the \"no harvesting\" scenario relative to the \"with harvesting\" scenario, the magnitude of this impact is small enough (compared to the magnitude of the constituent carbon emission components that are summed to calculate the net emission indicator) to trigger a \"materiality\" criterion challenge. Materiality is further challenged when one considers the relatively low confidence (i.e., high uncertainty) associated with some of the key input assumptions used in this deterministic analysis). \n",
    "\n",
    "As a further example of how the flexibility of this type of notebook-based DSS implementation, we automate the process of calculating the avoided emissions for the first 25 years of the simulation horizon (i.e., the area under the leftmost part of the curve in the bottom figure in the dashboard), and dividing this number into a hypothetical \"budget\" for buying out the harvesting rights, yielding a \"unit cost of avoided emissions\" (in $ per tCO2e). This is the same sort of calculation (minus a full-blown techno-economic analysis to back up the budget value in the numerator) used by economists to compile marginal abatement cost curve (MACC) figures. For example, the DSS prototype as it is implemented could be re-run multiple times to find (through trial and error) the maximum total price one would want to bid to buy out the harvesting rights on this piece of land, given a maximum \"unit cost of avoided emissions\" price we were willing to pay (above which price maybe it would be more economically efficient to invest our \"carbon money\" elsewhere, or just purchase ready-baked carbon offset credits from one of several retail voluntary carbon offset markets)."
   ]
  },
  {
   "cell_type": "code",
   "execution_count": 21,
   "id": "f08bfa77-956f-48b1-aaf3-01d57471c0db",
   "metadata": {},
   "outputs": [],
   "source": [
    "fm.reset()"
   ]
  },
  {
   "cell_type": "code",
   "execution_count": 22,
   "id": "c4b4a296-18ef-423d-9af7-00d570d143d4",
   "metadata": {},
   "outputs": [
    {
     "name": "stdout",
     "output_type": "stream",
     "text": [
      "running base scenario\n",
      "Gurobi Optimizer version 10.0.3 build v10.0.3rc0 (linux64)\n",
      "\n",
      "CPU model: Intel Core Processor (Broadwell, IBRS), instruction set [SSE2|AVX|AVX2]\n",
      "Thread count: 16 physical cores, 16 logical processors, using up to 16 threads\n",
      "\n",
      "Optimize a model with 3951 rows, 36130 columns and 512622 nonzeros\n",
      "Model fingerprint: 0x73fde967\n",
      "Coefficient statistics:\n",
      "  Matrix range     [1e-02, 9e+04]\n",
      "  Objective range  [0e+00, 0e+00]\n",
      "  Bounds range     [0e+00, 0e+00]\n",
      "  RHS range        [1e+00, 1e+10]\n",
      "Warning: Model contains large rhs\n",
      "         Consider reformulating model or setting NumericFocus parameter\n",
      "         to avoid numerical issues.\n",
      "Presolve removed 3951 rows and 36130 columns\n",
      "Presolve time: 0.15s\n",
      "Presolve: All rows and columns removed\n",
      "Iteration    Objective       Primal Inf.    Dual Inf.      Time\n",
      "       0   -0.0000000e+00   0.000000e+00   0.000000e+00      0s\n",
      "\n",
      "Solved in 0 iterations and 0.18 seconds (0.15 work units)\n",
      "Optimal objective -0.000000000e+00\n"
     ]
    },
    {
     "data": {
      "text/plain": [
       "[]"
      ]
     },
     "execution_count": 22,
     "metadata": {},
     "output_type": "execute_result"
    }
   ],
   "source": [
    "schedule = run_scenario(fm, scenario_name)\n",
    "schedule"
   ]
  },
  {
   "cell_type": "code",
   "execution_count": null,
   "id": "74b5f8d3-3a9a-4145-929f-af9367a22e5e",
   "metadata": {},
   "outputs": [],
   "source": [
    "Start = time.time()\n",
    "results_scenarios(fm, clt_percentage, credibility, budget_input, n_steps, max_harvest, scenario_name)\n",
    "print('It took', round((time.time() - Start) / 60, 1), \"minutes to run this script.\")"
   ]
  },
  {
   "cell_type": "code",
   "execution_count": null,
   "id": "05961b78-2a9a-4f9a-a46f-e4d893a93d19",
   "metadata": {},
   "outputs": [],
   "source": []
  }
 ],
 "metadata": {
  "kernelspec": {
   "display_name": "Python 3 (venv:foo)",
   "language": "python",
   "name": "foo"
  },
  "language_info": {
   "codemirror_mode": {
    "name": "ipython",
    "version": 3
   },
   "file_extension": ".py",
   "mimetype": "text/x-python",
   "name": "python",
   "nbconvert_exporter": "python",
   "pygments_lexer": "ipython3",
   "version": "3.10.12"
  }
 },
 "nbformat": 4,
 "nbformat_minor": 5
}
