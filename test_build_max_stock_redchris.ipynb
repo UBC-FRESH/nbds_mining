{
 "cells": [
  {
   "cell_type": "markdown",
   "id": "1a5d44a5-2160-4043-aff7-eecad3db2ce0",
   "metadata": {
    "tags": []
   },
   "source": [
    "# Connect Forest Management Model with Forest Carbon Budget Model (without calibration)"
   ]
  },
  {
   "cell_type": "markdown",
   "id": "b2965270-03d6-4a66-b266-7744e7ae5e1b",
   "metadata": {
    "tags": []
   },
   "source": [
    "## Set up Modelling Environment"
   ]
  },
  {
   "cell_type": "code",
   "execution_count": null,
   "id": "213247ec-412e-4f98-9141-7de4cc19d042",
   "metadata": {
    "tags": []
   },
   "outputs": [],
   "source": [
    "import numpy as np\n",
    "import math\n",
    "import matplotlib.pyplot as plt\n",
    "import pandas as pd\n",
    "import ipywidgets as widgets\n",
    "from IPython.display import display\n",
    "import ws3.forest\n",
    "import time\n",
    "import gurobipy as grb\n",
    "from util_opt import compile_scenario_maxstock, plot_scenario_maxstock, run_cbm_maxstock, cbm_report, plugin_c_curves, compare_ws3_cbm, compile_events\n",
    "import pickle\n",
    "# Import Module\n",
    "from util_opt import compile_scenario_maxstock, plot_scenario_maxstock, run_cbm_maxstock"
   ]
  },
  {
   "cell_type": "markdown",
   "id": "84d286e1-4f32-408d-831d-ff751dee88a9",
   "metadata": {
    "tags": []
   },
   "source": [
    "## Create and Run `ForestModel` instance"
   ]
  },
  {
   "cell_type": "code",
   "execution_count": null,
   "id": "7b36a6af-653c-4e96-a449-694f3f46a55e",
   "metadata": {
    "tags": []
   },
   "outputs": [],
   "source": [
    "base_year = 2020\n",
    "horizon = 10\n",
    "period_length = 10\n",
    "max_age = 1000\n",
    "n_steps = 100\n",
    "tvy_name = 'totvol'\n",
    "case_study = 'redchris'"
   ]
  },
  {
   "cell_type": "code",
   "execution_count": null,
   "id": "21205949-5636-4bef-8d49-247687514ec2",
   "metadata": {
    "tags": []
   },
   "outputs": [],
   "source": [
    "fm = ws3.forest.ForestModel(model_name='redchris',\n",
    "                            model_path='./data/woodstock_model_files_redchris',\n",
    "                            base_year=base_year,\n",
    "                            horizon=horizon,\n",
    "                            period_length=period_length,\n",
    "                            max_age=max_age)\n",
    "fm.import_landscape_section()\n",
    "fm.import_areas_section()\n",
    "fm.import_yields_section()\n",
    "fm.import_actions_section()\n",
    "fm.import_transitions_section()\n",
    "fm.initialize_areas()\n",
    "fm.add_null_action()\n",
    "fm.reset_actions()\n",
    "\n",
    "fm.grow()"
   ]
  },
  {
   "cell_type": "code",
   "execution_count": null,
   "id": "b5f68734-e67c-4bc5-9100-a99862e4567c",
   "metadata": {
    "tags": []
   },
   "outputs": [],
   "source": [
    "# Flag 'harvest' as a harvesting action in the ws3 model\n",
    "harvest_acode='harvest'\n",
    "fm.actions[harvest_acode].is_harvest = True"
   ]
  },
  {
   "cell_type": "code",
   "execution_count": null,
   "id": "e48cb5b5-787a-43bd-b43b-f6caf2f96cf6",
   "metadata": {
    "tags": []
   },
   "outputs": [],
   "source": [
    "# Check the Forest Inventory of the Forest Model\n",
    "df = compile_scenario_maxstock(fm)\n",
    "plot_scenario_maxstock(df)"
   ]
  },
  {
   "cell_type": "markdown",
   "id": "9597ca3e-2d50-4fc5-86d7-d65110ac0105",
   "metadata": {
    "tags": []
   },
   "source": [
    "## Hard-link `ForestModel` to `libcbm`"
   ]
  },
  {
   "cell_type": "code",
   "execution_count": null,
   "id": "47f95ecd-74c9-4d8f-8397-39ca5987931e",
   "metadata": {
    "tags": []
   },
   "outputs": [],
   "source": [
    "# Import Modules\n",
    "import libcbm"
   ]
  },
  {
   "cell_type": "markdown",
   "id": "3d758cb0-7bba-4bb2-b6a6-cd078d9a3602",
   "metadata": {},
   "source": [
    "Prepare CBM input files"
   ]
  },
  {
   "cell_type": "code",
   "execution_count": null,
   "id": "1a3238c3-ef1e-4aab-aac1-20c951520bc5",
   "metadata": {
    "tags": []
   },
   "outputs": [],
   "source": [
    "# Define Disturance Types\n",
    "disturbance_type_mapping = [{'user_dist_type': 'harvest', 'default_dist_type': 'Clearcut harvesting without salvage'},\n",
    "                            {'user_dist_type': 'fire', 'default_dist_type': 'Wildfire'}]\n",
    "for dtype_key in fm.dtypes:\n",
    "    fm.dt(dtype_key).last_pass_disturbance = 'fire' if dtype_key[2] == dtype_key[4] else 'harvest'"
   ]
  },
  {
   "cell_type": "code",
   "execution_count": null,
   "id": "8b285ecf-6981-437f-829a-54b951b674e7",
   "metadata": {
    "tags": []
   },
   "outputs": [],
   "source": [
    "sit_config, sit_tables = fm.to_cbm_sit(softwood_volume_yname='swdvol', \n",
    "                                       hardwood_volume_yname='hwdvol', \n",
    "                                       admin_boundary='British Columbia', \n",
    "                                       eco_boundary='Montane Cordillera',\n",
    "                                       disturbance_type_mapping=disturbance_type_mapping)"
   ]
  },
  {
   "cell_type": "markdown",
   "id": "aa26a5b6-9c12-4653-9fa8-d9b46e71fee2",
   "metadata": {},
   "source": [
    "Here are other two ways to generate sit tables. But they are only suitbale for small forest model since they take too much running time and memory"
   ]
  },
  {
   "cell_type": "code",
   "execution_count": null,
   "id": "c0d05155-9b33-49c8-8320-ad9acbafda13",
   "metadata": {
    "tags": []
   },
   "outputs": [],
   "source": [
    "# Define Time Steps\n",
    "n_steps = fm.horizon * fm.period_length\n",
    "\n",
    "# Run CBM and Generate CBM 0utputs\n",
    "cbm_output = run_cbm_maxstock(sit_config, sit_tables, n_steps)"
   ]
  },
  {
   "cell_type": "markdown",
   "id": "c6d27b60-bd78-42af-9bc3-f81ad77fd9ad",
   "metadata": {},
   "source": [
    "Emissions from all biomass components only resulting from fire disturbance, while these from all DOM pools resulting from annual decay processes and fire disturbance."
   ]
  },
  {
   "cell_type": "code",
   "execution_count": null,
   "id": "05ab0cab-f8fb-49a0-bf38-c196e5720344",
   "metadata": {
    "tags": []
   },
   "outputs": [],
   "source": [
    "# Define Carbon Pools\n",
    "biomass_pools = ['SoftwoodMerch','SoftwoodFoliage', 'SoftwoodOther', 'SoftwoodCoarseRoots','SoftwoodFineRoots',                        \n",
    "                 'HardwoodMerch', 'HardwoodFoliage', 'HardwoodOther', 'HardwoodCoarseRoots', 'HardwoodFineRoots']\n",
    "dom_pools = ['AboveGroundVeryFastSoil', 'BelowGroundVeryFastSoil', 'AboveGroundFastSoil', 'BelowGroundFastSoil',\n",
    "             'MediumSoil', 'AboveGroundSlowSoil', 'BelowGroundSlowSoil', 'SoftwoodStemSnag', 'SoftwoodBranchSnag',\n",
    "             'HardwoodStemSnag', 'HardwoodBranchSnag']\n",
    "emissions_pools = ['CO2', 'CH4', 'CO', 'NO2']\n",
    "products_pools = ['Products']\n",
    "ecosystem_pools = biomass_pools + dom_pools\n",
    "all_pools = biomass_pools + dom_pools + emissions_pools + products_pools"
   ]
  },
  {
   "cell_type": "code",
   "execution_count": null,
   "id": "c5c842f1-a9ab-4602-81a3-668325e6f2eb",
   "metadata": {
    "tags": []
   },
   "outputs": [],
   "source": [
    "# Define Carbon Fluxes\n",
    "annual_process_fluxes = [\n",
    "    'DecayDOMCO2Emission',\n",
    "    'DeltaBiomass_AG',\n",
    "    'DeltaBiomass_BG',\n",
    "    'TurnoverMerchLitterInput',\n",
    "    'TurnoverFolLitterInput',\n",
    "    'TurnoverOthLitterInput',\n",
    "    'TurnoverCoarseLitterInput',\n",
    "    'TurnoverFineLitterInput',\n",
    "    'DecayVFastAGToAir',\n",
    "    'DecayVFastBGToAir',\n",
    "    'DecayFastAGToAir',\n",
    "    'DecayFastBGToAir',\n",
    "    'DecayMediumToAir',\n",
    "    'DecaySlowAGToAir',\n",
    "    'DecaySlowBGToAir',\n",
    "    'DecaySWStemSnagToAir',\n",
    "    'DecaySWBranchSnagToAir',\n",
    "    'DecayHWStemSnagToAir',\n",
    "    'DecayHWBranchSnagToAir'\n",
    "]\n",
    "\n",
    "npp_fluxes=[\n",
    "    'DeltaBiomass_AG', \n",
    "    'DeltaBiomass_BG'\n",
    "]\n",
    "decay_emissions_fluxes = [\n",
    "    'DecayVFastAGToAir',\n",
    "    'DecayVFastBGToAir',\n",
    "    'DecayFastAGToAir',\n",
    "    'DecayFastBGToAir',\n",
    "    'DecayMediumToAir',\n",
    "    'DecaySlowAGToAir',\n",
    "    'DecaySlowBGToAir',\n",
    "    'DecaySWStemSnagToAir',\n",
    "    'DecaySWBranchSnagToAir',\n",
    "    'DecayHWStemSnagToAir',\n",
    "    'DecayHWBranchSnagToAir'\n",
    "]\n",
    "\n",
    "disturbance_production_fluxes = [\n",
    "    'DisturbanceSoftProduction',\n",
    "    'DisturbanceHardProduction',\n",
    "    'DisturbanceDOMProduction'   \n",
    "]\n",
    "\n",
    "disturbance_emissions_fluxes = [\n",
    "    'DisturbanceMerchToAir',\n",
    "    'DisturbanceFolToAir',\n",
    "    'DisturbanceOthToAir',\n",
    "    'DisturbanceCoarseToAir',\n",
    "    'DisturbanceFineToAir',\n",
    "    'DisturbanceVFastAGToAir',\n",
    "    'DisturbanceVFastBGToAir',\n",
    "    'DisturbanceFastAGToAir',\n",
    "    'DisturbanceFastBGToAir',\n",
    "    'DisturbanceMediumToAir',\n",
    "    'DisturbanceSlowAGToAir',\n",
    "    'DisturbanceSlowBGToAir',\n",
    "    'DisturbanceSWStemSnagToAir',\n",
    "    'DisturbanceSWBranchSnagToAir',\n",
    "    'DisturbanceHWStemSnagToAir',\n",
    "    'DisturbanceHWBranchSnagToAir'   \n",
    "]\n",
    "\n",
    "all_fluxes = [\n",
    "    'DisturbanceCO2Production',\n",
    "    'DisturbanceCH4Production',\n",
    "    'DisturbanceCOProduction',\n",
    "    'DisturbanceBioCO2Emission',\n",
    "    'DisturbanceBioCH4Emission',\n",
    "    'DisturbanceBioCOEmission',\n",
    "    'DecayDOMCO2Emission',\n",
    "    'DisturbanceSoftProduction',\n",
    "    'DisturbanceHardProduction',\n",
    "    'DisturbanceDOMProduction',\n",
    "    'DeltaBiomass_AG',\n",
    "    'DeltaBiomass_BG',\n",
    "    'TurnoverMerchLitterInput',\n",
    "    'TurnoverFolLitterInput',\n",
    "    'TurnoverOthLitterInput',\n",
    "    'TurnoverCoarseLitterInput',\n",
    "    'TurnoverFineLitterInput',\n",
    "    'DecayVFastAGToAir',\n",
    "    'DecayVFastBGToAir',\n",
    "    'DecayFastAGToAir',\n",
    "    'DecayFastBGToAir',\n",
    "    'DecayMediumToAir',\n",
    "    'DecaySlowAGToAir',\n",
    "    'DecaySlowBGToAir',\n",
    "    'DecaySWStemSnagToAir',\n",
    "    'DecaySWBranchSnagToAir',\n",
    "    'DecayHWStemSnagToAir',\n",
    "    'DecayHWBranchSnagToAir',\n",
    "    'DisturbanceMerchToAir',\n",
    "    'DisturbanceFolToAir',\n",
    "    'DisturbanceOthToAir',\n",
    "    'DisturbanceCoarseToAir',\n",
    "    'DisturbanceFineToAir',\n",
    "    'DisturbanceDOMCO2Emission',\n",
    "    'DisturbanceDOMCH4Emission',\n",
    "    'DisturbanceDOMCOEmission',\n",
    "    'DisturbanceMerchLitterInput',\n",
    "    'DisturbanceFolLitterInput',\n",
    "    'DisturbanceOthLitterInput',\n",
    "    'DisturbanceCoarseLitterInput',\n",
    "    'DisturbanceFineLitterInput',\n",
    "    'DisturbanceVFastAGToAir',\n",
    "    'DisturbanceVFastBGToAir',\n",
    "    'DisturbanceFastAGToAir',\n",
    "    'DisturbanceFastBGToAir',\n",
    "    'DisturbanceMediumToAir',\n",
    "    'DisturbanceSlowAGToAir',\n",
    "    'DisturbanceSlowBGToAir',\n",
    "    'DisturbanceSWStemSnagToAir',\n",
    "    'DisturbanceSWBranchSnagToAir',\n",
    "    'DisturbanceHWStemSnagToAir',\n",
    "    'DisturbanceHWBranchSnagToAir'\n",
    "]\n",
    "\n",
    "grossgrowth_ag = [\n",
    "    \"DeltaBiomass_AG\",\n",
    "    \"TurnoverMerchLitterInput\",\n",
    "    \"TurnoverFolLitterInput\",\n",
    "    \"TurnoverOthLitterInput\",\n",
    "]\n",
    "\n",
    "grossgrowth_bg = [\n",
    "    \"DeltaBiomass_BG\",\n",
    "    \"TurnoverCoarseLitterInput\",\n",
    "    \"TurnoverFineLitterInput\",\n",
    "]\n",
    "\n",
    "product_flux = [\n",
    "     \"DisturbanceSoftProduction\",\n",
    "     \"DisturbanceHardProduction\",\n",
    "     \"DisturbanceDOMProduction\",\n",
    "]"
   ]
  },
  {
   "cell_type": "markdown",
   "id": "3405125d-441b-4657-9bf3-86bcaff5d966",
   "metadata": {},
   "source": [
    "GrossGrowth_AG = flux[[\n",
    "        \"DeltaBiomass_AG\",\n",
    "        \"TurnoverMerchLitterInput\",\n",
    "        \"TurnoverFolLitterInput\",\n",
    "        \"TurnoverOthLitterInput\",\n",
    "        ]].sum(axis=1)\n",
    "\n",
    "GrossGrowth_BG = flux[[\n",
    "        \"DeltaBiomass_BG\",\n",
    "        \"TurnoverCoarseLitterInput\",\n",
    "        \"TurnoverFineLitterInput\",\n",
    "        ]].sum(axis=1)"
   ]
  },
  {
   "cell_type": "code",
   "execution_count": null,
   "id": "10ca892e-2e13-4286-9c77-f0be60fd7313",
   "metadata": {
    "tags": []
   },
   "outputs": [],
   "source": [
    "# Define Sum Carbon Pools and Sum Carbon Fluxes\n",
    "pools = ecosystem_pools\n",
    "fluxes = decay_emissions_fluxes + disturbance_emissions_fluxes\n",
    "gross_growth = grossgrowth_ag + grossgrowth_bg\n",
    "\n",
    "sum_pools = ['ecosystem', 'biomass', 'DOM']"
   ]
  },
  {
   "cell_type": "code",
   "execution_count": null,
   "id": "d42425c9-2d20-4a2b-841e-0ae425e43c9c",
   "metadata": {
    "scrolled": true,
    "tags": []
   },
   "outputs": [],
   "source": [
    "# Report Annual CBM Results\n",
    "cbm_report(fm, cbm_output, biomass_pools, dom_pools, fluxes, gross_growth)"
   ]
  },
  {
   "cell_type": "markdown",
   "id": "2dd6060c-6b96-4f0e-99ca-78705b8569ff",
   "metadata": {
    "tags": []
   },
   "source": [
    "## Plug-in Carbon Yield Curves"
   ]
  },
  {
   "cell_type": "code",
   "execution_count": null,
   "id": "32438b9f-cf2c-4664-bdbe-57d63581f089",
   "metadata": {
    "tags": []
   },
   "outputs": [],
   "source": [
    "# Read curves\n",
    "c_curves_p = pd.read_pickle(\"./redchris_c_curves_p.pkl\")\n",
    "# c_curves_f = pd.read_pickle(\"redchris_c_curves_f.pkl\") # Not created yet"
   ]
  },
  {
   "cell_type": "code",
   "execution_count": null,
   "id": "ce1777eb-eff1-430c-b8be-39c310225c5c",
   "metadata": {
    "tags": []
   },
   "outputs": [],
   "source": [
    "# Plug carbon yield curves into forest model\n",
    "plugin_c_curves(fm, c_curves_p, pools=sum_pools)\n",
    "# plugin_c_curves(fm, c_curves_p, c_curves_f, pools=sum_pools, fluxes=['net_fluxes', 'total_emissions'])"
   ]
  },
  {
   "cell_type": "code",
   "execution_count": null,
   "id": "641489b5-796b-4583-b7eb-298a968ae837",
   "metadata": {
    "tags": []
   },
   "outputs": [],
   "source": [
    "# Check if all carbon yield curves are plugged in well.\n",
    "fm.yields"
   ]
  },
  {
   "cell_type": "code",
   "execution_count": null,
   "id": "be66095f-c2cb-4f8a-98cf-869c77ebd1bc",
   "metadata": {
    "tags": []
   },
   "outputs": [],
   "source": [
    "# Check the Forest Inventory of the ws3 Model without harvesting\n",
    "df = compile_scenario_maxstock(fm)\n",
    "plot_scenario_maxstock(df)"
   ]
  },
  {
   "cell_type": "markdown",
   "id": "8aa130f6-3e4e-4412-8d9c-bc1479720f00",
   "metadata": {},
   "source": [
    "## No-harvest"
   ]
  },
  {
   "cell_type": "code",
   "execution_count": null,
   "id": "31b13141-17e3-4eeb-b0c9-015529957202",
   "metadata": {
    "scrolled": true
   },
   "outputs": [],
   "source": [
    "df = compile_scenario(fm)\n",
    "fig, ax = plot_scenario(df)"
   ]
  },
  {
   "cell_type": "code",
   "execution_count": null,
   "id": "264382e1-0f9f-413c-9992-3c7b549d7dfd",
   "metadata": {
    "tags": []
   },
   "outputs": [],
   "source": [
    "#Import Module\n",
    "from util import compile_events"
   ]
  },
  {
   "cell_type": "code",
   "execution_count": null,
   "id": "bf881768-ecb0-452b-9d0e-3653547d9e0d",
   "metadata": {},
   "outputs": [],
   "source": [
    "#Define Basic Variables\n",
    "softwood_volume_yname='swdvol' \n",
    "hardwood_volume_yname='hwdvol'\n",
    "n_yield_vals=100"
   ]
  },
  {
   "cell_type": "code",
   "execution_count": null,
   "id": "67a06251-d64c-4b03-a8d2-8b13e4ba576e",
   "metadata": {
    "tags": []
   },
   "outputs": [],
   "source": [
    "#Generate New Sit_events file\n",
    "sit_events = compile_events(fm, softwood_volume_yname, hardwood_volume_yname, n_yield_vals)"
   ]
  },
  {
   "cell_type": "code",
   "execution_count": null,
   "id": "cf64f540-df14-407f-9320-6bd5a1b12c26",
   "metadata": {
    "tags": []
   },
   "outputs": [],
   "source": [
    "# Replace the Sit_events file in the sit tables\n",
    "sit_tables['sit_events'] = sit_events"
   ]
  },
  {
   "cell_type": "code",
   "execution_count": null,
   "id": "32f74c25-3a52-4dbf-aad7-8702c727ae47",
   "metadata": {
    "tags": []
   },
   "outputs": [],
   "source": [
    "sit_events"
   ]
  },
  {
   "cell_type": "code",
   "execution_count": null,
   "id": "68c50965-1499-402b-bf89-3e90dcf37518",
   "metadata": {
    "tags": []
   },
   "outputs": [],
   "source": [
    "# Run CBM and Generate CBM Ouputs\n",
    "cbm_output = run_cbm(sit_config, sit_tables, n_steps)"
   ]
  },
  {
   "cell_type": "code",
   "execution_count": null,
   "id": "e0ba0d75-1481-417e-afa5-0d6d228e8d69",
   "metadata": {
    "tags": []
   },
   "outputs": [],
   "source": [
    "# Report Annual CBM Outputs\n",
    "cbm_report(fm, cbm_output, biomass_pools, dom_pools, fluxes, gross_growth)"
   ]
  },
  {
   "cell_type": "code",
   "execution_count": null,
   "id": "96809aec-8084-4599-83a2-17ed46720292",
   "metadata": {},
   "outputs": [],
   "source": [
    "# df.to_excel('results/test.xlsx', index=False) "
   ]
  },
  {
   "cell_type": "code",
   "execution_count": null,
   "id": "82bf0ceb-8cde-4f3c-bede-8013536c612b",
   "metadata": {
    "tags": []
   },
   "outputs": [],
   "source": [
    "# Compare the carbon outputs from ws3 (table above) and libcbm (table below)\n",
    "from util import compare_ws3_cbm\n",
    "compare_ws3_cbm(fm, cbm_output, disturbance_type_mapping, biomass_pools, dom_pools)"
   ]
  },
  {
   "cell_type": "markdown",
   "id": "6ba04644-3ba2-4a20-a548-72b802af70f7",
   "metadata": {},
   "source": [
    "## Maximize the Total System Carbon Stock"
   ]
  },
  {
   "cell_type": "code",
   "execution_count": null,
   "id": "e4b5e019-c5f0-40be-90d0-be9fce41137f",
   "metadata": {
    "tags": []
   },
   "outputs": [],
   "source": [
    "#Define constants from product carbon estimation\n",
    "\n",
    "# Define the product half-lives（>0.69)\n",
    "half_life_solid_wood = 30\n",
    "half_life_paper = 2\n",
    "\n",
    "# Define the allocation distribution\n",
    "proportion_solid_wood = 0.5\n",
    "\n",
    "# Define the displacement factor \n",
    "displacement_factor = 2.2"
   ]
  },
  {
   "cell_type": "code",
   "execution_count": null,
   "id": "575b9c20-f2b8-4cbb-a6be-cd2772a84a2d",
   "metadata": {},
   "outputs": [],
   "source": [
    "from util import cmp_c_ss, cmp_c_se, track_system_stock, track_system_emission, compare_ws3_cbm"
   ]
  },
  {
   "cell_type": "code",
   "execution_count": null,
   "id": "74e44d08-5ac3-421b-b60b-04dff45da091",
   "metadata": {},
   "outputs": [],
   "source": [
    "from util import cmp_c_z, cmp_c_cflw, cmp_c_caa, cmp_c_ci, cmp_c_i, cmp_c_id, gen_scenario, run_scenario"
   ]
  },
  {
   "cell_type": "code",
   "execution_count": null,
   "id": "c524c98e-4dde-44de-b49d-c718c2bf2469",
   "metadata": {},
   "outputs": [],
   "source": [
    "#Install Module\n",
    "%pip install gurobipy\n",
    "#Import Module\n",
    "import gurobipy as grb\n",
    "#Add a Null Action\n",
    "fm.add_null_action()"
   ]
  },
  {
   "cell_type": "code",
   "execution_count": null,
   "id": "69a62f60-21d9-4f16-a003-3fb4050d2a87",
   "metadata": {},
   "outputs": [],
   "source": [
    "# Maximize Harvest\n",
    "run_scenario(fm,'base')"
   ]
  },
  {
   "cell_type": "code",
   "execution_count": null,
   "id": "b707ad2d-c9af-49e3-859c-1cb634993b8a",
   "metadata": {},
   "outputs": [],
   "source": [
    "df = compile_scenario(fm)\n",
    "fig, ax = plot_scenario(df)"
   ]
  },
  {
   "cell_type": "code",
   "execution_count": null,
   "id": "f00154dc-fea4-4feb-97f4-250ebde2b3c7",
   "metadata": {
    "tags": []
   },
   "outputs": [],
   "source": [
    "#Import Module\n",
    "from util import compile_events"
   ]
  },
  {
   "cell_type": "code",
   "execution_count": null,
   "id": "b8a0acf7-9d26-4ede-b732-62eb3f6ef5d6",
   "metadata": {},
   "outputs": [],
   "source": [
    "#Define Basic Variables\n",
    "softwood_volume_yname='swdvol' \n",
    "hardwood_volume_yname='hwdvol'\n",
    "n_yield_vals=100"
   ]
  },
  {
   "cell_type": "code",
   "execution_count": null,
   "id": "c9ac1c74-dd46-41db-bb10-45ac1d890531",
   "metadata": {
    "tags": []
   },
   "outputs": [],
   "source": [
    "#Generate New Sit_events file\n",
    "sit_events = compile_events(fm, softwood_volume_yname, hardwood_volume_yname, n_yield_vals)"
   ]
  },
  {
   "cell_type": "code",
   "execution_count": null,
   "id": "1cd29856-372b-4d1b-bd0d-a62088554a6e",
   "metadata": {
    "tags": []
   },
   "outputs": [],
   "source": [
    "# Replace the Sit_events file in the sit tables\n",
    "sit_tables['sit_events'] = sit_events"
   ]
  },
  {
   "cell_type": "code",
   "execution_count": null,
   "id": "f5892549-6b19-420e-84ba-fa7179adec9c",
   "metadata": {
    "tags": []
   },
   "outputs": [],
   "source": [
    "sit_events"
   ]
  },
  {
   "cell_type": "code",
   "execution_count": null,
   "id": "3801cef6-70c3-4a87-a2db-7c05fe135623",
   "metadata": {},
   "outputs": [],
   "source": [
    "# Run CBM and Generate CBM Ouputs\n",
    "cbm_output = run_cbm(sit_config, sit_tables, n_steps)"
   ]
  },
  {
   "cell_type": "code",
   "execution_count": null,
   "id": "1a5d8c37-2496-4528-8c31-3dc4aed5135e",
   "metadata": {},
   "outputs": [],
   "source": [
    "# Report Annual CBM Outputs\n",
    "cbm_report(fm, cbm_output, biomass_pools, dom_pools, fluxes, gross_growth)"
   ]
  },
  {
   "cell_type": "code",
   "execution_count": null,
   "id": "dabd9be4-1d48-44f8-a4bf-35fde2dc50a1",
   "metadata": {},
   "outputs": [],
   "source": [
    "# Compare the carbon outputs from ws3 (table above) and libcbm (table below)\n",
    "from util import compare_ws3_cbm\n",
    "compare_ws3_cbm(fm, cbm_output, disturbance_type_mapping, biomass_pools, dom_pools)"
   ]
  },
  {
   "cell_type": "code",
   "execution_count": null,
   "id": "0bb7d130-c48a-413f-82cf-a011401675e8",
   "metadata": {},
   "outputs": [],
   "source": [
    "track_system_stock(fm, half_life_solid_wood, half_life_paper, proportion_solid_wood)"
   ]
  },
  {
   "cell_type": "code",
   "execution_count": null,
   "id": "e95dec49-ca56-4939-a0ad-9199cd7ddc0f",
   "metadata": {},
   "outputs": [],
   "source": [
    "track_system_emission(fm, half_life_solid_wood, half_life_paper, proportion_solid_wood, displacement_factor)"
   ]
  },
  {
   "cell_type": "code",
   "execution_count": null,
   "id": "bd1f234d-5204-41da-ac18-93448ccf1944",
   "metadata": {},
   "outputs": [],
   "source": []
  }
 ],
 "metadata": {
  "kernelspec": {
   "display_name": "Python 3 (venv:foo)",
   "language": "python",
   "name": "foo"
  },
  "language_info": {
   "codemirror_mode": {
    "name": "ipython",
    "version": 3
   },
   "file_extension": ".py",
   "mimetype": "text/x-python",
   "name": "python",
   "nbconvert_exporter": "python",
   "pygments_lexer": "ipython3",
   "version": "3.10.12"
  }
 },
 "nbformat": 4,
 "nbformat_minor": 5
}
